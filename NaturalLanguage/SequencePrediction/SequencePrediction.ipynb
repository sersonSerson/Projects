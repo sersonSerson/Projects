{
 "cells": [
  {
   "cell_type": "markdown",
   "source": [
    "<p align=\"center\">\n",
    "<img align=\"center\" src=\"https://image.freepik.com/free-vector/write-missing-number-worksheet-education_71599-3881.jpg\">\n",
    "</p>\n",
    "\n",
    "[Image source](https://www.freepik.com/premium-vector/write-missing-number-worksheet-education_19499165.htm#page=1)\n"
   ],
   "metadata": {
    "collapsed": false
   }
  },
  {
   "cell_type": "markdown",
   "source": [
    "<h1 style=\"text-align: center; color:#01872A; font-size: 80px;\n",
    "background:#daf2e1; border-radius: 20px;\n",
    "\">Sequence prediction.</h1>\n"
   ],
   "metadata": {
    "collapsed": false
   }
  },
  {
   "cell_type": "markdown",
   "source": [
    "## Please use nbviewer to read this notebook to use all it's features:\n",
    "https://nbviewer.org/github/sersonSerson/Projects/blob/master/NaturalLanguage/SequencePrediction/SequencePrediction.ipynb"
   ],
   "metadata": {
    "collapsed": false
   }
  },
  {
   "cell_type": "markdown",
   "source": [
    "# <span style=\"color:#01872A; display: block; padding:10px; background:#daf2e1;border-radius:20px; text-align: center; font-size: 40px; \"> Contents </span>"
   ],
   "metadata": {
    "collapsed": false
   }
  },
  {
   "cell_type": "markdown",
   "source": [
    "## 1. [Introduction.](#Step1)\n",
    "## 2. [Create data.](#Step2)\n",
    "## 3. [Preprocess data.](#Step3)\n",
    "## 4. [Create models.](#Step4)\n",
    "## 4. [Train model.](#Step5)\n",
    "## 5. [Predict and score.](#Step6)\n",
    "## 6. [Conclusion.](#Step7)"
   ],
   "metadata": {
    "collapsed": false
   }
  },
  {
   "cell_type": "markdown",
   "source": [
    "<div id=\"Step1\">\n",
    "</div>\n",
    "\n",
    "# <span style=\"color:#01872A; display: block; padding:10px; background:#daf2e1;border-radius:20px; text-align: center; font-size: 40px; \"> Step 1. Introduction. </span>"
   ],
   "metadata": {
    "collapsed": false
   }
  },
  {
   "cell_type": "markdown",
   "source": [
    "## Goal: encoder-decoder architecture training and understanding.\n",
    "\n",
    "## 1. Problem.\n",
    "Create a Neural Network that will make sequence-to-sequence predictions.\n",
    "\n",
    "## 2. Data.\n",
    "### The data will be prepared following the logic:\n",
    "1. Create simple 6 number sequence for inputs:\n",
    "e.g. [29, 14, 9, 28, 34, 25]\n",
    "2. Create 3 number sequences for outputs that are 3 last numbers from input\n",
    "sequence in reversed order:\n",
    "e.g. [9, 14, 29]\n",
    "3. Create 3 number sequences for one timestep shifted outputs:\n",
    "e.g. [0, 9, 14]\n",
    "\n",
    "These sequences will be encoded in one-hot encoding manner."
   ],
   "metadata": {
    "collapsed": false
   }
  },
  {
   "cell_type": "markdown",
   "source": [
    "<div id=\"Step2\">\n",
    "</div>\n",
    "\n",
    "# <span style=\"color:#01872A; display: block; padding:10px; background:#daf2e1;border-radius:20px; text-align: center; font-size: 40px; \"> Step 2. Create data. </span>"
   ],
   "metadata": {
    "collapsed": false
   }
  },
  {
   "cell_type": "code",
   "execution_count": 14,
   "metadata": {
    "collapsed": true
   },
   "outputs": [],
   "source": [
    "import random\n",
    "import pandas as pd\n",
    "import numpy as np\n",
    "import matplotlib.pyplot as plt\n",
    "import seaborn as sns\n",
    "from tensorflow.keras.utils import to_categorical, plot_model\n",
    "from tensorflow.keras.models import Model\n",
    "from tensorflow.keras.layers import LSTM, Dense, Input"
   ]
  },
  {
   "cell_type": "code",
   "execution_count": 15,
   "outputs": [
    {
     "data": {
      "text/plain": "(1, 6, 51)"
     },
     "execution_count": 15,
     "metadata": {},
     "output_type": "execute_result"
    }
   ],
   "source": [
    "def create_data(n_samples, n_input, n_output, n_dict):\n",
    "\n",
    "    X1, X2, y = list(), list(), list()\n",
    "    for i in range(n_samples):\n",
    "        sample = []\n",
    "        for j in range(n_input):\n",
    "            sample.append(random.randint(1, n_dict - 1))\n",
    "        X1.append(sample)\n",
    "        target_sample = sample[:n_output]\n",
    "        target_sample.reverse()\n",
    "        X2.append([0] + target_sample[:-1])\n",
    "        y.append(target_sample)\n",
    "    X1 = to_categorical(X1, num_classes=n_dict)\n",
    "    X2 = to_categorical(X2, num_classes=n_dict)\n",
    "    y = to_categorical(y, num_classes=n_dict)\n",
    "    return X1, X2, y\n",
    "\n",
    "n_input = 6\n",
    "n_output = 3\n",
    "n_dict = 50 + 1\n",
    "n_samples = 1\n",
    "X1, X2, y = create_data(n_samples, n_input, n_output, n_dict)\n",
    "X1.shape"
   ],
   "metadata": {
    "collapsed": false,
    "pycharm": {
     "name": "#%%\n"
    }
   }
  },
  {
   "cell_type": "markdown",
   "source": [
    "<div id=\"Step3\">\n",
    "</div>\n",
    "\n",
    "# <span style=\"color:#01872A; display: block; padding:10px; background:#daf2e1;border-radius:20px; text-align: center; font-size: 40px; \"> Step 3. Preprocess data. </span>"
   ],
   "metadata": {
    "collapsed": false
   }
  },
  {
   "cell_type": "markdown",
   "source": [
    "## Create function for decoding from one-hot encoded style into number"
   ],
   "metadata": {
    "collapsed": false,
    "pycharm": {
     "name": "#%% md\n"
    }
   }
  },
  {
   "cell_type": "code",
   "execution_count": 16,
   "outputs": [
    {
     "data": {
      "text/plain": "array([[19, 30, 22,  2,  5,  9]], dtype=int64)"
     },
     "execution_count": 16,
     "metadata": {},
     "output_type": "execute_result"
    }
   ],
   "source": [
    "def decode_seq(data):\n",
    "    return np.argmax(data, axis=-1)\n",
    "\n",
    "decode_seq(X1)"
   ],
   "metadata": {
    "collapsed": false,
    "pycharm": {
     "name": "#%%\n"
    }
   }
  },
  {
   "cell_type": "code",
   "execution_count": 17,
   "outputs": [
    {
     "data": {
      "text/plain": "array([[ 0, 22, 30]], dtype=int64)"
     },
     "execution_count": 17,
     "metadata": {},
     "output_type": "execute_result"
    }
   ],
   "source": [
    "decode_seq(X2)"
   ],
   "metadata": {
    "collapsed": false,
    "pycharm": {
     "name": "#%%\n"
    }
   }
  },
  {
   "cell_type": "code",
   "execution_count": 18,
   "outputs": [
    {
     "data": {
      "text/plain": "array([[22, 30, 19]], dtype=int64)"
     },
     "execution_count": 18,
     "metadata": {},
     "output_type": "execute_result"
    }
   ],
   "source": [
    "decode_seq(y)"
   ],
   "metadata": {
    "collapsed": false,
    "pycharm": {
     "name": "#%%\n"
    }
   }
  },
  {
   "cell_type": "markdown",
   "source": [
    "<div id=\"Step4\">\n",
    "</div>\n",
    "\n",
    "# <span style=\"color:#01872A; display: block; padding:10px; background:#daf2e1;border-radius:20px; text-align: center; font-size: 40px; \"> Step 4. Create models. </span>\n",
    "\n",
    "1. Train model - used while training to fit weights in LSTM and Dense layers.\n",
    "2. Encoder model - model that creates states during the prediction phase.\n",
    "3. Decoder model - model that generates sequences during the prediction phase."
   ],
   "metadata": {
    "collapsed": false
   }
  },
  {
   "cell_type": "markdown",
   "source": [
    "## Training model"
   ],
   "metadata": {
    "collapsed": false,
    "pycharm": {
     "name": "#%% md\n"
    }
   }
  },
  {
   "cell_type": "code",
   "execution_count": 19,
   "outputs": [
    {
     "data": {
      "image/png": "[encoded data removed]",
      "text/plain": "<IPython.core.display.Image object>"
     },
     "execution_count": 19,
     "metadata": {},
     "output_type": "execute_result"
    }
   ],
   "source": [
    "lstm_units = 128\n",
    "# Input layer for X\n",
    "encoder_input = Input(shape=(None, n_dict))\n",
    "# LSTM with  will return hidden state for the last time step\n",
    "# (shape (2 * 1 * 128)\n",
    "encoder_lstm = LSTM(lstm_units, return_state=True)\n",
    "encoder_output, encoder_h, encoder_c = encoder_lstm(encoder_input)\n",
    "encoder_states = [encoder_h, encoder_c]\n",
    "\n",
    "decoder_input = Input(shape=(None, n_dict))\n",
    "decoder_lstm = LSTM(lstm_units, return_state=True, return_sequences=True)\n",
    "decoder_output, decoder_h, decoder_c = \\\n",
    "    decoder_lstm(decoder_input, encoder_states)\n",
    "decoder_dense = Dense(n_dict, activation='softmax')\n",
    "decoder_output = decoder_dense(decoder_output)\n",
    "train_model = Model([encoder_input, decoder_input], decoder_output)\n",
    "plot_model(train_model, show_shapes=True)"
   ],
   "metadata": {
    "collapsed": false,
    "pycharm": {
     "name": "#%%\n"
    }
   }
  },
  {
   "cell_type": "markdown",
   "source": [
    "## Encoder model"
   ],
   "metadata": {
    "collapsed": false
   }
  },
  {
   "cell_type": "code",
   "execution_count": 20,
   "outputs": [
    {
     "data": {
      "image/png": "[encoded data removed]",
      "text/plain": "<IPython.core.display.Image object>"
     },
     "execution_count": 20,
     "metadata": {},
     "output_type": "execute_result"
    }
   ],
   "source": [
    "encoder_model = Model(encoder_input, encoder_states)\n",
    "plot_model(encoder_model, show_shapes=True)"
   ],
   "metadata": {
    "collapsed": false,
    "pycharm": {
     "name": "#%%\n"
    }
   }
  },
  {
   "cell_type": "markdown",
   "source": [
    "## Decoder model"
   ],
   "metadata": {
    "collapsed": false
   }
  },
  {
   "cell_type": "code",
   "execution_count": 21,
   "outputs": [
    {
     "data": {
      "image/png": "[encoded data removed]",
      "text/plain": "<IPython.core.display.Image object>"
     },
     "execution_count": 21,
     "metadata": {},
     "output_type": "execute_result"
    }
   ],
   "source": [
    "decoder_input_h = Input(shape=(lstm_units, ))\n",
    "decoder_input_c = Input(shape=(lstm_units, ))\n",
    "decoder_input_states = [decoder_input_h, decoder_input_c]\n",
    "decoder_output, decoder_state_h, decoder_state_c = \\\n",
    "    decoder_lstm(decoder_input, initial_state=decoder_input_states)\n",
    "decoder_states = [decoder_state_h, decoder_state_c]\n",
    "decoder_output = decoder_dense(decoder_output)\n",
    "decoder_model = Model([decoder_input] + decoder_input_states, [decoder_output]\n",
    "                      + decoder_states)\n",
    "plot_model(decoder_model, show_shapes=True)"
   ],
   "metadata": {
    "collapsed": false,
    "pycharm": {
     "name": "#%%\n"
    }
   }
  },
  {
   "cell_type": "markdown",
   "source": [
    "## Generate lots of sequences for training (100 000)"
   ],
   "metadata": {
    "collapsed": false,
    "pycharm": {
     "name": "#%% md\n"
    }
   }
  },
  {
   "cell_type": "code",
   "execution_count": 22,
   "outputs": [
    {
     "data": {
      "text/plain": "((100000, 6, 51), (100000, 3, 51), (100000, 3, 51))"
     },
     "execution_count": 22,
     "metadata": {},
     "output_type": "execute_result"
    }
   ],
   "source": [
    "n_input = 6\n",
    "n_output = 3\n",
    "n_dict = 50 + 1\n",
    "n_samples = 1\n",
    "X1, X2, y = create_data(100000, n_input, n_output, n_dict)\n",
    "X1.shape, X2.shape, y.shape"
   ],
   "metadata": {
    "collapsed": false,
    "pycharm": {
     "name": "#%%\n"
    }
   }
  },
  {
   "cell_type": "markdown",
   "source": [
    "<div id=\"Step5\">\n",
    "</div>\n",
    "\n",
    "# <span style=\"color:#01872A; display: block; padding:10px; background:#daf2e1;border-radius:20px; text-align: center; font-size: 40px; \"> Step 5. Train model. </span>"
   ],
   "metadata": {
    "collapsed": false
   }
  },
  {
   "cell_type": "markdown",
   "source": [
    "## Compile and fit training model"
   ],
   "metadata": {
    "collapsed": false
   }
  },
  {
   "cell_type": "code",
   "execution_count": 23,
   "outputs": [
    {
     "name": "stdout",
     "output_type": "stream",
     "text": [
      "Epoch 1/2\n",
      "3125/3125 - 21s - loss: 0.6432 - accuracy: 0.7954\n",
      "Epoch 2/2\n",
      "3125/3125 - 18s - loss: 0.0111 - accuracy: 0.9992\n"
     ]
    },
    {
     "data": {
      "text/plain": "<tensorflow.python.keras.callbacks.History at 0x69fc9c40>"
     },
     "execution_count": 23,
     "metadata": {},
     "output_type": "execute_result"
    }
   ],
   "source": [
    "train_model.compile(optimizer='adam', loss='categorical_crossentropy',\n",
    "                    metrics=['accuracy'])\n",
    "train_model.fit([X1, X2], y, epochs=2, verbose=2)"
   ],
   "metadata": {
    "collapsed": false,
    "pycharm": {
     "name": "#%%\n"
    }
   }
  },
  {
   "cell_type": "markdown",
   "source": [
    "<div id=\"Step6\">\n",
    "</div>\n",
    "\n",
    "# <span style=\"color:#01872A; display: block; padding:10px; background:#daf2e1;border-radius:20px; text-align: center; font-size: 40px; \"> Step 6. Predict and score. </span>"
   ],
   "metadata": {
    "collapsed": false
   }
  },
  {
   "cell_type": "markdown",
   "source": [
    "## Generate test data"
   ],
   "metadata": {
    "collapsed": false
   }
  },
  {
   "cell_type": "code",
   "execution_count": 42,
   "outputs": [
    {
     "name": "stdout",
     "output_type": "stream",
     "text": [
      "X1: [19  2 33 25 38 20] X2: [ 0 33  2] y: [33  2 19]\n"
     ]
    }
   ],
   "source": [
    "X1_test, X2_test, y_test = create_data(1, n_input, n_output, n_dict)\n",
    "print(f'X1: {decode_seq(X1_test[0])} X2: {decode_seq(X2_test[0])} '\n",
    "      f'y: {decode_seq(y_test[0])}')"
   ],
   "metadata": {
    "collapsed": false,
    "pycharm": {
     "name": "#%%\n"
    }
   }
  },
  {
   "cell_type": "markdown",
   "source": [
    "## Make a prediction and check it"
   ],
   "metadata": {
    "collapsed": false,
    "pycharm": {
     "name": "#%% md\n"
    }
   }
  },
  {
   "cell_type": "code",
   "execution_count": 43,
   "outputs": [
    {
     "name": "stdout",
     "output_type": "stream",
     "text": [
      "y true: [33  2 19] y pred: [33  2 19]\n"
     ]
    }
   ],
   "source": [
    "def predict_sequence(X1):\n",
    "    enc_state_h, enc_state_c = encoder_model.predict(X1)\n",
    "    h_prev = np.array([0.0 for i in range(n_dict)]).reshape(1, 1, n_dict)\n",
    "    pred = []\n",
    "    for i in range(n_output):\n",
    "        y_hat, enc_state_h, enc_state_c = \\\n",
    "            decoder_model.predict([h_prev, enc_state_h, enc_state_c])\n",
    "        pred.append(decode_seq(y_hat)[0][0])\n",
    "        h_prev = y_hat\n",
    "    return np.array(pred)\n",
    "pred = predict_sequence(X1_test)\n",
    "print(f'y true: {decode_seq(y_test[0])} y pred: {pred}')"
   ],
   "metadata": {
    "collapsed": false,
    "pycharm": {
     "name": "#%%\n"
    }
   }
  },
  {
   "cell_type": "markdown",
   "source": [
    "## Score model"
   ],
   "metadata": {
    "collapsed": false,
    "pycharm": {
     "name": "#%% md\n"
    }
   }
  },
  {
   "cell_type": "code",
   "execution_count": 57,
   "outputs": [
    {
     "name": "stdout",
     "output_type": "stream",
     "text": [
      "Accuracy score: 100%\n"
     ]
    }
   ],
   "source": [
    "n_samples = 100\n",
    "accuracy = 0\n",
    "X1_test, X2_test, y_test = create_data(n_samples, n_input, n_output, n_dict)\n",
    "for i in range(n_samples):\n",
    "    y_pred = predict_sequence(X1_test[i].reshape(1, 6, 51))\n",
    "    if np.array_equal(decode_seq(y_test[i]), y_pred):\n",
    "        accuracy += 1\n",
    "print(f'Accuracy score: {accuracy}%')"
   ],
   "metadata": {
    "collapsed": false,
    "pycharm": {
     "name": "#%%\n"
    }
   }
  },
  {
   "cell_type": "markdown",
   "source": [
    "<div id=\"Step7\">\n",
    "</div>\n",
    "\n",
    "# <span style=\"color:#01872A; display: block; padding:10px; background:#daf2e1;border-radius:20px; text-align: center; font-size: 40px; \"> Step 7. Conclusion. </span>"
   ],
   "metadata": {
    "collapsed": false
   }
  },
  {
   "cell_type": "markdown",
   "source": [
    "## After completion of this small project:\n",
    "* Got better understanding of Encoder-Decoder structures."
   ],
   "metadata": {
    "collapsed": false,
    "pycharm": {
     "name": "#%% md\n"
    }
   }
  }
 ],
 "metadata": {
  "kernelspec": {
   "display_name": "Python 3",
   "language": "python",
   "name": "python3"
  },
  "language_info": {
   "codemirror_mode": {
    "name": "ipython",
    "version": 2
   },
   "file_extension": ".py",
   "mimetype": "text/x-python",
   "name": "python",
   "nbconvert_exporter": "python",
   "pygments_lexer": "ipython2",
   "version": "2.7.6"
  }
 },
 "nbformat": 4,
 "nbformat_minor": 0
}