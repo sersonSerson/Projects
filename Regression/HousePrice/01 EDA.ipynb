{
 "cells": [
  {
   "cell_type": "code",
   "execution_count": null,
   "metadata": {
    "collapsed": true
   },
   "outputs": [],
   "source": []
  },
  {
   "cell_type": "markdown",
   "source": [
    "<p align=\"center\">\n",
    "<img style=\"width:80%\" src=\"http://www.clipartbest.com/cliparts/yio/LdA/yioLdA9eT.jpg\">\n",
    "</p>\n",
    "\n",
    "[Image source](http://www.clipartbest.com/clipart-yioLdA9eT)"
   ],
   "metadata": {
    "collapsed": false
   }
  },
  {
   "cell_type": "markdown",
   "source": [
    "<h1 style=\"text-align: center; color:#01872A; font-size: 80px;\n",
    "background:#daf2e1; border-radius: 20px;\n",
    "\">House prices.<br> Part 1.</h1>"
   ],
   "metadata": {
    "collapsed": false
   }
  },
  {
   "cell_type": "markdown",
   "source": [
    "## Please use nbviewer to read this notebook to use all it's features:\n",
    "\n",
    "https://nbviewer.org/github/sersonSerson/Projects/blob/master/Classification/Titanic/Titanic.ipynb"
   ],
   "metadata": {
    "collapsed": false
   }
  },
  {
   "cell_type": "markdown",
   "source": [
    "# <span style=\"color:#01872A; display: block; padding:10px; background:#daf2e1;border-radius:20px; text-align: center; font-size: 40px; \"> Contents </span>"
   ],
   "metadata": {
    "collapsed": false
   }
  },
  {
   "cell_type": "markdown",
   "source": [
    "## 1.   [Overview of data.](#step1)\n",
    "## 2.\t[Univariate feature analysis..](#step2)\n",
    "## 3.\t[Bivariate feature analysis.](#step3)"
   ],
   "metadata": {
    "collapsed": false
   }
  },
  {
   "cell_type": "code",
   "execution_count": null,
   "outputs": [],
   "source": [
    "import pandas as pd\n",
    "import numpy as np\n",
    "import matplotlib.pyplot as plt\n",
    "import matplotlib\n",
    "from matplotlib import cm\n",
    "import seaborn as sns\n",
    "from pandas.api.types import is_numeric_dtype\n",
    "\n",
    "from sklearn.feature_selection import RFECV\n",
    "from sklearn.preprocessing import LabelEncoder, OneHotEncoder, \\\n",
    "    StandardScaler, MinMaxScaler\n",
    "from sklearn.linear_model import LogisticRegression\n",
    "from sklearn.tree import DecisionTreeClassifier, ExtraTreeClassifier\n",
    "from sklearn.neighbors import KNeighborsClassifier\n",
    "from sklearn.decomposition import PCA\n",
    "from sklearn.model_selection import cross_val_score\n",
    "from sklearn.ensemble import RandomForestClassifier\n",
    "from sklearn.model_selection import StratifiedKFold\n",
    "from sklearn.model_selection import GridSearchCV\n",
    "from sklearn.metrics import accuracy_score\n",
    "from xgboost import XGBClassifier"
   ],
   "metadata": {
    "collapsed": false,
    "pycharm": {
     "name": "#%%\n"
    }
   }
  },
  {
   "cell_type": "code",
   "execution_count": null,
   "outputs": [],
   "source": [
    "pd.options.display.max_columns = 80\n",
    "pd.options.display.max_rows = 30\n",
    "pd.options.display.max_colwidth = 60"
   ],
   "metadata": {
    "collapsed": false,
    "pycharm": {
     "name": "#%%\n"
    }
   }
  },
  {
   "cell_type": "code",
   "execution_count": null,
   "outputs": [],
   "source": [
    "# Configure Matplotlib and seaborn\n",
    "plt.style.use('seaborn-muted')\n",
    "sns.set_palette('muted')\n",
    "plt.rcParams['figure.figsize'] = (16,5);\n",
    "plt.rcParams['figure.facecolor'] = '#daf2e1'\n",
    "plt.rcParams['axes.facecolor'] = '#daf2e1'\n",
    "plt.rcParams['axes.grid'] = True\n",
    "plt.rcParams['lines.linewidth'] = 5\n",
    "plt.rcParams['figure.titlesize'] = 30\n",
    "plt.rcParams['axes.titlesize'] = 25\n",
    "plt.rcParams['image.cmap']=cm.tab10\n",
    "plt.rcParams['font.family'] = 'serif'\n",
    "plt.rcParams['xtick.labelsize']=14\n",
    "plt.rcParams['ytick.labelsize']=14\n",
    "cmap = cm.tab10\n",
    "blue = cmap.colors[0]\n",
    "orange = cmap.colors[1]\n",
    "green = cmap.colors[2]"
   ],
   "metadata": {
    "collapsed": false,
    "pycharm": {
     "name": "#%%\n"
    }
   }
  },
  {
   "cell_type": "code",
   "execution_count": null,
   "outputs": [],
   "source": [
    "cmap = matplotlib.colors.LinearSegmentedColormap.from_list(\"\", [blue, orange,\n",
    "                                                             green])\n",
    "matplotlib.cm.register_cmap(\"mycolormap\", cmap)\n",
    "cpal = sns.color_palette(\"mycolormap\", n_colors=60)"
   ],
   "metadata": {
    "collapsed": false,
    "pycharm": {
     "name": "#%%\n"
    }
   }
  }
 ],
 "metadata": {
  "kernelspec": {
   "display_name": "Python 3",
   "language": "python",
   "name": "python3"
  },
  "language_info": {
   "codemirror_mode": {
    "name": "ipython",
    "version": 2
   },
   "file_extension": ".py",
   "mimetype": "text/x-python",
   "name": "python",
   "nbconvert_exporter": "python",
   "pygments_lexer": "ipython2",
   "version": "2.7.6"
  }
 },
 "nbformat": 4,
 "nbformat_minor": 0
}