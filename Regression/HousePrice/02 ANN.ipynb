{
 "cells": [
  {
   "cell_type": "markdown",
   "source": [
    "<p align=\"center\">\n",
    "<img style=\"width:60%\" src=\"http://www.clipartbest.com/cliparts/yio/LdA/yioLdA9eT.jpg\">\n",
    "</p>\n",
    "\n",
    "[Image source](http://www.clipartbest.com/clipart-yioLdA9eT)"
   ],
   "metadata": {
    "collapsed": false
   }
  },
  {
   "cell_type": "markdown",
   "source": [
    "<h1 style=\"text-align: center; color:#01872A; font-size: 80px;\n",
    "background:#daf2e1; border-radius: 20px;\n",
    "\">House prices.<br> Part 2. Neural networks.</h1>"
   ],
   "metadata": {
    "collapsed": false
   }
  },
  {
   "cell_type": "markdown",
   "source": [
    "## Please use nbviewer to read this notebook to use all it's features:\n",
    "\n",
    "https://nbviewer.org/github/sersonSerson/Projects/blob/master/Regression/HousePrice/01%20EDA.ipynb"
   ],
   "metadata": {
    "collapsed": false
   }
  },
  {
   "cell_type": "markdown",
   "source": [
    "# <span style=\"color:#01872A; display: block; padding:10px; background:#daf2e1;border-radius:20px; text-align: center; font-size: 40px; \"> Contents </span>\n"
   ],
   "metadata": {
    "collapsed": false
   }
  },
  {
   "cell_type": "markdown",
   "source": [
    "## 1.\t[Feature engineering.](#Step1)\n",
    "## 1.1. [Fill missing data.](#Step1.1)\n",
    "## 1.2. [Generate new features.](#Step1.2)\n",
    "## 1.3. [Feature encoding.](#Step1.3)\n",
    "## 1.4. [Feature scaling.](#Step1.4)\n",
    "## 2. [Fit and score the model.](#Step2)\n",
    "## 3. [Make predictions and generate a submission.](#Step3)"
   ],
   "metadata": {
    "collapsed": false
   }
  },
  {
   "cell_type": "code",
   "execution_count": 41,
   "outputs": [],
   "source": [
    "import pandas as pd\n",
    "\n",
    "import numpy as np\n",
    "import matplotlib.pyplot as plt\n",
    "\n",
    "from sklearn.preprocessing import MinMaxScaler, StandardScaler\n",
    "from sklearn.model_selection import train_test_split\n",
    "\n",
    "import tensorflow as tf\n",
    "from tensorflow.keras.layers import Dense, Dropout\n",
    "from tensorflow.keras.models import Sequential\n",
    "from tensorflow.keras.regularizers import l2\n",
    "from tensorflow.keras.callbacks import EarlyStopping, ModelCheckpoint\n",
    "from tensorflow.keras.models import load_model\n",
    "from tensorflow.keras.metrics import Mean\n",
    "from tensorflow.keras.losses import Loss\n",
    "from tensorflow.python.ops.math_ops import log, cast, squared_difference, \\\n",
    "    sqrt, div_no_nan\n",
    "from tensorflow.python.keras.utils import losses_utils\n",
    "from tensorflow.keras import backend\n",
    "from tensorflow import constant, shape, math\n",
    "\n",
    "pd.options.display.max_rows = 80"
   ],
   "metadata": {
    "collapsed": false,
    "pycharm": {
     "name": "#%%\n"
    }
   }
  },
  {
   "cell_type": "markdown",
   "source": [
    "<div id=\"Step1\">\n",
    "</div>\n",
    "\n",
    "# <span style=\"color:#01872A; display: block; padding:10px; background:#daf2e1;border-radius:20px; text-align: center; font-size: 40px; \"> Step 1. Feature engineering.</span>"
   ],
   "metadata": {
    "collapsed": false
   }
  },
  {
   "cell_type": "markdown",
   "source": [
    "## Load data"
   ],
   "metadata": {
    "collapsed": false
   }
  },
  {
   "cell_type": "code",
   "execution_count": 42,
   "outputs": [],
   "source": [
    "dataset_train = pd.read_csv('Data/train.csv', index_col=0)\n",
    "dataset_test = pd.read_csv('Data/test.csv', index_col=0)"
   ],
   "metadata": {
    "collapsed": false,
    "pycharm": {
     "name": "#%%\n"
    }
   }
  },
  {
   "cell_type": "markdown",
   "source": [
    "## Create full dataset (both train and test)"
   ],
   "metadata": {
    "collapsed": false
   }
  },
  {
   "cell_type": "code",
   "execution_count": 43,
   "outputs": [
    {
     "data": {
      "text/plain": "(2919, 80)"
     },
     "execution_count": 43,
     "metadata": {},
     "output_type": "execute_result"
    }
   ],
   "source": [
    "dataset_full = pd.concat([dataset_train, dataset_test])\n",
    "dataset_full.shape"
   ],
   "metadata": {
    "collapsed": false,
    "pycharm": {
     "name": "#%%\n"
    }
   }
  },
  {
   "cell_type": "markdown",
   "source": [
    "## Split data into categorical and numerical features."
   ],
   "metadata": {
    "collapsed": false
   }
  },
  {
   "cell_type": "code",
   "execution_count": 44,
   "outputs": [
    {
     "name": "stdout",
     "output_type": "stream",
     "text": [
      "Total features:       80\n",
      "Categorical features: 44\n",
      "Numerical features:   35\n",
      "Dependent variable:   1\n"
     ]
    }
   ],
   "source": [
    "categorical_features = \\\n",
    "    ['MSSubClass', 'MSZoning', 'Street', 'Alley', 'LotShape', 'LandContour',\n",
    "     'Utilities', 'LotConfig', 'LandSlope', 'Neighborhood', 'Condition1',\n",
    "     'Condition2', 'BldgType', 'HouseStyle', 'RoofStyle', 'RoofMatl',\n",
    "     'Exterior1st', 'Exterior2nd', 'MasVnrType', 'ExterQual', 'ExterCond',\n",
    "     'Foundation', 'BsmtQual', 'BsmtCond', 'BsmtExposure', 'BsmtFinType1',\n",
    "     'BsmtFinType2', 'Heating', 'HeatingQC', 'CentralAir', 'Electrical',\n",
    "     'KitchenQual', 'Functional', 'FireplaceQu', 'GarageType', 'GarageFinish',\n",
    "     'GarageQual', 'GarageCond', 'PavedDrive', 'PoolQC', 'Fence',\n",
    "     'MiscFeature', 'SaleType', 'SaleCondition']\n",
    "\n",
    "numerical_features = \\\n",
    "    ['LotFrontage', 'LotArea', 'OverallQual', 'OverallCond',  'MasVnrArea',\n",
    "     'BsmtFinSF1', 'BsmtFinSF2', 'BsmtUnfSF', 'TotalBsmtSF', '1stFlrSF',\n",
    "     '2ndFlrSF', 'LowQualFinSF', 'GrLivArea', 'BsmtFullBath', 'BsmtHalfBath',\n",
    "     'FullBath', 'HalfBath', 'BedroomAbvGr', 'KitchenAbvGr', 'TotRmsAbvGrd',\n",
    "     'Fireplaces', 'GarageCars', 'GarageArea', 'WoodDeckSF', 'OpenPorchSF',\n",
    "     'EnclosedPorch', '3SsnPorch', 'ScreenPorch', 'PoolArea', 'MiscVal',\n",
    "     'YearBuilt', 'YearRemodAdd', 'GarageYrBlt', 'MoSold', 'YrSold']\n",
    "\n",
    "print(f'Total features:       {len(dataset_full.columns)}\\n'\n",
    "      f'Categorical features: {len(categorical_features)}\\n'\n",
    "      f'Numerical features:   {len(numerical_features)}\\n'\n",
    "      f'Dependent variable:   1')\n"
   ],
   "metadata": {
    "collapsed": false,
    "pycharm": {
     "name": "#%%\n"
    }
   }
  },
  {
   "cell_type": "markdown",
   "source": [
    "<div id=\"Step1.1\">\n",
    "</div>\n",
    "\n",
    "# <span style=\"color:#01872A; display: block; padding:10px; background:#daf2e1;border-radius:20px; text-align: center; font-size: 40px; \"> Step 1.1. Fill missing data.</span>"
   ],
   "metadata": {
    "collapsed": false
   }
  },
  {
   "cell_type": "markdown",
   "source": [
    "## Fill missing data"
   ],
   "metadata": {
    "collapsed": false
   }
  },
  {
   "cell_type": "code",
   "source": [
    "missing = dataset_full.drop('SalePrice', axis=1).isna().sum().sum()\n",
    "print(f'Missing values before imputing: {missing}')"
   ],
   "metadata": {
    "collapsed": false,
    "pycharm": {
     "name": "#%%\n"
    }
   },
   "execution_count": 45,
   "outputs": [
    {
     "name": "stdout",
     "output_type": "stream",
     "text": [
      "Missing values before imputing: 13965\n"
     ]
    }
   ]
  },
  {
   "cell_type": "code",
   "execution_count": 46,
   "outputs": [],
   "source": [
    "CATEGORICAL_NA = 'No'\n",
    "categorical_features_to_fill = ['PoolQC', 'Fence', 'MiscFeature',\n",
    "                                'FireplaceQu', 'Alley', 'MasVnrType']\n",
    "numerical_features_to_fill = ['GarageYrBlt', 'GarageCars', 'GarageArea',\n",
    "                              'MasVnrArea']\n",
    "\n",
    "dataset_full['LotFrontage'].fillna(dataset_full['LotFrontage'].mean(),\n",
    "                                   inplace=True)\n",
    "dataset_full['Electrical'].fillna('SBrkr', inplace=True)\n",
    "dataset_full['Functional'].fillna('Typ', inplace=True)\n",
    "dataset_full['KitchenQual'].fillna('TA', inplace=True)\n",
    "dataset_full['MSZoning'].fillna('RL', inplace=True)\n",
    "dataset_full['SaleType'].fillna('WD', inplace=True)\n",
    "dataset_full['Utilities'].fillna('AllPub', inplace=True)\n",
    "dataset_full['Exterior1st'].fillna('Wd Sdng', inplace=True)\n",
    "dataset_full['Exterior2nd'].fillna('MetalSd', inplace=True)\n",
    "dataset_full['PoolQC'].fillna('Gd', inplace=True)\n",
    "\n",
    "# Basement\n",
    "basement_categorical = ['BsmtFinType1', 'BsmtFinType2', 'BsmtQual',\n",
    "                        'BsmtCond', 'BsmtExposure']\n",
    "categorical_features_to_fill += basement_categorical\n",
    "\n",
    "basement_numerical = ['BsmtFinSF1', 'BsmtFinSF2', 'BsmtUnfSF',\n",
    "                      'TotalBsmtSF', 'BsmtFullBath', 'BsmtHalfBath']\n",
    "dataset_full[basement_numerical] = dataset_full[basement_numerical].fillna(0)\n",
    "\n",
    "# Garage\n",
    "dataset_full['GarageYrBlt'].replace(2207, 2007, inplace=True)\n",
    "garage_categorical = ['GarageType', 'GarageFinish', 'GarageQual',\n",
    "                      'GarageCond']\n",
    "# Fill categorical features with 'No'\n",
    "categorical_features_to_fill += garage_categorical\n",
    "dataset_full[categorical_features_to_fill] = \\\n",
    "    dataset_full[categorical_features_to_fill].fillna(CATEGORICAL_NA)\n",
    "\n",
    "# Fill numerical features with 0\n",
    "dataset_full[numerical_features_to_fill] = \\\n",
    "    dataset_full[numerical_features_to_fill].fillna(0)"
   ],
   "metadata": {
    "collapsed": false,
    "pycharm": {
     "name": "#%%\n"
    }
   }
  },
  {
   "cell_type": "code",
   "source": [
    "missing = dataset_full.drop('SalePrice', axis=1).isna().sum().sum()\n",
    "print(f'Missing values after imputing: {missing}')"
   ],
   "metadata": {
    "collapsed": false,
    "pycharm": {
     "name": "#%%\n"
    }
   },
   "execution_count": 47,
   "outputs": [
    {
     "name": "stdout",
     "output_type": "stream",
     "text": [
      "Missing values after imputing: 0\n"
     ]
    }
   ]
  },
  {
   "cell_type": "markdown",
   "source": [
    "<div id=\"Step1.2\">\n",
    "</div>\n",
    "\n",
    "# <span style=\"color:#01872A; display: block; padding:10px; background:#daf2e1;border-radius:20px; text-align: center; font-size: 40px; \"> Step 1.2. Generate new features.</span>"
   ],
   "metadata": {
    "collapsed": false
   }
  },
  {
   "cell_type": "markdown",
   "source": [
    "Features derived from age of the building."
   ],
   "metadata": {
    "collapsed": false,
    "pycharm": {
     "name": "#%% md\n"
    }
   }
  },
  {
   "cell_type": "code",
   "execution_count": 48,
   "outputs": [],
   "source": [
    "dataset_full['BuildingAge'] = dataset_full['YrSold'] - dataset_full['YearBuilt']\n",
    "dataset_full['BuildingAge'] = np.where(dataset_full['BuildingAge'] > 0,\n",
    "                                   dataset_full['BuildingAge'], 0)\n",
    "numerical_features.append('BuildingAge')\n",
    "\n",
    "dataset_full['RemodelledAge'] = dataset_full['YrSold'] - dataset_full[\n",
    "    'YearRemodAdd']\n",
    "dataset_full['RemodelledAge'] = np.where(dataset_full['RemodelledAge'] > 0,\n",
    "                                     dataset_full['RemodelledAge'], 0)\n",
    "numerical_features.append('RemodelledAge')\n",
    "dataset_full['GarageAge'] = np.where(dataset_full['GarageYrBlt'] == 0, 0,\n",
    "                                 dataset_full['YrSold'] - dataset_full[\n",
    "                                     'GarageYrBlt'])\n",
    "dataset_full['GarageAge'] = np.where(dataset_full['GarageAge'] < 0, 0,\n",
    "                                 dataset_full['GarageAge'])\n",
    "numerical_features.append('GarageAge')"
   ],
   "metadata": {
    "collapsed": false,
    "pycharm": {
     "name": "#%%\n"
    }
   }
  },
  {
   "cell_type": "code",
   "source": [
    "dataset_full['BeforeCrisis'] = np.where(dataset_full['YrSold'] < 2010, 1, 0)\n",
    "categorical_features.append('BeforeCrisis')"
   ],
   "metadata": {
    "collapsed": false,
    "pycharm": {
     "name": "#%%\n"
    }
   },
   "execution_count": 49,
   "outputs": []
  },
  {
   "cell_type": "markdown",
   "source": [
    "## Number of Storeys"
   ],
   "metadata": {
    "collapsed": false
   }
  },
  {
   "cell_type": "code",
   "execution_count": 50,
   "outputs": [],
   "source": [
    "floors = {20: 1, 30: 1, 40: 1, 45: 1, 50: 1, 60: 2, 70: 2, 75: 2, 80: 2,\n",
    "          85: 2, 90: 2, 120: 1, 150: 1, 160: 2, 180: 2, 190: 2}\n",
    "dataset_full['Floors'] = dataset_full['MSSubClass'].map(floors)\n",
    "categorical_features.append('Floors')"
   ],
   "metadata": {
    "collapsed": false,
    "pycharm": {
     "name": "#%%\n"
    }
   }
  },
  {
   "cell_type": "markdown",
   "source": [
    "## Features from area of the building"
   ],
   "metadata": {
    "collapsed": false
   }
  },
  {
   "cell_type": "code",
   "execution_count": 51,
   "outputs": [],
   "source": [
    "dataset_full['TotalAreaSF'] = dataset_full['GrLivArea'] \\\n",
    "                          + dataset_full['TotalBsmtSF']\n",
    "numerical_features.append('TotalAreaSF')\n",
    "\n",
    "dataset_full['BasementFinishedPercent'] = \\\n",
    "    (dataset_full['TotalBsmtSF'] - dataset_full['BsmtUnfSF']) / dataset_full[\n",
    "        'TotalBsmtSF']\n",
    "dataset_full['BasementFinishedPercent'].fillna(0, inplace=True)\n",
    "numerical_features.append('BasementFinishedPercent')"
   ],
   "metadata": {
    "collapsed": false,
    "pycharm": {
     "name": "#%%\n"
    }
   }
  },
  {
   "cell_type": "code",
   "execution_count": 52,
   "outputs": [],
   "source": [
    "dataset_full['TotalAreaSFBinned'] = \\\n",
    "    pd.cut(dataset_full['TotalAreaSF'], bins=30, right=True).cat.codes\n",
    "categorical_features.append('TotalAreaSFBinned')"
   ],
   "metadata": {
    "collapsed": false,
    "pycharm": {
     "name": "#%%\n"
    }
   }
  },
  {
   "cell_type": "markdown",
   "source": [
    "## Year of sale"
   ],
   "metadata": {
    "collapsed": false
   }
  },
  {
   "cell_type": "code",
   "execution_count": 53,
   "outputs": [],
   "source": [
    "dataset_full['Year'] = dataset_full['YrSold'].map(\n",
    "    {2006: 1, 2007: 2, 2008: 3, 2009: 4, 2010: 5})\n",
    "categorical_features.append('Year')"
   ],
   "metadata": {
    "collapsed": false,
    "pycharm": {
     "name": "#%%\n"
    }
   }
  },
  {
   "cell_type": "markdown",
   "source": [
    "## Turn some categorical features into numerical features"
   ],
   "metadata": {
    "collapsed": false
   }
  },
  {
   "cell_type": "code",
   "execution_count": 54,
   "outputs": [],
   "source": [
    "condition_dict = {'Ex': 5, 'Gd': 4, 'TA': 3, 'Fa': 2, 'Po': 1, 'NA': 0,\n",
    "                  'No': 0}"
   ],
   "metadata": {
    "collapsed": false,
    "pycharm": {
     "name": "#%%\n"
    }
   }
  },
  {
   "cell_type": "code",
   "execution_count": 55,
   "outputs": [],
   "source": [
    "columns = ['ExterQual', 'ExterCond', 'BsmtQual', 'BsmtCond', 'HeatingQC',\n",
    "           'KitchenQual', 'FireplaceQu', 'GarageQual', 'PoolQC', 'GarageCond']\n",
    "for column in columns:\n",
    "    new_column_name = column + 'Num'\n",
    "    dataset_full[new_column_name] = dataset_full[column].map(condition_dict)\n",
    "    numerical_features.append(new_column_name)"
   ],
   "metadata": {
    "collapsed": false,
    "pycharm": {
     "name": "#%%\n"
    }
   }
  },
  {
   "cell_type": "markdown",
   "source": [
    "## Turn some categorical features into numerical features"
   ],
   "metadata": {
    "collapsed": false,
    "pycharm": {
     "name": "#%% md\n"
    }
   }
  },
  {
   "cell_type": "code",
   "execution_count": 56,
   "outputs": [],
   "source": [
    "condition_dict = {'Gd': 3, 'Av': 2, 'Mn': 1, 'NA': 0, 'No': 0,\n",
    "                  'No Basement': 0}\n",
    "\n",
    "dataset_full['BsmtExposureNum'] = dataset_full['BsmtExposure'].map(\n",
    "    condition_dict)\n",
    "numerical_features.append('BsmtExposureNum')\n",
    "\n",
    "condition_dict = {'GLQ': 6, 'ALQ': 5, 'BLQ': 4, 'Rec': 3, 'LwQ': 2,\n",
    "                  'Unf': 1, 'NA': 0, 'No': 0}\n",
    "\n",
    "dataset_full['BsmtFinType1Num'] = dataset_full['BsmtFinType1'].map(\n",
    "    condition_dict)\n",
    "numerical_features.append('BsmtFinType1Num')\n",
    "\n",
    "dataset_full['BsmtFinType2Num'] = dataset_full['BsmtFinType2'].map(\n",
    "    condition_dict)\n",
    "numerical_features.append('BsmtFinType2Num')\n",
    "\n",
    "condition_dict = {'Fin': 3, 'RFn': 2, 'Unf': 1, 'No': 0, 'NA': 0}\n",
    "dataset_full['GarageFinishNum'] = dataset_full['GarageFinish'].map(\n",
    "    condition_dict)\n",
    "numerical_features.append('GarageFinishNum')\n",
    "\n",
    "condition_dict = {'GdPrv': 4, 'MnPrv': 3, 'GdWo': 2, 'MnWw': 1, 'No': 0}\n",
    "dataset_full['FenceNum'] = dataset_full['Fence'].map(condition_dict)\n",
    "numerical_features.append('FenceNum')"
   ],
   "metadata": {
    "collapsed": false,
    "pycharm": {
     "name": "#%%\n"
    }
   }
  },
  {
   "cell_type": "markdown",
   "source": [
    "## Composed features"
   ],
   "metadata": {
    "collapsed": false
   }
  },
  {
   "cell_type": "code",
   "execution_count": 57,
   "outputs": [],
   "source": [
    "dataset_full['OverallQualOverallCond'] = dataset_full['OverallQual'] + dataset_full[\n",
    "    'OverallCond']\n",
    "numerical_features.append('OverallQualOverallCond')\n",
    "\n",
    "dataset_full['RoomSize'] = \\\n",
    "    dataset_full['GrLivArea'] + dataset_full['TotRmsAbvGrd']\n",
    "numerical_features.append('RoomSize')\n",
    "\n",
    "dataset_full['SumAge'] = (dataset_full['BuildingAge'] + dataset_full[\n",
    "    'RemodelledAge'])\n",
    "numerical_features.append('SumAge')\n",
    "\n",
    "dataset_full['OverallQualTotalAreaSFMultiplied'] = \\\n",
    "    dataset_full['OverallQual'] * dataset_full['TotalAreaSF']\n",
    "numerical_features.append('OverallQualTotalAreaSFMultiplied')\n",
    "\n",
    "dataset_full['QualSquared'] = \\\n",
    "    np.square(dataset_full['OverallQual'].astype(np.int64))\n",
    "numerical_features.append('QualSquared')"
   ],
   "metadata": {
    "collapsed": false,
    "pycharm": {
     "name": "#%%\n"
    }
   }
  },
  {
   "cell_type": "code",
   "execution_count": 58,
   "outputs": [],
   "source": [
    "# Sort the features list\n",
    "numerical_features = sorted(numerical_features)"
   ],
   "metadata": {
    "collapsed": false,
    "pycharm": {
     "name": "#%%\n"
    }
   }
  },
  {
   "cell_type": "markdown",
   "source": [
    "## Remove categorical features replaced by numerical ones."
   ],
   "metadata": {
    "collapsed": false,
    "pycharm": {
     "name": "#%% md\n"
    }
   }
  },
  {
   "cell_type": "code",
   "execution_count": 59,
   "outputs": [
    {
     "data": {
      "text/plain": "    MSSubClass MSZoning  LotFrontage  LotArea Street Alley LotShape  \\\nId                                                                    \n1           60       RL         65.0     8450   Pave    No      Reg   \n2           20       RL         80.0     9600   Pave    No      Reg   \n3           60       RL         68.0    11250   Pave    No      IR1   \n4           70       RL         60.0     9550   Pave    No      IR1   \n5           60       RL         84.0    14260   Pave    No      IR1   \n\n   LandContour Utilities LotConfig  ... BsmtExposureNum BsmtFinType1Num  \\\nId                                  ...                                   \n1          Lvl    AllPub    Inside  ...               0               6   \n2          Lvl    AllPub       FR2  ...               3               5   \n3          Lvl    AllPub    Inside  ...               1               6   \n4          Lvl    AllPub    Corner  ...               0               5   \n5          Lvl    AllPub       FR2  ...               2               6   \n\n   BsmtFinType2Num GarageFinishNum FenceNum OverallQualOverallCond  RoomSize  \\\nId                                                                             \n1                1               2        0                     12      1718   \n2                1               2        0                     14      1268   \n3                1               2        0                     12      1792   \n4                1               1        0                     12      1724   \n5                1               2        0                     13      2207   \n\n    SumAge  OverallQualTotalAreaSFMultiplied  QualSquared  \nId                                                         \n1       10                           17962.0           49  \n2       62                           15144.0           36  \n3       13                           18942.0           49  \n4      127                           17311.0           49  \n5       16                           26744.0           64  \n\n[5 rows x 94 columns]",
      "text/html": "<div>\n<style scoped>\n    .dataframe tbody tr th:only-of-type {\n        vertical-align: middle;\n    }\n\n    .dataframe tbody tr th {\n        vertical-align: top;\n    }\n\n    .dataframe thead th {\n        text-align: right;\n    }\n</style>\n<table border=\"1\" class=\"dataframe\">\n  <thead>\n    <tr style=\"text-align: right;\">\n      <th></th>\n      <th>MSSubClass</th>\n      <th>MSZoning</th>\n      <th>LotFrontage</th>\n      <th>LotArea</th>\n      <th>Street</th>\n      <th>Alley</th>\n      <th>LotShape</th>\n      <th>LandContour</th>\n      <th>Utilities</th>\n      <th>LotConfig</th>\n      <th>...</th>\n      <th>BsmtExposureNum</th>\n      <th>BsmtFinType1Num</th>\n      <th>BsmtFinType2Num</th>\n      <th>GarageFinishNum</th>\n      <th>FenceNum</th>\n      <th>OverallQualOverallCond</th>\n      <th>RoomSize</th>\n      <th>SumAge</th>\n      <th>OverallQualTotalAreaSFMultiplied</th>\n      <th>QualSquared</th>\n    </tr>\n    <tr>\n      <th>Id</th>\n      <th></th>\n      <th></th>\n      <th></th>\n      <th></th>\n      <th></th>\n      <th></th>\n      <th></th>\n      <th></th>\n      <th></th>\n      <th></th>\n      <th></th>\n      <th></th>\n      <th></th>\n      <th></th>\n      <th></th>\n      <th></th>\n      <th></th>\n      <th></th>\n      <th></th>\n      <th></th>\n      <th></th>\n    </tr>\n  </thead>\n  <tbody>\n    <tr>\n      <th>1</th>\n      <td>60</td>\n      <td>RL</td>\n      <td>65.0</td>\n      <td>8450</td>\n      <td>Pave</td>\n      <td>No</td>\n      <td>Reg</td>\n      <td>Lvl</td>\n      <td>AllPub</td>\n      <td>Inside</td>\n      <td>...</td>\n      <td>0</td>\n      <td>6</td>\n      <td>1</td>\n      <td>2</td>\n      <td>0</td>\n      <td>12</td>\n      <td>1718</td>\n      <td>10</td>\n      <td>17962.0</td>\n      <td>49</td>\n    </tr>\n    <tr>\n      <th>2</th>\n      <td>20</td>\n      <td>RL</td>\n      <td>80.0</td>\n      <td>9600</td>\n      <td>Pave</td>\n      <td>No</td>\n      <td>Reg</td>\n      <td>Lvl</td>\n      <td>AllPub</td>\n      <td>FR2</td>\n      <td>...</td>\n      <td>3</td>\n      <td>5</td>\n      <td>1</td>\n      <td>2</td>\n      <td>0</td>\n      <td>14</td>\n      <td>1268</td>\n      <td>62</td>\n      <td>15144.0</td>\n      <td>36</td>\n    </tr>\n    <tr>\n      <th>3</th>\n      <td>60</td>\n      <td>RL</td>\n      <td>68.0</td>\n      <td>11250</td>\n      <td>Pave</td>\n      <td>No</td>\n      <td>IR1</td>\n      <td>Lvl</td>\n      <td>AllPub</td>\n      <td>Inside</td>\n      <td>...</td>\n      <td>1</td>\n      <td>6</td>\n      <td>1</td>\n      <td>2</td>\n      <td>0</td>\n      <td>12</td>\n      <td>1792</td>\n      <td>13</td>\n      <td>18942.0</td>\n      <td>49</td>\n    </tr>\n    <tr>\n      <th>4</th>\n      <td>70</td>\n      <td>RL</td>\n      <td>60.0</td>\n      <td>9550</td>\n      <td>Pave</td>\n      <td>No</td>\n      <td>IR1</td>\n      <td>Lvl</td>\n      <td>AllPub</td>\n      <td>Corner</td>\n      <td>...</td>\n      <td>0</td>\n      <td>5</td>\n      <td>1</td>\n      <td>1</td>\n      <td>0</td>\n      <td>12</td>\n      <td>1724</td>\n      <td>127</td>\n      <td>17311.0</td>\n      <td>49</td>\n    </tr>\n    <tr>\n      <th>5</th>\n      <td>60</td>\n      <td>RL</td>\n      <td>84.0</td>\n      <td>14260</td>\n      <td>Pave</td>\n      <td>No</td>\n      <td>IR1</td>\n      <td>Lvl</td>\n      <td>AllPub</td>\n      <td>FR2</td>\n      <td>...</td>\n      <td>2</td>\n      <td>6</td>\n      <td>1</td>\n      <td>2</td>\n      <td>0</td>\n      <td>13</td>\n      <td>2207</td>\n      <td>16</td>\n      <td>26744.0</td>\n      <td>64</td>\n    </tr>\n  </tbody>\n</table>\n<p>5 rows × 94 columns</p>\n</div>"
     },
     "execution_count": 59,
     "metadata": {},
     "output_type": "execute_result"
    }
   ],
   "source": [
    "replaced_features = ['ExterQual', 'ExterCond', 'BsmtQual', 'BsmtCond',\n",
    "                     'BsmtExposure', 'BsmtFinType1', 'BsmtFinType2',\n",
    "                     'HeatingQC', 'KitchenQual', 'FireplaceQu', 'GarageFinish',\n",
    "                     'GarageQual', 'GarageCond', 'PoolQC', 'Fence']\n",
    "dataset_full.drop(replaced_features, axis=1, inplace=True)\n",
    "for feature in replaced_features:\n",
    "    categorical_features.remove(feature)\n",
    "dataset_full.head()"
   ],
   "metadata": {
    "collapsed": false,
    "pycharm": {
     "name": "#%%\n"
    }
   }
  },
  {
   "cell_type": "markdown",
   "source": [
    "<div id=\"Step1.3\">\n",
    "</div>\n",
    "\n",
    "# <span style=\"color:#01872A; display: block; padding:10px; background:#daf2e1;border-radius:20px; text-align: center; font-size: 40px; \"> Step 1.3. Feature encoding.</span>"
   ],
   "metadata": {
    "collapsed": false
   }
  },
  {
   "cell_type": "markdown",
   "source": [
    "## One-hot encoding"
   ],
   "metadata": {
    "collapsed": false
   }
  },
  {
   "cell_type": "code",
   "execution_count": 60,
   "outputs": [
    {
     "data": {
      "text/plain": "    LotFrontage  LotArea  OverallQual  OverallCond  YearBuilt  YearRemodAdd  \\\nId                                                                            \n1          65.0     8450            7            5       2003          2003   \n2          80.0     9600            6            8       1976          1976   \n3          68.0    11250            7            5       2001          2002   \n4          60.0     9550            7            5       1915          1970   \n5          84.0    14260            8            5       2000          2000   \n\n    MasVnrArea  BsmtFinSF1  BsmtFinSF2  BsmtUnfSF  ...  TotalAreaSFBinned_16  \\\nId                                                 ...                         \n1        196.0       706.0         0.0      150.0  ...                     0   \n2          0.0       978.0         0.0      284.0  ...                     0   \n3        162.0       486.0         0.0      434.0  ...                     0   \n4          0.0       216.0         0.0      540.0  ...                     0   \n5        350.0       655.0         0.0      490.0  ...                     0   \n\n    TotalAreaSFBinned_17  TotalAreaSFBinned_19  TotalAreaSFBinned_25  \\\nId                                                                     \n1                      0                     0                     0   \n2                      0                     0                     0   \n3                      0                     0                     0   \n4                      0                     0                     0   \n5                      0                     0                     0   \n\n    TotalAreaSFBinned_29  Year_1  Year_2  Year_3  Year_4  Year_5  \nId                                                                \n1                      0       0       0       1       0       0  \n2                      0       0       1       0       0       0  \n3                      0       0       0       1       0       0  \n4                      0       1       0       0       0       0  \n5                      0       0       0       1       0       0  \n\n[5 rows x 294 columns]",
      "text/html": "<div>\n<style scoped>\n    .dataframe tbody tr th:only-of-type {\n        vertical-align: middle;\n    }\n\n    .dataframe tbody tr th {\n        vertical-align: top;\n    }\n\n    .dataframe thead th {\n        text-align: right;\n    }\n</style>\n<table border=\"1\" class=\"dataframe\">\n  <thead>\n    <tr style=\"text-align: right;\">\n      <th></th>\n      <th>LotFrontage</th>\n      <th>LotArea</th>\n      <th>OverallQual</th>\n      <th>OverallCond</th>\n      <th>YearBuilt</th>\n      <th>YearRemodAdd</th>\n      <th>MasVnrArea</th>\n      <th>BsmtFinSF1</th>\n      <th>BsmtFinSF2</th>\n      <th>BsmtUnfSF</th>\n      <th>...</th>\n      <th>TotalAreaSFBinned_16</th>\n      <th>TotalAreaSFBinned_17</th>\n      <th>TotalAreaSFBinned_19</th>\n      <th>TotalAreaSFBinned_25</th>\n      <th>TotalAreaSFBinned_29</th>\n      <th>Year_1</th>\n      <th>Year_2</th>\n      <th>Year_3</th>\n      <th>Year_4</th>\n      <th>Year_5</th>\n    </tr>\n    <tr>\n      <th>Id</th>\n      <th></th>\n      <th></th>\n      <th></th>\n      <th></th>\n      <th></th>\n      <th></th>\n      <th></th>\n      <th></th>\n      <th></th>\n      <th></th>\n      <th></th>\n      <th></th>\n      <th></th>\n      <th></th>\n      <th></th>\n      <th></th>\n      <th></th>\n      <th></th>\n      <th></th>\n      <th></th>\n      <th></th>\n    </tr>\n  </thead>\n  <tbody>\n    <tr>\n      <th>1</th>\n      <td>65.0</td>\n      <td>8450</td>\n      <td>7</td>\n      <td>5</td>\n      <td>2003</td>\n      <td>2003</td>\n      <td>196.0</td>\n      <td>706.0</td>\n      <td>0.0</td>\n      <td>150.0</td>\n      <td>...</td>\n      <td>0</td>\n      <td>0</td>\n      <td>0</td>\n      <td>0</td>\n      <td>0</td>\n      <td>0</td>\n      <td>0</td>\n      <td>1</td>\n      <td>0</td>\n      <td>0</td>\n    </tr>\n    <tr>\n      <th>2</th>\n      <td>80.0</td>\n      <td>9600</td>\n      <td>6</td>\n      <td>8</td>\n      <td>1976</td>\n      <td>1976</td>\n      <td>0.0</td>\n      <td>978.0</td>\n      <td>0.0</td>\n      <td>284.0</td>\n      <td>...</td>\n      <td>0</td>\n      <td>0</td>\n      <td>0</td>\n      <td>0</td>\n      <td>0</td>\n      <td>0</td>\n      <td>1</td>\n      <td>0</td>\n      <td>0</td>\n      <td>0</td>\n    </tr>\n    <tr>\n      <th>3</th>\n      <td>68.0</td>\n      <td>11250</td>\n      <td>7</td>\n      <td>5</td>\n      <td>2001</td>\n      <td>2002</td>\n      <td>162.0</td>\n      <td>486.0</td>\n      <td>0.0</td>\n      <td>434.0</td>\n      <td>...</td>\n      <td>0</td>\n      <td>0</td>\n      <td>0</td>\n      <td>0</td>\n      <td>0</td>\n      <td>0</td>\n      <td>0</td>\n      <td>1</td>\n      <td>0</td>\n      <td>0</td>\n    </tr>\n    <tr>\n      <th>4</th>\n      <td>60.0</td>\n      <td>9550</td>\n      <td>7</td>\n      <td>5</td>\n      <td>1915</td>\n      <td>1970</td>\n      <td>0.0</td>\n      <td>216.0</td>\n      <td>0.0</td>\n      <td>540.0</td>\n      <td>...</td>\n      <td>0</td>\n      <td>0</td>\n      <td>0</td>\n      <td>0</td>\n      <td>0</td>\n      <td>1</td>\n      <td>0</td>\n      <td>0</td>\n      <td>0</td>\n      <td>0</td>\n    </tr>\n    <tr>\n      <th>5</th>\n      <td>84.0</td>\n      <td>14260</td>\n      <td>8</td>\n      <td>5</td>\n      <td>2000</td>\n      <td>2000</td>\n      <td>350.0</td>\n      <td>655.0</td>\n      <td>0.0</td>\n      <td>490.0</td>\n      <td>...</td>\n      <td>0</td>\n      <td>0</td>\n      <td>0</td>\n      <td>0</td>\n      <td>0</td>\n      <td>0</td>\n      <td>0</td>\n      <td>1</td>\n      <td>0</td>\n      <td>0</td>\n    </tr>\n  </tbody>\n</table>\n<p>5 rows × 294 columns</p>\n</div>"
     },
     "execution_count": 60,
     "metadata": {},
     "output_type": "execute_result"
    }
   ],
   "source": [
    "dataset_full_encoded = pd.get_dummies(dataset_full,\n",
    "                                      columns=categorical_features)\n",
    "dataset_full_encoded.head()"
   ],
   "metadata": {
    "collapsed": false,
    "pycharm": {
     "name": "#%%\n"
    }
   }
  },
  {
   "cell_type": "markdown",
   "source": [
    "## Split into the train and the test sets."
   ],
   "metadata": {
    "collapsed": false
   }
  },
  {
   "cell_type": "code",
   "execution_count": 61,
   "outputs": [],
   "source": [
    "train_mask = dataset_full['SalePrice'].isna() == False\n",
    "pred_mask = dataset_full['SalePrice'].isna() == True\n",
    "dataset_encoded = dataset_full_encoded[train_mask]\n",
    "dataset_test_encoded = dataset_full_encoded[pred_mask]"
   ],
   "metadata": {
    "collapsed": false,
    "pycharm": {
     "name": "#%%\n"
    }
   }
  },
  {
   "cell_type": "code",
   "execution_count": 62,
   "outputs": [],
   "source": [
    "X = dataset_encoded.drop('SalePrice', axis=1)\n",
    "y = dataset_encoded['SalePrice']\n",
    "\n",
    "X_test = dataset_test_encoded.drop('SalePrice', axis=1)\n",
    "y_pred = dataset_test_encoded['SalePrice']"
   ],
   "metadata": {
    "collapsed": false,
    "pycharm": {
     "name": "#%%\n"
    }
   }
  },
  {
   "cell_type": "markdown",
   "source": [
    "<div id=\"Step1.4\">\n",
    "</div>\n",
    "\n",
    "# <span style=\"color:#01872A; display: block; padding:10px; background:#daf2e1;border-radius:20px; text-align: center; font-size: 40px; \"> Step 1.4. Feature scaling.</span>"
   ],
   "metadata": {
    "collapsed": false
   }
  },
  {
   "cell_type": "markdown",
   "source": [
    "## Feature scaling"
   ],
   "metadata": {
    "collapsed": false
   }
  },
  {
   "cell_type": "code",
   "execution_count": 63,
   "outputs": [],
   "source": [
    "X_scaler = MinMaxScaler()\n",
    "X_scaled = pd.DataFrame(X_scaler.fit_transform(X),\n",
    "                        columns=X.columns,\n",
    "                        index=X.index)\n",
    "X_test_scaled = pd.DataFrame(X_scaler.transform(X_test),\n",
    "                             columns=X_test.columns,\n",
    "                             index=X_test.index)\n",
    "dataset_scaled = pd.concat([X_scaled, y], axis=1)\n",
    "dataset_test_scaled = pd.concat([X_test_scaled, y_pred], axis=1)"
   ],
   "metadata": {
    "collapsed": false,
    "pycharm": {
     "name": "#%%\n"
    }
   }
  },
  {
   "cell_type": "markdown",
   "source": [
    "# Save scaled data"
   ],
   "metadata": {
    "collapsed": false
   }
  },
  {
   "cell_type": "code",
   "execution_count": 64,
   "outputs": [
    {
     "name": "stdout",
     "output_type": "stream",
     "text": [
      "File saved.\n"
     ]
    }
   ],
   "source": [
    "dataset_scaled.to_csv('Data/train_encoded.csv')\n",
    "dataset_test_scaled.to_csv('Data/pred_encoded.csv')\n",
    "print('File saved.')"
   ],
   "metadata": {
    "collapsed": false,
    "pycharm": {
     "name": "#%%\n"
    }
   }
  },
  {
   "cell_type": "markdown",
   "source": [
    "<div id=\"Step2\">\n",
    "</div>\n",
    "\n",
    "# <span style=\"color:#01872A; display: block; padding:10px;background:#daf2e1;border-radius:20px; text-align: center; font-size: 40px;\">Step 2. Fit and score the model.</span>\n"
   ],
   "metadata": {
    "collapsed": false
   }
  },
  {
   "cell_type": "markdown",
   "source": [
    "Function to calculate squared difference of errors, taking into account that\n",
    "both predictions and ground truth values can be scaled."
   ],
   "metadata": {
    "collapsed": false,
    "pycharm": {
     "name": "#%% md\n"
    }
   }
  },
  {
   "cell_type": "code",
   "execution_count": 65,
   "outputs": [],
   "source": [
    "def error_squared(y_true, y_pred, scaler, dtype):\n",
    "    y_true = cast(y_true, dtype)\n",
    "    y_pred = cast(y_pred, dtype)\n",
    "    if isinstance(scaler, StandardScaler):\n",
    "        sc_mean = constant(scaler.mean_, dtype)\n",
    "        sc_std = constant(scaler.scale_, dtype)\n",
    "        y_true = y_true * sc_std + sc_mean\n",
    "        y_pred = y_pred * sc_std + sc_mean\n",
    "    elif isinstance(scaler, MinMaxScaler):\n",
    "        sc_min = constant(scaler.min_, dtype)\n",
    "        sc_scale = constant(scaler.scale_, dtype)\n",
    "        y_true = (y_true - sc_min) / sc_scale\n",
    "        y_pred = (y_pred - sc_min) / sc_scale\n",
    "\n",
    "    y_pred, y_true = \\\n",
    "        losses_utils.squeeze_or_expand_dimensions(y_pred, y_true)\n",
    "    pred_log = log(backend.maximum(y_pred, backend.epsilon()) + 1.)\n",
    "    true_log = log(backend.maximum(y_true, backend.epsilon()) + 1.)\n",
    "    error_sq = squared_difference(pred_log, true_log)\n",
    "    return error_sq"
   ],
   "metadata": {
    "collapsed": false,
    "pycharm": {
     "name": "#%%\n"
    }
   }
  },
  {
   "cell_type": "markdown",
   "source": [
    "RootMeanSquaredLogErrorScaled loss function."
   ],
   "metadata": {
    "collapsed": false
   }
  },
  {
   "cell_type": "code",
   "execution_count": 66,
   "outputs": [],
   "source": [
    "class RootMeanSquaredLogErrorScaledLoss(Loss):\n",
    "\n",
    "    def __init__(self, name=\"rmsle_custom\", dtype='float64', scaler=None):\n",
    "        super(RootMeanSquaredLogErrorScaledLoss, self).__init__(name=name)\n",
    "        self.scaler = scaler\n",
    "        self.dtype = dtype\n",
    "\n",
    "    def call(self, y_true, y_pred):\n",
    "        error_sq = error_squared(y_true, y_pred, self.scaler, self.dtype)\n",
    "        n_values = cast(shape(error_sq)[0], self.dtype)\n",
    "        return sqrt(math.reduce_sum(error_sq) / n_values)"
   ],
   "metadata": {
    "collapsed": false,
    "pycharm": {
     "name": "#%%\n"
    }
   }
  },
  {
   "cell_type": "markdown",
   "source": [
    "This is RootMeanSquaredLogErrorScaled metric how it should be."
   ],
   "metadata": {
    "collapsed": false
   }
  },
  {
   "cell_type": "code",
   "execution_count": 67,
   "outputs": [],
   "source": [
    "class RootMeanSquaredLogErrorScaled(Mean):\n",
    "\n",
    "    def __init__(self, name='rmsle_custom', dtype='float64',\n",
    "                 scaler=None):\n",
    "        super(RootMeanSquaredLogErrorScaled, self).__init__(name, dtype=dtype)\n",
    "        self.scaler = scaler\n",
    "\n",
    "    def update_state(self, y_true, y_pred, sample_weight=None):\n",
    "        error_sq = error_squared(y_true, y_pred, self.scaler, self.dtype)\n",
    "        return super(RootMeanSquaredLogErrorScaled, self).update_state(\n",
    "            error_sq, sample_weight=sample_weight)\n",
    "\n",
    "    def result(self):\n",
    "        return sqrt(div_no_nan(self.total, self.count))"
   ],
   "metadata": {
    "collapsed": false,
    "pycharm": {
     "name": "#%%\n"
    }
   }
  },
  {
   "cell_type": "markdown",
   "source": [
    "Scoring function and fitting function"
   ],
   "metadata": {
    "collapsed": false
   }
  },
  {
   "cell_type": "code",
   "execution_count": 68,
   "outputs": [],
   "source": [
    "def rmsle(y, y_pred):\n",
    "    if len(y) != len(y_pred):\n",
    "        return 0\n",
    "    sum = 0\n",
    "    for real, pred in zip(y, y_pred):\n",
    "        # check for negative values\n",
    "        if real < 0:\n",
    "            # print('Value below zero!')\n",
    "            real = 0\n",
    "        if pred < 0:\n",
    "            # print('Value below zero!')\n",
    "            pred = 0\n",
    "        p = np.log(real + 1)\n",
    "        r = np.log(pred + 1)\n",
    "        sum += np.square(p - r)\n",
    "    result = np.sqrt(sum / len(y_pred))\n",
    "    if isinstance(result, np.ndarray):\n",
    "        result = result[0]\n",
    "    return result\n",
    "\n",
    "def fit_model(patience, params, X_train, y_train, X_test, y_test):\n",
    "    tf.random.set_seed(0)\n",
    "    model = Sequential()\n",
    "    for _ in range(params['Layers']):\n",
    "        model.add(Dense(params['Units'], activation='relu'))\n",
    "\n",
    "    model.add(Dense(1, activation='linear'))\n",
    "    model.compile(optimizer='adam',\n",
    "                  loss=RootMeanSquaredLogErrorScaledLoss(scaler=y_scaler),\n",
    "                  metrics=[RootMeanSquaredLogErrorScaled(scaler=y_scaler)])\n",
    "    if patience is None:\n",
    "        history = model.fit(X_train, y_train,\n",
    "                            validation_data=(X_test, y_test),\n",
    "                            epochs=params['Epochs'], verbose=0, batch_size=32)\n",
    "    else:\n",
    "        mc = ModelCheckpoint(f'Models/best_model_{patience}.h5',\n",
    "                             monitor='val_rmsle_custom', mode='min',\n",
    "                             verbose=0, save_best_only=True)\n",
    "        es = EarlyStopping(monitor='val_loss', mode='min', verbose=0,\n",
    "                           patience=patience)\n",
    "        history = model.fit(X_train, y_train, validation_data=(X_test, y_test),\n",
    "                            epochs=params['Epochs'], verbose=2,\n",
    "                            callbacks=[es, mc])\n",
    "    test_pred = model.predict(X_test, verbose=0)\n",
    "    if y_scaler:\n",
    "        test_pred = y_scaler.inverse_transform(test_pred)\n",
    "    score = rmsle(y_test, test_pred)\n",
    "    return history, score\n"
   ],
   "metadata": {
    "collapsed": false,
    "pycharm": {
     "name": "#%%\n"
    }
   }
  },
  {
   "cell_type": "code",
   "execution_count": 69,
   "outputs": [],
   "source": [
    "X = dataset_scaled.drop('SalePrice', axis=1)\n",
    "y = dataset_scaled['SalePrice']\n",
    "X_test = dataset_test_scaled.drop('SalePrice', axis=1)"
   ],
   "metadata": {
    "collapsed": false,
    "pycharm": {
     "name": "#%%\n"
    }
   }
  },
  {
   "cell_type": "code",
   "execution_count": 70,
   "outputs": [],
   "source": [
    "X_train, X_val, y_train, y_val = \\\n",
    "    train_test_split(X, y, test_size=0.2,  random_state=42)"
   ],
   "metadata": {
    "collapsed": false,
    "pycharm": {
     "name": "#%%\n"
    }
   }
  },
  {
   "cell_type": "code",
   "execution_count": 71,
   "outputs": [],
   "source": [
    "y_scaler = MinMaxScaler()\n",
    "y_train = y_scaler.fit_transform(y_train.values.reshape(-1, 1))\n",
    "y_val = y_scaler.transform(y_val.values.reshape(-1, 1))"
   ],
   "metadata": {
    "collapsed": false,
    "pycharm": {
     "name": "#%%\n"
    }
   }
  },
  {
   "cell_type": "code",
   "execution_count": 72,
   "outputs": [],
   "source": [
    "def learning_curve(history):\n",
    "    metrics = history.model.metrics_names\n",
    "    n_metrics = len(metrics)\n",
    "    fig, axes = plt.subplots(1, n_metrics, figsize=(16, 5))\n",
    "    if n_metrics == 1:\n",
    "        axes = [axes]\n",
    "    for ax, metric in zip(axes, metrics):\n",
    "        ax.plot(history.history[metric], label=f'Train {metric}')\n",
    "\n",
    "        val_metric = 'val_' + metric\n",
    "        if val_metric in history.history:\n",
    "            ax.plot(history.history[val_metric], label=f'Test {metric}')\n",
    "        ax.set_title(metric.capitalize(), size=20)\n",
    "        ax.legend()\n",
    "    plt.show()"
   ],
   "metadata": {
    "collapsed": false,
    "pycharm": {
     "name": "#%%\n"
    }
   }
  },
  {
   "cell_type": "markdown",
   "source": [
    "## Define function for model compilation and fitting.\n",
    "Use callbacks:\n",
    "1. ModelCheckpoint - to save model with the best results.\n",
    "2. EarlyStopping   - to prevent overfitting."
   ],
   "metadata": {
    "collapsed": false
   }
  },
  {
   "cell_type": "code",
   "execution_count": 73,
   "outputs": [],
   "source": [
    "def compile_fit_model(model, X_train, y_train, X_test=None, y_test=None,\n",
    "                      verbose=0, epochs=1000, batch_size=None, patience=200,\n",
    "                      model_name='Model'):\n",
    "    tf.random.set_seed(0)\n",
    "    mc = ModelCheckpoint(f'Models/best_model_{model_name}.h5',\n",
    "                         monitor='val_rmsle_custom', mode='min',\n",
    "                         verbose=0, save_best_only=True)\n",
    "    es = EarlyStopping(monitor='val_loss', mode='min', verbose=verbose,\n",
    "                       patience=patience)\n",
    "    model.compile(optimizer='adam',\n",
    "              loss=RootMeanSquaredLogErrorScaledLoss(scaler=y_scaler),\n",
    "              metrics=[RootMeanSquaredLogErrorScaled(scaler=y_scaler)])\n",
    "    validation_data = (X_test, y_test)\n",
    "    callbacks = [mc, es]\n",
    "    history = model.fit(X_train, y_train, epochs=epochs, verbose=verbose,\n",
    "                        validation_data=validation_data,\n",
    "                        callbacks=callbacks, batch_size=batch_size)\n",
    "    return model, history"
   ],
   "metadata": {
    "collapsed": false,
    "pycharm": {
     "name": "#%%\n"
    }
   }
  },
  {
   "cell_type": "markdown",
   "source": [
    "## Fit the model and save the best version with ModelCheckpoint callback"
   ],
   "metadata": {
    "collapsed": false
   }
  },
  {
   "cell_type": "code",
   "execution_count": 74,
   "outputs": [
    {
     "data": {
      "text/plain": "<Figure size 1600x500 with 2 Axes>",
      "image/png": "[encoded data removed]"
     },
     "metadata": {},
     "output_type": "display_data"
    }
   ],
   "source": [
    "patience = 200\n",
    "epochs = 1000\n",
    "model_name = 'Classic'\n",
    "batch_size = None\n",
    "\n",
    "model = Sequential()\n",
    "model.add(Dense(200, activation='relu', kernel_regularizer=l2(l2=0.01)))\n",
    "model.add(Dropout(0.2))\n",
    "model.add(Dense(100, activation='relu', kernel_regularizer=l2(l2=0.01)))\n",
    "model.add(Dense(50, activation='relu', kernel_regularizer=l2(l2=0.01)))\n",
    "model.add(Dense(1, activation='linear'))\n",
    "model, history = \\\n",
    "    compile_fit_model(model, X_train, y_train,  X_val, y_val,\n",
    "                      verbose=0, epochs=epochs, batch_size=batch_size,\n",
    "                      patience=patience, model_name=model_name)\n",
    "learning_curve(history)"
   ],
   "metadata": {
    "collapsed": false,
    "pycharm": {
     "name": "#%%\n"
    }
   }
  },
  {
   "cell_type": "markdown",
   "source": [
    "## Load and score the best model created by ModelCheckpoint callback."
   ],
   "metadata": {
    "collapsed": false
   }
  },
  {
   "cell_type": "code",
   "execution_count": 75,
   "outputs": [
    {
     "name": "stdout",
     "output_type": "stream",
     "text": [
      "10/10 [==============================] - 0s 1ms/step - loss: 0.1665 - rmsle_custom: 0.1386\b\b\b\b\b\b\b\b\b\b\b\b\b\b\b\b\b\b\b\b\b\b\b\b\b\b\b\b\b\b\b\b\b\b\b\b\b\b\b\b\b\b\b\b\b\b\b\b\b\b\b\b\b\b\b\b\b\b\b\b\b\b\b\b\b\b\b\b\b\b\b\b\b\b\b\b\b\b\b\b\b\b\n"
     ]
    },
    {
     "data": {
      "text/plain": "[0.16651183366775513, 0.13855284798465167]"
     },
     "execution_count": 75,
     "metadata": {},
     "output_type": "execute_result"
    }
   ],
   "source": [
    "model = load_model('Models/best_model_Classic.h5', compile=False)\n",
    "model.compile(optimizer='adam',\n",
    "              loss=RootMeanSquaredLogErrorScaledLoss(scaler=y_scaler),\n",
    "              metrics=[RootMeanSquaredLogErrorScaled(scaler=y_scaler)])\n",
    "model.evaluate(X_val, y_val)"
   ],
   "metadata": {
    "collapsed": false,
    "pycharm": {
     "name": "#%%\n"
    }
   }
  },
  {
   "cell_type": "markdown",
   "source": [
    "<div id=\"Step3\">\n",
    "</div>\n",
    "\n",
    "# <span style=\"color:#01872A; display: block; padding:10px;background:#daf2e1;border-radius:20px; text-align: center; font-size: 40px;\">Step 3. Make predictions and genereate a submission.</span>"
   ],
   "metadata": {
    "collapsed": false
   }
  },
  {
   "cell_type": "markdown",
   "source": [
    "## Functions to generate submission"
   ],
   "metadata": {
    "collapsed": false
   }
  },
  {
   "cell_type": "code",
   "execution_count": 76,
   "outputs": [],
   "source": [
    "def make_submission(preds, X_test, filename='Submission'):\n",
    "    submission_df = pd.DataFrame({'SalePrice': preds.reshape(-1)},\n",
    "                                 index=X_test.index)\n",
    "    submission_df.sort_index(inplace=True)\n",
    "    submission_df.to_csv(f'{filename}.csv', index=True)"
   ],
   "metadata": {
    "collapsed": false,
    "pycharm": {
     "name": "#%%\n"
    }
   }
  },
  {
   "cell_type": "markdown",
   "source": [
    "## Generate validation predictions"
   ],
   "metadata": {
    "collapsed": false
   }
  },
  {
   "cell_type": "code",
   "execution_count": 77,
   "outputs": [
    {
     "data": {
      "text/plain": "array([[140504.05],\n       [318271.44],\n       [ 89881.73],\n       [149473.9 ],\n       [321054.8 ]], dtype=float32)"
     },
     "execution_count": 77,
     "metadata": {},
     "output_type": "execute_result"
    }
   ],
   "source": [
    "train_preds = model.predict(X_val)\n",
    "train_preds = y_scaler.inverse_transform(train_preds)\n",
    "train_preds[:5]"
   ],
   "metadata": {
    "collapsed": false,
    "pycharm": {
     "name": "#%%\n"
    }
   }
  },
  {
   "cell_type": "markdown",
   "source": [
    "## Generate submission predictions"
   ],
   "metadata": {
    "collapsed": false
   }
  },
  {
   "cell_type": "code",
   "execution_count": 78,
   "outputs": [
    {
     "data": {
      "text/plain": "array([[120436.41],\n       [164586.88],\n       [192675.23],\n       [202901.52],\n       [173106.67]], dtype=float32)"
     },
     "execution_count": 78,
     "metadata": {},
     "output_type": "execute_result"
    }
   ],
   "source": [
    "sub_preds = model.predict(X_test)\n",
    "sub_preds = y_scaler.inverse_transform(sub_preds)\n",
    "sub_preds[:5]"
   ],
   "metadata": {
    "collapsed": false,
    "pycharm": {
     "name": "#%%\n"
    }
   }
  },
  {
   "cell_type": "code",
   "execution_count": 79,
   "outputs": [],
   "source": [
    "make_submission(sub_preds, X_test, 'Predictions/ScaledANN')"
   ],
   "metadata": {
    "collapsed": false,
    "pycharm": {
     "name": "#%%\n"
    }
   }
  },
  {
   "cell_type": "code",
   "execution_count": 80,
   "outputs": [],
   "source": [
    "make_submission(train_preds, X_val, 'Predictions/ScaledANNVal')"
   ],
   "metadata": {
    "collapsed": false,
    "pycharm": {
     "name": "#%%\n"
    }
   }
  },
  {
   "cell_type": "markdown",
   "source": [
    "## [Part 1. EDA.](https://nbviewer.org/github/sersonSerson/Projects/blob/master/Regression/HousePrice/01%20EDA.ipynb)"
   ],
   "metadata": {
    "collapsed": false
   }
  },
  {
   "cell_type": "markdown",
   "source": [
    "## [Part 3. Ridge regression.](https://nbviewer.org/github/sersonSerson/Projects/blob/master/Regression/HousePrice/03%20Ridge%20regression.ipynb)"
   ],
   "metadata": {
    "collapsed": false
   }
  },
  {
   "cell_type": "markdown",
   "source": [
    "## [Part 4. Ensemble.](https://nbviewer.org/github/sersonSerson/Projects/blob/master/Regression/HousePrice/04%20Ensemble.ipynb)\n"
   ],
   "metadata": {
    "collapsed": false
   }
  }
 ],
 "metadata": {
  "kernelspec": {
   "display_name": "Python 3",
   "language": "python",
   "name": "python3"
  },
  "language_info": {
   "codemirror_mode": {
    "name": "ipython",
    "version": 2
   },
   "file_extension": ".py",
   "mimetype": "text/x-python",
   "name": "python",
   "nbconvert_exporter": "python",
   "pygments_lexer": "ipython2",
   "version": "2.7.6"
  }
 },
 "nbformat": 4,
 "nbformat_minor": 0
}