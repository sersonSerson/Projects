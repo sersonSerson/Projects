{
 "cells": [
  {
   "cell_type": "code",
   "execution_count": 13,
   "outputs": [],
   "source": [
    "import pandas as pd\n",
    "import numpy as np\n",
    "\n",
    "from sklearn.preprocessing import MinMaxScaler, StandardScaler\n",
    "from category_encoders import TargetEncoder\n",
    "\n",
    "from tensorflow.keras.metrics import Mean\n",
    "from tensorflow.keras.losses import Loss\n",
    "from tensorflow.python.ops.math_ops import log, cast, squared_difference, sqrt, \\\n",
    "    div_no_nan\n",
    "from tensorflow.python.keras.utils import losses_utils\n",
    "from tensorflow.keras import backend\n",
    "from tensorflow import constant, math\n",
    "\n",
    "pd.options.display.max_rows = 80"
   ],
   "metadata": {
    "collapsed": false,
    "pycharm": {
     "name": "#%%\n"
    }
   }
  },
  {
   "cell_type": "markdown",
   "source": [
    "# Load dataset"
   ],
   "metadata": {
    "collapsed": false,
    "pycharm": {
     "name": "#%% md\n"
    }
   }
  },
  {
   "cell_type": "code",
   "execution_count": 14,
   "outputs": [],
   "source": [
    "train = pd.read_csv('data/train.csv', index_col=0)\n",
    "test = pd.read_csv('data/test.csv', index_col=0)\n",
    "y_test = test['SalePrice']\n",
    "test.drop('SalePrice', axis=1, inplace=True)\n",
    "categorical_features =\\\n",
    "    ['MSSubClass', 'MSZoning', 'Street', 'Alley', 'LotShape', 'LandContour',\n",
    "     'Utilities', 'LotConfig', 'LandSlope', 'Neighborhood', 'Condition1',\n",
    "     'Condition2', 'BldgType', 'HouseStyle', 'RoofStyle', 'RoofMatl',\n",
    "     'Exterior1st', 'Exterior2nd', 'MasVnrType', 'ExterQual', 'ExterCond',\n",
    "     'Foundation', 'BsmtQual', 'BsmtCond', 'BsmtExposure', 'BsmtFinType1',\n",
    "     'BsmtFinType2', 'Heating', 'HeatingQC', 'CentralAir',\n",
    "     'Electrical', 'KitchenQual', 'Functional', 'FireplaceQu', 'GarageType',\n",
    "     'GarageFinish', 'GarageQual', 'GarageCond', 'PavedDrive', 'PoolQC',\n",
    "     'Fence', 'MiscFeature', 'SaleType', 'SaleCondition']"
   ],
   "metadata": {
    "collapsed": false,
    "pycharm": {
     "name": "#%%\n"
    }
   }
  },
  {
   "cell_type": "markdown",
   "source": [
    "# Fill missing data"
   ],
   "metadata": {
    "collapsed": false
   }
  },
  {
   "cell_type": "code",
   "execution_count": 15,
   "outputs": [],
   "source": [
    "def fill_na(dataset):\n",
    "    dataset['LotFrontage'].fillna(dataset['LotFrontage'].mean(), inplace=True)\n",
    "    dataset['Electrical'].fillna('SBrkr', inplace=True)\n",
    "    dataset['Functional'].fillna('Typ', inplace=True)\n",
    "    dataset['KitchenQual'].fillna('TA', inplace=True)\n",
    "    dataset['MSZoning'].fillna('RL', inplace=True)\n",
    "    dataset['SaleType'].fillna('WD', inplace=True)\n",
    "    dataset['Utilities'].fillna('AllPub', inplace=True)\n",
    "    dataset['Exterior1st'].fillna('Wd Sdng', inplace=True)\n",
    "    dataset['Exterior2nd'].fillna('MetalSd', inplace=True)\n",
    "    dataset['PoolQC'].fillna('Gd', inplace=True)\n",
    "    categorical_na = 'No'\n",
    "    # Alley\n",
    "    dataset['Alley'].fillna(categorical_na, inplace=True)\n",
    "    dataset['GarageYrBlt'].fillna(0, inplace=True)\n",
    "    dataset['GarageYrBlt'].replace(2207, 2007, inplace=True)\n",
    "    dataset['GarageCars'].fillna(0, inplace=True)\n",
    "    dataset['GarageArea'].fillna(0, inplace=True)\n",
    "\n",
    "    dataset['PoolQC'].fillna(categorical_na, inplace=True)\n",
    "    dataset['Fence'].fillna(categorical_na, inplace=True)\n",
    "    dataset['MiscFeature'].fillna(categorical_na, inplace=True)\n",
    "    dataset['FireplaceQu'].fillna(categorical_na, inplace=True)\n",
    "\n",
    "    dataset['MasVnrType'].fillna(categorical_na, inplace=True)\n",
    "    dataset['MasVnrArea'].fillna(0, inplace=True)\n",
    "\n",
    "    # Basement\n",
    "    basement_categorical = ['BsmtFinType1', 'BsmtFinType2', 'BsmtQual',\n",
    "                            'BsmtCond', 'BsmtExposure']\n",
    "    dataset[basement_categorical] = dataset[\n",
    "        basement_categorical].fillna(\n",
    "        categorical_na)\n",
    "\n",
    "    basement_numerical = ['BsmtFinSF1', 'BsmtFinSF2', 'BsmtUnfSF',\n",
    "                          'TotalBsmtSF', 'BsmtFullBath', 'BsmtHalfBath']\n",
    "    dataset[basement_numerical] = dataset[basement_numerical].fillna(0)\n",
    "\n",
    "    # Garage\n",
    "    garage_categorical = ['GarageType', 'GarageFinish', 'GarageQual',\n",
    "                          'GarageCond']\n",
    "    dataset[garage_categorical] = dataset[garage_categorical].fillna(categorical_na)\n",
    "    return dataset\n",
    "train = fill_na(train)\n",
    "test = fill_na(test)\n",
    "dataset_full = pd.concat([train, test])"
   ],
   "metadata": {
    "collapsed": false,
    "pycharm": {
     "name": "#%%\n"
    }
   }
  },
  {
   "cell_type": "markdown",
   "source": [
    "# Feature engineering"
   ],
   "metadata": {
    "collapsed": false
   }
  },
  {
   "cell_type": "code",
   "execution_count": 16,
   "outputs": [],
   "source": [
    "def generate_manual_features(X):\n",
    "    new_categorical_features = []\n",
    "    X_manual = X.copy()\n",
    "\n",
    "    X_manual['BuildingAge'] = X_manual['YrSold'] - X_manual['YearBuilt']\n",
    "    X_manual['BuildingAge'] = np.where(X_manual['BuildingAge'] > 0,\n",
    "                                       X_manual['BuildingAge'], 0)\n",
    "\n",
    "    X_manual['RemodelledAge'] = X_manual['YrSold'] - X_manual[\n",
    "        'YearRemodAdd']\n",
    "    X_manual['RemodelledAge'] = np.where(X_manual['RemodelledAge'] > 0,\n",
    "                                         X_manual['RemodelledAge'], 0)\n",
    "    X_manual['GarageAge'] = np.where(X_manual['GarageYrBlt'] == 0, 0,\n",
    "                                     X_manual['YrSold'] - X_manual[\n",
    "                                         'GarageYrBlt'])\n",
    "    X_manual['GarageAge'] = np.where(X_manual['GarageAge'] < 0, 0,\n",
    "                                     X_manual['GarageAge'])\n",
    "\n",
    "    X_manual['Year'] = X_manual['YrSold'].map(\n",
    "        {2006: 1, 2007: 2, 2008: 3, 2009: 4, 2010: 5})\n",
    "    new_categorical_features.append('Year')\n",
    "\n",
    "    X_manual['BeforeCrisis'] = np.where(X_manual['YrSold'] < 2010, 1, 0)\n",
    "    new_categorical_features.append('BeforeCrisis')\n",
    "\n",
    "    # TotalAreaSF\n",
    "    X_manual['TotalAreaSF'] = X_manual['GrLivArea'] \\\n",
    "                              + X_manual['TotalBsmtSF']\n",
    "    ########################################################################\n",
    "    # BasementUnFinished\n",
    "    X_manual['BasementFinishedPercent'] = \\\n",
    "        (X_manual['TotalBsmtSF'] - X_manual['BsmtUnfSF']) / X_manual[\n",
    "            'TotalBsmtSF']\n",
    "    X_manual['BasementFinishedPercent'].fillna(0, inplace=True)\n",
    "    ########################################################################\n",
    "    # 7. Bin the data if required\n",
    "    bin_features = ['TotalAreaSF']\n",
    "\n",
    "    # X_binned = X_manual.copy()\n",
    "    result = pd.cut(X_manual['TotalAreaSF'], bins=30, right=True).cat.codes\n",
    "    result = np.array(result).reshape(-1, 1)\n",
    "    X_manual['TotalAreaSFBinned'] = result\n",
    "\n",
    "    # X_manual = bin_data(X_manual, bin_features, 30, new_columns=False,\n",
    "    #                     replace=False)\n",
    "    # X_manual.rename(columns={'TotalAreaSF_binned': 'TotalAreaSFBinned'},\n",
    "    #                 inplace=True)\n",
    "    new_categorical_features.append('TotalAreaSFBinned')\n",
    "    ########################################################################\n",
    "    # Storeys\n",
    "    floors = {20: 1, 30: 1, 40: 1, 45: 1, 50: 1, 60: 2, 70: 2, 75: 2, 80: 2,\n",
    "              85: 2, 90: 2, 120: 1, 150: 1, 160: 2, 180: 2, 190: 2}\n",
    "    X_manual['Floors'] = X_manual['MSSubClass'].map(floors)\n",
    "    new_categorical_features.append('Floors')\n",
    "    ########################################################################\n",
    "    # Turn some categorical features into numerical features\n",
    "    condition_dict = {'Ex': 5, 'Gd': 4, 'TA': 3, 'Fa': 2, 'Po': 1, 'NA': 0,\n",
    "                      'No': 0}\n",
    "\n",
    "    X_manual['ExterQualNum'] = X_manual['ExterQual'].map(condition_dict)\n",
    "    X_manual['ExterCondNum'] = X_manual['ExterCond'].map(condition_dict)\n",
    "    X_manual['BsmtQualNum'] = X_manual['BsmtQual'].map(condition_dict)\n",
    "    X_manual['BsmtCondNum'] = X_manual['BsmtCond'].map(condition_dict)\n",
    "    X_manual['HeatingQCNum'] = X_manual['HeatingQC'].map(condition_dict)\n",
    "    X_manual['KitchenQualNum'] = X_manual['KitchenQual'].map(condition_dict)\n",
    "    X_manual['FireplaceQuNum'] = X_manual['FireplaceQu'].map(condition_dict)\n",
    "    X_manual['GarageQualNum'] = X_manual['GarageQual'].map(condition_dict)\n",
    "    X_manual['PoolQCNum'] = X_manual['PoolQC'].map(condition_dict)\n",
    "    X_manual['GarageCondNum'] = X_manual['GarageCond'].map(condition_dict)\n",
    "\n",
    "    condition_dict = {'Gd': 3, 'Av': 2, 'Mn': 1, 'NA': 0, 'No': 0,\n",
    "                      'No Basement': 0}\n",
    "    X_manual['BsmtExposureNum'] = X_manual['BsmtExposure'].map(\n",
    "        condition_dict)\n",
    "    condition_dict = {'GLQ': 6, 'ALQ': 5, 'BLQ': 4, 'Rec': 3, 'LwQ': 2,\n",
    "                      'Unf': 1, 'NA': 0, 'No': 0}\n",
    "\n",
    "    X_manual['BsmtFinType1Num'] = X_manual['BsmtFinType1'].map(condition_dict)\n",
    "\n",
    "    X_manual['BsmtFinType2Num'] = X_manual['BsmtFinType2'].map(\n",
    "        condition_dict)\n",
    "\n",
    "    condition_dict = {'Fin': 3, 'RFn': 2, 'Unf': 1, 'No': 0, 'NA': 0}\n",
    "    X_manual['GarageFinishNum'] = X_manual['GarageFinish'].map(\n",
    "        condition_dict)\n",
    "\n",
    "    condition_dict = {'GdPrv': 4, 'MnPrv': 3, 'GdWo': 2, 'MnWw': 1, 'No': 0}\n",
    "    X_manual['FenceNum'] = X_manual['Fence'].map(condition_dict)\n",
    "\n",
    "    ########################################################################\n",
    "    X_manual['OverallQualOverallCond'] = X_manual['OverallQual'] + X_manual[\n",
    "        'OverallCond']\n",
    "\n",
    "    X_manual['RoomSize'] = X_manual['GrLivArea'] + X_manual['TotRmsAbvGrd']\n",
    "\n",
    "    X_manual['SumAge'] = (X_manual['BuildingAge'] + X_manual[\n",
    "        'RemodelledAge'])\n",
    "\n",
    "    X_manual['OverallQualTotalAreaSFMultiplied'] = X_manual['OverallQual'] \\\n",
    "                                                   * X_manual['TotalAreaSF']\n",
    "    X_manual['QualSquared'] = \\\n",
    "        np.square(X_manual['OverallQual'].astype(np.int64))\n",
    "\n",
    "    ########################################################################\n",
    "    # Sort the features list\n",
    "    new_categorical_features = sorted(new_categorical_features)\n",
    "    ########################################################################\n",
    "\n",
    "    return X_manual,new_categorical_features\n",
    "dataset_full, new_categorical_features = \\\n",
    "    generate_manual_features(dataset_full)"
   ],
   "metadata": {
    "collapsed": false,
    "pycharm": {
     "name": "#%%\n"
    }
   }
  },
  {
   "cell_type": "code",
   "execution_count": 17,
   "outputs": [
    {
     "data": {
      "text/plain": "      MSSubClass MSZoning  LotFrontage  LotArea Street Alley LotShape  \\\nId                                                                      \n1             60       RL         65.0     8450   Pave    No      Reg   \n2             20       RL         80.0     9600   Pave    No      Reg   \n3             60       RL         68.0    11250   Pave    No      IR1   \n4             70       RL         60.0     9550   Pave    No      IR1   \n5             60       RL         84.0    14260   Pave    No      IR1   \n...          ...      ...          ...      ...    ...   ...      ...   \n2915         160       RM         21.0     1936   Pave    No      Reg   \n2916         160       RM         21.0     1894   Pave    No      Reg   \n2917          20       RL        160.0    20000   Pave    No      Reg   \n2918          85       RL         62.0    10441   Pave    No      Reg   \n2919          60       RL         74.0     9627   Pave    No      Reg   \n\n     LandContour Utilities LotConfig  ... BsmtExposureNum BsmtFinType1Num  \\\nId                                    ...                                   \n1            Lvl    AllPub    Inside  ...               0               6   \n2            Lvl    AllPub       FR2  ...               3               5   \n3            Lvl    AllPub    Inside  ...               1               6   \n4            Lvl    AllPub    Corner  ...               0               5   \n5            Lvl    AllPub       FR2  ...               2               6   \n...          ...       ...       ...  ...             ...             ...   \n2915         Lvl    AllPub    Inside  ...               0               1   \n2916         Lvl    AllPub    Inside  ...               0               3   \n2917         Lvl    AllPub    Inside  ...               0               5   \n2918         Lvl    AllPub    Inside  ...               2               6   \n2919         Lvl    AllPub    Inside  ...               2               2   \n\n     BsmtFinType2Num GarageFinishNum FenceNum OverallQualOverallCond  \\\nId                                                                     \n1                  1               2        0                     12   \n2                  1               2        0                     14   \n3                  1               2        0                     12   \n4                  1               1        0                     12   \n5                  1               2        0                     13   \n...              ...             ...      ...                    ...   \n2915               1               0        0                     11   \n2916               1               1        0                      9   \n2917               1               1        0                     12   \n2918               1               0        3                     10   \n2919               1               3        0                     12   \n\n      RoomSize  SumAge  OverallQualTotalAreaSFMultiplied  QualSquared  \nId                                                                     \n1         1718      10                           17962.0           49  \n2         1268      62                           15144.0           36  \n3         1792      13                           18942.0           49  \n4         1724     127                           17311.0           49  \n5         2207      16                           26744.0           64  \n...        ...     ...                               ...          ...  \n2915      1097      72                            6552.0           16  \n2916      1098      72                            6552.0           16  \n2917      1231      56                           12240.0           25  \n2918       976      28                            9410.0           25  \n2919      2009      25                           20972.0           49  \n\n[2919 rows x 94 columns]",
      "text/html": "<div>\n<style scoped>\n    .dataframe tbody tr th:only-of-type {\n        vertical-align: middle;\n    }\n\n    .dataframe tbody tr th {\n        vertical-align: top;\n    }\n\n    .dataframe thead th {\n        text-align: right;\n    }\n</style>\n<table border=\"1\" class=\"dataframe\">\n  <thead>\n    <tr style=\"text-align: right;\">\n      <th></th>\n      <th>MSSubClass</th>\n      <th>MSZoning</th>\n      <th>LotFrontage</th>\n      <th>LotArea</th>\n      <th>Street</th>\n      <th>Alley</th>\n      <th>LotShape</th>\n      <th>LandContour</th>\n      <th>Utilities</th>\n      <th>LotConfig</th>\n      <th>...</th>\n      <th>BsmtExposureNum</th>\n      <th>BsmtFinType1Num</th>\n      <th>BsmtFinType2Num</th>\n      <th>GarageFinishNum</th>\n      <th>FenceNum</th>\n      <th>OverallQualOverallCond</th>\n      <th>RoomSize</th>\n      <th>SumAge</th>\n      <th>OverallQualTotalAreaSFMultiplied</th>\n      <th>QualSquared</th>\n    </tr>\n    <tr>\n      <th>Id</th>\n      <th></th>\n      <th></th>\n      <th></th>\n      <th></th>\n      <th></th>\n      <th></th>\n      <th></th>\n      <th></th>\n      <th></th>\n      <th></th>\n      <th></th>\n      <th></th>\n      <th></th>\n      <th></th>\n      <th></th>\n      <th></th>\n      <th></th>\n      <th></th>\n      <th></th>\n      <th></th>\n      <th></th>\n    </tr>\n  </thead>\n  <tbody>\n    <tr>\n      <th>1</th>\n      <td>60</td>\n      <td>RL</td>\n      <td>65.0</td>\n      <td>8450</td>\n      <td>Pave</td>\n      <td>No</td>\n      <td>Reg</td>\n      <td>Lvl</td>\n      <td>AllPub</td>\n      <td>Inside</td>\n      <td>...</td>\n      <td>0</td>\n      <td>6</td>\n      <td>1</td>\n      <td>2</td>\n      <td>0</td>\n      <td>12</td>\n      <td>1718</td>\n      <td>10</td>\n      <td>17962.0</td>\n      <td>49</td>\n    </tr>\n    <tr>\n      <th>2</th>\n      <td>20</td>\n      <td>RL</td>\n      <td>80.0</td>\n      <td>9600</td>\n      <td>Pave</td>\n      <td>No</td>\n      <td>Reg</td>\n      <td>Lvl</td>\n      <td>AllPub</td>\n      <td>FR2</td>\n      <td>...</td>\n      <td>3</td>\n      <td>5</td>\n      <td>1</td>\n      <td>2</td>\n      <td>0</td>\n      <td>14</td>\n      <td>1268</td>\n      <td>62</td>\n      <td>15144.0</td>\n      <td>36</td>\n    </tr>\n    <tr>\n      <th>3</th>\n      <td>60</td>\n      <td>RL</td>\n      <td>68.0</td>\n      <td>11250</td>\n      <td>Pave</td>\n      <td>No</td>\n      <td>IR1</td>\n      <td>Lvl</td>\n      <td>AllPub</td>\n      <td>Inside</td>\n      <td>...</td>\n      <td>1</td>\n      <td>6</td>\n      <td>1</td>\n      <td>2</td>\n      <td>0</td>\n      <td>12</td>\n      <td>1792</td>\n      <td>13</td>\n      <td>18942.0</td>\n      <td>49</td>\n    </tr>\n    <tr>\n      <th>4</th>\n      <td>70</td>\n      <td>RL</td>\n      <td>60.0</td>\n      <td>9550</td>\n      <td>Pave</td>\n      <td>No</td>\n      <td>IR1</td>\n      <td>Lvl</td>\n      <td>AllPub</td>\n      <td>Corner</td>\n      <td>...</td>\n      <td>0</td>\n      <td>5</td>\n      <td>1</td>\n      <td>1</td>\n      <td>0</td>\n      <td>12</td>\n      <td>1724</td>\n      <td>127</td>\n      <td>17311.0</td>\n      <td>49</td>\n    </tr>\n    <tr>\n      <th>5</th>\n      <td>60</td>\n      <td>RL</td>\n      <td>84.0</td>\n      <td>14260</td>\n      <td>Pave</td>\n      <td>No</td>\n      <td>IR1</td>\n      <td>Lvl</td>\n      <td>AllPub</td>\n      <td>FR2</td>\n      <td>...</td>\n      <td>2</td>\n      <td>6</td>\n      <td>1</td>\n      <td>2</td>\n      <td>0</td>\n      <td>13</td>\n      <td>2207</td>\n      <td>16</td>\n      <td>26744.0</td>\n      <td>64</td>\n    </tr>\n    <tr>\n      <th>...</th>\n      <td>...</td>\n      <td>...</td>\n      <td>...</td>\n      <td>...</td>\n      <td>...</td>\n      <td>...</td>\n      <td>...</td>\n      <td>...</td>\n      <td>...</td>\n      <td>...</td>\n      <td>...</td>\n      <td>...</td>\n      <td>...</td>\n      <td>...</td>\n      <td>...</td>\n      <td>...</td>\n      <td>...</td>\n      <td>...</td>\n      <td>...</td>\n      <td>...</td>\n      <td>...</td>\n    </tr>\n    <tr>\n      <th>2915</th>\n      <td>160</td>\n      <td>RM</td>\n      <td>21.0</td>\n      <td>1936</td>\n      <td>Pave</td>\n      <td>No</td>\n      <td>Reg</td>\n      <td>Lvl</td>\n      <td>AllPub</td>\n      <td>Inside</td>\n      <td>...</td>\n      <td>0</td>\n      <td>1</td>\n      <td>1</td>\n      <td>0</td>\n      <td>0</td>\n      <td>11</td>\n      <td>1097</td>\n      <td>72</td>\n      <td>6552.0</td>\n      <td>16</td>\n    </tr>\n    <tr>\n      <th>2916</th>\n      <td>160</td>\n      <td>RM</td>\n      <td>21.0</td>\n      <td>1894</td>\n      <td>Pave</td>\n      <td>No</td>\n      <td>Reg</td>\n      <td>Lvl</td>\n      <td>AllPub</td>\n      <td>Inside</td>\n      <td>...</td>\n      <td>0</td>\n      <td>3</td>\n      <td>1</td>\n      <td>1</td>\n      <td>0</td>\n      <td>9</td>\n      <td>1098</td>\n      <td>72</td>\n      <td>6552.0</td>\n      <td>16</td>\n    </tr>\n    <tr>\n      <th>2917</th>\n      <td>20</td>\n      <td>RL</td>\n      <td>160.0</td>\n      <td>20000</td>\n      <td>Pave</td>\n      <td>No</td>\n      <td>Reg</td>\n      <td>Lvl</td>\n      <td>AllPub</td>\n      <td>Inside</td>\n      <td>...</td>\n      <td>0</td>\n      <td>5</td>\n      <td>1</td>\n      <td>1</td>\n      <td>0</td>\n      <td>12</td>\n      <td>1231</td>\n      <td>56</td>\n      <td>12240.0</td>\n      <td>25</td>\n    </tr>\n    <tr>\n      <th>2918</th>\n      <td>85</td>\n      <td>RL</td>\n      <td>62.0</td>\n      <td>10441</td>\n      <td>Pave</td>\n      <td>No</td>\n      <td>Reg</td>\n      <td>Lvl</td>\n      <td>AllPub</td>\n      <td>Inside</td>\n      <td>...</td>\n      <td>2</td>\n      <td>6</td>\n      <td>1</td>\n      <td>0</td>\n      <td>3</td>\n      <td>10</td>\n      <td>976</td>\n      <td>28</td>\n      <td>9410.0</td>\n      <td>25</td>\n    </tr>\n    <tr>\n      <th>2919</th>\n      <td>60</td>\n      <td>RL</td>\n      <td>74.0</td>\n      <td>9627</td>\n      <td>Pave</td>\n      <td>No</td>\n      <td>Reg</td>\n      <td>Lvl</td>\n      <td>AllPub</td>\n      <td>Inside</td>\n      <td>...</td>\n      <td>2</td>\n      <td>2</td>\n      <td>1</td>\n      <td>3</td>\n      <td>0</td>\n      <td>12</td>\n      <td>2009</td>\n      <td>25</td>\n      <td>20972.0</td>\n      <td>49</td>\n    </tr>\n  </tbody>\n</table>\n<p>2919 rows × 94 columns</p>\n</div>"
     },
     "execution_count": 17,
     "metadata": {},
     "output_type": "execute_result"
    }
   ],
   "source": [
    "replaced_features = \\\n",
    "    ['ExterQual', 'ExterCond', 'BsmtQual', 'BsmtCond', 'BsmtExposure',\n",
    "     'BsmtFinType1', 'BsmtFinType2', 'HeatingQC', 'KitchenQual', 'FireplaceQu',\n",
    "     'GarageFinish', 'GarageQual', 'GarageCond', 'PoolQC', 'Fence']\n",
    "dataset_full.drop(replaced_features, axis=1, inplace=True)\n",
    "for feature in replaced_features:\n",
    "    categorical_features.remove(feature)\n",
    "dataset_full"
   ],
   "metadata": {
    "collapsed": false,
    "pycharm": {
     "name": "#%%\n"
    }
   }
  },
  {
   "cell_type": "markdown",
   "source": [
    "# Feature encoding"
   ],
   "metadata": {
    "collapsed": false
   }
  },
  {
   "cell_type": "code",
   "execution_count": 18,
   "outputs": [
    {
     "name": "stderr",
     "output_type": "stream",
     "text": [
      "c:\\python\\portfolio\\new_venv\\lib\\site-packages\\category_encoders\\utils.py:21: FutureWarning: is_categorical is deprecated and will be removed in a future version.  Use is_categorical_dtype instead\n",
      "  elif pd.api.types.is_categorical(cols):\n"
     ]
    }
   ],
   "source": [
    "columns_to_encode = categorical_features\n",
    "encoder = TargetEncoder(cols=columns_to_encode)\n",
    "dataset_full_enc = encoder.fit_transform(dataset_full[columns_to_encode],\n",
    "                                       dataset_full['SalePrice'])\n",
    "for column in columns_to_encode:\n",
    "    dataset_full[column + 'MeanEncoded'] = dataset_full_enc[column]\n",
    "\n",
    "dataset_full.drop(categorical_features, axis=1, inplace=True)"
   ],
   "metadata": {
    "collapsed": false,
    "pycharm": {
     "name": "#%%\n"
    }
   }
  },
  {
   "cell_type": "code",
   "execution_count": 19,
   "outputs": [],
   "source": [
    "train_mask = dataset_full['SalePrice'].isna() == False\n",
    "pred_mask = dataset_full['SalePrice'].isna() == True\n",
    "\n",
    "dataset_encoded = dataset_full[train_mask]\n",
    "dataset_pred_encoded = dataset_full[pred_mask]"
   ],
   "metadata": {
    "collapsed": false,
    "pycharm": {
     "name": "#%%\n"
    }
   }
  },
  {
   "cell_type": "code",
   "execution_count": 20,
   "outputs": [],
   "source": [
    "X = dataset_encoded.drop('SalePrice', axis=1)\n",
    "y = dataset_encoded['SalePrice']\n",
    "\n",
    "X_pred = dataset_pred_encoded.drop('SalePrice', axis=1)\n",
    "y_pred = dataset_pred_encoded['SalePrice']"
   ],
   "metadata": {
    "collapsed": false,
    "pycharm": {
     "name": "#%%\n"
    }
   }
  },
  {
   "cell_type": "code",
   "execution_count": 21,
   "outputs": [],
   "source": [
    "X_pred['MSSubClassMeanEncoded'] = X_pred['MSSubClassMeanEncoded'].fillna(\n",
    "    X_pred['MSSubClassMeanEncoded'].mean())"
   ],
   "metadata": {
    "collapsed": false,
    "pycharm": {
     "name": "#%%\n"
    }
   }
  },
  {
   "cell_type": "markdown",
   "source": [
    "# Feature scaling"
   ],
   "metadata": {
    "collapsed": false
   }
  },
  {
   "cell_type": "code",
   "execution_count": 22,
   "outputs": [],
   "source": [
    "scaler = MinMaxScaler()\n",
    "X_train = pd.DataFrame(scaler.fit_transform(X), columns=X.columns,\n",
    "                       index=X.index)\n",
    "X_test = pd.DataFrame(scaler.transform(X_pred), columns=X_pred.columns,\n",
    "                       index=X_pred.index)\n",
    "y_train = y"
   ],
   "metadata": {
    "collapsed": false,
    "pycharm": {
     "name": "#%%\n"
    }
   }
  },
  {
   "cell_type": "markdown",
   "source": [
    "# Create custom metric and loss functions"
   ],
   "metadata": {
    "collapsed": false
   }
  },
  {
   "cell_type": "code",
   "execution_count": 23,
   "outputs": [],
   "source": [
    "class RootMeanSquaredLogErrorScaledLoss(Loss):\n",
    "\n",
    "    def __init__(self, name='rmsle_custom_loss', dtype='float32', scaler=None):\n",
    "        super(RootMeanSquaredLogErrorScaledLoss, self).__init__(name=name)\n",
    "        # if scaler:\n",
    "        self.scaler = scaler\n",
    "        self.dtype = dtype\n",
    "\n",
    "    def call(self, y_true, y_pred):\n",
    "        y_true = cast(y_true, self.dtype)\n",
    "        y_pred = cast(y_pred, self.dtype)\n",
    "        if isinstance(self.scaler, StandardScaler):\n",
    "            sc_mean = constant(self.scaler.mean_, self.dtype)\n",
    "            sc_std = constant(self.scaler.scale_, self.dtype)\n",
    "            y_true = y_true * sc_std + sc_mean\n",
    "            y_pred = y_pred * sc_std + sc_mean\n",
    "        elif isinstance(self.scaler, MinMaxScaler):\n",
    "            sc_min = constant(self.scaler.min_, self.dtype)\n",
    "            sc_scale = constant(self.scaler.scale_, self.dtype)\n",
    "            y_true = (y_true - sc_min) / sc_scale\n",
    "            y_pred = (y_pred - sc_min) / sc_scale\n",
    "\n",
    "        y_pred, y_true = losses_utils.squeeze_or_expand_dimensions(\n",
    "            y_pred, y_true)\n",
    "        pred_log = log(backend.maximum(y_pred, backend.epsilon()) + 1.)\n",
    "        true_log = log(backend.maximum(y_true, backend.epsilon()) + 1.)\n",
    "        error_sq = squared_difference(pred_log, true_log)\n",
    "        return sqrt(math.reduce_mean(error_sq))\n",
    "\n",
    "class RootMeanSquaredLogErrorScaled(Mean):\n",
    "\n",
    "    def __init__(self, name='rmsle_custom_metric', dtype='float32',\n",
    "                 scaler=None):\n",
    "        super(RootMeanSquaredLogErrorScaled, self).__init__(name, dtype=dtype)\n",
    "        self.scaler = scaler\n",
    "        # self.dtype = dtype\n",
    "        # self.min = tf.constant(min, self._dtype)\n",
    "        # self.scale = tf.constant(scale, self._dtype)\n",
    "\n",
    "    def update_state(self, y_true, y_pred, sample_weight=None):\n",
    "        \"\"\"Accumulates root mean squared error statistics.\n",
    "        Args:\n",
    "          y_true: The ground truth values.\n",
    "          y_pred: The predicted values.\n",
    "          sample_weight: Optional weighting of each example. Defaults to 1. Can be a\n",
    "            `Tensor` whose rank is either 0, or the same rank as `y_true`, and must\n",
    "            be broadcastable to `y_true`.\n",
    "        Returns:\n",
    "          Update op.\n",
    "        \"\"\"\n",
    "        y_true = cast(y_true, self.dtype)\n",
    "        y_pred = cast(y_pred, self.dtype)\n",
    "        if isinstance(self.scaler, StandardScaler):\n",
    "            sc_mean = constant(self.scaler.mean_, self.dtype)\n",
    "            sc_std = constant(self.scaler.scale_, self.dtype)\n",
    "            y_true = y_true * sc_std + sc_mean\n",
    "            y_pred = y_pred * sc_std + sc_mean\n",
    "        elif isinstance(self.scaler, MinMaxScaler):\n",
    "            sc_min = constant(self.scaler.min_, self.dtype)\n",
    "            sc_scale = constant(self.scaler.scale_, self.dtype)\n",
    "            y_true = (y_true - sc_min) / sc_scale\n",
    "            y_pred = (y_pred - sc_min) / sc_scale\n",
    "\n",
    "        y_pred, y_true = losses_utils.squeeze_or_expand_dimensions(\n",
    "            y_pred, y_true)\n",
    "        pred_log = log(backend.maximum(y_pred, backend.epsilon()) + 1.)\n",
    "        true_log = log(backend.maximum(y_true, backend.epsilon()) + 1.)\n",
    "        error_sq = squared_difference(pred_log, true_log)\n",
    "        return super(RootMeanSquaredLogErrorScaled, self).update_state(\n",
    "            error_sq, sample_weight=sample_weight)\n",
    "\n",
    "    def result(self):\n",
    "        return sqrt(div_no_nan(self.total, self.count))\n",
    "\n",
    "def rmsle(y, y_pred):\n",
    "    if len(y) != len(y_pred):\n",
    "        return 0\n",
    "    sum = 0\n",
    "    for real, pred in zip(y, y_pred):\n",
    "        # check for negative values\n",
    "        if real < 0:\n",
    "            real = 0\n",
    "        if pred < 0:\n",
    "            pred = 0\n",
    "        p = np.log(real + 1)\n",
    "        r = np.log(pred + 1)\n",
    "        sum += np.square(p - r)\n",
    "    result = np.sqrt(sum / len(y_pred))\n",
    "    if isinstance(result, np.ndarray):\n",
    "        result = result[0]\n",
    "    return result\n"
   ],
   "metadata": {
    "collapsed": false,
    "pycharm": {
     "name": "#%%\n"
    }
   }
  },
  {
   "cell_type": "markdown",
   "source": [
    "# Use grid search for ANN"
   ],
   "metadata": {
    "collapsed": false
   }
  },
  {
   "cell_type": "code",
   "execution_count": 24,
   "outputs": [
    {
     "data": {
      "text/plain": "  0%|          | 0/9 [00:00<?, ?it/s]",
      "application/vnd.jupyter.widget-view+json": {
       "version_major": 2,
       "version_minor": 0,
       "model_id": "df5606c5267740b699f535a9eee81157"
      }
     },
     "metadata": {},
     "output_type": "display_data"
    },
    {
     "name": "stdout",
     "output_type": "stream",
     "text": [
      "Epoch 00101: early stopping\n",
      "Epoch 00566: early stopping\n",
      "Epoch 00353: early stopping\n",
      "Epoch 00303: early stopping\n",
      "Epoch 00301: early stopping\n",
      "Epoch 00101: early stopping\n"
     ]
    },
    {
     "data": {
      "text/plain": "              ModelName      Score\n6  Units: 30\\nLayers: 8   0.125854\n4  Units: 40\\nLayers: 5   0.127086\n2  Units: 50\\nLayers: 3    0.12828\n1  Units: 40\\nLayers: 3   0.128726\n3  Units: 30\\nLayers: 5   0.130888\n5  Units: 50\\nLayers: 5    0.13259\n7  Units: 40\\nLayers: 8   0.133101\n0  Units: 30\\nLayers: 3  12.023726\n8  Units: 50\\nLayers: 8  12.023726",
      "text/html": "<div>\n<style scoped>\n    .dataframe tbody tr th:only-of-type {\n        vertical-align: middle;\n    }\n\n    .dataframe tbody tr th {\n        vertical-align: top;\n    }\n\n    .dataframe thead th {\n        text-align: right;\n    }\n</style>\n<table border=\"1\" class=\"dataframe\">\n  <thead>\n    <tr style=\"text-align: right;\">\n      <th></th>\n      <th>ModelName</th>\n      <th>Score</th>\n    </tr>\n  </thead>\n  <tbody>\n    <tr>\n      <th>6</th>\n      <td>Units: 30\\nLayers: 8</td>\n      <td>0.125854</td>\n    </tr>\n    <tr>\n      <th>4</th>\n      <td>Units: 40\\nLayers: 5</td>\n      <td>0.127086</td>\n    </tr>\n    <tr>\n      <th>2</th>\n      <td>Units: 50\\nLayers: 3</td>\n      <td>0.12828</td>\n    </tr>\n    <tr>\n      <th>1</th>\n      <td>Units: 40\\nLayers: 3</td>\n      <td>0.128726</td>\n    </tr>\n    <tr>\n      <th>3</th>\n      <td>Units: 30\\nLayers: 5</td>\n      <td>0.130888</td>\n    </tr>\n    <tr>\n      <th>5</th>\n      <td>Units: 50\\nLayers: 5</td>\n      <td>0.13259</td>\n    </tr>\n    <tr>\n      <th>7</th>\n      <td>Units: 40\\nLayers: 8</td>\n      <td>0.133101</td>\n    </tr>\n    <tr>\n      <th>0</th>\n      <td>Units: 30\\nLayers: 3</td>\n      <td>12.023726</td>\n    </tr>\n    <tr>\n      <th>8</th>\n      <td>Units: 50\\nLayers: 8</td>\n      <td>12.023726</td>\n    </tr>\n  </tbody>\n</table>\n</div>"
     },
     "execution_count": 24,
     "metadata": {},
     "output_type": "execute_result"
    }
   ],
   "source": [
    "from ann_grid_search import AnnGridSearch\n",
    "grid = {'Epochs': [600],\n",
    "        'Units': [30, 40, 50],\n",
    "        'Layers': [3, 5, 8],\n",
    "        'Loss': [RootMeanSquaredLogErrorScaledLoss()],\n",
    "        'Metrics': [RootMeanSquaredLogErrorScaled()],\n",
    "        'ScoreFunc': [rmsle],\n",
    "        'EarlyStopping': [True],\n",
    "        'EarlyStoppingMetric':['rmsle_custom_metric'],\n",
    "        'Patience': [100]}\n",
    "grid_search = AnnGridSearch(grid)\n",
    "grid_search.fit(X_train, y_train, X_test, y_test)\n",
    "grid_search.score(X_test, y_test)"
   ],
   "metadata": {
    "collapsed": false,
    "pycharm": {
     "name": "#%%\n"
    }
   }
  },
  {
   "cell_type": "code",
   "execution_count": 25,
   "outputs": [
    {
     "data": {
      "text/plain": "<Figure size 720x360 with 1 Axes>",
      "image/png": "[encoded data removed]"
     },
     "metadata": {
      "needs_background": "light"
     },
     "output_type": "display_data"
    },
    {
     "data": {
      "text/plain": "<Figure size 720x432 with 1 Axes>",
      "image/png": "[encoded data removed]"
     },
     "metadata": {
      "needs_background": "light"
     },
     "output_type": "display_data"
    }
   ],
   "source": [
    "grid_search.score_bar(n_results=5)\n",
    "grid_search.leaning_curve(val_metric='val_rmsle_custom_metric',\n",
    "                          strarting_epoch=31, n_results=7)"
   ],
   "metadata": {
    "collapsed": false,
    "pycharm": {
     "name": "#%%\n"
    }
   }
  },
  {
   "cell_type": "markdown",
   "source": [
    "# Create a submission"
   ],
   "metadata": {
    "collapsed": false
   }
  },
  {
   "cell_type": "code",
   "execution_count": 26,
   "outputs": [],
   "source": [
    "def create_submission(X_test, test_pred):\n",
    "    submission_df = pd.DataFrame({'SalePrice': test_pred.reshape(-1)},\n",
    "                                 index=X_test.index)\n",
    "    submission_df.sort_index(inplace=True)\n",
    "    submission_df.to_csv('Submission.csv', index=True)\n",
    "    print('Ready!')"
   ],
   "metadata": {
    "collapsed": false,
    "pycharm": {
     "name": "#%%\n"
    }
   }
  },
  {
   "cell_type": "code",
   "execution_count": 27,
   "outputs": [
    {
     "name": "stdout",
     "output_type": "stream",
     "text": [
      "Ready!\n"
     ]
    }
   ],
   "source": [
    "create_submission(X_test, grid_search.best_prediction())"
   ],
   "metadata": {
    "collapsed": false,
    "pycharm": {
     "name": "#%%\n"
    }
   }
  },
  {
   "cell_type": "code",
   "execution_count": 27,
   "outputs": [],
   "source": [],
   "metadata": {
    "collapsed": false,
    "pycharm": {
     "name": "#%%\n"
    }
   }
  }
 ],
 "metadata": {
  "kernelspec": {
   "display_name": "Python 3",
   "language": "python",
   "name": "python3"
  },
  "language_info": {
   "codemirror_mode": {
    "name": "ipython",
    "version": 2
   },
   "file_extension": ".py",
   "mimetype": "text/x-python",
   "name": "python",
   "nbconvert_exporter": "python",
   "pygments_lexer": "ipython2",
   "version": "2.7.6"
  }
 },
 "nbformat": 4,
 "nbformat_minor": 0
}