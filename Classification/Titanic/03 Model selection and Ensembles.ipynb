{
 "cells": [
  {
   "cell_type": "markdown",
   "source": [
    "<p align=\"center\">\n",
    "<img style=\"width:80%\" src=\"https://c4.wallpaperflare.com/wallpaper/378/267/803/titanic-ship-cruise-ship-drawing-night-hd-wallpaper-preview.jpg\">\n",
    "</p>\n",
    "\n",
    "[Image source](https://www.wallpaperflare.com/titanic-ship-cruise-ship-drawing-night-hd-digital-artwork-wallpaper-mzpsf/)"
   ],
   "metadata": {
    "collapsed": false
   }
  },
  {
   "cell_type": "markdown",
   "source": [
    "<h1 style=\"text-align: center; color:#01872A; font-size: 80px;\n",
    "background:#daf2e1; border-radius: 20px;\n",
    "\">Titanic.<br> Part 3. Model selection.</h1>"
   ],
   "metadata": {
    "collapsed": false
   }
  },
  {
   "cell_type": "markdown",
   "source": [
    "## Please use nbviewer to read this notebook to use all it's features:\n",
    "\n",
    "https://nbviewer.org/github/sersonSerson/Projects/blob/master/Classification/Titanic/03%20Model%20selection%20and%20Ensembles.ipynb"
   ],
   "metadata": {
    "collapsed": false
   }
  },
  {
   "cell_type": "markdown",
   "source": [
    "# <span style=\"color:#01872A; display: block; padding:10px; background:#daf2e1;border-radius:20px; text-align: center; font-size: 40px; \"> Contents </span>"
   ],
   "metadata": {
    "collapsed": false
   }
  },
  {
   "cell_type": "markdown",
   "source": [
    "## 5.\t[Feature scaling.](#Step5)\n",
    "## 6.\t[Choose models.](#Step6)\n",
    "## 7.   [Ensembles of models.](#Step7)\n",
    "## 8.   [Create submission.](#Step8)\n",
    "## 9.   [Conclusion.](#Step9)"
   ],
   "metadata": {
    "collapsed": false
   }
  },
  {
   "cell_type": "code",
   "execution_count": 373,
   "outputs": [],
   "source": [
    "import pandas as pd\n",
    "\n",
    "from sklearn.feature_selection import RFECV\n",
    "from sklearn.preprocessing import StandardScaler, MinMaxScaler\n",
    "from sklearn.linear_model import LogisticRegression\n",
    "from sklearn.tree import DecisionTreeClassifier\n",
    "from sklearn.neighbors import KNeighborsClassifier\n",
    "from sklearn.model_selection import GridSearchCV\n",
    "from xgboost import XGBClassifier"
   ],
   "metadata": {
    "collapsed": false,
    "pycharm": {
     "name": "#%%\n"
    }
   }
  },
  {
   "cell_type": "code",
   "execution_count": 374,
   "outputs": [],
   "source": [
    "pd.options.display.max_columns = 80\n",
    "pd.options.display.max_rows = 30\n",
    "pd.options.display.max_colwidth = 60"
   ],
   "metadata": {
    "collapsed": false,
    "pycharm": {
     "name": "#%%\n"
    }
   }
  },
  {
   "cell_type": "code",
   "execution_count": 375,
   "outputs": [],
   "source": [
    "import warnings\n",
    "warnings.filterwarnings('ignore')"
   ],
   "metadata": {
    "collapsed": false,
    "pycharm": {
     "name": "#%%\n"
    }
   }
  },
  {
   "cell_type": "markdown",
   "source": [
    "## Load data"
   ],
   "metadata": {
    "collapsed": false
   }
  },
  {
   "cell_type": "code",
   "execution_count": 379,
   "outputs": [],
   "source": [
    "filled_df = pd.read_csv('data/Preprocessed data.csv', index_col='PassengerId')"
   ],
   "metadata": {
    "collapsed": false,
    "pycharm": {
     "name": "#%%\n"
    }
   }
  },
  {
   "cell_type": "markdown",
   "source": [
    "<div id=\"Step5\">\n",
    "</div>\n",
    "\n",
    "# <span style=\"color:#01872A; display: block; padding:10px; background:#daf2e1;border-radius:20px; text-align: center; font-size: 40px; \"> Step 5. Feature scaling.</span>"
   ],
   "metadata": {
    "collapsed": false
   }
  },
  {
   "cell_type": "markdown",
   "source": [
    "## Remove useless features"
   ],
   "metadata": {
    "collapsed": false,
    "pycharm": {
     "name": "#%% md\n"
    }
   }
  },
  {
   "cell_type": "code",
   "execution_count": 380,
   "outputs": [
    {
     "data": {
      "text/plain": "(1309, 67)"
     },
     "execution_count": 380,
     "metadata": {},
     "output_type": "execute_result"
    }
   ],
   "source": [
    "redundant_columns = ['Name', 'FirstName', 'LastName', 'Ticket', 'Cabin','Title']\n",
    "filled_df.drop(redundant_columns, axis=1, inplace=True)\n",
    "filled_df.shape"
   ],
   "metadata": {
    "collapsed": false,
    "pycharm": {
     "name": "#%%\n"
    }
   }
  },
  {
   "cell_type": "markdown",
   "source": [
    "## Split into the train and test sets"
   ],
   "metadata": {
    "collapsed": false,
    "pycharm": {
     "name": "#%% md\n"
    }
   }
  },
  {
   "cell_type": "code",
   "execution_count": 381,
   "outputs": [],
   "source": [
    "train_df = filled_df[filled_df['Survived'].isna() == False]\n",
    "X_train = train_df.drop('Survived', axis=1)\n",
    "y_train = train_df['Survived']\n",
    "\n",
    "test_df = filled_df[filled_df['Survived'].isna() == True]\n",
    "X_test = test_df.drop('Survived', axis=1)"
   ],
   "metadata": {
    "collapsed": false,
    "pycharm": {
     "name": "#%%\n"
    }
   }
  },
  {
   "cell_type": "markdown",
   "source": [
    "## Scale data for non-tree-based models.\n",
    "1. MinMax scaler works better for KNN model.\n",
    "2. Standard scaler works better for other models."
   ],
   "metadata": {
    "collapsed": false
   }
  },
  {
   "cell_type": "code",
   "execution_count": 382,
   "outputs": [],
   "source": [
    "scaler = MinMaxScaler()\n",
    "scaler.fit(X_train)\n",
    "X_scaled_knn = \\\n",
    "    pd.DataFrame(scaler.transform(X_train), columns=X_train.columns,\n",
    "                 index=X_train.index)\n",
    "X_test_scaled_knn = \\\n",
    "    pd.DataFrame(scaler.transform(X_test), columns=X_test.columns,\n",
    "                 index=X_test.index)"
   ],
   "metadata": {
    "collapsed": false,
    "pycharm": {
     "name": "#%%\n"
    }
   }
  },
  {
   "cell_type": "code",
   "execution_count": 383,
   "outputs": [],
   "source": [
    "scaler = StandardScaler()\n",
    "scaler.fit(X_train)\n",
    "X_train_scaled = pd.DataFrame(scaler.transform(X_train), columns=X_train\n",
    "                              .columns,\n",
    "                        index=X_train.index)\n",
    "X_test_scaled = pd.DataFrame(scaler.transform(X_test), columns=X_test.columns,\n",
    "                             index=X_test.index)\n"
   ],
   "metadata": {
    "collapsed": false,
    "pycharm": {
     "name": "#%%\n"
    }
   }
  },
  {
   "cell_type": "markdown",
   "source": [
    "## <span style=\"color:#01872A;display: block; font-style: italic;padding:10px; background:#daf2e1;border-radius:20px; text-align: left; font-size: 30px; \"> Step 5 results: </span>\n",
    "\n",
    "1. Remove useless columns from data.\n",
    "2. Created train and test sets.\n",
    "3. Scaled data with different scalers for different models."
   ],
   "metadata": {
    "collapsed": false
   }
  },
  {
   "cell_type": "markdown",
   "source": [
    "<div id=\"Step6\">\n",
    "</div>\n",
    "\n",
    "# <span style=\"color:#01872A; display: block; padding:10px; background:#daf2e1;border-radius:20px; text-align: center; font-size: 40px; \"> Step 6. Choose models.</span>\n"
   ],
   "metadata": {
    "collapsed": false
   }
  },
  {
   "cell_type": "markdown",
   "source": [
    "Function generates DataFrame for Kaggle submission ('PassengerId' and 'Survived'\n",
    "columns)."
   ],
   "metadata": {
    "collapsed": false,
    "pycharm": {
     "name": "#%% md\n"
    }
   }
  },
  {
   "cell_type": "code",
   "execution_count": 384,
   "outputs": [],
   "source": [
    "def generate_submission(model, X, y, X_test):\n",
    "    model.fit(X, y)\n",
    "    preds = model.predict(X_test).astype(int)\n",
    "    submission_df = pd.DataFrame({'PassengerId': X_test.index,\n",
    "                                'Survived': preds})\n",
    "    submission_df.to_csv('data/DecisionTreeSubmission.csv', index=False)\n",
    "    print('Ready')\n",
    "    return preds"
   ],
   "metadata": {
    "collapsed": false,
    "pycharm": {
     "name": "#%%\n"
    }
   }
  },
  {
   "cell_type": "markdown",
   "source": [
    "Function makes grid search for model with passed grid."
   ],
   "metadata": {
    "collapsed": false
   }
  },
  {
   "cell_type": "code",
   "execution_count": 385,
   "outputs": [],
   "source": [
    "def search_grid(model, grid, X, y):\n",
    "    grid_search = GridSearchCV(model, param_grid=grid, n_jobs=-1, cv=2)\n",
    "    grid_search.fit(X, y)\n",
    "    return grid_search.best_params_, grid_search.best_score_"
   ],
   "metadata": {
    "collapsed": false,
    "pycharm": {
     "name": "#%%\n"
    }
   }
  },
  {
   "cell_type": "markdown",
   "source": [
    "## Decision tree classifier."
   ],
   "metadata": {
    "collapsed": false
   }
  },
  {
   "cell_type": "code",
   "execution_count": 386,
   "outputs": [
    {
     "name": "stdout",
     "output_type": "stream",
     "text": [
      "Decision tree best params: {'max_depth': 4, 'max_leaf_nodes': 5, 'min_samples_leaf': 2, 'min_samples_split': 2}\n",
      "Decision tree best score: 0.8226684133622211\n",
      "Ready\n"
     ]
    }
   ],
   "source": [
    "dt_grid = {'min_samples_split': [2, 3, 5],\n",
    "        'max_leaf_nodes': [None, 3, 5, 10, 15],\n",
    "        'max_depth': [3, 4, 5, 6, 7, 8, 9, 10],\n",
    "        'min_samples_leaf': [2, 3, 4, 5, 10, 15, 20]\n",
    "        }\n",
    "dt = DecisionTreeClassifier(random_state=0)\n",
    "dt_best_params, dt_best_score = search_grid(dt, dt_grid, X_train, y_train)\n",
    "dt.set_params(**dt_best_params)\n",
    "print(f'Decision tree best params: {dt_best_params}')\n",
    "print(f'Decision tree best score: {dt_best_score}')\n",
    "dt_preds = generate_submission(dt, X_train, y_train, X_test)"
   ],
   "metadata": {
    "collapsed": false,
    "pycharm": {
     "name": "#%%\n"
    }
   }
  },
  {
   "cell_type": "markdown",
   "source": [
    "## KNN  classifier."
   ],
   "metadata": {
    "collapsed": false
   }
  },
  {
   "cell_type": "code",
   "execution_count": 387,
   "outputs": [
    {
     "name": "stdout",
     "output_type": "stream",
     "text": [
      "KNN best params: {'metric': 'euclidean', 'n_neighbors': 7, 'p': 0.5}\n",
      "KNN best score: 0.8069582304630423\n",
      "Ready\n"
     ]
    }
   ],
   "source": [
    "knn_grid = {'n_neighbors': [i for i in range(1, 30)],\n",
    "        'metric': ['euclidean'],\n",
    "        'p': [0.5, 1, 2, 3, 4, 5]}\n",
    "knn = KNeighborsClassifier(n_jobs=-1)\n",
    "knn_best_params, knn_best_score = search_grid(knn, knn_grid, X_scaled_knn,\n",
    "                                              y_train)\n",
    "knn.set_params(**knn_best_params)\n",
    "print(f'KNN best params: {knn_best_params}')\n",
    "print(f'KNN best score: {knn_best_score}')\n",
    "knn_preds = generate_submission(knn, X_scaled_knn, y_train, X_test_scaled_knn)"
   ],
   "metadata": {
    "collapsed": false,
    "pycharm": {
     "name": "#%%\n"
    }
   }
  },
  {
   "cell_type": "markdown",
   "source": [
    "## Logistic regression with recursive feature elimination"
   ],
   "metadata": {
    "collapsed": false
   }
  },
  {
   "cell_type": "code",
   "execution_count": 388,
   "outputs": [],
   "source": [
    "logistic_regression = LogisticRegression(random_state=0, max_iter=100)\n",
    "kbest = RFECV(logistic_regression, cv=5).fit(X_train_scaled, y_train)\n",
    "used_features = kbest.get_support()\n",
    "X_train_scaled_rfe = X_train_scaled.loc[:, used_features]\n",
    "X_test_scaled_rfe = X_test_scaled.loc[:, used_features]"
   ],
   "metadata": {
    "collapsed": false,
    "pycharm": {
     "name": "#%%\n"
    }
   }
  },
  {
   "cell_type": "code",
   "execution_count": 389,
   "outputs": [
    {
     "name": "stdout",
     "output_type": "stream",
     "text": [
      "Logistic regression best params: {'C': 100, 'max_iter': 500, 'penalty': 'l2', 'solver': 'sag'}\n",
      "Logistic regression best score: 0.8181740313397491\n",
      "Ready\n"
     ]
    }
   ],
   "source": [
    "lr_grid = {\n",
    "        'penalty': ['l2'],\n",
    "        'solver': ['lbfgs', 'liblinear', 'sag','saga'],\n",
    "        'C': [0.01, 0.1, 0.3, 0.5, 0.7, 1, 10, 100],\n",
    "        'max_iter': [500]\n",
    "            }\n",
    "lr = LogisticRegression(random_state=0, n_jobs=-1)\n",
    "lr_best_params, lr_best_score = search_grid(lr, lr_grid, X_train_scaled_rfe, y_train)\n",
    "lr.set_params(**lr_best_params)\n",
    "print(f'Logistic regression best params: {lr_best_params}')\n",
    "print(f'Logistic regression best score: {lr_best_score}')\n",
    "lr_preds = generate_submission(lr, X_train_scaled_rfe, y_train, X_test_scaled_rfe)"
   ],
   "metadata": {
    "collapsed": false,
    "pycharm": {
     "name": "#%%\n"
    }
   }
  },
  {
   "cell_type": "markdown",
   "source": [
    "## XGBOOST"
   ],
   "metadata": {
    "collapsed": false
   }
  },
  {
   "cell_type": "code",
   "execution_count": 390,
   "outputs": [
    {
     "name": "stdout",
     "output_type": "stream",
     "text": [
      "{'colsample_bylevel': 0.6, 'colsample_bytree': 0.8, 'learning_rate': 0.3, 'max_depth': 5, 'n_estimators': 10} 0.8439965737894897\n",
      "Ready\n"
     ]
    }
   ],
   "source": [
    "xgb_grid = {\n",
    "    'n_estimators': [10, 20, 30],\n",
    "    'learning_rate': [0.001, 0.1, 0.2, 0.3],\n",
    "    'colsample_bytree': [0.4, 0.6, 0.8, 1],\n",
    "    'colsample_bylevel': [0.4, 0.6, 0.8, 1],\n",
    "    'max_depth': [1, 2, 3, 4, 5]\n",
    "        }\n",
    "xgb_cl = XGBClassifier(random_state=0, n_jobs=-1, eval_metric='logloss')\n",
    "xgb_best_params, xgb_best_score = search_grid(xgb_cl, xgb_grid, X_train,\n",
    "                                              y_train)\n",
    "xgb_cl.set_params(**xgb_best_params)\n",
    "print(xgb_best_params, xgb_best_score)\n",
    "xgb_preds = generate_submission(xgb_cl, X_train, y_train, X_test)"
   ],
   "metadata": {
    "collapsed": false,
    "pycharm": {
     "name": "#%%\n"
    }
   }
  },
  {
   "cell_type": "markdown",
   "source": [
    "## <span style=\"color:#01872A;display: block; font-style: italic;padding:10px; background:#daf2e1;border-radius:20px; text-align: left; font-size: 30px; \"> Step 6 results: </span>\n",
    "\n",
    "1. Fitted 4 different models on data.\n",
    "2. Found the best parameters for all these models.\n",
    "3. Generated predictions for each model."
   ],
   "metadata": {
    "collapsed": false
   }
  },
  {
   "cell_type": "markdown",
   "source": [
    "<div id=\"Step7\">\n",
    "</div>\n",
    "\n",
    "# <span style=\"color:#01872A; display: block; padding:10px; background:#daf2e1;border-radius:20px; text-align: center; font-size: 40px; \"> Step 7. Ensembles of models.</span>"
   ],
   "metadata": {
    "collapsed": false
   }
  },
  {
   "cell_type": "markdown",
   "source": [
    "## Create a DataFrame with predictons"
   ],
   "metadata": {
    "collapsed": false,
    "pycharm": {
     "name": "#%% md\n"
    }
   }
  },
  {
   "cell_type": "code",
   "execution_count": 391,
   "outputs": [
    {
     "data": {
      "text/plain": "             DT  KNN  LogReg  XGB\nPassengerId                      \n892           0    0       0    0\n893           0    0       0    1\n894           0    0       0    0\n895           0    0       0    0\n896           1    0       1    1\n...          ..  ...     ...  ...\n1305          0    0       0    0\n1306          0    1       1    1\n1307          0    0       0    0\n1308          0    0       0    0\n1309          1    1       1    1\n\n[418 rows x 4 columns]",
      "text/html": "<div>\n<style scoped>\n    .dataframe tbody tr th:only-of-type {\n        vertical-align: middle;\n    }\n\n    .dataframe tbody tr th {\n        vertical-align: top;\n    }\n\n    .dataframe thead th {\n        text-align: right;\n    }\n</style>\n<table border=\"1\" class=\"dataframe\">\n  <thead>\n    <tr style=\"text-align: right;\">\n      <th></th>\n      <th>DT</th>\n      <th>KNN</th>\n      <th>LogReg</th>\n      <th>XGB</th>\n    </tr>\n    <tr>\n      <th>PassengerId</th>\n      <th></th>\n      <th></th>\n      <th></th>\n      <th></th>\n    </tr>\n  </thead>\n  <tbody>\n    <tr>\n      <th>892</th>\n      <td>0</td>\n      <td>0</td>\n      <td>0</td>\n      <td>0</td>\n    </tr>\n    <tr>\n      <th>893</th>\n      <td>0</td>\n      <td>0</td>\n      <td>0</td>\n      <td>1</td>\n    </tr>\n    <tr>\n      <th>894</th>\n      <td>0</td>\n      <td>0</td>\n      <td>0</td>\n      <td>0</td>\n    </tr>\n    <tr>\n      <th>895</th>\n      <td>0</td>\n      <td>0</td>\n      <td>0</td>\n      <td>0</td>\n    </tr>\n    <tr>\n      <th>896</th>\n      <td>1</td>\n      <td>0</td>\n      <td>1</td>\n      <td>1</td>\n    </tr>\n    <tr>\n      <th>...</th>\n      <td>...</td>\n      <td>...</td>\n      <td>...</td>\n      <td>...</td>\n    </tr>\n    <tr>\n      <th>1305</th>\n      <td>0</td>\n      <td>0</td>\n      <td>0</td>\n      <td>0</td>\n    </tr>\n    <tr>\n      <th>1306</th>\n      <td>0</td>\n      <td>1</td>\n      <td>1</td>\n      <td>1</td>\n    </tr>\n    <tr>\n      <th>1307</th>\n      <td>0</td>\n      <td>0</td>\n      <td>0</td>\n      <td>0</td>\n    </tr>\n    <tr>\n      <th>1308</th>\n      <td>0</td>\n      <td>0</td>\n      <td>0</td>\n      <td>0</td>\n    </tr>\n    <tr>\n      <th>1309</th>\n      <td>1</td>\n      <td>1</td>\n      <td>1</td>\n      <td>1</td>\n    </tr>\n  </tbody>\n</table>\n<p>418 rows × 4 columns</p>\n</div>"
     },
     "execution_count": 391,
     "metadata": {},
     "output_type": "execute_result"
    }
   ],
   "source": [
    "df_preds = pd.DataFrame({'DT': dt_preds,\n",
    "                          'KNN': knn_preds,\n",
    "                          'LogReg': lr_preds,\n",
    "                          'XGB': xgb_preds},\n",
    "                         index=X_test.index)\n",
    "df_preds"
   ],
   "metadata": {
    "collapsed": false,
    "pycharm": {
     "name": "#%%\n"
    }
   }
  },
  {
   "cell_type": "markdown",
   "source": [
    "## Make a simple mean of predictions as an ensemble prediction."
   ],
   "metadata": {
    "collapsed": false,
    "pycharm": {
     "name": "#%% md\n"
    }
   }
  },
  {
   "cell_type": "code",
   "execution_count": 392,
   "outputs": [
    {
     "data": {
      "text/plain": "0.0    282\n1.0    136\nName: PredRounded, dtype: int64"
     },
     "execution_count": 392,
     "metadata": {},
     "output_type": "execute_result"
    }
   ],
   "source": [
    "df_preds['Pred'] = (df_preds['DT']\n",
    "                    + df_preds['KNN']\n",
    "                    + df_preds['LogReg']\n",
    "                    + df_preds['XGB']\n",
    "                    ) / 4\n",
    "\n",
    "df_preds['PredRounded'] = df_preds['Pred'].round(0)\n",
    "df_preds['PredRounded'].value_counts()"
   ],
   "metadata": {
    "collapsed": false,
    "pycharm": {
     "name": "#%%\n"
    }
   }
  },
  {
   "cell_type": "code",
   "execution_count": 393,
   "outputs": [
    {
     "data": {
      "text/plain": "PassengerId\n892    0.0\n893    0.0\n894    0.0\n895    0.0\n896    1.0\nName: PredRounded, dtype: float64"
     },
     "execution_count": 393,
     "metadata": {},
     "output_type": "execute_result"
    }
   ],
   "source": [
    "df_preds['PredRounded'].head()"
   ],
   "metadata": {
    "collapsed": false,
    "pycharm": {
     "name": "#%%\n"
    }
   }
  },
  {
   "cell_type": "markdown",
   "source": [
    "## <span style=\"color:#01872A;display: block; font-style: italic;padding:10px; background:#daf2e1;border-radius:20px; text-align: left; font-size: 30px; \"> Step 7 results: </span>\n",
    "\n",
    "1. Generated an ensemble prediction for the test dataset."
   ],
   "metadata": {
    "collapsed": false
   }
  },
  {
   "cell_type": "markdown",
   "source": [
    "<div id=\"Step8\">\n",
    "</div>\n",
    "\n",
    "# <span style=\"color:#01872A; display: block; padding:10px; background:#daf2e1;border-radius:20px; text-align: center; font-size: 40px; \"> Step 8. Create submission.</span>"
   ],
   "metadata": {
    "collapsed": false
   }
  },
  {
   "cell_type": "code",
   "execution_count": 395,
   "outputs": [
    {
     "data": {
      "text/plain": "             PassengerId  Survived\nPassengerId                       \n892                  892         0\n893                  893         0\n894                  894         0\n895                  895         0\n896                  896         1",
      "text/html": "<div>\n<style scoped>\n    .dataframe tbody tr th:only-of-type {\n        vertical-align: middle;\n    }\n\n    .dataframe tbody tr th {\n        vertical-align: top;\n    }\n\n    .dataframe thead th {\n        text-align: right;\n    }\n</style>\n<table border=\"1\" class=\"dataframe\">\n  <thead>\n    <tr style=\"text-align: right;\">\n      <th></th>\n      <th>PassengerId</th>\n      <th>Survived</th>\n    </tr>\n    <tr>\n      <th>PassengerId</th>\n      <th></th>\n      <th></th>\n    </tr>\n  </thead>\n  <tbody>\n    <tr>\n      <th>892</th>\n      <td>892</td>\n      <td>0</td>\n    </tr>\n    <tr>\n      <th>893</th>\n      <td>893</td>\n      <td>0</td>\n    </tr>\n    <tr>\n      <th>894</th>\n      <td>894</td>\n      <td>0</td>\n    </tr>\n    <tr>\n      <th>895</th>\n      <td>895</td>\n      <td>0</td>\n    </tr>\n    <tr>\n      <th>896</th>\n      <td>896</td>\n      <td>1</td>\n    </tr>\n  </tbody>\n</table>\n</div>"
     },
     "execution_count": 395,
     "metadata": {},
     "output_type": "execute_result"
    }
   ],
   "source": [
    "submission_df = pd.DataFrame({'PassengerId': X_test.index,\n",
    "                              'Survived': df_preds['PredRounded'].astype(int)})\n",
    "submission_df.to_csv('data/FullSubmission.csv', index=False)\n",
    "submission_df.head()"
   ],
   "metadata": {
    "collapsed": false,
    "pycharm": {
     "name": "#%%\n"
    }
   }
  },
  {
   "cell_type": "markdown",
   "source": [
    "## <span style=\"color:#01872A;display: block; font-style: italic;padding:10px; background:#daf2e1;border-radius:20px; text-align: left; font-size: 30px; \"> Step 8 results: </span>\n",
    "\n",
    "1. Created the Kaggle submission."
   ],
   "metadata": {
    "collapsed": false
   }
  },
  {
   "cell_type": "markdown",
   "source": [
    "<div id=\"Step9\">\n",
    "</div>\n",
    "\n",
    "# <span style=\"color:#01872A; display: block; padding:10px; background:#daf2e1;border-radius:20px; text-align: center; font-size: 40px; \"> Step 9. Conclusion.</span>"
   ],
   "metadata": {
    "collapsed": false
   }
  },
  {
   "cell_type": "markdown",
   "source": [
    "1. Score of 81.3% allowed to finish in top 2% of the contenders.\n",
    "2. Very extensive feature generation was required.\n",
    "3. Ensemble of models was used to achieve good results."
   ],
   "metadata": {
    "collapsed": false
   }
  },
  {
   "cell_type": "markdown",
   "source": [
    "## [Part 1. EDA.](https://nbviewer.org/github/sersonSerson/Projects/blob/master/Classification/Titanic/01%20EDA.ipynb)"
   ],
   "metadata": {
    "collapsed": false
   }
  },
  {
   "cell_type": "markdown",
   "source": [
    "## [Part 2. Feature engineering.](https://nbviewer.org/github/sersonSerson/Projects/blob/master/Classification/Titanic/02%20Feature%20Engineering.ipynb)"
   ],
   "metadata": {
    "collapsed": false
   }
  }
 ],
 "metadata": {
  "kernelspec": {
   "display_name": "Python 3",
   "language": "python",
   "name": "python3"
  },
  "language_info": {
   "codemirror_mode": {
    "name": "ipython",
    "version": 2
   },
   "file_extension": ".py",
   "mimetype": "text/x-python",
   "name": "python",
   "nbconvert_exporter": "python",
   "pygments_lexer": "ipython2",
   "version": "2.7.6"
  }
 },
 "nbformat": 4,
 "nbformat_minor": 0
}