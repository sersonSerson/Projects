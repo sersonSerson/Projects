{
 "cells": [
  {
   "cell_type": "markdown",
   "source": [
    "<p align=\"center\">\n",
    "<img style=\"width:80%\" src=\"https://c4.wallpaperflare\n",
    ".com/wallpaper/378/267/803/titanic-ship-cruise-ship-drawing-night-hd-wallpaper-preview.jpg\">\n",
    "</p>\n",
    "\n",
    "[Image source](https://www.wallpaperflare.com/titanic-ship-cruise-ship-drawing-night-hd-digital-artwork-wallpaper-mzpsf/)"
   ],
   "metadata": {
    "collapsed": false,
    "pycharm": {
     "name": "#%% md\n"
    }
   }
  },
  {
   "cell_type": "markdown",
   "source": [
    "<h1 style=\"text-align: center; color:#01872A; font-size: 80px;\n",
    "background:#daf2e1; border-radius: 20px;\n",
    "\">Titanic.</h1>"
   ],
   "metadata": {
    "collapsed": false
   }
  },
  {
   "cell_type": "markdown",
   "source": [
    "## Please use nbviewer to read this notebook to use all it's features:\n",
    "\n",
    "https://nbviewer.org/github/sersonSerson/Projects/blob/master/TimeSeries/LSTMAirlinePassengers/LstmAirlinePassengers.ipynb\n"
   ],
   "metadata": {
    "collapsed": false
   }
  },
  {
   "cell_type": "code",
   "execution_count": 1,
   "outputs": [],
   "source": [
    "# Imports.\n",
    "# Basic libraries\n",
    "import pandas as pd\n",
    "import numpy as np\n",
    "import matplotlib.pyplot as plt\n",
    "import seaborn as sns\n",
    "from pandas.api.types import is_numeric_dtype\n",
    "\n",
    "from sklearn.feature_selection import RFECV\n",
    "from sklearn.preprocessing import LabelEncoder, OneHotEncoder, \\\n",
    "    StandardScaler, MinMaxScaler\n",
    "from sklearn.linear_model import LogisticRegression\n",
    "from sklearn.tree import DecisionTreeClassifier, ExtraTreeClassifier\n",
    "from sklearn.neighbors import KNeighborsClassifier\n",
    "from sklearn.decomposition import PCA\n",
    "from sklearn.model_selection import cross_val_score\n",
    "from sklearn.ensemble import RandomForestClassifier\n",
    "from sklearn.model_selection import StratifiedKFold\n",
    "from sklearn.model_selection import GridSearchCV\n",
    "from xgboost import XGBClassifier"
   ],
   "metadata": {
    "collapsed": false,
    "pycharm": {
     "name": "#%%\n"
    }
   }
  },
  {
   "cell_type": "code",
   "execution_count": 2,
   "outputs": [],
   "source": [
    "cheat = pd.read_csv('data/test_cheat.csv', delimiter=',',\n",
    "                        index_col='PassengerId')\n",
    "from sklearn.metrics import accuracy_score\n",
    "def cheat_score(preds):\n",
    "    cheat['Preds'] = preds\n",
    "    males = cheat[cheat['Sex'] == 'male']\n",
    "    male_accuracy = accuracy_score(males['Cheat'], males['Preds'])\n",
    "    print(f'Male accuracy: {male_accuracy}')\n",
    "    females = cheat[cheat['Sex'] == 'female']\n",
    "    female_accuracy = accuracy_score(females['Cheat'], females['Preds'])\n",
    "    print(f'Female accuracy: {female_accuracy}')\n",
    "    overall_accuracy = accuracy_score(cheat['Cheat'], cheat['Preds'])\n",
    "    print(f'Overall accuracy: {overall_accuracy}')\n",
    "    # return accuracy\n"
   ],
   "metadata": {
    "collapsed": false,
    "pycharm": {
     "name": "#%%\n"
    }
   }
  },
  {
   "cell_type": "code",
   "execution_count": 3,
   "outputs": [
    {
     "data": {
      "text/plain": "             Survived  Pclass  \\\nPassengerId                     \n1                 0.0       3   \n2                 1.0       1   \n3                 1.0       3   \n4                 1.0       1   \n5                 0.0       3   \n...               ...     ...   \n1305              NaN       3   \n1306              NaN       1   \n1307              NaN       3   \n1308              NaN       3   \n1309              NaN       3   \n\n                                                          Name     Sex   Age  \\\nPassengerId                                                                    \n1                                      Braund, Mr. Owen Harris    male  22.0   \n2            Cumings, Mrs. John Bradley (Florence Briggs Th...  female  38.0   \n3                                       Heikkinen, Miss. Laina  female  26.0   \n4                 Futrelle, Mrs. Jacques Heath (Lily May Peel)  female  35.0   \n5                                     Allen, Mr. William Henry    male  35.0   \n...                                                        ...     ...   ...   \n1305                                        Spector, Mr. Woolf    male   NaN   \n1306                              Oliva y Ocana, Dona. Fermina  female  39.0   \n1307                              Saether, Mr. Simon Sivertsen    male  38.5   \n1308                                       Ware, Mr. Frederick    male   NaN   \n1309                                  Peter, Master. Michael J    male   NaN   \n\n             SibSp  Parch              Ticket      Fare Cabin Embarked  \nPassengerId                                                             \n1                1      0           A/5 21171    7.2500   NaN        S  \n2                1      0            PC 17599   71.2833   C85        C  \n3                0      0    STON/O2. 3101282    7.9250   NaN        S  \n4                1      0              113803   53.1000  C123        S  \n5                0      0              373450    8.0500   NaN        S  \n...            ...    ...                 ...       ...   ...      ...  \n1305             0      0           A.5. 3236    8.0500   NaN        S  \n1306             0      0            PC 17758  108.9000  C105        C  \n1307             0      0  SOTON/O.Q. 3101262    7.2500   NaN        S  \n1308             0      0              359309    8.0500   NaN        S  \n1309             1      1                2668   22.3583   NaN        C  \n\n[1309 rows x 11 columns]",
      "text/html": "<div>\n<style scoped>\n    .dataframe tbody tr th:only-of-type {\n        vertical-align: middle;\n    }\n\n    .dataframe tbody tr th {\n        vertical-align: top;\n    }\n\n    .dataframe thead th {\n        text-align: right;\n    }\n</style>\n<table border=\"1\" class=\"dataframe\">\n  <thead>\n    <tr style=\"text-align: right;\">\n      <th></th>\n      <th>Survived</th>\n      <th>Pclass</th>\n      <th>Name</th>\n      <th>Sex</th>\n      <th>Age</th>\n      <th>SibSp</th>\n      <th>Parch</th>\n      <th>Ticket</th>\n      <th>Fare</th>\n      <th>Cabin</th>\n      <th>Embarked</th>\n    </tr>\n    <tr>\n      <th>PassengerId</th>\n      <th></th>\n      <th></th>\n      <th></th>\n      <th></th>\n      <th></th>\n      <th></th>\n      <th></th>\n      <th></th>\n      <th></th>\n      <th></th>\n      <th></th>\n    </tr>\n  </thead>\n  <tbody>\n    <tr>\n      <th>1</th>\n      <td>0.0</td>\n      <td>3</td>\n      <td>Braund, Mr. Owen Harris</td>\n      <td>male</td>\n      <td>22.0</td>\n      <td>1</td>\n      <td>0</td>\n      <td>A/5 21171</td>\n      <td>7.2500</td>\n      <td>NaN</td>\n      <td>S</td>\n    </tr>\n    <tr>\n      <th>2</th>\n      <td>1.0</td>\n      <td>1</td>\n      <td>Cumings, Mrs. John Bradley (Florence Briggs Th...</td>\n      <td>female</td>\n      <td>38.0</td>\n      <td>1</td>\n      <td>0</td>\n      <td>PC 17599</td>\n      <td>71.2833</td>\n      <td>C85</td>\n      <td>C</td>\n    </tr>\n    <tr>\n      <th>3</th>\n      <td>1.0</td>\n      <td>3</td>\n      <td>Heikkinen, Miss. Laina</td>\n      <td>female</td>\n      <td>26.0</td>\n      <td>0</td>\n      <td>0</td>\n      <td>STON/O2. 3101282</td>\n      <td>7.9250</td>\n      <td>NaN</td>\n      <td>S</td>\n    </tr>\n    <tr>\n      <th>4</th>\n      <td>1.0</td>\n      <td>1</td>\n      <td>Futrelle, Mrs. Jacques Heath (Lily May Peel)</td>\n      <td>female</td>\n      <td>35.0</td>\n      <td>1</td>\n      <td>0</td>\n      <td>113803</td>\n      <td>53.1000</td>\n      <td>C123</td>\n      <td>S</td>\n    </tr>\n    <tr>\n      <th>5</th>\n      <td>0.0</td>\n      <td>3</td>\n      <td>Allen, Mr. William Henry</td>\n      <td>male</td>\n      <td>35.0</td>\n      <td>0</td>\n      <td>0</td>\n      <td>373450</td>\n      <td>8.0500</td>\n      <td>NaN</td>\n      <td>S</td>\n    </tr>\n    <tr>\n      <th>...</th>\n      <td>...</td>\n      <td>...</td>\n      <td>...</td>\n      <td>...</td>\n      <td>...</td>\n      <td>...</td>\n      <td>...</td>\n      <td>...</td>\n      <td>...</td>\n      <td>...</td>\n      <td>...</td>\n    </tr>\n    <tr>\n      <th>1305</th>\n      <td>NaN</td>\n      <td>3</td>\n      <td>Spector, Mr. Woolf</td>\n      <td>male</td>\n      <td>NaN</td>\n      <td>0</td>\n      <td>0</td>\n      <td>A.5. 3236</td>\n      <td>8.0500</td>\n      <td>NaN</td>\n      <td>S</td>\n    </tr>\n    <tr>\n      <th>1306</th>\n      <td>NaN</td>\n      <td>1</td>\n      <td>Oliva y Ocana, Dona. Fermina</td>\n      <td>female</td>\n      <td>39.0</td>\n      <td>0</td>\n      <td>0</td>\n      <td>PC 17758</td>\n      <td>108.9000</td>\n      <td>C105</td>\n      <td>C</td>\n    </tr>\n    <tr>\n      <th>1307</th>\n      <td>NaN</td>\n      <td>3</td>\n      <td>Saether, Mr. Simon Sivertsen</td>\n      <td>male</td>\n      <td>38.5</td>\n      <td>0</td>\n      <td>0</td>\n      <td>SOTON/O.Q. 3101262</td>\n      <td>7.2500</td>\n      <td>NaN</td>\n      <td>S</td>\n    </tr>\n    <tr>\n      <th>1308</th>\n      <td>NaN</td>\n      <td>3</td>\n      <td>Ware, Mr. Frederick</td>\n      <td>male</td>\n      <td>NaN</td>\n      <td>0</td>\n      <td>0</td>\n      <td>359309</td>\n      <td>8.0500</td>\n      <td>NaN</td>\n      <td>S</td>\n    </tr>\n    <tr>\n      <th>1309</th>\n      <td>NaN</td>\n      <td>3</td>\n      <td>Peter, Master. Michael J</td>\n      <td>male</td>\n      <td>NaN</td>\n      <td>1</td>\n      <td>1</td>\n      <td>2668</td>\n      <td>22.3583</td>\n      <td>NaN</td>\n      <td>C</td>\n    </tr>\n  </tbody>\n</table>\n<p>1309 rows × 11 columns</p>\n</div>"
     },
     "execution_count": 3,
     "metadata": {},
     "output_type": "execute_result"
    }
   ],
   "source": [
    "pd.options.display.max_columns = 80\n",
    "pd.options.display.max_rows = 30\n",
    "train = pd.read_csv('data/train.csv', index_col='PassengerId')\n",
    "test = pd.read_csv('data/test.csv', index_col='PassengerId')\n",
    "# filled_df.sort_index(inplace=True)\n",
    "filled_df = pd.concat([train, test])\n",
    "filled_df"
   ],
   "metadata": {
    "collapsed": false,
    "pycharm": {
     "name": "#%%\n"
    }
   }
  },
  {
   "cell_type": "code",
   "execution_count": 4,
   "outputs": [],
   "source": [
    "manual = pd.read_csv('data/2 age.csv', index_col='PassengerId')\n",
    "filled_df['ManualParents'] = manual['Parents']\n",
    "filled_df['ManualChildren'] = manual['Children']\n"
   ],
   "metadata": {
    "collapsed": false,
    "pycharm": {
     "name": "#%%\n"
    }
   }
  },
  {
   "cell_type": "markdown",
   "source": [
    "# Fare\n",
    "According to:\n",
    "https://autumnmccordckp.weebly.com/tickets-and-accomodations.html\n",
    "Titanic pricing policy was:\n",
    "1. First Class - £870 to £30.\n",
    "2. Second Class- £12.\n",
    "3. Third Class- £3 to £8."
   ],
   "metadata": {
    "collapsed": false,
    "pycharm": {
     "name": "#%% md\n"
    }
   }
  },
  {
   "cell_type": "markdown",
   "source": [
    "## Check dataset fares"
   ],
   "metadata": {
    "collapsed": false,
    "pycharm": {
     "name": "#%% md\n"
    }
   }
  },
  {
   "cell_type": "code",
   "source": [
    "filled_df.groupby('Pclass').agg({'Fare': ['mean', 'max', 'min',\n",
    "                                                 'count']})"
   ],
   "metadata": {
    "collapsed": false,
    "pycharm": {
     "name": "#%%\n"
    }
   },
   "execution_count": 5,
   "outputs": [
    {
     "data": {
      "text/plain": "             Fare                     \n             mean       max  min count\nPclass                                \n1       87.508992  512.3292  0.0   323\n2       21.179196   73.5000  0.0   277\n3       13.302889   69.5500  0.0   708",
      "text/html": "<div>\n<style scoped>\n    .dataframe tbody tr th:only-of-type {\n        vertical-align: middle;\n    }\n\n    .dataframe tbody tr th {\n        vertical-align: top;\n    }\n\n    .dataframe thead tr th {\n        text-align: left;\n    }\n\n    .dataframe thead tr:last-of-type th {\n        text-align: right;\n    }\n</style>\n<table border=\"1\" class=\"dataframe\">\n  <thead>\n    <tr>\n      <th></th>\n      <th colspan=\"4\" halign=\"left\">Fare</th>\n    </tr>\n    <tr>\n      <th></th>\n      <th>mean</th>\n      <th>max</th>\n      <th>min</th>\n      <th>count</th>\n    </tr>\n    <tr>\n      <th>Pclass</th>\n      <th></th>\n      <th></th>\n      <th></th>\n      <th></th>\n    </tr>\n  </thead>\n  <tbody>\n    <tr>\n      <th>1</th>\n      <td>87.508992</td>\n      <td>512.3292</td>\n      <td>0.0</td>\n      <td>323</td>\n    </tr>\n    <tr>\n      <th>2</th>\n      <td>21.179196</td>\n      <td>73.5000</td>\n      <td>0.0</td>\n      <td>277</td>\n    </tr>\n    <tr>\n      <th>3</th>\n      <td>13.302889</td>\n      <td>69.5500</td>\n      <td>0.0</td>\n      <td>708</td>\n    </tr>\n  </tbody>\n</table>\n</div>"
     },
     "execution_count": 5,
     "metadata": {},
     "output_type": "execute_result"
    }
   ]
  },
  {
   "cell_type": "markdown",
   "source": [
    "## Ideas:\n",
    "1. There are passengers with 0 Fare - they are probably some additional crew\n",
    "members.\n",
    "2. The mean price of all classes is higher than expected, so maybe the\n",
    "price is stated for all passengers with the same ticket number."
   ],
   "metadata": {
    "collapsed": false,
    "pycharm": {
     "name": "#%% md\n"
    }
   }
  },
  {
   "cell_type": "markdown",
   "source": [
    "## Define number of passenger for each ticket and append it to the DataFrame."
   ],
   "metadata": {
    "collapsed": false
   }
  },
  {
   "cell_type": "code",
   "execution_count": 6,
   "outputs": [
    {
     "data": {
      "text/plain": "Ticket\n110152         3\n110413         3\n110465         2\n110469         1\n110489         1\n              ..\nW./C. 6608     5\nW./C. 6609     1\nW.E.P. 5734    2\nW/C 14208      1\nWE/P 5735      2\nName: Name, Length: 929, dtype: int64"
     },
     "execution_count": 6,
     "metadata": {},
     "output_type": "execute_result"
    }
   ],
   "source": [
    "ticket_passengers = \\\n",
    "    filled_df.groupby('Ticket')['Name'].agg('count')\n",
    "ticket_passengers"
   ],
   "metadata": {
    "collapsed": false,
    "pycharm": {
     "name": "#%%\n"
    }
   }
  },
  {
   "cell_type": "code",
   "source": [
    "filled_df['PassengersCount'] = filled_df['Ticket'].map(ticket_passengers)\n",
    "filled_df"
   ],
   "metadata": {
    "collapsed": false,
    "pycharm": {
     "name": "#%%\n"
    }
   },
   "execution_count": 7,
   "outputs": [
    {
     "data": {
      "text/plain": "             Survived  Pclass  \\\nPassengerId                     \n1                 0.0       3   \n2                 1.0       1   \n3                 1.0       3   \n4                 1.0       1   \n5                 0.0       3   \n...               ...     ...   \n1305              NaN       3   \n1306              NaN       1   \n1307              NaN       3   \n1308              NaN       3   \n1309              NaN       3   \n\n                                                          Name     Sex   Age  \\\nPassengerId                                                                    \n1                                      Braund, Mr. Owen Harris    male  22.0   \n2            Cumings, Mrs. John Bradley (Florence Briggs Th...  female  38.0   \n3                                       Heikkinen, Miss. Laina  female  26.0   \n4                 Futrelle, Mrs. Jacques Heath (Lily May Peel)  female  35.0   \n5                                     Allen, Mr. William Henry    male  35.0   \n...                                                        ...     ...   ...   \n1305                                        Spector, Mr. Woolf    male   NaN   \n1306                              Oliva y Ocana, Dona. Fermina  female  39.0   \n1307                              Saether, Mr. Simon Sivertsen    male  38.5   \n1308                                       Ware, Mr. Frederick    male   NaN   \n1309                                  Peter, Master. Michael J    male   NaN   \n\n             SibSp  Parch              Ticket      Fare Cabin Embarked  \\\nPassengerId                                                              \n1                1      0           A/5 21171    7.2500   NaN        S   \n2                1      0            PC 17599   71.2833   C85        C   \n3                0      0    STON/O2. 3101282    7.9250   NaN        S   \n4                1      0              113803   53.1000  C123        S   \n5                0      0              373450    8.0500   NaN        S   \n...            ...    ...                 ...       ...   ...      ...   \n1305             0      0           A.5. 3236    8.0500   NaN        S   \n1306             0      0            PC 17758  108.9000  C105        C   \n1307             0      0  SOTON/O.Q. 3101262    7.2500   NaN        S   \n1308             0      0              359309    8.0500   NaN        S   \n1309             1      1                2668   22.3583   NaN        C   \n\n             ManualParents  ManualChildren  PassengersCount  \nPassengerId                                                  \n1                        0               0                1  \n2                        0               0                2  \n3                        0               0                1  \n4                        0               0                2  \n5                        0               0                1  \n...                    ...             ...              ...  \n1305                     0               0                1  \n1306                     0               0                3  \n1307                     0               0                1  \n1308                     0               0                1  \n1309                     1               0                3  \n\n[1309 rows x 14 columns]",
      "text/html": "<div>\n<style scoped>\n    .dataframe tbody tr th:only-of-type {\n        vertical-align: middle;\n    }\n\n    .dataframe tbody tr th {\n        vertical-align: top;\n    }\n\n    .dataframe thead th {\n        text-align: right;\n    }\n</style>\n<table border=\"1\" class=\"dataframe\">\n  <thead>\n    <tr style=\"text-align: right;\">\n      <th></th>\n      <th>Survived</th>\n      <th>Pclass</th>\n      <th>Name</th>\n      <th>Sex</th>\n      <th>Age</th>\n      <th>SibSp</th>\n      <th>Parch</th>\n      <th>Ticket</th>\n      <th>Fare</th>\n      <th>Cabin</th>\n      <th>Embarked</th>\n      <th>ManualParents</th>\n      <th>ManualChildren</th>\n      <th>PassengersCount</th>\n    </tr>\n    <tr>\n      <th>PassengerId</th>\n      <th></th>\n      <th></th>\n      <th></th>\n      <th></th>\n      <th></th>\n      <th></th>\n      <th></th>\n      <th></th>\n      <th></th>\n      <th></th>\n      <th></th>\n      <th></th>\n      <th></th>\n      <th></th>\n    </tr>\n  </thead>\n  <tbody>\n    <tr>\n      <th>1</th>\n      <td>0.0</td>\n      <td>3</td>\n      <td>Braund, Mr. Owen Harris</td>\n      <td>male</td>\n      <td>22.0</td>\n      <td>1</td>\n      <td>0</td>\n      <td>A/5 21171</td>\n      <td>7.2500</td>\n      <td>NaN</td>\n      <td>S</td>\n      <td>0</td>\n      <td>0</td>\n      <td>1</td>\n    </tr>\n    <tr>\n      <th>2</th>\n      <td>1.0</td>\n      <td>1</td>\n      <td>Cumings, Mrs. John Bradley (Florence Briggs Th...</td>\n      <td>female</td>\n      <td>38.0</td>\n      <td>1</td>\n      <td>0</td>\n      <td>PC 17599</td>\n      <td>71.2833</td>\n      <td>C85</td>\n      <td>C</td>\n      <td>0</td>\n      <td>0</td>\n      <td>2</td>\n    </tr>\n    <tr>\n      <th>3</th>\n      <td>1.0</td>\n      <td>3</td>\n      <td>Heikkinen, Miss. Laina</td>\n      <td>female</td>\n      <td>26.0</td>\n      <td>0</td>\n      <td>0</td>\n      <td>STON/O2. 3101282</td>\n      <td>7.9250</td>\n      <td>NaN</td>\n      <td>S</td>\n      <td>0</td>\n      <td>0</td>\n      <td>1</td>\n    </tr>\n    <tr>\n      <th>4</th>\n      <td>1.0</td>\n      <td>1</td>\n      <td>Futrelle, Mrs. Jacques Heath (Lily May Peel)</td>\n      <td>female</td>\n      <td>35.0</td>\n      <td>1</td>\n      <td>0</td>\n      <td>113803</td>\n      <td>53.1000</td>\n      <td>C123</td>\n      <td>S</td>\n      <td>0</td>\n      <td>0</td>\n      <td>2</td>\n    </tr>\n    <tr>\n      <th>5</th>\n      <td>0.0</td>\n      <td>3</td>\n      <td>Allen, Mr. William Henry</td>\n      <td>male</td>\n      <td>35.0</td>\n      <td>0</td>\n      <td>0</td>\n      <td>373450</td>\n      <td>8.0500</td>\n      <td>NaN</td>\n      <td>S</td>\n      <td>0</td>\n      <td>0</td>\n      <td>1</td>\n    </tr>\n    <tr>\n      <th>...</th>\n      <td>...</td>\n      <td>...</td>\n      <td>...</td>\n      <td>...</td>\n      <td>...</td>\n      <td>...</td>\n      <td>...</td>\n      <td>...</td>\n      <td>...</td>\n      <td>...</td>\n      <td>...</td>\n      <td>...</td>\n      <td>...</td>\n      <td>...</td>\n    </tr>\n    <tr>\n      <th>1305</th>\n      <td>NaN</td>\n      <td>3</td>\n      <td>Spector, Mr. Woolf</td>\n      <td>male</td>\n      <td>NaN</td>\n      <td>0</td>\n      <td>0</td>\n      <td>A.5. 3236</td>\n      <td>8.0500</td>\n      <td>NaN</td>\n      <td>S</td>\n      <td>0</td>\n      <td>0</td>\n      <td>1</td>\n    </tr>\n    <tr>\n      <th>1306</th>\n      <td>NaN</td>\n      <td>1</td>\n      <td>Oliva y Ocana, Dona. Fermina</td>\n      <td>female</td>\n      <td>39.0</td>\n      <td>0</td>\n      <td>0</td>\n      <td>PC 17758</td>\n      <td>108.9000</td>\n      <td>C105</td>\n      <td>C</td>\n      <td>0</td>\n      <td>0</td>\n      <td>3</td>\n    </tr>\n    <tr>\n      <th>1307</th>\n      <td>NaN</td>\n      <td>3</td>\n      <td>Saether, Mr. Simon Sivertsen</td>\n      <td>male</td>\n      <td>38.5</td>\n      <td>0</td>\n      <td>0</td>\n      <td>SOTON/O.Q. 3101262</td>\n      <td>7.2500</td>\n      <td>NaN</td>\n      <td>S</td>\n      <td>0</td>\n      <td>0</td>\n      <td>1</td>\n    </tr>\n    <tr>\n      <th>1308</th>\n      <td>NaN</td>\n      <td>3</td>\n      <td>Ware, Mr. Frederick</td>\n      <td>male</td>\n      <td>NaN</td>\n      <td>0</td>\n      <td>0</td>\n      <td>359309</td>\n      <td>8.0500</td>\n      <td>NaN</td>\n      <td>S</td>\n      <td>0</td>\n      <td>0</td>\n      <td>1</td>\n    </tr>\n    <tr>\n      <th>1309</th>\n      <td>NaN</td>\n      <td>3</td>\n      <td>Peter, Master. Michael J</td>\n      <td>male</td>\n      <td>NaN</td>\n      <td>1</td>\n      <td>1</td>\n      <td>2668</td>\n      <td>22.3583</td>\n      <td>NaN</td>\n      <td>C</td>\n      <td>1</td>\n      <td>0</td>\n      <td>3</td>\n    </tr>\n  </tbody>\n</table>\n<p>1309 rows × 14 columns</p>\n</div>"
     },
     "execution_count": 7,
     "metadata": {},
     "output_type": "execute_result"
    }
   ]
  },
  {
   "cell_type": "markdown",
   "source": [
    "Fill missing 'Fare' value"
   ],
   "metadata": {
    "collapsed": false
   }
  },
  {
   "cell_type": "code",
   "execution_count": 8,
   "outputs": [],
   "source": [
    "filled_df['Fare'].fillna(0, inplace=True)"
   ],
   "metadata": {
    "collapsed": false,
    "pycharm": {
     "name": "#%%\n"
    }
   }
  },
  {
   "cell_type": "markdown",
   "source": [
    "## Calculate fare per passenger."
   ],
   "metadata": {
    "collapsed": false,
    "pycharm": {
     "name": "#%% md\n"
    }
   }
  },
  {
   "cell_type": "code",
   "source": [
    "filled_df['FarePerPassenger'] = filled_df['Fare'] / filled_df['PassengersCount']\n",
    "filled_df"
   ],
   "metadata": {
    "collapsed": false,
    "pycharm": {
     "name": "#%%\n"
    }
   },
   "execution_count": 9,
   "outputs": [
    {
     "data": {
      "text/plain": "             Survived  Pclass  \\\nPassengerId                     \n1                 0.0       3   \n2                 1.0       1   \n3                 1.0       3   \n4                 1.0       1   \n5                 0.0       3   \n...               ...     ...   \n1305              NaN       3   \n1306              NaN       1   \n1307              NaN       3   \n1308              NaN       3   \n1309              NaN       3   \n\n                                                          Name     Sex   Age  \\\nPassengerId                                                                    \n1                                      Braund, Mr. Owen Harris    male  22.0   \n2            Cumings, Mrs. John Bradley (Florence Briggs Th...  female  38.0   \n3                                       Heikkinen, Miss. Laina  female  26.0   \n4                 Futrelle, Mrs. Jacques Heath (Lily May Peel)  female  35.0   \n5                                     Allen, Mr. William Henry    male  35.0   \n...                                                        ...     ...   ...   \n1305                                        Spector, Mr. Woolf    male   NaN   \n1306                              Oliva y Ocana, Dona. Fermina  female  39.0   \n1307                              Saether, Mr. Simon Sivertsen    male  38.5   \n1308                                       Ware, Mr. Frederick    male   NaN   \n1309                                  Peter, Master. Michael J    male   NaN   \n\n             SibSp  Parch              Ticket      Fare Cabin Embarked  \\\nPassengerId                                                              \n1                1      0           A/5 21171    7.2500   NaN        S   \n2                1      0            PC 17599   71.2833   C85        C   \n3                0      0    STON/O2. 3101282    7.9250   NaN        S   \n4                1      0              113803   53.1000  C123        S   \n5                0      0              373450    8.0500   NaN        S   \n...            ...    ...                 ...       ...   ...      ...   \n1305             0      0           A.5. 3236    8.0500   NaN        S   \n1306             0      0            PC 17758  108.9000  C105        C   \n1307             0      0  SOTON/O.Q. 3101262    7.2500   NaN        S   \n1308             0      0              359309    8.0500   NaN        S   \n1309             1      1                2668   22.3583   NaN        C   \n\n             ManualParents  ManualChildren  PassengersCount  FarePerPassenger  \nPassengerId                                                                    \n1                        0               0                1          7.250000  \n2                        0               0                2         35.641650  \n3                        0               0                1          7.925000  \n4                        0               0                2         26.550000  \n5                        0               0                1          8.050000  \n...                    ...             ...              ...               ...  \n1305                     0               0                1          8.050000  \n1306                     0               0                3         36.300000  \n1307                     0               0                1          7.250000  \n1308                     0               0                1          8.050000  \n1309                     1               0                3          7.452767  \n\n[1309 rows x 15 columns]",
      "text/html": "<div>\n<style scoped>\n    .dataframe tbody tr th:only-of-type {\n        vertical-align: middle;\n    }\n\n    .dataframe tbody tr th {\n        vertical-align: top;\n    }\n\n    .dataframe thead th {\n        text-align: right;\n    }\n</style>\n<table border=\"1\" class=\"dataframe\">\n  <thead>\n    <tr style=\"text-align: right;\">\n      <th></th>\n      <th>Survived</th>\n      <th>Pclass</th>\n      <th>Name</th>\n      <th>Sex</th>\n      <th>Age</th>\n      <th>SibSp</th>\n      <th>Parch</th>\n      <th>Ticket</th>\n      <th>Fare</th>\n      <th>Cabin</th>\n      <th>Embarked</th>\n      <th>ManualParents</th>\n      <th>ManualChildren</th>\n      <th>PassengersCount</th>\n      <th>FarePerPassenger</th>\n    </tr>\n    <tr>\n      <th>PassengerId</th>\n      <th></th>\n      <th></th>\n      <th></th>\n      <th></th>\n      <th></th>\n      <th></th>\n      <th></th>\n      <th></th>\n      <th></th>\n      <th></th>\n      <th></th>\n      <th></th>\n      <th></th>\n      <th></th>\n      <th></th>\n    </tr>\n  </thead>\n  <tbody>\n    <tr>\n      <th>1</th>\n      <td>0.0</td>\n      <td>3</td>\n      <td>Braund, Mr. Owen Harris</td>\n      <td>male</td>\n      <td>22.0</td>\n      <td>1</td>\n      <td>0</td>\n      <td>A/5 21171</td>\n      <td>7.2500</td>\n      <td>NaN</td>\n      <td>S</td>\n      <td>0</td>\n      <td>0</td>\n      <td>1</td>\n      <td>7.250000</td>\n    </tr>\n    <tr>\n      <th>2</th>\n      <td>1.0</td>\n      <td>1</td>\n      <td>Cumings, Mrs. John Bradley (Florence Briggs Th...</td>\n      <td>female</td>\n      <td>38.0</td>\n      <td>1</td>\n      <td>0</td>\n      <td>PC 17599</td>\n      <td>71.2833</td>\n      <td>C85</td>\n      <td>C</td>\n      <td>0</td>\n      <td>0</td>\n      <td>2</td>\n      <td>35.641650</td>\n    </tr>\n    <tr>\n      <th>3</th>\n      <td>1.0</td>\n      <td>3</td>\n      <td>Heikkinen, Miss. Laina</td>\n      <td>female</td>\n      <td>26.0</td>\n      <td>0</td>\n      <td>0</td>\n      <td>STON/O2. 3101282</td>\n      <td>7.9250</td>\n      <td>NaN</td>\n      <td>S</td>\n      <td>0</td>\n      <td>0</td>\n      <td>1</td>\n      <td>7.925000</td>\n    </tr>\n    <tr>\n      <th>4</th>\n      <td>1.0</td>\n      <td>1</td>\n      <td>Futrelle, Mrs. Jacques Heath (Lily May Peel)</td>\n      <td>female</td>\n      <td>35.0</td>\n      <td>1</td>\n      <td>0</td>\n      <td>113803</td>\n      <td>53.1000</td>\n      <td>C123</td>\n      <td>S</td>\n      <td>0</td>\n      <td>0</td>\n      <td>2</td>\n      <td>26.550000</td>\n    </tr>\n    <tr>\n      <th>5</th>\n      <td>0.0</td>\n      <td>3</td>\n      <td>Allen, Mr. William Henry</td>\n      <td>male</td>\n      <td>35.0</td>\n      <td>0</td>\n      <td>0</td>\n      <td>373450</td>\n      <td>8.0500</td>\n      <td>NaN</td>\n      <td>S</td>\n      <td>0</td>\n      <td>0</td>\n      <td>1</td>\n      <td>8.050000</td>\n    </tr>\n    <tr>\n      <th>...</th>\n      <td>...</td>\n      <td>...</td>\n      <td>...</td>\n      <td>...</td>\n      <td>...</td>\n      <td>...</td>\n      <td>...</td>\n      <td>...</td>\n      <td>...</td>\n      <td>...</td>\n      <td>...</td>\n      <td>...</td>\n      <td>...</td>\n      <td>...</td>\n      <td>...</td>\n    </tr>\n    <tr>\n      <th>1305</th>\n      <td>NaN</td>\n      <td>3</td>\n      <td>Spector, Mr. Woolf</td>\n      <td>male</td>\n      <td>NaN</td>\n      <td>0</td>\n      <td>0</td>\n      <td>A.5. 3236</td>\n      <td>8.0500</td>\n      <td>NaN</td>\n      <td>S</td>\n      <td>0</td>\n      <td>0</td>\n      <td>1</td>\n      <td>8.050000</td>\n    </tr>\n    <tr>\n      <th>1306</th>\n      <td>NaN</td>\n      <td>1</td>\n      <td>Oliva y Ocana, Dona. Fermina</td>\n      <td>female</td>\n      <td>39.0</td>\n      <td>0</td>\n      <td>0</td>\n      <td>PC 17758</td>\n      <td>108.9000</td>\n      <td>C105</td>\n      <td>C</td>\n      <td>0</td>\n      <td>0</td>\n      <td>3</td>\n      <td>36.300000</td>\n    </tr>\n    <tr>\n      <th>1307</th>\n      <td>NaN</td>\n      <td>3</td>\n      <td>Saether, Mr. Simon Sivertsen</td>\n      <td>male</td>\n      <td>38.5</td>\n      <td>0</td>\n      <td>0</td>\n      <td>SOTON/O.Q. 3101262</td>\n      <td>7.2500</td>\n      <td>NaN</td>\n      <td>S</td>\n      <td>0</td>\n      <td>0</td>\n      <td>1</td>\n      <td>7.250000</td>\n    </tr>\n    <tr>\n      <th>1308</th>\n      <td>NaN</td>\n      <td>3</td>\n      <td>Ware, Mr. Frederick</td>\n      <td>male</td>\n      <td>NaN</td>\n      <td>0</td>\n      <td>0</td>\n      <td>359309</td>\n      <td>8.0500</td>\n      <td>NaN</td>\n      <td>S</td>\n      <td>0</td>\n      <td>0</td>\n      <td>1</td>\n      <td>8.050000</td>\n    </tr>\n    <tr>\n      <th>1309</th>\n      <td>NaN</td>\n      <td>3</td>\n      <td>Peter, Master. Michael J</td>\n      <td>male</td>\n      <td>NaN</td>\n      <td>1</td>\n      <td>1</td>\n      <td>2668</td>\n      <td>22.3583</td>\n      <td>NaN</td>\n      <td>C</td>\n      <td>1</td>\n      <td>0</td>\n      <td>3</td>\n      <td>7.452767</td>\n    </tr>\n  </tbody>\n</table>\n<p>1309 rows × 15 columns</p>\n</div>"
     },
     "execution_count": 9,
     "metadata": {},
     "output_type": "execute_result"
    }
   ]
  },
  {
   "cell_type": "code",
   "execution_count": 10,
   "outputs": [
    {
     "data": {
      "text/plain": "       FarePerPassenger                     \n                   mean       max  min count\nPclass                                      \n1             33.910500  128.0823  0.0   323\n2             11.411010   16.0000  0.0   277\n3              7.318808   19.9667  0.0   709",
      "text/html": "<div>\n<style scoped>\n    .dataframe tbody tr th:only-of-type {\n        vertical-align: middle;\n    }\n\n    .dataframe tbody tr th {\n        vertical-align: top;\n    }\n\n    .dataframe thead tr th {\n        text-align: left;\n    }\n\n    .dataframe thead tr:last-of-type th {\n        text-align: right;\n    }\n</style>\n<table border=\"1\" class=\"dataframe\">\n  <thead>\n    <tr>\n      <th></th>\n      <th colspan=\"4\" halign=\"left\">FarePerPassenger</th>\n    </tr>\n    <tr>\n      <th></th>\n      <th>mean</th>\n      <th>max</th>\n      <th>min</th>\n      <th>count</th>\n    </tr>\n    <tr>\n      <th>Pclass</th>\n      <th></th>\n      <th></th>\n      <th></th>\n      <th></th>\n    </tr>\n  </thead>\n  <tbody>\n    <tr>\n      <th>1</th>\n      <td>33.910500</td>\n      <td>128.0823</td>\n      <td>0.0</td>\n      <td>323</td>\n    </tr>\n    <tr>\n      <th>2</th>\n      <td>11.411010</td>\n      <td>16.0000</td>\n      <td>0.0</td>\n      <td>277</td>\n    </tr>\n    <tr>\n      <th>3</th>\n      <td>7.318808</td>\n      <td>19.9667</td>\n      <td>0.0</td>\n      <td>709</td>\n    </tr>\n  </tbody>\n</table>\n</div>"
     },
     "execution_count": 10,
     "metadata": {},
     "output_type": "execute_result"
    }
   ],
   "source": [
    "filled_df.groupby('Pclass').agg({'FarePerPassenger': ['mean', 'max', 'min',\n",
    "                                                 'count']})"
   ],
   "metadata": {
    "collapsed": false,
    "pycharm": {
     "name": "#%%\n"
    }
   }
  },
  {
   "cell_type": "markdown",
   "source": [
    "## Now the fares are closer to expected values.\n",
    "## Outline passengers with zero ticket price."
   ],
   "metadata": {
    "collapsed": false
   }
  },
  {
   "cell_type": "code",
   "execution_count": 11,
   "outputs": [
    {
     "data": {
      "text/plain": "0    1291\n1      18\nName: ZeroPrice, dtype: int64"
     },
     "execution_count": 11,
     "metadata": {},
     "output_type": "execute_result"
    }
   ],
   "source": [
    "filled_df['ZeroPrice'] = np.where(filled_df['FarePerPassenger'] == 0, 1, 0)\n",
    "filled_df['ZeroPrice'].value_counts()"
   ],
   "metadata": {
    "collapsed": false,
    "pycharm": {
     "name": "#%%\n"
    }
   }
  },
  {
   "cell_type": "markdown",
   "source": [
    "# Age\n",
    "## Age seems to be an important feature, it's worth spending time on filling\n",
    "it properly."
   ],
   "metadata": {
    "collapsed": false,
    "pycharm": {
     "name": "#%% md\n"
    }
   }
  },
  {
   "cell_type": "code",
   "source": [
    "filled_df['FirstName'] = filled_df['Name'].str.split(',').str[0].str.strip()\n",
    "filled_df['LastName'] = \\\n",
    "    filled_df['Name'].str.split('.').str[1].str.split('(').str[0].str.strip()\n",
    "filled_df['MaidenName'] = \\\n",
    "    filled_df['Name'].str.split('(').str[1].str.split(')').str[0].str.strip()\n",
    "filled_df['Title'] = filled_df['Name'].str.split(',').str[1].str.split('.').str[0].str\\\n",
    "    .strip()\n",
    "filled_df['Title'].value_counts()\n",
    "filled_df[['Name', 'FirstName', 'LastName', 'Title', 'MaidenName']]\n"
   ],
   "metadata": {
    "collapsed": false,
    "pycharm": {
     "name": "#%%\n"
    }
   },
   "execution_count": 12,
   "outputs": [
    {
     "data": {
      "text/plain": "                                                          Name      FirstName  \\\nPassengerId                                                                     \n1                                      Braund, Mr. Owen Harris         Braund   \n2            Cumings, Mrs. John Bradley (Florence Briggs Th...        Cumings   \n3                                       Heikkinen, Miss. Laina      Heikkinen   \n4                 Futrelle, Mrs. Jacques Heath (Lily May Peel)       Futrelle   \n5                                     Allen, Mr. William Henry          Allen   \n...                                                        ...            ...   \n1305                                        Spector, Mr. Woolf        Spector   \n1306                              Oliva y Ocana, Dona. Fermina  Oliva y Ocana   \n1307                              Saether, Mr. Simon Sivertsen        Saether   \n1308                                       Ware, Mr. Frederick           Ware   \n1309                                  Peter, Master. Michael J          Peter   \n\n                    LastName   Title              MaidenName  \nPassengerId                                                   \n1                Owen Harris      Mr                     NaN  \n2               John Bradley     Mrs  Florence Briggs Thayer  \n3                      Laina    Miss                     NaN  \n4              Jacques Heath     Mrs           Lily May Peel  \n5              William Henry      Mr                     NaN  \n...                      ...     ...                     ...  \n1305                   Woolf      Mr                     NaN  \n1306                 Fermina    Dona                     NaN  \n1307         Simon Sivertsen      Mr                     NaN  \n1308               Frederick      Mr                     NaN  \n1309               Michael J  Master                     NaN  \n\n[1309 rows x 5 columns]",
      "text/html": "<div>\n<style scoped>\n    .dataframe tbody tr th:only-of-type {\n        vertical-align: middle;\n    }\n\n    .dataframe tbody tr th {\n        vertical-align: top;\n    }\n\n    .dataframe thead th {\n        text-align: right;\n    }\n</style>\n<table border=\"1\" class=\"dataframe\">\n  <thead>\n    <tr style=\"text-align: right;\">\n      <th></th>\n      <th>Name</th>\n      <th>FirstName</th>\n      <th>LastName</th>\n      <th>Title</th>\n      <th>MaidenName</th>\n    </tr>\n    <tr>\n      <th>PassengerId</th>\n      <th></th>\n      <th></th>\n      <th></th>\n      <th></th>\n      <th></th>\n    </tr>\n  </thead>\n  <tbody>\n    <tr>\n      <th>1</th>\n      <td>Braund, Mr. Owen Harris</td>\n      <td>Braund</td>\n      <td>Owen Harris</td>\n      <td>Mr</td>\n      <td>NaN</td>\n    </tr>\n    <tr>\n      <th>2</th>\n      <td>Cumings, Mrs. John Bradley (Florence Briggs Th...</td>\n      <td>Cumings</td>\n      <td>John Bradley</td>\n      <td>Mrs</td>\n      <td>Florence Briggs Thayer</td>\n    </tr>\n    <tr>\n      <th>3</th>\n      <td>Heikkinen, Miss. Laina</td>\n      <td>Heikkinen</td>\n      <td>Laina</td>\n      <td>Miss</td>\n      <td>NaN</td>\n    </tr>\n    <tr>\n      <th>4</th>\n      <td>Futrelle, Mrs. Jacques Heath (Lily May Peel)</td>\n      <td>Futrelle</td>\n      <td>Jacques Heath</td>\n      <td>Mrs</td>\n      <td>Lily May Peel</td>\n    </tr>\n    <tr>\n      <th>5</th>\n      <td>Allen, Mr. William Henry</td>\n      <td>Allen</td>\n      <td>William Henry</td>\n      <td>Mr</td>\n      <td>NaN</td>\n    </tr>\n    <tr>\n      <th>...</th>\n      <td>...</td>\n      <td>...</td>\n      <td>...</td>\n      <td>...</td>\n      <td>...</td>\n    </tr>\n    <tr>\n      <th>1305</th>\n      <td>Spector, Mr. Woolf</td>\n      <td>Spector</td>\n      <td>Woolf</td>\n      <td>Mr</td>\n      <td>NaN</td>\n    </tr>\n    <tr>\n      <th>1306</th>\n      <td>Oliva y Ocana, Dona. Fermina</td>\n      <td>Oliva y Ocana</td>\n      <td>Fermina</td>\n      <td>Dona</td>\n      <td>NaN</td>\n    </tr>\n    <tr>\n      <th>1307</th>\n      <td>Saether, Mr. Simon Sivertsen</td>\n      <td>Saether</td>\n      <td>Simon Sivertsen</td>\n      <td>Mr</td>\n      <td>NaN</td>\n    </tr>\n    <tr>\n      <th>1308</th>\n      <td>Ware, Mr. Frederick</td>\n      <td>Ware</td>\n      <td>Frederick</td>\n      <td>Mr</td>\n      <td>NaN</td>\n    </tr>\n    <tr>\n      <th>1309</th>\n      <td>Peter, Master. Michael J</td>\n      <td>Peter</td>\n      <td>Michael J</td>\n      <td>Master</td>\n      <td>NaN</td>\n    </tr>\n  </tbody>\n</table>\n<p>1309 rows × 5 columns</p>\n</div>"
     },
     "execution_count": 12,
     "metadata": {},
     "output_type": "execute_result"
    }
   ]
  },
  {
   "cell_type": "code",
   "execution_count": 13,
   "outputs": [],
   "source": [
    "filled_df['Spounce'] = 0\n",
    "females_with_sibsp = filled_df[(filled_df['Sex'] == 'female')\n",
    "                               & (filled_df['SibSp'] > 0)\n",
    "                               &  (filled_df['Title'] != 'Miss')].copy()\n",
    "males_with_sibsp = filled_df[(filled_df['Sex'] == 'male')\n",
    "                                & (filled_df['SibSp'] > 0)].copy()\n",
    "for a, row in females_with_sibsp.iterrows():\n",
    "    potential_husband = \\\n",
    "        males_with_sibsp[\n",
    "            (males_with_sibsp['Ticket'] == row['Ticket'])\n",
    "            & (males_with_sibsp['LastName'].str.split(' ').str[0] ==\n",
    "            row['LastName'].split(' ')[0])\n",
    "            & (males_with_sibsp['Title'] != 'Master')]\n",
    "    if len(potential_husband) > 0:\n",
    "        filled_df.loc[potential_husband.index, 'Spounce'] = 1\n",
    "        filled_df.loc[a, 'Spounce'] = 1\n",
    "# exceptions = ['Skoog, Mrs. William (Anna Bernhardina Karlsson)',\n",
    "#               'Skoog, Mr. Wilhelm',\n",
    "#               'Duff Gordon, Lady. (Lucille Christiana Sutherland) (\"Mrs '\n",
    "#               'Morgan\")',\n",
    "#               'Duff Gordon, Sir. Cosmo Edmund (\"Mr Morgan\")',\n",
    "#               'Faunthorpe, Mrs. Lizzie (Elizabeth Anne Wilkinson)',\n",
    "#               'Faunthorpe, Mr. Harry',\n",
    "#               'Nakid, Mr. Sahid',\n",
    "#               'Nakid, Mrs. Said (Waika Mary\" Mowad)\"',\n",
    "#               'Goodwin, Mrs. Frederick (Augusta Tyler)',\n",
    "#               'Goodwin, Mr. Charles Frederick',\n",
    "#               'Ware, Mr. John James',\n",
    "#               'Ware, Mrs. John James (Florence Louise Long)',\n",
    "#               'Crosby, Mrs. Edward Gifford (Catherine Elizabeth Halstead)',\n",
    "#               'Crosby, Capt. Edward Gifford'\n",
    "#               ]\n",
    "# exceptions_mask = filled_df['Name'].isin(exceptions)\n",
    "# filled_df.loc[exceptions_mask, 'Spounce'] = 1"
   ],
   "metadata": {
    "collapsed": false,
    "pycharm": {
     "name": "#%%\n"
    }
   }
  },
  {
   "cell_type": "code",
   "source": [
    "filled_df['Siblings'] = filled_df['SibSp'] - filled_df['Spounce']\n",
    "filled_df['Siblings']"
   ],
   "metadata": {
    "collapsed": false,
    "pycharm": {
     "name": "#%%\n"
    }
   },
   "execution_count": 14,
   "outputs": [
    {
     "data": {
      "text/plain": "PassengerId\n1       1\n2       0\n3       0\n4       0\n5       0\n       ..\n1305    0\n1306    0\n1307    0\n1308    0\n1309    1\nName: Siblings, Length: 1309, dtype: int64"
     },
     "execution_count": 14,
     "metadata": {},
     "output_type": "execute_result"
    }
   ]
  },
  {
   "cell_type": "code",
   "execution_count": 15,
   "outputs": [],
   "source": [
    "# filled_df.loc[filled_df['Name'] == 'Andersson, Miss. Erna Alexandra',\n",
    "#           ['SibSp', 'Siblings', 'Parch']] = 0\n",
    "# filled_df.loc[filled_df['Name'] == 'Ford, Mr. William Neal',\n",
    "#           ['SibSp', 'Siblings', 'Parch']] = [3, 3, 1]\n",
    "# filled_df.loc[filled_df['Name'] == 'Baxter, Mr. Quigg Edmond',\n",
    "#           ['SibSp', 'Siblings']] = 1\n",
    "# filled_df.loc[filled_df['Name'] == 'Ford, Mr. Edward Watson',\n",
    "#           ['SibSp', 'Siblings', 'Spounce', 'Parch',\n",
    "#            'Parents']] = [3, 3, 0, 1, 1]\n",
    "# filled_df.loc[filled_df['Name'] == 'Ware, Mr. William Jeffery',\n",
    "#           ['SibSp', 'Siblings']] = [0, 0]\n",
    "# filled_df.loc[filled_df['Name'] == 'Abbott, Master. Eugene Joseph',\n",
    "#           ['SibSp', 'Siblings', 'Parch']] = [1, 1, 1]\n",
    "# filled_df.loc[filled_df['Name'] == 'Ford, Miss. Robina Maggie \"Ruby\"',\n",
    "#           ['SibSp', 'Siblings', 'Parch']] = [3, 3, 1]\n",
    "# filled_df.loc[filled_df['Name'] == 'Natsch, Mr. Charles H',\n",
    "#           ['Parch']] = [0]\n",
    "# filled_df.loc[filled_df['Name'] == 'Abbott, Mrs. Stanton (Rosa Hunt)',\n",
    "#           ['SibSp', 'Siblings', 'Parch', 'Children']] = [0, 0, 2, 2]\n",
    "# filled_df.loc[filled_df['Name'] == 'Lahtinen, Mrs. William (Anna Sylfven)',\n",
    "#           ['SibSp', 'Siblings', 'Spounce', 'Parch']] = [2, 1, 1, 0]\n",
    "# filled_df.loc[filled_df['Name'] == 'Ware, Mrs. John James (Florence Louise Long)',\n",
    "#           ['SibSp', 'Siblings', 'Spounce', 'Parch']] = [1, 0, 1, 0,]\n",
    "# filled_df.loc[filled_df['Name'] == 'Lahtinen, Rev. William',\n",
    "#           ['Parch']] = [0]\n",
    "# filled_df.loc[filled_df['Name'] == 'Silven, Miss. Lyyli Karoliina',\n",
    "#           ['SibSp', 'Siblings', 'Parch']] = [1, 1, 0]\n",
    "# filled_df.loc[filled_df['Name'] == 'Ford, Miss. Doolina Margaret \"Daisy\"',\n",
    "#           ['SibSp', 'Siblings', 'Parch', 'Parents']] = [3, 3, 1, 1]\n",
    "# filled_df.loc[filled_df['Name'] == 'Ford, Mrs. Edward (Margaret Ann Watson)',\n",
    "#           ['Siblings', 'Spounce', 'Parch']] = [1, 0, 4]\n",
    "# filled_df.loc[filled_df['Name'] == 'Johnston, Mrs. Andrew G (Elizabeth Lily\" Watson)\"',\n",
    "#           ['SibSp', 'Siblings', 'Spounce']] = [2, 1, 1]\n",
    "# filled_df"
   ],
   "metadata": {
    "collapsed": false,
    "pycharm": {
     "name": "#%%\n"
    }
   }
  },
  {
   "cell_type": "markdown",
   "source": [
    "# Parents and children"
   ],
   "metadata": {
    "collapsed": false,
    "pycharm": {
     "name": "#%% md\n"
    }
   }
  },
  {
   "cell_type": "code",
   "execution_count": 16,
   "outputs": [],
   "source": [
    "def divide_in_parents_and_children(group):\n",
    "        parents_group = None\n",
    "        children_group = None\n",
    "\n",
    "        if group['Age'].isna().sum() == 0:\n",
    "            age_filled = True\n",
    "            max_age = group['Age'].max()\n",
    "            max_children_age = max_age - 12\n",
    "        else:\n",
    "            age_filled = False\n",
    "\n",
    "        if any(group['Spounce'] > 0):\n",
    "            spounce = True\n",
    "        else:\n",
    "            spounce = False\n",
    "        if spounce:\n",
    "            spounce_grouped = group.groupby(['Spounce'])\n",
    "            for name, spounce_group in spounce_grouped:\n",
    "                if all(spounce_group['Spounce'] == 1):\n",
    "                    parents_group = spounce_group\n",
    "                elif all(spounce_group['Spounce'] != 1):\n",
    "                    children_group = spounce_group\n",
    "        if children_group is None or parents_group is None:\n",
    "            if age_filled:\n",
    "                children_group = group[group['Age'] <= max_children_age]\n",
    "                parents_group = group[group['Age'] > max_children_age]\n",
    "            else:\n",
    "                parch_grouped = group.groupby(['Parch'])\n",
    "                for name, parch_group in parch_grouped:\n",
    "                    if all(parch_group['Title'].isin(['Dr', 'Mr', 'Mrs',\n",
    "                                                      'Capt'])):\n",
    "                        if parents_group is None:\n",
    "                            parents_group = parch_group\n",
    "                    elif all(parch_group['Title'].isin(['Miss', 'Mr', 'Master'])):\n",
    "                        if children_group is None:\n",
    "                            children_group = parch_group\n",
    "        return parents_group, children_group"
   ],
   "metadata": {
    "collapsed": false,
    "pycharm": {
     "name": "#%%\n"
    }
   }
  },
  {
   "cell_type": "code",
   "execution_count": 17,
   "outputs": [],
   "source": [
    "filled_parch = filled_df[filled_df['Parch'] > 0]\n",
    "filled_df['Parents'] = 0\n",
    "filled_df['Children'] = 0\n",
    "ticket_grouped = filled_parch.sort_values('Ticket').groupby(['Ticket'])\n",
    "for name, ticket_group in ticket_grouped:\n",
    "    parents_group, children_group = divide_in_parents_and_children(ticket_group)\n",
    "    if children_group is not None and parents_group is not None\\\n",
    "            and len(children_group) > 0 and len(parents_group) > 0:\n",
    "        filled_df.loc[parents_group.index, 'Children'] = parents_group['Parch']\n",
    "        filled_df.loc[children_group.index, 'Parents'] = children_group['Parch']"
   ],
   "metadata": {
    "collapsed": false,
    "pycharm": {
     "name": "#%%\n"
    }
   }
  },
  {
   "cell_type": "code",
   "source": [
    "incorrect_parch = filled_df[(filled_df['Children'] + filled_df['Parents']) !=\n",
    "            filled_df['Parch']]\n",
    "incorrect_parch.shape"
   ],
   "metadata": {
    "collapsed": false,
    "pycharm": {
     "name": "#%%\n"
    }
   },
   "execution_count": 18,
   "outputs": [
    {
     "data": {
      "text/plain": "(29, 24)"
     },
     "execution_count": 18,
     "metadata": {},
     "output_type": "execute_result"
    }
   ]
  },
  {
   "cell_type": "code",
   "execution_count": 19,
   "outputs": [],
   "source": [
    "name_grouped = incorrect_parch.sort_values('FirstName').groupby(['FirstName'])\n",
    "for name, name_group in name_grouped:\n",
    "    parents_group, children_group = divide_in_parents_and_children(name_group)\n",
    "    if children_group is not None and parents_group is not None\\\n",
    "            and len(children_group) > 0 and len(parents_group) > 0:\n",
    "        filled_df.loc[parents_group.index, 'Children'] = parents_group['Parch']\n",
    "        filled_df.loc[children_group.index, 'Parents'] = children_group['Parch']"
   ],
   "metadata": {
    "collapsed": false,
    "pycharm": {
     "name": "#%%\n"
    }
   }
  },
  {
   "cell_type": "code",
   "execution_count": 20,
   "outputs": [],
   "source": [
    "# filled_df.loc[filled_df['Name'] == 'Chibnall, Mrs. (Edith Martha Bowerman)',\n",
    "#           ['Children']] = [1]\n",
    "# filled_df.loc[filled_df['Name'] == 'Bowerman, Miss. Elsie Edith',\n",
    "#           ['Parents']] = [1]\n",
    "# filled_df.loc[filled_df['Name'] == 'Klasen, Mr. Klas Albin',\n",
    "#           ['Parents']] = [1]\n",
    "# filled_df.loc[filled_df['Name'] == 'Newsom, Miss. Helen Monypeny',\n",
    "#           ['Parents']] = [2]\n",
    "# filled_df.loc[filled_df['Name'] == 'Beckwith, Mr. Richard Leonard',\n",
    "#           ['Children']] = [1]\n",
    "# filled_df.loc[filled_df['Name'] == 'Beckwith, Mrs. Richard Leonard (Sallie Monypeny)',\n",
    "#           ['Children']] = [1]\n",
    "# filled_df.loc[filled_df['Name'] == 'Hocking, Mrs. Elizabeth (Eliza Needs)',\n",
    "#           ['Children']] = [3]\n",
    "# filled_df.loc[filled_df['Name'] == 'Hocking, Mr. Richard George',\n",
    "#           ['Parents']] = [1]\n",
    "# filled_df.loc[filled_df['Name'] == 'Hays, Mr. Charles Melville',\n",
    "#           ['Children']] = [1]\n",
    "# filled_df.loc[filled_df['Name'] == 'Hays, Mrs. Charles Melville (Clara Jennings Gregg)',\n",
    "#           ['Children']] = [1]\n",
    "# filled_df.loc[filled_df['Name'] == 'Davidson, Mrs. Thornton (Orian Hays)',\n",
    "#           ['Parents']] = [2]\n",
    "# filled_df.loc[filled_df['Name'] == 'Crosby, Mrs. Edward Gifford (Catherine Elizabeth Halstead)',\n",
    "#           ['Children']] = [1]\n",
    "# filled_df.loc[filled_df['Name'] == 'Frolicher, Miss. Hedwig Margaritha',\n",
    "#           ['Parents']] = [2]\n",
    "# filled_df.loc[filled_df['Name'] == 'Hiltunen, Miss. Marta',\n",
    "#           ['Parch']] = [0]\n",
    "# filled_df.loc[filled_df['Name'] == 'Andersson, Miss. Ida Augusta Margareta',\n",
    "#           ['Parch']] = [0]\n",
    "# filled_df.loc[filled_df['Name'] == 'Newell, Mr. Arthur Webster',\n",
    "#           ['Children']] = [2]\n",
    "# filled_df.loc[filled_df['Name'] == 'Jacobsohn, Mrs. Sidney Samuel (Amy Frances Christy)',\n",
    "#           ['Parents']] = [1]\n",
    "# filled_df[(filled_df['Children'] + filled_df['Parents']) !=\n",
    "#             filled_df['Parch']]"
   ],
   "metadata": {
    "collapsed": false,
    "pycharm": {
     "name": "#%%\n"
    }
   }
  },
  {
   "cell_type": "code",
   "execution_count": 21,
   "outputs": [
    {
     "data": {
      "text/plain": "             Survived  Pclass  \\\nPassengerId                     \n69                1.0       3   \n87                0.0       3   \n137               1.0       1   \n148               0.0       3   \n176               0.0       3   \n357               1.0       1   \n437               0.0       3   \n438               1.0       2   \n530               0.0       2   \n540               1.0       1   \n601               1.0       2   \n679               0.0       3   \n984               NaN       1   \n1031              NaN       3   \n1059              NaN       3   \n1106              NaN       3   \n1130              NaN       2   \n1284              NaN       3   \n1289              NaN       1   \n\n                                                          Name     Sex   Age  \\\nPassengerId                                                                    \n69                             Andersson, Miss. Erna Alexandra  female  17.0   \n87                                      Ford, Mr. William Neal    male  16.0   \n137                               Newsom, Miss. Helen Monypeny  female  19.0   \n148                           Ford, Miss. Robina Maggie \"Ruby\"  female   9.0   \n176                                     Klasen, Mr. Klas Albin    male  18.0   \n357                                Bowerman, Miss. Elsie Edith  female  22.0   \n437                       Ford, Miss. Doolina Margaret \"Daisy\"  female  21.0   \n438                      Richards, Mrs. Sidney (Emily Hocking)  female  24.0   \n530                                Hocking, Mr. Richard George    male  23.0   \n540                         Frolicher, Miss. Hedwig Margaritha  female  22.0   \n601          Jacobsohn, Mrs. Sidney Samuel (Amy Frances Chr...  female  24.0   \n679                    Goodwin, Mrs. Frederick (Augusta Tyler)  female  43.0   \n984                       Davidson, Mrs. Thornton (Orian Hays)  female  27.0   \n1031                            Goodwin, Mr. Charles Frederick    male  40.0   \n1059                                   Ford, Mr. Edward Watson    male  18.0   \n1106                    Andersson, Miss. Ida Augusta Margareta  female  38.0   \n1130                                     Hiltunen, Miss. Marta  female  18.0   \n1284                             Abbott, Master. Eugene Joseph    male  13.0   \n1289         Frolicher-Stehli, Mrs. Maxmillian (Margaretha ...  female  48.0   \n\n             SibSp  Parch      Ticket     Fare Cabin Embarked  ManualParents  \\\nPassengerId                                                                    \n69               4      2     3101281   7.9250   NaN        S              0   \n87               1      3  W./C. 6608  34.3750   NaN        S              1   \n137              0      2       11752  26.2833   D47        S              2   \n148              2      2  W./C. 6608  34.3750   NaN        S              1   \n176              1      1      350404   7.8542   NaN        S              1   \n357              0      1      113505  55.0000   E33        S              1   \n437              2      2  W./C. 6608  34.3750   NaN        S              1   \n438              2      3       29106  18.7500   NaN        S              1   \n530              2      1       29104  11.5000   NaN        S              1   \n540              0      2       13568  49.5000   B39        C              2   \n601              2      1      243847  27.0000   NaN        S              1   \n679              1      6     CA 2144  46.9000   NaN        S              6   \n984              1      2  F.C. 12750  52.0000   B71        S              2   \n1031             1      6     CA 2144  46.9000   NaN        S              6   \n1059             2      2  W./C. 6608  34.3750   NaN        S              1   \n1106             4      2      347091   7.7750   NaN        S              2   \n1130             1      1      250650  13.0000   NaN        S              1   \n1284             0      2   C.A. 2673  20.2500   NaN        S              1   \n1289             1      1       13567  79.2000   B41        C              0   \n\n             ManualChildren  PassengersCount  FarePerPassenger  ZeroPrice  \\\nPassengerId                                                                 \n69                        0                1            7.9250          0   \n87                        0                5            6.8750          0   \n137                       0                1           26.2833          0   \n148                       0                5            6.8750          0   \n176                       0                1            7.8542          0   \n357                       0                2           27.5000          0   \n437                       0                5            6.8750          0   \n438                       2                3            6.2500          0   \n530                       0                1           11.5000          0   \n540                       0                1           49.5000          0   \n601                       0                2           13.5000          0   \n679                       0                8            5.8625          0   \n984                       0                2           26.0000          0   \n1031                      0                8            5.8625          0   \n1059                      0                5            6.8750          0   \n1106                      0                1            7.7750          0   \n1130                      0                1           13.0000          0   \n1284                      0                3            6.7500          0   \n1289                      1                2           39.6000          0   \n\n                    FirstName                  LastName  \\\nPassengerId                                               \n69                  Andersson            Erna Alexandra   \n87                       Ford              William Neal   \n137                    Newsom            Helen Monypeny   \n148                      Ford      Robina Maggie \"Ruby\"   \n176                    Klasen                Klas Albin   \n357                  Bowerman               Elsie Edith   \n437                      Ford  Doolina Margaret \"Daisy\"   \n438                  Richards                    Sidney   \n530                   Hocking            Richard George   \n540                 Frolicher         Hedwig Margaritha   \n601                 Jacobsohn             Sidney Samuel   \n679                   Goodwin                 Frederick   \n984                  Davidson                  Thornton   \n1031                  Goodwin         Charles Frederick   \n1059                     Ford             Edward Watson   \n1106                Andersson     Ida Augusta Margareta   \n1130                 Hiltunen                     Marta   \n1284                   Abbott             Eugene Joseph   \n1289         Frolicher-Stehli                Maxmillian   \n\n                              MaidenName   Title  Spounce  Siblings  Parents  \\\nPassengerId                                                                    \n69                                   NaN    Miss        0         4        2   \n87                                   NaN      Mr        0         1        3   \n137                                  NaN    Miss        0         0        0   \n148                                  NaN    Miss        0         2        2   \n176                                  NaN      Mr        0         1        0   \n357                                  NaN    Miss        0         0        0   \n437                                  NaN    Miss        0         2        2   \n438                        Emily Hocking     Mrs        0         2        0   \n530                                  NaN      Mr        0         2        0   \n540                                  NaN    Miss        0         0        0   \n601                  Amy Frances Christy     Mrs        1         1        0   \n679                        Augusta Tyler     Mrs        0         1        0   \n984                           Orian Hays     Mrs        1         0        0   \n1031                                 NaN      Mr        0         1        0   \n1059                                 NaN      Mr        1         1        0   \n1106                                 NaN    Miss        0         4        0   \n1130                                 NaN    Miss        0         1        0   \n1284                                 NaN  Master        0         0        2   \n1289         Margaretha Emerentia Stehli     Mrs        1         0        1   \n\n             Children  \nPassengerId            \n69                  0  \n87                  0  \n137                 0  \n148                 0  \n176                 0  \n357                 0  \n437                 0  \n438                 3  \n530                 0  \n540                 0  \n601                 0  \n679                 6  \n984                 0  \n1031                6  \n1059                2  \n1106                2  \n1130                0  \n1284                0  \n1289                0  ",
      "text/html": "<div>\n<style scoped>\n    .dataframe tbody tr th:only-of-type {\n        vertical-align: middle;\n    }\n\n    .dataframe tbody tr th {\n        vertical-align: top;\n    }\n\n    .dataframe thead th {\n        text-align: right;\n    }\n</style>\n<table border=\"1\" class=\"dataframe\">\n  <thead>\n    <tr style=\"text-align: right;\">\n      <th></th>\n      <th>Survived</th>\n      <th>Pclass</th>\n      <th>Name</th>\n      <th>Sex</th>\n      <th>Age</th>\n      <th>SibSp</th>\n      <th>Parch</th>\n      <th>Ticket</th>\n      <th>Fare</th>\n      <th>Cabin</th>\n      <th>Embarked</th>\n      <th>ManualParents</th>\n      <th>ManualChildren</th>\n      <th>PassengersCount</th>\n      <th>FarePerPassenger</th>\n      <th>ZeroPrice</th>\n      <th>FirstName</th>\n      <th>LastName</th>\n      <th>MaidenName</th>\n      <th>Title</th>\n      <th>Spounce</th>\n      <th>Siblings</th>\n      <th>Parents</th>\n      <th>Children</th>\n    </tr>\n    <tr>\n      <th>PassengerId</th>\n      <th></th>\n      <th></th>\n      <th></th>\n      <th></th>\n      <th></th>\n      <th></th>\n      <th></th>\n      <th></th>\n      <th></th>\n      <th></th>\n      <th></th>\n      <th></th>\n      <th></th>\n      <th></th>\n      <th></th>\n      <th></th>\n      <th></th>\n      <th></th>\n      <th></th>\n      <th></th>\n      <th></th>\n      <th></th>\n      <th></th>\n      <th></th>\n    </tr>\n  </thead>\n  <tbody>\n    <tr>\n      <th>69</th>\n      <td>1.0</td>\n      <td>3</td>\n      <td>Andersson, Miss. Erna Alexandra</td>\n      <td>female</td>\n      <td>17.0</td>\n      <td>4</td>\n      <td>2</td>\n      <td>3101281</td>\n      <td>7.9250</td>\n      <td>NaN</td>\n      <td>S</td>\n      <td>0</td>\n      <td>0</td>\n      <td>1</td>\n      <td>7.9250</td>\n      <td>0</td>\n      <td>Andersson</td>\n      <td>Erna Alexandra</td>\n      <td>NaN</td>\n      <td>Miss</td>\n      <td>0</td>\n      <td>4</td>\n      <td>2</td>\n      <td>0</td>\n    </tr>\n    <tr>\n      <th>87</th>\n      <td>0.0</td>\n      <td>3</td>\n      <td>Ford, Mr. William Neal</td>\n      <td>male</td>\n      <td>16.0</td>\n      <td>1</td>\n      <td>3</td>\n      <td>W./C. 6608</td>\n      <td>34.3750</td>\n      <td>NaN</td>\n      <td>S</td>\n      <td>1</td>\n      <td>0</td>\n      <td>5</td>\n      <td>6.8750</td>\n      <td>0</td>\n      <td>Ford</td>\n      <td>William Neal</td>\n      <td>NaN</td>\n      <td>Mr</td>\n      <td>0</td>\n      <td>1</td>\n      <td>3</td>\n      <td>0</td>\n    </tr>\n    <tr>\n      <th>137</th>\n      <td>1.0</td>\n      <td>1</td>\n      <td>Newsom, Miss. Helen Monypeny</td>\n      <td>female</td>\n      <td>19.0</td>\n      <td>0</td>\n      <td>2</td>\n      <td>11752</td>\n      <td>26.2833</td>\n      <td>D47</td>\n      <td>S</td>\n      <td>2</td>\n      <td>0</td>\n      <td>1</td>\n      <td>26.2833</td>\n      <td>0</td>\n      <td>Newsom</td>\n      <td>Helen Monypeny</td>\n      <td>NaN</td>\n      <td>Miss</td>\n      <td>0</td>\n      <td>0</td>\n      <td>0</td>\n      <td>0</td>\n    </tr>\n    <tr>\n      <th>148</th>\n      <td>0.0</td>\n      <td>3</td>\n      <td>Ford, Miss. Robina Maggie \"Ruby\"</td>\n      <td>female</td>\n      <td>9.0</td>\n      <td>2</td>\n      <td>2</td>\n      <td>W./C. 6608</td>\n      <td>34.3750</td>\n      <td>NaN</td>\n      <td>S</td>\n      <td>1</td>\n      <td>0</td>\n      <td>5</td>\n      <td>6.8750</td>\n      <td>0</td>\n      <td>Ford</td>\n      <td>Robina Maggie \"Ruby\"</td>\n      <td>NaN</td>\n      <td>Miss</td>\n      <td>0</td>\n      <td>2</td>\n      <td>2</td>\n      <td>0</td>\n    </tr>\n    <tr>\n      <th>176</th>\n      <td>0.0</td>\n      <td>3</td>\n      <td>Klasen, Mr. Klas Albin</td>\n      <td>male</td>\n      <td>18.0</td>\n      <td>1</td>\n      <td>1</td>\n      <td>350404</td>\n      <td>7.8542</td>\n      <td>NaN</td>\n      <td>S</td>\n      <td>1</td>\n      <td>0</td>\n      <td>1</td>\n      <td>7.8542</td>\n      <td>0</td>\n      <td>Klasen</td>\n      <td>Klas Albin</td>\n      <td>NaN</td>\n      <td>Mr</td>\n      <td>0</td>\n      <td>1</td>\n      <td>0</td>\n      <td>0</td>\n    </tr>\n    <tr>\n      <th>357</th>\n      <td>1.0</td>\n      <td>1</td>\n      <td>Bowerman, Miss. Elsie Edith</td>\n      <td>female</td>\n      <td>22.0</td>\n      <td>0</td>\n      <td>1</td>\n      <td>113505</td>\n      <td>55.0000</td>\n      <td>E33</td>\n      <td>S</td>\n      <td>1</td>\n      <td>0</td>\n      <td>2</td>\n      <td>27.5000</td>\n      <td>0</td>\n      <td>Bowerman</td>\n      <td>Elsie Edith</td>\n      <td>NaN</td>\n      <td>Miss</td>\n      <td>0</td>\n      <td>0</td>\n      <td>0</td>\n      <td>0</td>\n    </tr>\n    <tr>\n      <th>437</th>\n      <td>0.0</td>\n      <td>3</td>\n      <td>Ford, Miss. Doolina Margaret \"Daisy\"</td>\n      <td>female</td>\n      <td>21.0</td>\n      <td>2</td>\n      <td>2</td>\n      <td>W./C. 6608</td>\n      <td>34.3750</td>\n      <td>NaN</td>\n      <td>S</td>\n      <td>1</td>\n      <td>0</td>\n      <td>5</td>\n      <td>6.8750</td>\n      <td>0</td>\n      <td>Ford</td>\n      <td>Doolina Margaret \"Daisy\"</td>\n      <td>NaN</td>\n      <td>Miss</td>\n      <td>0</td>\n      <td>2</td>\n      <td>2</td>\n      <td>0</td>\n    </tr>\n    <tr>\n      <th>438</th>\n      <td>1.0</td>\n      <td>2</td>\n      <td>Richards, Mrs. Sidney (Emily Hocking)</td>\n      <td>female</td>\n      <td>24.0</td>\n      <td>2</td>\n      <td>3</td>\n      <td>29106</td>\n      <td>18.7500</td>\n      <td>NaN</td>\n      <td>S</td>\n      <td>1</td>\n      <td>2</td>\n      <td>3</td>\n      <td>6.2500</td>\n      <td>0</td>\n      <td>Richards</td>\n      <td>Sidney</td>\n      <td>Emily Hocking</td>\n      <td>Mrs</td>\n      <td>0</td>\n      <td>2</td>\n      <td>0</td>\n      <td>3</td>\n    </tr>\n    <tr>\n      <th>530</th>\n      <td>0.0</td>\n      <td>2</td>\n      <td>Hocking, Mr. Richard George</td>\n      <td>male</td>\n      <td>23.0</td>\n      <td>2</td>\n      <td>1</td>\n      <td>29104</td>\n      <td>11.5000</td>\n      <td>NaN</td>\n      <td>S</td>\n      <td>1</td>\n      <td>0</td>\n      <td>1</td>\n      <td>11.5000</td>\n      <td>0</td>\n      <td>Hocking</td>\n      <td>Richard George</td>\n      <td>NaN</td>\n      <td>Mr</td>\n      <td>0</td>\n      <td>2</td>\n      <td>0</td>\n      <td>0</td>\n    </tr>\n    <tr>\n      <th>540</th>\n      <td>1.0</td>\n      <td>1</td>\n      <td>Frolicher, Miss. Hedwig Margaritha</td>\n      <td>female</td>\n      <td>22.0</td>\n      <td>0</td>\n      <td>2</td>\n      <td>13568</td>\n      <td>49.5000</td>\n      <td>B39</td>\n      <td>C</td>\n      <td>2</td>\n      <td>0</td>\n      <td>1</td>\n      <td>49.5000</td>\n      <td>0</td>\n      <td>Frolicher</td>\n      <td>Hedwig Margaritha</td>\n      <td>NaN</td>\n      <td>Miss</td>\n      <td>0</td>\n      <td>0</td>\n      <td>0</td>\n      <td>0</td>\n    </tr>\n    <tr>\n      <th>601</th>\n      <td>1.0</td>\n      <td>2</td>\n      <td>Jacobsohn, Mrs. Sidney Samuel (Amy Frances Chr...</td>\n      <td>female</td>\n      <td>24.0</td>\n      <td>2</td>\n      <td>1</td>\n      <td>243847</td>\n      <td>27.0000</td>\n      <td>NaN</td>\n      <td>S</td>\n      <td>1</td>\n      <td>0</td>\n      <td>2</td>\n      <td>13.5000</td>\n      <td>0</td>\n      <td>Jacobsohn</td>\n      <td>Sidney Samuel</td>\n      <td>Amy Frances Christy</td>\n      <td>Mrs</td>\n      <td>1</td>\n      <td>1</td>\n      <td>0</td>\n      <td>0</td>\n    </tr>\n    <tr>\n      <th>679</th>\n      <td>0.0</td>\n      <td>3</td>\n      <td>Goodwin, Mrs. Frederick (Augusta Tyler)</td>\n      <td>female</td>\n      <td>43.0</td>\n      <td>1</td>\n      <td>6</td>\n      <td>CA 2144</td>\n      <td>46.9000</td>\n      <td>NaN</td>\n      <td>S</td>\n      <td>6</td>\n      <td>0</td>\n      <td>8</td>\n      <td>5.8625</td>\n      <td>0</td>\n      <td>Goodwin</td>\n      <td>Frederick</td>\n      <td>Augusta Tyler</td>\n      <td>Mrs</td>\n      <td>0</td>\n      <td>1</td>\n      <td>0</td>\n      <td>6</td>\n    </tr>\n    <tr>\n      <th>984</th>\n      <td>NaN</td>\n      <td>1</td>\n      <td>Davidson, Mrs. Thornton (Orian Hays)</td>\n      <td>female</td>\n      <td>27.0</td>\n      <td>1</td>\n      <td>2</td>\n      <td>F.C. 12750</td>\n      <td>52.0000</td>\n      <td>B71</td>\n      <td>S</td>\n      <td>2</td>\n      <td>0</td>\n      <td>2</td>\n      <td>26.0000</td>\n      <td>0</td>\n      <td>Davidson</td>\n      <td>Thornton</td>\n      <td>Orian Hays</td>\n      <td>Mrs</td>\n      <td>1</td>\n      <td>0</td>\n      <td>0</td>\n      <td>0</td>\n    </tr>\n    <tr>\n      <th>1031</th>\n      <td>NaN</td>\n      <td>3</td>\n      <td>Goodwin, Mr. Charles Frederick</td>\n      <td>male</td>\n      <td>40.0</td>\n      <td>1</td>\n      <td>6</td>\n      <td>CA 2144</td>\n      <td>46.9000</td>\n      <td>NaN</td>\n      <td>S</td>\n      <td>6</td>\n      <td>0</td>\n      <td>8</td>\n      <td>5.8625</td>\n      <td>0</td>\n      <td>Goodwin</td>\n      <td>Charles Frederick</td>\n      <td>NaN</td>\n      <td>Mr</td>\n      <td>0</td>\n      <td>1</td>\n      <td>0</td>\n      <td>6</td>\n    </tr>\n    <tr>\n      <th>1059</th>\n      <td>NaN</td>\n      <td>3</td>\n      <td>Ford, Mr. Edward Watson</td>\n      <td>male</td>\n      <td>18.0</td>\n      <td>2</td>\n      <td>2</td>\n      <td>W./C. 6608</td>\n      <td>34.3750</td>\n      <td>NaN</td>\n      <td>S</td>\n      <td>1</td>\n      <td>0</td>\n      <td>5</td>\n      <td>6.8750</td>\n      <td>0</td>\n      <td>Ford</td>\n      <td>Edward Watson</td>\n      <td>NaN</td>\n      <td>Mr</td>\n      <td>1</td>\n      <td>1</td>\n      <td>0</td>\n      <td>2</td>\n    </tr>\n    <tr>\n      <th>1106</th>\n      <td>NaN</td>\n      <td>3</td>\n      <td>Andersson, Miss. Ida Augusta Margareta</td>\n      <td>female</td>\n      <td>38.0</td>\n      <td>4</td>\n      <td>2</td>\n      <td>347091</td>\n      <td>7.7750</td>\n      <td>NaN</td>\n      <td>S</td>\n      <td>2</td>\n      <td>0</td>\n      <td>1</td>\n      <td>7.7750</td>\n      <td>0</td>\n      <td>Andersson</td>\n      <td>Ida Augusta Margareta</td>\n      <td>NaN</td>\n      <td>Miss</td>\n      <td>0</td>\n      <td>4</td>\n      <td>0</td>\n      <td>2</td>\n    </tr>\n    <tr>\n      <th>1130</th>\n      <td>NaN</td>\n      <td>2</td>\n      <td>Hiltunen, Miss. Marta</td>\n      <td>female</td>\n      <td>18.0</td>\n      <td>1</td>\n      <td>1</td>\n      <td>250650</td>\n      <td>13.0000</td>\n      <td>NaN</td>\n      <td>S</td>\n      <td>1</td>\n      <td>0</td>\n      <td>1</td>\n      <td>13.0000</td>\n      <td>0</td>\n      <td>Hiltunen</td>\n      <td>Marta</td>\n      <td>NaN</td>\n      <td>Miss</td>\n      <td>0</td>\n      <td>1</td>\n      <td>0</td>\n      <td>0</td>\n    </tr>\n    <tr>\n      <th>1284</th>\n      <td>NaN</td>\n      <td>3</td>\n      <td>Abbott, Master. Eugene Joseph</td>\n      <td>male</td>\n      <td>13.0</td>\n      <td>0</td>\n      <td>2</td>\n      <td>C.A. 2673</td>\n      <td>20.2500</td>\n      <td>NaN</td>\n      <td>S</td>\n      <td>1</td>\n      <td>0</td>\n      <td>3</td>\n      <td>6.7500</td>\n      <td>0</td>\n      <td>Abbott</td>\n      <td>Eugene Joseph</td>\n      <td>NaN</td>\n      <td>Master</td>\n      <td>0</td>\n      <td>0</td>\n      <td>2</td>\n      <td>0</td>\n    </tr>\n    <tr>\n      <th>1289</th>\n      <td>NaN</td>\n      <td>1</td>\n      <td>Frolicher-Stehli, Mrs. Maxmillian (Margaretha ...</td>\n      <td>female</td>\n      <td>48.0</td>\n      <td>1</td>\n      <td>1</td>\n      <td>13567</td>\n      <td>79.2000</td>\n      <td>B41</td>\n      <td>C</td>\n      <td>0</td>\n      <td>1</td>\n      <td>2</td>\n      <td>39.6000</td>\n      <td>0</td>\n      <td>Frolicher-Stehli</td>\n      <td>Maxmillian</td>\n      <td>Margaretha Emerentia Stehli</td>\n      <td>Mrs</td>\n      <td>1</td>\n      <td>0</td>\n      <td>1</td>\n      <td>0</td>\n    </tr>\n  </tbody>\n</table>\n</div>"
     },
     "execution_count": 21,
     "metadata": {},
     "output_type": "execute_result"
    }
   ],
   "source": [
    "filled_df[(filled_df['ManualParents'] != filled_df['Parents'])]"
   ],
   "metadata": {
    "collapsed": false,
    "pycharm": {
     "name": "#%%\n"
    }
   }
  },
  {
   "cell_type": "code",
   "execution_count": 22,
   "outputs": [
    {
     "data": {
      "text/plain": "             Survived  Pclass  \\\nPassengerId                     \n167               1.0       1   \n249               1.0       1   \n280               1.0       3   \n438               1.0       2   \n660               0.0       1   \n679               0.0       3   \n737               0.0       3   \n821               1.0       1   \n872               1.0       1   \n1031              NaN       3   \n1059              NaN       3   \n1106              NaN       3   \n1197              NaN       1   \n1200              NaN       1   \n1289              NaN       1   \n\n                                                          Name     Sex   Age  \\\nPassengerId                                                                    \n167                     Chibnall, Mrs. (Edith Martha Bowerman)  female   NaN   \n249                              Beckwith, Mr. Richard Leonard    male  37.0   \n280                           Abbott, Mrs. Stanton (Rosa Hunt)  female  35.0   \n438                      Richards, Mrs. Sidney (Emily Hocking)  female  24.0   \n660                                 Newell, Mr. Arthur Webster    male  58.0   \n679                    Goodwin, Mrs. Frederick (Augusta Tyler)  female  43.0   \n737                    Ford, Mrs. Edward (Margaret Ann Watson)  female  48.0   \n821          Hays, Mrs. Charles Melville (Clara Jennings Gr...  female  52.0   \n872           Beckwith, Mrs. Richard Leonard (Sallie Monypeny)  female  47.0   \n1031                            Goodwin, Mr. Charles Frederick    male  40.0   \n1059                                   Ford, Mr. Edward Watson    male  18.0   \n1106                    Andersson, Miss. Ida Augusta Margareta  female  38.0   \n1197         Crosby, Mrs. Edward Gifford (Catherine Elizabe...  female  64.0   \n1200                                Hays, Mr. Charles Melville    male  55.0   \n1289         Frolicher-Stehli, Mrs. Maxmillian (Margaretha ...  female  48.0   \n\n             SibSp  Parch      Ticket      Fare Cabin Embarked  ManualParents  \\\nPassengerId                                                                     \n167              0      1      113505   55.0000   E33        S              0   \n249              1      1       11751   52.5542   D35        S              0   \n280              1      1   C.A. 2673   20.2500   NaN        S              0   \n438              2      3       29106   18.7500   NaN        S              1   \n660              0      2       35273  113.2750   D48        C              0   \n679              1      6     CA 2144   46.9000   NaN        S              6   \n737              1      3  W./C. 6608   34.3750   NaN        S              0   \n821              1      1       12749   93.5000   B69        S              0   \n872              1      1       11751   52.5542   D35        S              0   \n1031             1      6     CA 2144   46.9000   NaN        S              6   \n1059             2      2  W./C. 6608   34.3750   NaN        S              1   \n1106             4      2      347091    7.7750   NaN        S              2   \n1197             1      1      112901   26.5500   B26        S              0   \n1200             1      1       12749   93.5000   B69        S              0   \n1289             1      1       13567   79.2000   B41        C              0   \n\n             ManualChildren  PassengersCount  FarePerPassenger  ZeroPrice  \\\nPassengerId                                                                 \n167                       1                2         27.500000          0   \n249                       1                2         26.277100          0   \n280                       2                3          6.750000          0   \n438                       2                3          6.250000          0   \n660                       2                3         37.758333          0   \n679                       0                8          5.862500          0   \n737                       4                5          6.875000          0   \n821                       1                4         23.375000          0   \n872                       1                2         26.277100          0   \n1031                      0                8          5.862500          0   \n1059                      0                5          6.875000          0   \n1106                      0                1          7.775000          0   \n1197                      1                1         26.550000          0   \n1200                      1                4         23.375000          0   \n1289                      1                2         39.600000          0   \n\n                    FirstName               LastName  \\\nPassengerId                                            \n167                  Chibnall                          \n249                  Beckwith        Richard Leonard   \n280                    Abbott                Stanton   \n438                  Richards                 Sidney   \n660                    Newell         Arthur Webster   \n679                   Goodwin              Frederick   \n737                      Ford                 Edward   \n821                      Hays       Charles Melville   \n872                  Beckwith        Richard Leonard   \n1031                  Goodwin      Charles Frederick   \n1059                     Ford          Edward Watson   \n1106                Andersson  Ida Augusta Margareta   \n1197                   Crosby         Edward Gifford   \n1200                     Hays       Charles Melville   \n1289         Frolicher-Stehli             Maxmillian   \n\n                               MaidenName Title  Spounce  Siblings  Parents  \\\nPassengerId                                                                   \n167                 Edith Martha Bowerman   Mrs        0         0        0   \n249                                   NaN    Mr        1         0        0   \n280                             Rosa Hunt   Mrs        0         1        0   \n438                         Emily Hocking   Mrs        0         2        0   \n660                                   NaN    Mr        0         0        0   \n679                         Augusta Tyler   Mrs        0         1        0   \n737                   Margaret Ann Watson   Mrs        1         0        0   \n821                  Clara Jennings Gregg   Mrs        1         0        0   \n872                       Sallie Monypeny   Mrs        1         0        0   \n1031                                  NaN    Mr        0         1        0   \n1059                                  NaN    Mr        1         1        0   \n1106                                  NaN  Miss        0         4        0   \n1197         Catherine Elizabeth Halstead   Mrs        0         1        0   \n1200                                  NaN    Mr        1         0        0   \n1289          Margaretha Emerentia Stehli   Mrs        1         0        1   \n\n             Children  \nPassengerId            \n167                 0  \n249                 0  \n280                 1  \n438                 3  \n660                 0  \n679                 6  \n737                 3  \n821                 0  \n872                 0  \n1031                6  \n1059                2  \n1106                2  \n1197                0  \n1200                0  \n1289                0  ",
      "text/html": "<div>\n<style scoped>\n    .dataframe tbody tr th:only-of-type {\n        vertical-align: middle;\n    }\n\n    .dataframe tbody tr th {\n        vertical-align: top;\n    }\n\n    .dataframe thead th {\n        text-align: right;\n    }\n</style>\n<table border=\"1\" class=\"dataframe\">\n  <thead>\n    <tr style=\"text-align: right;\">\n      <th></th>\n      <th>Survived</th>\n      <th>Pclass</th>\n      <th>Name</th>\n      <th>Sex</th>\n      <th>Age</th>\n      <th>SibSp</th>\n      <th>Parch</th>\n      <th>Ticket</th>\n      <th>Fare</th>\n      <th>Cabin</th>\n      <th>Embarked</th>\n      <th>ManualParents</th>\n      <th>ManualChildren</th>\n      <th>PassengersCount</th>\n      <th>FarePerPassenger</th>\n      <th>ZeroPrice</th>\n      <th>FirstName</th>\n      <th>LastName</th>\n      <th>MaidenName</th>\n      <th>Title</th>\n      <th>Spounce</th>\n      <th>Siblings</th>\n      <th>Parents</th>\n      <th>Children</th>\n    </tr>\n    <tr>\n      <th>PassengerId</th>\n      <th></th>\n      <th></th>\n      <th></th>\n      <th></th>\n      <th></th>\n      <th></th>\n      <th></th>\n      <th></th>\n      <th></th>\n      <th></th>\n      <th></th>\n      <th></th>\n      <th></th>\n      <th></th>\n      <th></th>\n      <th></th>\n      <th></th>\n      <th></th>\n      <th></th>\n      <th></th>\n      <th></th>\n      <th></th>\n      <th></th>\n      <th></th>\n    </tr>\n  </thead>\n  <tbody>\n    <tr>\n      <th>167</th>\n      <td>1.0</td>\n      <td>1</td>\n      <td>Chibnall, Mrs. (Edith Martha Bowerman)</td>\n      <td>female</td>\n      <td>NaN</td>\n      <td>0</td>\n      <td>1</td>\n      <td>113505</td>\n      <td>55.0000</td>\n      <td>E33</td>\n      <td>S</td>\n      <td>0</td>\n      <td>1</td>\n      <td>2</td>\n      <td>27.500000</td>\n      <td>0</td>\n      <td>Chibnall</td>\n      <td></td>\n      <td>Edith Martha Bowerman</td>\n      <td>Mrs</td>\n      <td>0</td>\n      <td>0</td>\n      <td>0</td>\n      <td>0</td>\n    </tr>\n    <tr>\n      <th>249</th>\n      <td>1.0</td>\n      <td>1</td>\n      <td>Beckwith, Mr. Richard Leonard</td>\n      <td>male</td>\n      <td>37.0</td>\n      <td>1</td>\n      <td>1</td>\n      <td>11751</td>\n      <td>52.5542</td>\n      <td>D35</td>\n      <td>S</td>\n      <td>0</td>\n      <td>1</td>\n      <td>2</td>\n      <td>26.277100</td>\n      <td>0</td>\n      <td>Beckwith</td>\n      <td>Richard Leonard</td>\n      <td>NaN</td>\n      <td>Mr</td>\n      <td>1</td>\n      <td>0</td>\n      <td>0</td>\n      <td>0</td>\n    </tr>\n    <tr>\n      <th>280</th>\n      <td>1.0</td>\n      <td>3</td>\n      <td>Abbott, Mrs. Stanton (Rosa Hunt)</td>\n      <td>female</td>\n      <td>35.0</td>\n      <td>1</td>\n      <td>1</td>\n      <td>C.A. 2673</td>\n      <td>20.2500</td>\n      <td>NaN</td>\n      <td>S</td>\n      <td>0</td>\n      <td>2</td>\n      <td>3</td>\n      <td>6.750000</td>\n      <td>0</td>\n      <td>Abbott</td>\n      <td>Stanton</td>\n      <td>Rosa Hunt</td>\n      <td>Mrs</td>\n      <td>0</td>\n      <td>1</td>\n      <td>0</td>\n      <td>1</td>\n    </tr>\n    <tr>\n      <th>438</th>\n      <td>1.0</td>\n      <td>2</td>\n      <td>Richards, Mrs. Sidney (Emily Hocking)</td>\n      <td>female</td>\n      <td>24.0</td>\n      <td>2</td>\n      <td>3</td>\n      <td>29106</td>\n      <td>18.7500</td>\n      <td>NaN</td>\n      <td>S</td>\n      <td>1</td>\n      <td>2</td>\n      <td>3</td>\n      <td>6.250000</td>\n      <td>0</td>\n      <td>Richards</td>\n      <td>Sidney</td>\n      <td>Emily Hocking</td>\n      <td>Mrs</td>\n      <td>0</td>\n      <td>2</td>\n      <td>0</td>\n      <td>3</td>\n    </tr>\n    <tr>\n      <th>660</th>\n      <td>0.0</td>\n      <td>1</td>\n      <td>Newell, Mr. Arthur Webster</td>\n      <td>male</td>\n      <td>58.0</td>\n      <td>0</td>\n      <td>2</td>\n      <td>35273</td>\n      <td>113.2750</td>\n      <td>D48</td>\n      <td>C</td>\n      <td>0</td>\n      <td>2</td>\n      <td>3</td>\n      <td>37.758333</td>\n      <td>0</td>\n      <td>Newell</td>\n      <td>Arthur Webster</td>\n      <td>NaN</td>\n      <td>Mr</td>\n      <td>0</td>\n      <td>0</td>\n      <td>0</td>\n      <td>0</td>\n    </tr>\n    <tr>\n      <th>679</th>\n      <td>0.0</td>\n      <td>3</td>\n      <td>Goodwin, Mrs. Frederick (Augusta Tyler)</td>\n      <td>female</td>\n      <td>43.0</td>\n      <td>1</td>\n      <td>6</td>\n      <td>CA 2144</td>\n      <td>46.9000</td>\n      <td>NaN</td>\n      <td>S</td>\n      <td>6</td>\n      <td>0</td>\n      <td>8</td>\n      <td>5.862500</td>\n      <td>0</td>\n      <td>Goodwin</td>\n      <td>Frederick</td>\n      <td>Augusta Tyler</td>\n      <td>Mrs</td>\n      <td>0</td>\n      <td>1</td>\n      <td>0</td>\n      <td>6</td>\n    </tr>\n    <tr>\n      <th>737</th>\n      <td>0.0</td>\n      <td>3</td>\n      <td>Ford, Mrs. Edward (Margaret Ann Watson)</td>\n      <td>female</td>\n      <td>48.0</td>\n      <td>1</td>\n      <td>3</td>\n      <td>W./C. 6608</td>\n      <td>34.3750</td>\n      <td>NaN</td>\n      <td>S</td>\n      <td>0</td>\n      <td>4</td>\n      <td>5</td>\n      <td>6.875000</td>\n      <td>0</td>\n      <td>Ford</td>\n      <td>Edward</td>\n      <td>Margaret Ann Watson</td>\n      <td>Mrs</td>\n      <td>1</td>\n      <td>0</td>\n      <td>0</td>\n      <td>3</td>\n    </tr>\n    <tr>\n      <th>821</th>\n      <td>1.0</td>\n      <td>1</td>\n      <td>Hays, Mrs. Charles Melville (Clara Jennings Gr...</td>\n      <td>female</td>\n      <td>52.0</td>\n      <td>1</td>\n      <td>1</td>\n      <td>12749</td>\n      <td>93.5000</td>\n      <td>B69</td>\n      <td>S</td>\n      <td>0</td>\n      <td>1</td>\n      <td>4</td>\n      <td>23.375000</td>\n      <td>0</td>\n      <td>Hays</td>\n      <td>Charles Melville</td>\n      <td>Clara Jennings Gregg</td>\n      <td>Mrs</td>\n      <td>1</td>\n      <td>0</td>\n      <td>0</td>\n      <td>0</td>\n    </tr>\n    <tr>\n      <th>872</th>\n      <td>1.0</td>\n      <td>1</td>\n      <td>Beckwith, Mrs. Richard Leonard (Sallie Monypeny)</td>\n      <td>female</td>\n      <td>47.0</td>\n      <td>1</td>\n      <td>1</td>\n      <td>11751</td>\n      <td>52.5542</td>\n      <td>D35</td>\n      <td>S</td>\n      <td>0</td>\n      <td>1</td>\n      <td>2</td>\n      <td>26.277100</td>\n      <td>0</td>\n      <td>Beckwith</td>\n      <td>Richard Leonard</td>\n      <td>Sallie Monypeny</td>\n      <td>Mrs</td>\n      <td>1</td>\n      <td>0</td>\n      <td>0</td>\n      <td>0</td>\n    </tr>\n    <tr>\n      <th>1031</th>\n      <td>NaN</td>\n      <td>3</td>\n      <td>Goodwin, Mr. Charles Frederick</td>\n      <td>male</td>\n      <td>40.0</td>\n      <td>1</td>\n      <td>6</td>\n      <td>CA 2144</td>\n      <td>46.9000</td>\n      <td>NaN</td>\n      <td>S</td>\n      <td>6</td>\n      <td>0</td>\n      <td>8</td>\n      <td>5.862500</td>\n      <td>0</td>\n      <td>Goodwin</td>\n      <td>Charles Frederick</td>\n      <td>NaN</td>\n      <td>Mr</td>\n      <td>0</td>\n      <td>1</td>\n      <td>0</td>\n      <td>6</td>\n    </tr>\n    <tr>\n      <th>1059</th>\n      <td>NaN</td>\n      <td>3</td>\n      <td>Ford, Mr. Edward Watson</td>\n      <td>male</td>\n      <td>18.0</td>\n      <td>2</td>\n      <td>2</td>\n      <td>W./C. 6608</td>\n      <td>34.3750</td>\n      <td>NaN</td>\n      <td>S</td>\n      <td>1</td>\n      <td>0</td>\n      <td>5</td>\n      <td>6.875000</td>\n      <td>0</td>\n      <td>Ford</td>\n      <td>Edward Watson</td>\n      <td>NaN</td>\n      <td>Mr</td>\n      <td>1</td>\n      <td>1</td>\n      <td>0</td>\n      <td>2</td>\n    </tr>\n    <tr>\n      <th>1106</th>\n      <td>NaN</td>\n      <td>3</td>\n      <td>Andersson, Miss. Ida Augusta Margareta</td>\n      <td>female</td>\n      <td>38.0</td>\n      <td>4</td>\n      <td>2</td>\n      <td>347091</td>\n      <td>7.7750</td>\n      <td>NaN</td>\n      <td>S</td>\n      <td>2</td>\n      <td>0</td>\n      <td>1</td>\n      <td>7.775000</td>\n      <td>0</td>\n      <td>Andersson</td>\n      <td>Ida Augusta Margareta</td>\n      <td>NaN</td>\n      <td>Miss</td>\n      <td>0</td>\n      <td>4</td>\n      <td>0</td>\n      <td>2</td>\n    </tr>\n    <tr>\n      <th>1197</th>\n      <td>NaN</td>\n      <td>1</td>\n      <td>Crosby, Mrs. Edward Gifford (Catherine Elizabe...</td>\n      <td>female</td>\n      <td>64.0</td>\n      <td>1</td>\n      <td>1</td>\n      <td>112901</td>\n      <td>26.5500</td>\n      <td>B26</td>\n      <td>S</td>\n      <td>0</td>\n      <td>1</td>\n      <td>1</td>\n      <td>26.550000</td>\n      <td>0</td>\n      <td>Crosby</td>\n      <td>Edward Gifford</td>\n      <td>Catherine Elizabeth Halstead</td>\n      <td>Mrs</td>\n      <td>0</td>\n      <td>1</td>\n      <td>0</td>\n      <td>0</td>\n    </tr>\n    <tr>\n      <th>1200</th>\n      <td>NaN</td>\n      <td>1</td>\n      <td>Hays, Mr. Charles Melville</td>\n      <td>male</td>\n      <td>55.0</td>\n      <td>1</td>\n      <td>1</td>\n      <td>12749</td>\n      <td>93.5000</td>\n      <td>B69</td>\n      <td>S</td>\n      <td>0</td>\n      <td>1</td>\n      <td>4</td>\n      <td>23.375000</td>\n      <td>0</td>\n      <td>Hays</td>\n      <td>Charles Melville</td>\n      <td>NaN</td>\n      <td>Mr</td>\n      <td>1</td>\n      <td>0</td>\n      <td>0</td>\n      <td>0</td>\n    </tr>\n    <tr>\n      <th>1289</th>\n      <td>NaN</td>\n      <td>1</td>\n      <td>Frolicher-Stehli, Mrs. Maxmillian (Margaretha ...</td>\n      <td>female</td>\n      <td>48.0</td>\n      <td>1</td>\n      <td>1</td>\n      <td>13567</td>\n      <td>79.2000</td>\n      <td>B41</td>\n      <td>C</td>\n      <td>0</td>\n      <td>1</td>\n      <td>2</td>\n      <td>39.600000</td>\n      <td>0</td>\n      <td>Frolicher-Stehli</td>\n      <td>Maxmillian</td>\n      <td>Margaretha Emerentia Stehli</td>\n      <td>Mrs</td>\n      <td>1</td>\n      <td>0</td>\n      <td>1</td>\n      <td>0</td>\n    </tr>\n  </tbody>\n</table>\n</div>"
     },
     "execution_count": 22,
     "metadata": {},
     "output_type": "execute_result"
    }
   ],
   "source": [
    "filled_df[(filled_df['ManualChildren'] != filled_df['Children'])]"
   ],
   "metadata": {
    "collapsed": false,
    "pycharm": {
     "name": "#%%\n"
    }
   }
  },
  {
   "cell_type": "code",
   "execution_count": 23,
   "outputs": [],
   "source": [
    "filled_df = filled_df[['Survived', 'Pclass', 'Name', 'Sex', 'Age', 'Ticket',\n",
    "                     'Fare',\n",
    "           'Cabin', 'Embarked',\n",
    "           'FirstName', 'LastName', 'Title', 'SibSp', 'Siblings',\n",
    "           'Spounce', 'Parch',\n",
    "                       'Parents', 'Children',\n",
    "                       'PassengersCount',\n",
    "           'FarePerPassenger', 'ZeroPrice']]\n",
    "filled_df.to_csv('data/Before age no hands.csv', index=True, header=True,\n",
    "                 index_label='PassengerId')"
   ],
   "metadata": {
    "collapsed": false,
    "pycharm": {
     "name": "#%%\n"
    }
   }
  },
  {
   "cell_type": "code",
   "execution_count": 23,
   "outputs": [],
   "source": [],
   "metadata": {
    "collapsed": false,
    "pycharm": {
     "name": "#%%\n"
    }
   }
  },
  {
   "cell_type": "code",
   "execution_count": 24,
   "outputs": [],
   "source": [
    "def fill_age_by_mask(mask, df):\n",
    "    mean = df[mask]['Age'].mean()\n",
    "    print(f'Mean: {mean}')\n",
    "    masked_copy = df.loc[mask].copy()\n",
    "    masked_copy['Age'].fillna(mean, inplace=True)\n",
    "    df.loc[mask] = masked_copy\n",
    "    print(filled_df['Age'].isna().sum())\n",
    "    return df"
   ],
   "metadata": {
    "collapsed": false,
    "pycharm": {
     "name": "#%%\n"
    }
   }
  },
  {
   "cell_type": "markdown",
   "source": [
    "'Master' title seems to be used for a little boy."
   ],
   "metadata": {
    "collapsed": false,
    "pycharm": {
     "name": "#%% md\n"
    }
   }
  },
  {
   "cell_type": "code",
   "execution_count": 25,
   "outputs": [
    {
     "data": {
      "text/plain": "                Age                       \n                min       mean   max count\nTitle                                     \nCapt          70.00  70.000000  70.0     1\nCol           47.00  54.000000  60.0     4\nDon           40.00  40.000000  40.0     1\nDona          39.00  39.000000  39.0     1\nDr            23.00  43.571429  54.0     7\nJonkheer      38.00  38.000000  38.0     1\nLady          48.00  48.000000  48.0     1\nMajor         45.00  48.500000  52.0     2\nMaster         0.33   5.482642  14.5    53\nMiss           0.17  21.774238  63.0   210\nMlle          24.00  24.000000  24.0     2\nMme           24.00  24.000000  24.0     1\nMr            11.00  32.252151  80.0   581\nMrs           14.00  36.994118  76.0   170\nMs            28.00  28.000000  28.0     1\nRev           27.00  41.250000  57.0     8\nSir           49.00  49.000000  49.0     1\nthe Countess  33.00  33.000000  33.0     1",
      "text/html": "<div>\n<style scoped>\n    .dataframe tbody tr th:only-of-type {\n        vertical-align: middle;\n    }\n\n    .dataframe tbody tr th {\n        vertical-align: top;\n    }\n\n    .dataframe thead tr th {\n        text-align: left;\n    }\n\n    .dataframe thead tr:last-of-type th {\n        text-align: right;\n    }\n</style>\n<table border=\"1\" class=\"dataframe\">\n  <thead>\n    <tr>\n      <th></th>\n      <th colspan=\"4\" halign=\"left\">Age</th>\n    </tr>\n    <tr>\n      <th></th>\n      <th>min</th>\n      <th>mean</th>\n      <th>max</th>\n      <th>count</th>\n    </tr>\n    <tr>\n      <th>Title</th>\n      <th></th>\n      <th></th>\n      <th></th>\n      <th></th>\n    </tr>\n  </thead>\n  <tbody>\n    <tr>\n      <th>Capt</th>\n      <td>70.00</td>\n      <td>70.000000</td>\n      <td>70.0</td>\n      <td>1</td>\n    </tr>\n    <tr>\n      <th>Col</th>\n      <td>47.00</td>\n      <td>54.000000</td>\n      <td>60.0</td>\n      <td>4</td>\n    </tr>\n    <tr>\n      <th>Don</th>\n      <td>40.00</td>\n      <td>40.000000</td>\n      <td>40.0</td>\n      <td>1</td>\n    </tr>\n    <tr>\n      <th>Dona</th>\n      <td>39.00</td>\n      <td>39.000000</td>\n      <td>39.0</td>\n      <td>1</td>\n    </tr>\n    <tr>\n      <th>Dr</th>\n      <td>23.00</td>\n      <td>43.571429</td>\n      <td>54.0</td>\n      <td>7</td>\n    </tr>\n    <tr>\n      <th>Jonkheer</th>\n      <td>38.00</td>\n      <td>38.000000</td>\n      <td>38.0</td>\n      <td>1</td>\n    </tr>\n    <tr>\n      <th>Lady</th>\n      <td>48.00</td>\n      <td>48.000000</td>\n      <td>48.0</td>\n      <td>1</td>\n    </tr>\n    <tr>\n      <th>Major</th>\n      <td>45.00</td>\n      <td>48.500000</td>\n      <td>52.0</td>\n      <td>2</td>\n    </tr>\n    <tr>\n      <th>Master</th>\n      <td>0.33</td>\n      <td>5.482642</td>\n      <td>14.5</td>\n      <td>53</td>\n    </tr>\n    <tr>\n      <th>Miss</th>\n      <td>0.17</td>\n      <td>21.774238</td>\n      <td>63.0</td>\n      <td>210</td>\n    </tr>\n    <tr>\n      <th>Mlle</th>\n      <td>24.00</td>\n      <td>24.000000</td>\n      <td>24.0</td>\n      <td>2</td>\n    </tr>\n    <tr>\n      <th>Mme</th>\n      <td>24.00</td>\n      <td>24.000000</td>\n      <td>24.0</td>\n      <td>1</td>\n    </tr>\n    <tr>\n      <th>Mr</th>\n      <td>11.00</td>\n      <td>32.252151</td>\n      <td>80.0</td>\n      <td>581</td>\n    </tr>\n    <tr>\n      <th>Mrs</th>\n      <td>14.00</td>\n      <td>36.994118</td>\n      <td>76.0</td>\n      <td>170</td>\n    </tr>\n    <tr>\n      <th>Ms</th>\n      <td>28.00</td>\n      <td>28.000000</td>\n      <td>28.0</td>\n      <td>1</td>\n    </tr>\n    <tr>\n      <th>Rev</th>\n      <td>27.00</td>\n      <td>41.250000</td>\n      <td>57.0</td>\n      <td>8</td>\n    </tr>\n    <tr>\n      <th>Sir</th>\n      <td>49.00</td>\n      <td>49.000000</td>\n      <td>49.0</td>\n      <td>1</td>\n    </tr>\n    <tr>\n      <th>the Countess</th>\n      <td>33.00</td>\n      <td>33.000000</td>\n      <td>33.0</td>\n      <td>1</td>\n    </tr>\n  </tbody>\n</table>\n</div>"
     },
     "execution_count": 25,
     "metadata": {},
     "output_type": "execute_result"
    }
   ],
   "source": [
    "filled_df.groupby('Title').agg({'Age': ['min', 'mean', 'max', 'count']})"
   ],
   "metadata": {
    "collapsed": false,
    "pycharm": {
     "name": "#%%\n"
    }
   }
  },
  {
   "cell_type": "code",
   "execution_count": 26,
   "outputs": [
    {
     "name": "stdout",
     "output_type": "stream",
     "text": [
      "Mean: 5.482641509433963\n",
      "255\n"
     ]
    },
    {
     "name": "stderr",
     "output_type": "stream",
     "text": [
      "c:\\python\\ml course\\new_venv\\lib\\site-packages\\pandas\\core\\indexing.py:1884: SettingWithCopyWarning: \n",
      "A value is trying to be set on a copy of a slice from a DataFrame.\n",
      "Try using .loc[row_indexer,col_indexer] = value instead\n",
      "\n",
      "See the caveats in the documentation: https://pandas.pydata.org/pandas-docs/stable/user_guide/indexing.html#returning-a-view-versus-a-copy\n",
      "  self._setitem_single_column(loc, val, pi)\n"
     ]
    },
    {
     "data": {
      "text/plain": "5.482642     8\n2.000000     5\n4.000000     5\n1.000000     5\n9.000000     5\n3.000000     4\n6.000000     4\n13.000000    3\n7.000000     3\n8.000000     3\n0.830000     3\n10.000000    2\n11.000000    2\n0.920000     1\n12.000000    1\n0.670000     1\n0.420000     1\n11.500000    1\n0.330000     1\n0.750000     1\n14.500000    1\n5.000000     1\nName: Age, dtype: int64"
     },
     "execution_count": 26,
     "metadata": {},
     "output_type": "execute_result"
    }
   ],
   "source": [
    "master_mask = filled_df['Title'] == 'Master'\n",
    "filled_df = fill_age_by_mask(master_mask, filled_df)\n",
    "filled_df.loc[master_mask]['Age'].value_counts(dropna=False)"
   ],
   "metadata": {
    "collapsed": false,
    "pycharm": {
     "name": "#%%\n"
    }
   }
  },
  {
   "cell_type": "code",
   "source": [
    "filled_df['TravelsAlone'] = \\\n",
    "    np.where((filled_df['Parch'] + filled_df['SibSp']) == 0, 1, 0)"
   ],
   "metadata": {
    "collapsed": false,
    "pycharm": {
     "name": "#%%\n"
    }
   },
   "execution_count": 27,
   "outputs": [
    {
     "name": "stderr",
     "output_type": "stream",
     "text": [
      "<ipython-input-27-8fc246878226>:1: SettingWithCopyWarning: \n",
      "A value is trying to be set on a copy of a slice from a DataFrame.\n",
      "Try using .loc[row_indexer,col_indexer] = value instead\n",
      "\n",
      "See the caveats in the documentation: https://pandas.pydata.org/pandas-docs/stable/user_guide/indexing.html#returning-a-view-versus-a-copy\n",
      "  filled_df['TravelsAlone'] = \\\n"
     ]
    }
   ]
  },
  {
   "cell_type": "code",
   "execution_count": 28,
   "outputs": [
    {
     "name": "stdout",
     "output_type": "stream",
     "text": [
      "Mean: 31.467821728442363\n",
      "56\n"
     ]
    },
    {
     "data": {
      "text/plain": "31.467822    199\n22.000000     31\n30.000000     30\n21.000000     30\n24.000000     28\n            ... \n70.000000      1\n20.500000      1\n80.000000      1\n66.000000      1\n38.500000      1\nName: Age, Length: 79, dtype: int64"
     },
     "execution_count": 28,
     "metadata": {},
     "output_type": "execute_result"
    }
   ],
   "source": [
    "travels_alone_mask = filled_df['TravelsAlone'] == 1\n",
    "filled_df = fill_age_by_mask(travels_alone_mask, filled_df)\n",
    "filled_df.loc[travels_alone_mask]['Age'].value_counts(dropna=False)"
   ],
   "metadata": {
    "collapsed": false,
    "pycharm": {
     "name": "#%%\n"
    }
   }
  },
  {
   "cell_type": "code",
   "execution_count": 29,
   "outputs": [
    {
     "name": "stdout",
     "output_type": "stream",
     "text": [
      "Mean: 36.84615384615385\n",
      "36\n"
     ]
    },
    {
     "data": {
      "text/plain": "36.846154    20\n31.000000     8\n24.000000     8\n36.000000     8\n29.000000     8\n             ..\n67.000000     1\n76.000000     1\n61.000000     1\n36.500000     1\n53.000000     1\nName: Age, Length: 48, dtype: int64"
     },
     "execution_count": 29,
     "metadata": {},
     "output_type": "execute_result"
    }
   ],
   "source": [
    "married_mask = filled_df['Spounce'] == 1\n",
    "filled_df = fill_age_by_mask(married_mask, filled_df)\n",
    "filled_df.loc[married_mask]['Age'].value_counts(dropna=False)"
   ],
   "metadata": {
    "collapsed": false,
    "pycharm": {
     "name": "#%%\n"
    }
   }
  },
  {
   "cell_type": "code",
   "execution_count": 30,
   "outputs": [
    {
     "name": "stdout",
     "output_type": "stream",
     "text": [
      "Mean: 10.520188679245283\n",
      "23\n"
     ]
    },
    {
     "data": {
      "text/plain": "10.520189    13\n2.000000     12\n4.000000     10\n1.000000     10\n9.000000     10\n             ..\n39.000000     1\n0.420000      1\n0.670000      1\n31.000000     1\n14.500000     1\nName: Age, Length: 43, dtype: int64"
     },
     "execution_count": 30,
     "metadata": {},
     "output_type": "execute_result"
    }
   ],
   "source": [
    "travels_with_parents_mask = (filled_df['Parents'] > 0) & (filled_df['Spounce']\n",
    "                             == 0)\n",
    "filled_df = fill_age_by_mask(travels_with_parents_mask, filled_df)\n",
    "filled_df.loc[travels_with_parents_mask]['Age'].value_counts(dropna=False)"
   ],
   "metadata": {
    "collapsed": false,
    "pycharm": {
     "name": "#%%\n"
    }
   }
  },
  {
   "cell_type": "code",
   "execution_count": 31,
   "outputs": [
    {
     "name": "stdout",
     "output_type": "stream",
     "text": [
      "Mean: 28.59076578308643\n",
      "0\n"
     ]
    },
    {
     "data": {
      "text/plain": "31.467822    199\n21.000000     41\n22.000000     39\n24.000000     39\n30.000000     33\n            ... \n24.500000      1\n55.500000      1\n80.000000      1\n20.500000      1\n38.500000      1\nName: Age, Length: 100, dtype: int64"
     },
     "execution_count": 31,
     "metadata": {},
     "output_type": "execute_result"
    }
   ],
   "source": [
    "not_married_mask = filled_df['Spounce'] == 0\n",
    "filled_df = fill_age_by_mask(not_married_mask, filled_df)\n",
    "filled_df.loc[not_married_mask]['Age'].value_counts(dropna=False)"
   ],
   "metadata": {
    "collapsed": false,
    "pycharm": {
     "name": "#%%\n"
    }
   }
  },
  {
   "cell_type": "code",
   "execution_count": 32,
   "outputs": [],
   "source": [
    "# filled_df['Age'].fillna(filled_df['Age'].mean(), inplace=True)"
   ],
   "metadata": {
    "collapsed": false,
    "pycharm": {
     "name": "#%%\n"
    }
   }
  },
  {
   "cell_type": "code",
   "execution_count": 33,
   "outputs": [
    {
     "data": {
      "text/plain": "0"
     },
     "execution_count": 33,
     "metadata": {},
     "output_type": "execute_result"
    }
   ],
   "source": [
    "filled_df['Age'].isna().sum()"
   ],
   "metadata": {
    "collapsed": false,
    "pycharm": {
     "name": "#%%\n"
    }
   }
  },
  {
   "cell_type": "markdown",
   "source": [
    "# Embarked"
   ],
   "metadata": {
    "collapsed": false,
    "pycharm": {
     "name": "#%% md\n"
    }
   }
  },
  {
   "cell_type": "code",
   "execution_count": 34,
   "outputs": [
    {
     "name": "stderr",
     "output_type": "stream",
     "text": [
      "<ipython-input-34-3edaaa63b3a9>:3: SettingWithCopyWarning: \n",
      "A value is trying to be set on a copy of a slice from a DataFrame.\n",
      "Try using .loc[row_indexer,col_indexer] = value instead\n",
      "\n",
      "See the caveats in the documentation: https://pandas.pydata.org/pandas-docs/stable/user_guide/indexing.html#returning-a-view-versus-a-copy\n",
      "  filled_df['Embarked'] = imputer.fit_transform(filled_df[['Embarked']])\n"
     ]
    },
    {
     "data": {
      "text/plain": "Survived             418\nPclass                 0\nName                   0\nSex                    0\nAge                    0\nTicket                 0\nFare                   0\nCabin               1014\nEmbarked               0\nFirstName              0\nLastName               0\nTitle                  0\nSibSp                  0\nSiblings               0\nSpounce                0\nParch                  0\nParents                0\nChildren               0\nPassengersCount        0\nFarePerPassenger       0\nZeroPrice              0\nTravelsAlone           0\ndtype: int64"
     },
     "execution_count": 34,
     "metadata": {},
     "output_type": "execute_result"
    }
   ],
   "source": [
    "from sklearn.impute import SimpleImputer\n",
    "imputer = SimpleImputer(strategy='most_frequent')\n",
    "filled_df['Embarked'] = imputer.fit_transform(filled_df[['Embarked']])\n",
    "filled_df.isna().sum()"
   ],
   "metadata": {
    "collapsed": false,
    "pycharm": {
     "name": "#%%\n"
    }
   }
  },
  {
   "cell_type": "markdown",
   "source": [
    "# Feature encoding"
   ],
   "metadata": {
    "collapsed": false,
    "pycharm": {
     "name": "#%% md\n"
    }
   }
  },
  {
   "cell_type": "code",
   "source": [
    "encoder = OneHotEncoder(sparse=False)\n",
    "encoded_sex = encoder.fit_transform(filled_df[['Pclass']])\n",
    "for column_index, category in enumerate(encoder.categories_[0]):\n",
    "    print(category, column_index)\n",
    "    if category == 1:\n",
    "        category = 'First'\n",
    "    elif category == 2:\n",
    "        category = 'Second'\n",
    "    elif category == 3:\n",
    "        category = 'Third'\n",
    "    filled_df['Pclass' + category.capitalize()] = encoded_sex[:, column_index]\n",
    "filled_df.drop('Pclass', axis=1, inplace=True)\n",
    "filled_df"
   ],
   "metadata": {
    "collapsed": false,
    "pycharm": {
     "name": "#%%\n"
    }
   },
   "execution_count": 35,
   "outputs": [
    {
     "name": "stdout",
     "output_type": "stream",
     "text": [
      "1 0\n",
      "2 1\n",
      "3 2\n"
     ]
    },
    {
     "name": "stderr",
     "output_type": "stream",
     "text": [
      "<ipython-input-35-8442ce89a3af>:11: SettingWithCopyWarning: \n",
      "A value is trying to be set on a copy of a slice from a DataFrame.\n",
      "Try using .loc[row_indexer,col_indexer] = value instead\n",
      "\n",
      "See the caveats in the documentation: https://pandas.pydata.org/pandas-docs/stable/user_guide/indexing.html#returning-a-view-versus-a-copy\n",
      "  filled_df['Pclass' + category.capitalize()] = encoded_sex[:, column_index]\n"
     ]
    },
    {
     "data": {
      "text/plain": "             Survived                                               Name  \\\nPassengerId                                                                \n1                 0.0                            Braund, Mr. Owen Harris   \n2                 1.0  Cumings, Mrs. John Bradley (Florence Briggs Th...   \n3                 1.0                             Heikkinen, Miss. Laina   \n4                 1.0       Futrelle, Mrs. Jacques Heath (Lily May Peel)   \n5                 0.0                           Allen, Mr. William Henry   \n...               ...                                                ...   \n1305              NaN                                 Spector, Mr. Woolf   \n1306              NaN                       Oliva y Ocana, Dona. Fermina   \n1307              NaN                       Saether, Mr. Simon Sivertsen   \n1308              NaN                                Ware, Mr. Frederick   \n1309              NaN                           Peter, Master. Michael J   \n\n                Sex        Age              Ticket      Fare Cabin Embarked  \\\nPassengerId                                                                   \n1              male  22.000000           A/5 21171    7.2500   NaN        S   \n2            female  38.000000            PC 17599   71.2833   C85        C   \n3            female  26.000000    STON/O2. 3101282    7.9250   NaN        S   \n4            female  35.000000              113803   53.1000  C123        S   \n5              male  35.000000              373450    8.0500   NaN        S   \n...             ...        ...                 ...       ...   ...      ...   \n1305           male  31.467822           A.5. 3236    8.0500   NaN        S   \n1306         female  39.000000            PC 17758  108.9000  C105        C   \n1307           male  38.500000  SOTON/O.Q. 3101262    7.2500   NaN        S   \n1308           male  31.467822              359309    8.0500   NaN        S   \n1309           male   5.482642                2668   22.3583   NaN        C   \n\n                 FirstName         LastName   Title  SibSp  Siblings  Spounce  \\\nPassengerId                                                                     \n1                   Braund      Owen Harris      Mr      1         1        0   \n2                  Cumings     John Bradley     Mrs      1         0        1   \n3                Heikkinen            Laina    Miss      0         0        0   \n4                 Futrelle    Jacques Heath     Mrs      1         0        1   \n5                    Allen    William Henry      Mr      0         0        0   \n...                    ...              ...     ...    ...       ...      ...   \n1305               Spector            Woolf      Mr      0         0        0   \n1306         Oliva y Ocana          Fermina    Dona      0         0        0   \n1307               Saether  Simon Sivertsen      Mr      0         0        0   \n1308                  Ware        Frederick      Mr      0         0        0   \n1309                 Peter        Michael J  Master      1         1        0   \n\n             Parch  Parents  Children  PassengersCount  FarePerPassenger  \\\nPassengerId                                                                \n1                0        0         0                1          7.250000   \n2                0        0         0                2         35.641650   \n3                0        0         0                1          7.925000   \n4                0        0         0                2         26.550000   \n5                0        0         0                1          8.050000   \n...            ...      ...       ...              ...               ...   \n1305             0        0         0                1          8.050000   \n1306             0        0         0                3         36.300000   \n1307             0        0         0                1          7.250000   \n1308             0        0         0                1          8.050000   \n1309             1        1         0                3          7.452767   \n\n             ZeroPrice  TravelsAlone  PclassFirst  PclassSecond  PclassThird  \nPassengerId                                                                   \n1                    0             0          0.0           0.0          1.0  \n2                    0             0          1.0           0.0          0.0  \n3                    0             1          0.0           0.0          1.0  \n4                    0             0          1.0           0.0          0.0  \n5                    0             1          0.0           0.0          1.0  \n...                ...           ...          ...           ...          ...  \n1305                 0             1          0.0           0.0          1.0  \n1306                 0             1          1.0           0.0          0.0  \n1307                 0             1          0.0           0.0          1.0  \n1308                 0             1          0.0           0.0          1.0  \n1309                 0             0          0.0           0.0          1.0  \n\n[1309 rows x 24 columns]",
      "text/html": "<div>\n<style scoped>\n    .dataframe tbody tr th:only-of-type {\n        vertical-align: middle;\n    }\n\n    .dataframe tbody tr th {\n        vertical-align: top;\n    }\n\n    .dataframe thead th {\n        text-align: right;\n    }\n</style>\n<table border=\"1\" class=\"dataframe\">\n  <thead>\n    <tr style=\"text-align: right;\">\n      <th></th>\n      <th>Survived</th>\n      <th>Name</th>\n      <th>Sex</th>\n      <th>Age</th>\n      <th>Ticket</th>\n      <th>Fare</th>\n      <th>Cabin</th>\n      <th>Embarked</th>\n      <th>FirstName</th>\n      <th>LastName</th>\n      <th>Title</th>\n      <th>SibSp</th>\n      <th>Siblings</th>\n      <th>Spounce</th>\n      <th>Parch</th>\n      <th>Parents</th>\n      <th>Children</th>\n      <th>PassengersCount</th>\n      <th>FarePerPassenger</th>\n      <th>ZeroPrice</th>\n      <th>TravelsAlone</th>\n      <th>PclassFirst</th>\n      <th>PclassSecond</th>\n      <th>PclassThird</th>\n    </tr>\n    <tr>\n      <th>PassengerId</th>\n      <th></th>\n      <th></th>\n      <th></th>\n      <th></th>\n      <th></th>\n      <th></th>\n      <th></th>\n      <th></th>\n      <th></th>\n      <th></th>\n      <th></th>\n      <th></th>\n      <th></th>\n      <th></th>\n      <th></th>\n      <th></th>\n      <th></th>\n      <th></th>\n      <th></th>\n      <th></th>\n      <th></th>\n      <th></th>\n      <th></th>\n      <th></th>\n    </tr>\n  </thead>\n  <tbody>\n    <tr>\n      <th>1</th>\n      <td>0.0</td>\n      <td>Braund, Mr. Owen Harris</td>\n      <td>male</td>\n      <td>22.000000</td>\n      <td>A/5 21171</td>\n      <td>7.2500</td>\n      <td>NaN</td>\n      <td>S</td>\n      <td>Braund</td>\n      <td>Owen Harris</td>\n      <td>Mr</td>\n      <td>1</td>\n      <td>1</td>\n      <td>0</td>\n      <td>0</td>\n      <td>0</td>\n      <td>0</td>\n      <td>1</td>\n      <td>7.250000</td>\n      <td>0</td>\n      <td>0</td>\n      <td>0.0</td>\n      <td>0.0</td>\n      <td>1.0</td>\n    </tr>\n    <tr>\n      <th>2</th>\n      <td>1.0</td>\n      <td>Cumings, Mrs. John Bradley (Florence Briggs Th...</td>\n      <td>female</td>\n      <td>38.000000</td>\n      <td>PC 17599</td>\n      <td>71.2833</td>\n      <td>C85</td>\n      <td>C</td>\n      <td>Cumings</td>\n      <td>John Bradley</td>\n      <td>Mrs</td>\n      <td>1</td>\n      <td>0</td>\n      <td>1</td>\n      <td>0</td>\n      <td>0</td>\n      <td>0</td>\n      <td>2</td>\n      <td>35.641650</td>\n      <td>0</td>\n      <td>0</td>\n      <td>1.0</td>\n      <td>0.0</td>\n      <td>0.0</td>\n    </tr>\n    <tr>\n      <th>3</th>\n      <td>1.0</td>\n      <td>Heikkinen, Miss. Laina</td>\n      <td>female</td>\n      <td>26.000000</td>\n      <td>STON/O2. 3101282</td>\n      <td>7.9250</td>\n      <td>NaN</td>\n      <td>S</td>\n      <td>Heikkinen</td>\n      <td>Laina</td>\n      <td>Miss</td>\n      <td>0</td>\n      <td>0</td>\n      <td>0</td>\n      <td>0</td>\n      <td>0</td>\n      <td>0</td>\n      <td>1</td>\n      <td>7.925000</td>\n      <td>0</td>\n      <td>1</td>\n      <td>0.0</td>\n      <td>0.0</td>\n      <td>1.0</td>\n    </tr>\n    <tr>\n      <th>4</th>\n      <td>1.0</td>\n      <td>Futrelle, Mrs. Jacques Heath (Lily May Peel)</td>\n      <td>female</td>\n      <td>35.000000</td>\n      <td>113803</td>\n      <td>53.1000</td>\n      <td>C123</td>\n      <td>S</td>\n      <td>Futrelle</td>\n      <td>Jacques Heath</td>\n      <td>Mrs</td>\n      <td>1</td>\n      <td>0</td>\n      <td>1</td>\n      <td>0</td>\n      <td>0</td>\n      <td>0</td>\n      <td>2</td>\n      <td>26.550000</td>\n      <td>0</td>\n      <td>0</td>\n      <td>1.0</td>\n      <td>0.0</td>\n      <td>0.0</td>\n    </tr>\n    <tr>\n      <th>5</th>\n      <td>0.0</td>\n      <td>Allen, Mr. William Henry</td>\n      <td>male</td>\n      <td>35.000000</td>\n      <td>373450</td>\n      <td>8.0500</td>\n      <td>NaN</td>\n      <td>S</td>\n      <td>Allen</td>\n      <td>William Henry</td>\n      <td>Mr</td>\n      <td>0</td>\n      <td>0</td>\n      <td>0</td>\n      <td>0</td>\n      <td>0</td>\n      <td>0</td>\n      <td>1</td>\n      <td>8.050000</td>\n      <td>0</td>\n      <td>1</td>\n      <td>0.0</td>\n      <td>0.0</td>\n      <td>1.0</td>\n    </tr>\n    <tr>\n      <th>...</th>\n      <td>...</td>\n      <td>...</td>\n      <td>...</td>\n      <td>...</td>\n      <td>...</td>\n      <td>...</td>\n      <td>...</td>\n      <td>...</td>\n      <td>...</td>\n      <td>...</td>\n      <td>...</td>\n      <td>...</td>\n      <td>...</td>\n      <td>...</td>\n      <td>...</td>\n      <td>...</td>\n      <td>...</td>\n      <td>...</td>\n      <td>...</td>\n      <td>...</td>\n      <td>...</td>\n      <td>...</td>\n      <td>...</td>\n      <td>...</td>\n    </tr>\n    <tr>\n      <th>1305</th>\n      <td>NaN</td>\n      <td>Spector, Mr. Woolf</td>\n      <td>male</td>\n      <td>31.467822</td>\n      <td>A.5. 3236</td>\n      <td>8.0500</td>\n      <td>NaN</td>\n      <td>S</td>\n      <td>Spector</td>\n      <td>Woolf</td>\n      <td>Mr</td>\n      <td>0</td>\n      <td>0</td>\n      <td>0</td>\n      <td>0</td>\n      <td>0</td>\n      <td>0</td>\n      <td>1</td>\n      <td>8.050000</td>\n      <td>0</td>\n      <td>1</td>\n      <td>0.0</td>\n      <td>0.0</td>\n      <td>1.0</td>\n    </tr>\n    <tr>\n      <th>1306</th>\n      <td>NaN</td>\n      <td>Oliva y Ocana, Dona. Fermina</td>\n      <td>female</td>\n      <td>39.000000</td>\n      <td>PC 17758</td>\n      <td>108.9000</td>\n      <td>C105</td>\n      <td>C</td>\n      <td>Oliva y Ocana</td>\n      <td>Fermina</td>\n      <td>Dona</td>\n      <td>0</td>\n      <td>0</td>\n      <td>0</td>\n      <td>0</td>\n      <td>0</td>\n      <td>0</td>\n      <td>3</td>\n      <td>36.300000</td>\n      <td>0</td>\n      <td>1</td>\n      <td>1.0</td>\n      <td>0.0</td>\n      <td>0.0</td>\n    </tr>\n    <tr>\n      <th>1307</th>\n      <td>NaN</td>\n      <td>Saether, Mr. Simon Sivertsen</td>\n      <td>male</td>\n      <td>38.500000</td>\n      <td>SOTON/O.Q. 3101262</td>\n      <td>7.2500</td>\n      <td>NaN</td>\n      <td>S</td>\n      <td>Saether</td>\n      <td>Simon Sivertsen</td>\n      <td>Mr</td>\n      <td>0</td>\n      <td>0</td>\n      <td>0</td>\n      <td>0</td>\n      <td>0</td>\n      <td>0</td>\n      <td>1</td>\n      <td>7.250000</td>\n      <td>0</td>\n      <td>1</td>\n      <td>0.0</td>\n      <td>0.0</td>\n      <td>1.0</td>\n    </tr>\n    <tr>\n      <th>1308</th>\n      <td>NaN</td>\n      <td>Ware, Mr. Frederick</td>\n      <td>male</td>\n      <td>31.467822</td>\n      <td>359309</td>\n      <td>8.0500</td>\n      <td>NaN</td>\n      <td>S</td>\n      <td>Ware</td>\n      <td>Frederick</td>\n      <td>Mr</td>\n      <td>0</td>\n      <td>0</td>\n      <td>0</td>\n      <td>0</td>\n      <td>0</td>\n      <td>0</td>\n      <td>1</td>\n      <td>8.050000</td>\n      <td>0</td>\n      <td>1</td>\n      <td>0.0</td>\n      <td>0.0</td>\n      <td>1.0</td>\n    </tr>\n    <tr>\n      <th>1309</th>\n      <td>NaN</td>\n      <td>Peter, Master. Michael J</td>\n      <td>male</td>\n      <td>5.482642</td>\n      <td>2668</td>\n      <td>22.3583</td>\n      <td>NaN</td>\n      <td>C</td>\n      <td>Peter</td>\n      <td>Michael J</td>\n      <td>Master</td>\n      <td>1</td>\n      <td>1</td>\n      <td>0</td>\n      <td>1</td>\n      <td>1</td>\n      <td>0</td>\n      <td>3</td>\n      <td>7.452767</td>\n      <td>0</td>\n      <td>0</td>\n      <td>0.0</td>\n      <td>0.0</td>\n      <td>1.0</td>\n    </tr>\n  </tbody>\n</table>\n<p>1309 rows × 24 columns</p>\n</div>"
     },
     "execution_count": 35,
     "metadata": {},
     "output_type": "execute_result"
    }
   ]
  },
  {
   "cell_type": "code",
   "execution_count": 36,
   "outputs": [
    {
     "name": "stdout",
     "output_type": "stream",
     "text": [
      "female 0\n",
      "male 1\n"
     ]
    },
    {
     "data": {
      "text/plain": "             Survived                                               Name  \\\nPassengerId                                                                \n1                 0.0                            Braund, Mr. Owen Harris   \n2                 1.0  Cumings, Mrs. John Bradley (Florence Briggs Th...   \n3                 1.0                             Heikkinen, Miss. Laina   \n4                 1.0       Futrelle, Mrs. Jacques Heath (Lily May Peel)   \n5                 0.0                           Allen, Mr. William Henry   \n...               ...                                                ...   \n1305              NaN                                 Spector, Mr. Woolf   \n1306              NaN                       Oliva y Ocana, Dona. Fermina   \n1307              NaN                       Saether, Mr. Simon Sivertsen   \n1308              NaN                                Ware, Mr. Frederick   \n1309              NaN                           Peter, Master. Michael J   \n\n                   Age              Ticket      Fare Cabin Embarked  \\\nPassengerId                                                           \n1            22.000000           A/5 21171    7.2500   NaN        S   \n2            38.000000            PC 17599   71.2833   C85        C   \n3            26.000000    STON/O2. 3101282    7.9250   NaN        S   \n4            35.000000              113803   53.1000  C123        S   \n5            35.000000              373450    8.0500   NaN        S   \n...                ...                 ...       ...   ...      ...   \n1305         31.467822           A.5. 3236    8.0500   NaN        S   \n1306         39.000000            PC 17758  108.9000  C105        C   \n1307         38.500000  SOTON/O.Q. 3101262    7.2500   NaN        S   \n1308         31.467822              359309    8.0500   NaN        S   \n1309          5.482642                2668   22.3583   NaN        C   \n\n                 FirstName         LastName   Title  SibSp  Siblings  Spounce  \\\nPassengerId                                                                     \n1                   Braund      Owen Harris      Mr      1         1        0   \n2                  Cumings     John Bradley     Mrs      1         0        1   \n3                Heikkinen            Laina    Miss      0         0        0   \n4                 Futrelle    Jacques Heath     Mrs      1         0        1   \n5                    Allen    William Henry      Mr      0         0        0   \n...                    ...              ...     ...    ...       ...      ...   \n1305               Spector            Woolf      Mr      0         0        0   \n1306         Oliva y Ocana          Fermina    Dona      0         0        0   \n1307               Saether  Simon Sivertsen      Mr      0         0        0   \n1308                  Ware        Frederick      Mr      0         0        0   \n1309                 Peter        Michael J  Master      1         1        0   \n\n             Parch  Parents  Children  PassengersCount  FarePerPassenger  \\\nPassengerId                                                                \n1                0        0         0                1          7.250000   \n2                0        0         0                2         35.641650   \n3                0        0         0                1          7.925000   \n4                0        0         0                2         26.550000   \n5                0        0         0                1          8.050000   \n...            ...      ...       ...              ...               ...   \n1305             0        0         0                1          8.050000   \n1306             0        0         0                3         36.300000   \n1307             0        0         0                1          7.250000   \n1308             0        0         0                1          8.050000   \n1309             1        1         0                3          7.452767   \n\n             ZeroPrice  TravelsAlone  PclassFirst  PclassSecond  PclassThird  \\\nPassengerId                                                                    \n1                    0             0          0.0           0.0          1.0   \n2                    0             0          1.0           0.0          0.0   \n3                    0             1          0.0           0.0          1.0   \n4                    0             0          1.0           0.0          0.0   \n5                    0             1          0.0           0.0          1.0   \n...                ...           ...          ...           ...          ...   \n1305                 0             1          0.0           0.0          1.0   \n1306                 0             1          1.0           0.0          0.0   \n1307                 0             1          0.0           0.0          1.0   \n1308                 0             1          0.0           0.0          1.0   \n1309                 0             0          0.0           0.0          1.0   \n\n             SexFemale  SexMale  \nPassengerId                      \n1                  0.0      1.0  \n2                  1.0      0.0  \n3                  1.0      0.0  \n4                  1.0      0.0  \n5                  0.0      1.0  \n...                ...      ...  \n1305               0.0      1.0  \n1306               1.0      0.0  \n1307               0.0      1.0  \n1308               0.0      1.0  \n1309               0.0      1.0  \n\n[1309 rows x 25 columns]",
      "text/html": "<div>\n<style scoped>\n    .dataframe tbody tr th:only-of-type {\n        vertical-align: middle;\n    }\n\n    .dataframe tbody tr th {\n        vertical-align: top;\n    }\n\n    .dataframe thead th {\n        text-align: right;\n    }\n</style>\n<table border=\"1\" class=\"dataframe\">\n  <thead>\n    <tr style=\"text-align: right;\">\n      <th></th>\n      <th>Survived</th>\n      <th>Name</th>\n      <th>Age</th>\n      <th>Ticket</th>\n      <th>Fare</th>\n      <th>Cabin</th>\n      <th>Embarked</th>\n      <th>FirstName</th>\n      <th>LastName</th>\n      <th>Title</th>\n      <th>SibSp</th>\n      <th>Siblings</th>\n      <th>Spounce</th>\n      <th>Parch</th>\n      <th>Parents</th>\n      <th>Children</th>\n      <th>PassengersCount</th>\n      <th>FarePerPassenger</th>\n      <th>ZeroPrice</th>\n      <th>TravelsAlone</th>\n      <th>PclassFirst</th>\n      <th>PclassSecond</th>\n      <th>PclassThird</th>\n      <th>SexFemale</th>\n      <th>SexMale</th>\n    </tr>\n    <tr>\n      <th>PassengerId</th>\n      <th></th>\n      <th></th>\n      <th></th>\n      <th></th>\n      <th></th>\n      <th></th>\n      <th></th>\n      <th></th>\n      <th></th>\n      <th></th>\n      <th></th>\n      <th></th>\n      <th></th>\n      <th></th>\n      <th></th>\n      <th></th>\n      <th></th>\n      <th></th>\n      <th></th>\n      <th></th>\n      <th></th>\n      <th></th>\n      <th></th>\n      <th></th>\n      <th></th>\n    </tr>\n  </thead>\n  <tbody>\n    <tr>\n      <th>1</th>\n      <td>0.0</td>\n      <td>Braund, Mr. Owen Harris</td>\n      <td>22.000000</td>\n      <td>A/5 21171</td>\n      <td>7.2500</td>\n      <td>NaN</td>\n      <td>S</td>\n      <td>Braund</td>\n      <td>Owen Harris</td>\n      <td>Mr</td>\n      <td>1</td>\n      <td>1</td>\n      <td>0</td>\n      <td>0</td>\n      <td>0</td>\n      <td>0</td>\n      <td>1</td>\n      <td>7.250000</td>\n      <td>0</td>\n      <td>0</td>\n      <td>0.0</td>\n      <td>0.0</td>\n      <td>1.0</td>\n      <td>0.0</td>\n      <td>1.0</td>\n    </tr>\n    <tr>\n      <th>2</th>\n      <td>1.0</td>\n      <td>Cumings, Mrs. John Bradley (Florence Briggs Th...</td>\n      <td>38.000000</td>\n      <td>PC 17599</td>\n      <td>71.2833</td>\n      <td>C85</td>\n      <td>C</td>\n      <td>Cumings</td>\n      <td>John Bradley</td>\n      <td>Mrs</td>\n      <td>1</td>\n      <td>0</td>\n      <td>1</td>\n      <td>0</td>\n      <td>0</td>\n      <td>0</td>\n      <td>2</td>\n      <td>35.641650</td>\n      <td>0</td>\n      <td>0</td>\n      <td>1.0</td>\n      <td>0.0</td>\n      <td>0.0</td>\n      <td>1.0</td>\n      <td>0.0</td>\n    </tr>\n    <tr>\n      <th>3</th>\n      <td>1.0</td>\n      <td>Heikkinen, Miss. Laina</td>\n      <td>26.000000</td>\n      <td>STON/O2. 3101282</td>\n      <td>7.9250</td>\n      <td>NaN</td>\n      <td>S</td>\n      <td>Heikkinen</td>\n      <td>Laina</td>\n      <td>Miss</td>\n      <td>0</td>\n      <td>0</td>\n      <td>0</td>\n      <td>0</td>\n      <td>0</td>\n      <td>0</td>\n      <td>1</td>\n      <td>7.925000</td>\n      <td>0</td>\n      <td>1</td>\n      <td>0.0</td>\n      <td>0.0</td>\n      <td>1.0</td>\n      <td>1.0</td>\n      <td>0.0</td>\n    </tr>\n    <tr>\n      <th>4</th>\n      <td>1.0</td>\n      <td>Futrelle, Mrs. Jacques Heath (Lily May Peel)</td>\n      <td>35.000000</td>\n      <td>113803</td>\n      <td>53.1000</td>\n      <td>C123</td>\n      <td>S</td>\n      <td>Futrelle</td>\n      <td>Jacques Heath</td>\n      <td>Mrs</td>\n      <td>1</td>\n      <td>0</td>\n      <td>1</td>\n      <td>0</td>\n      <td>0</td>\n      <td>0</td>\n      <td>2</td>\n      <td>26.550000</td>\n      <td>0</td>\n      <td>0</td>\n      <td>1.0</td>\n      <td>0.0</td>\n      <td>0.0</td>\n      <td>1.0</td>\n      <td>0.0</td>\n    </tr>\n    <tr>\n      <th>5</th>\n      <td>0.0</td>\n      <td>Allen, Mr. William Henry</td>\n      <td>35.000000</td>\n      <td>373450</td>\n      <td>8.0500</td>\n      <td>NaN</td>\n      <td>S</td>\n      <td>Allen</td>\n      <td>William Henry</td>\n      <td>Mr</td>\n      <td>0</td>\n      <td>0</td>\n      <td>0</td>\n      <td>0</td>\n      <td>0</td>\n      <td>0</td>\n      <td>1</td>\n      <td>8.050000</td>\n      <td>0</td>\n      <td>1</td>\n      <td>0.0</td>\n      <td>0.0</td>\n      <td>1.0</td>\n      <td>0.0</td>\n      <td>1.0</td>\n    </tr>\n    <tr>\n      <th>...</th>\n      <td>...</td>\n      <td>...</td>\n      <td>...</td>\n      <td>...</td>\n      <td>...</td>\n      <td>...</td>\n      <td>...</td>\n      <td>...</td>\n      <td>...</td>\n      <td>...</td>\n      <td>...</td>\n      <td>...</td>\n      <td>...</td>\n      <td>...</td>\n      <td>...</td>\n      <td>...</td>\n      <td>...</td>\n      <td>...</td>\n      <td>...</td>\n      <td>...</td>\n      <td>...</td>\n      <td>...</td>\n      <td>...</td>\n      <td>...</td>\n      <td>...</td>\n    </tr>\n    <tr>\n      <th>1305</th>\n      <td>NaN</td>\n      <td>Spector, Mr. Woolf</td>\n      <td>31.467822</td>\n      <td>A.5. 3236</td>\n      <td>8.0500</td>\n      <td>NaN</td>\n      <td>S</td>\n      <td>Spector</td>\n      <td>Woolf</td>\n      <td>Mr</td>\n      <td>0</td>\n      <td>0</td>\n      <td>0</td>\n      <td>0</td>\n      <td>0</td>\n      <td>0</td>\n      <td>1</td>\n      <td>8.050000</td>\n      <td>0</td>\n      <td>1</td>\n      <td>0.0</td>\n      <td>0.0</td>\n      <td>1.0</td>\n      <td>0.0</td>\n      <td>1.0</td>\n    </tr>\n    <tr>\n      <th>1306</th>\n      <td>NaN</td>\n      <td>Oliva y Ocana, Dona. Fermina</td>\n      <td>39.000000</td>\n      <td>PC 17758</td>\n      <td>108.9000</td>\n      <td>C105</td>\n      <td>C</td>\n      <td>Oliva y Ocana</td>\n      <td>Fermina</td>\n      <td>Dona</td>\n      <td>0</td>\n      <td>0</td>\n      <td>0</td>\n      <td>0</td>\n      <td>0</td>\n      <td>0</td>\n      <td>3</td>\n      <td>36.300000</td>\n      <td>0</td>\n      <td>1</td>\n      <td>1.0</td>\n      <td>0.0</td>\n      <td>0.0</td>\n      <td>1.0</td>\n      <td>0.0</td>\n    </tr>\n    <tr>\n      <th>1307</th>\n      <td>NaN</td>\n      <td>Saether, Mr. Simon Sivertsen</td>\n      <td>38.500000</td>\n      <td>SOTON/O.Q. 3101262</td>\n      <td>7.2500</td>\n      <td>NaN</td>\n      <td>S</td>\n      <td>Saether</td>\n      <td>Simon Sivertsen</td>\n      <td>Mr</td>\n      <td>0</td>\n      <td>0</td>\n      <td>0</td>\n      <td>0</td>\n      <td>0</td>\n      <td>0</td>\n      <td>1</td>\n      <td>7.250000</td>\n      <td>0</td>\n      <td>1</td>\n      <td>0.0</td>\n      <td>0.0</td>\n      <td>1.0</td>\n      <td>0.0</td>\n      <td>1.0</td>\n    </tr>\n    <tr>\n      <th>1308</th>\n      <td>NaN</td>\n      <td>Ware, Mr. Frederick</td>\n      <td>31.467822</td>\n      <td>359309</td>\n      <td>8.0500</td>\n      <td>NaN</td>\n      <td>S</td>\n      <td>Ware</td>\n      <td>Frederick</td>\n      <td>Mr</td>\n      <td>0</td>\n      <td>0</td>\n      <td>0</td>\n      <td>0</td>\n      <td>0</td>\n      <td>0</td>\n      <td>1</td>\n      <td>8.050000</td>\n      <td>0</td>\n      <td>1</td>\n      <td>0.0</td>\n      <td>0.0</td>\n      <td>1.0</td>\n      <td>0.0</td>\n      <td>1.0</td>\n    </tr>\n    <tr>\n      <th>1309</th>\n      <td>NaN</td>\n      <td>Peter, Master. Michael J</td>\n      <td>5.482642</td>\n      <td>2668</td>\n      <td>22.3583</td>\n      <td>NaN</td>\n      <td>C</td>\n      <td>Peter</td>\n      <td>Michael J</td>\n      <td>Master</td>\n      <td>1</td>\n      <td>1</td>\n      <td>0</td>\n      <td>1</td>\n      <td>1</td>\n      <td>0</td>\n      <td>3</td>\n      <td>7.452767</td>\n      <td>0</td>\n      <td>0</td>\n      <td>0.0</td>\n      <td>0.0</td>\n      <td>1.0</td>\n      <td>0.0</td>\n      <td>1.0</td>\n    </tr>\n  </tbody>\n</table>\n<p>1309 rows × 25 columns</p>\n</div>"
     },
     "execution_count": 36,
     "metadata": {},
     "output_type": "execute_result"
    }
   ],
   "source": [
    "encoder = OneHotEncoder(sparse=False)\n",
    "encoded_sex = encoder.fit_transform(filled_df[['Sex']])\n",
    "for column_index, category in enumerate(encoder.categories_[0]):\n",
    "    print(category, column_index)\n",
    "    filled_df['Sex' + category.capitalize()] = encoded_sex[:, column_index]\n",
    "filled_df.drop('Sex', axis=1, inplace=True)\n",
    "filled_df"
   ],
   "metadata": {
    "collapsed": false,
    "pycharm": {
     "name": "#%%\n"
    }
   }
  },
  {
   "cell_type": "code",
   "source": [
    "encoder =OneHotEncoder(sparse=False)\n",
    "encoded_embarked = encoder.fit_transform(filled_df[['Embarked']])\n",
    "for column_index, category in enumerate(encoder.categories_[0]):\n",
    "    print(category, column_index)\n",
    "    filled_df['Embarked' + category] = encoded_embarked[:, column_index]\n",
    "filled_df.drop('Embarked', axis=1, inplace=True)\n",
    "filled_df"
   ],
   "metadata": {
    "collapsed": false,
    "pycharm": {
     "name": "#%%\n"
    }
   },
   "execution_count": 37,
   "outputs": [
    {
     "name": "stdout",
     "output_type": "stream",
     "text": [
      "C 0\n",
      "Q 1\n",
      "S 2\n"
     ]
    },
    {
     "data": {
      "text/plain": "             Survived                                               Name  \\\nPassengerId                                                                \n1                 0.0                            Braund, Mr. Owen Harris   \n2                 1.0  Cumings, Mrs. John Bradley (Florence Briggs Th...   \n3                 1.0                             Heikkinen, Miss. Laina   \n4                 1.0       Futrelle, Mrs. Jacques Heath (Lily May Peel)   \n5                 0.0                           Allen, Mr. William Henry   \n...               ...                                                ...   \n1305              NaN                                 Spector, Mr. Woolf   \n1306              NaN                       Oliva y Ocana, Dona. Fermina   \n1307              NaN                       Saether, Mr. Simon Sivertsen   \n1308              NaN                                Ware, Mr. Frederick   \n1309              NaN                           Peter, Master. Michael J   \n\n                   Age              Ticket      Fare Cabin      FirstName  \\\nPassengerId                                                                 \n1            22.000000           A/5 21171    7.2500   NaN         Braund   \n2            38.000000            PC 17599   71.2833   C85        Cumings   \n3            26.000000    STON/O2. 3101282    7.9250   NaN      Heikkinen   \n4            35.000000              113803   53.1000  C123       Futrelle   \n5            35.000000              373450    8.0500   NaN          Allen   \n...                ...                 ...       ...   ...            ...   \n1305         31.467822           A.5. 3236    8.0500   NaN        Spector   \n1306         39.000000            PC 17758  108.9000  C105  Oliva y Ocana   \n1307         38.500000  SOTON/O.Q. 3101262    7.2500   NaN        Saether   \n1308         31.467822              359309    8.0500   NaN           Ware   \n1309          5.482642                2668   22.3583   NaN          Peter   \n\n                    LastName   Title  SibSp  Siblings  Spounce  Parch  \\\nPassengerId                                                             \n1                Owen Harris      Mr      1         1        0      0   \n2               John Bradley     Mrs      1         0        1      0   \n3                      Laina    Miss      0         0        0      0   \n4              Jacques Heath     Mrs      1         0        1      0   \n5              William Henry      Mr      0         0        0      0   \n...                      ...     ...    ...       ...      ...    ...   \n1305                   Woolf      Mr      0         0        0      0   \n1306                 Fermina    Dona      0         0        0      0   \n1307         Simon Sivertsen      Mr      0         0        0      0   \n1308               Frederick      Mr      0         0        0      0   \n1309               Michael J  Master      1         1        0      1   \n\n             Parents  Children  PassengersCount  FarePerPassenger  ZeroPrice  \\\nPassengerId                                                                    \n1                  0         0                1          7.250000          0   \n2                  0         0                2         35.641650          0   \n3                  0         0                1          7.925000          0   \n4                  0         0                2         26.550000          0   \n5                  0         0                1          8.050000          0   \n...              ...       ...              ...               ...        ...   \n1305               0         0                1          8.050000          0   \n1306               0         0                3         36.300000          0   \n1307               0         0                1          7.250000          0   \n1308               0         0                1          8.050000          0   \n1309               1         0                3          7.452767          0   \n\n             TravelsAlone  PclassFirst  PclassSecond  PclassThird  SexFemale  \\\nPassengerId                                                                    \n1                       0          0.0           0.0          1.0        0.0   \n2                       0          1.0           0.0          0.0        1.0   \n3                       1          0.0           0.0          1.0        1.0   \n4                       0          1.0           0.0          0.0        1.0   \n5                       1          0.0           0.0          1.0        0.0   \n...                   ...          ...           ...          ...        ...   \n1305                    1          0.0           0.0          1.0        0.0   \n1306                    1          1.0           0.0          0.0        1.0   \n1307                    1          0.0           0.0          1.0        0.0   \n1308                    1          0.0           0.0          1.0        0.0   \n1309                    0          0.0           0.0          1.0        0.0   \n\n             SexMale  EmbarkedC  EmbarkedQ  EmbarkedS  \nPassengerId                                            \n1                1.0        0.0        0.0        1.0  \n2                0.0        1.0        0.0        0.0  \n3                0.0        0.0        0.0        1.0  \n4                0.0        0.0        0.0        1.0  \n5                1.0        0.0        0.0        1.0  \n...              ...        ...        ...        ...  \n1305             1.0        0.0        0.0        1.0  \n1306             0.0        1.0        0.0        0.0  \n1307             1.0        0.0        0.0        1.0  \n1308             1.0        0.0        0.0        1.0  \n1309             1.0        1.0        0.0        0.0  \n\n[1309 rows x 27 columns]",
      "text/html": "<div>\n<style scoped>\n    .dataframe tbody tr th:only-of-type {\n        vertical-align: middle;\n    }\n\n    .dataframe tbody tr th {\n        vertical-align: top;\n    }\n\n    .dataframe thead th {\n        text-align: right;\n    }\n</style>\n<table border=\"1\" class=\"dataframe\">\n  <thead>\n    <tr style=\"text-align: right;\">\n      <th></th>\n      <th>Survived</th>\n      <th>Name</th>\n      <th>Age</th>\n      <th>Ticket</th>\n      <th>Fare</th>\n      <th>Cabin</th>\n      <th>FirstName</th>\n      <th>LastName</th>\n      <th>Title</th>\n      <th>SibSp</th>\n      <th>Siblings</th>\n      <th>Spounce</th>\n      <th>Parch</th>\n      <th>Parents</th>\n      <th>Children</th>\n      <th>PassengersCount</th>\n      <th>FarePerPassenger</th>\n      <th>ZeroPrice</th>\n      <th>TravelsAlone</th>\n      <th>PclassFirst</th>\n      <th>PclassSecond</th>\n      <th>PclassThird</th>\n      <th>SexFemale</th>\n      <th>SexMale</th>\n      <th>EmbarkedC</th>\n      <th>EmbarkedQ</th>\n      <th>EmbarkedS</th>\n    </tr>\n    <tr>\n      <th>PassengerId</th>\n      <th></th>\n      <th></th>\n      <th></th>\n      <th></th>\n      <th></th>\n      <th></th>\n      <th></th>\n      <th></th>\n      <th></th>\n      <th></th>\n      <th></th>\n      <th></th>\n      <th></th>\n      <th></th>\n      <th></th>\n      <th></th>\n      <th></th>\n      <th></th>\n      <th></th>\n      <th></th>\n      <th></th>\n      <th></th>\n      <th></th>\n      <th></th>\n      <th></th>\n      <th></th>\n      <th></th>\n    </tr>\n  </thead>\n  <tbody>\n    <tr>\n      <th>1</th>\n      <td>0.0</td>\n      <td>Braund, Mr. Owen Harris</td>\n      <td>22.000000</td>\n      <td>A/5 21171</td>\n      <td>7.2500</td>\n      <td>NaN</td>\n      <td>Braund</td>\n      <td>Owen Harris</td>\n      <td>Mr</td>\n      <td>1</td>\n      <td>1</td>\n      <td>0</td>\n      <td>0</td>\n      <td>0</td>\n      <td>0</td>\n      <td>1</td>\n      <td>7.250000</td>\n      <td>0</td>\n      <td>0</td>\n      <td>0.0</td>\n      <td>0.0</td>\n      <td>1.0</td>\n      <td>0.0</td>\n      <td>1.0</td>\n      <td>0.0</td>\n      <td>0.0</td>\n      <td>1.0</td>\n    </tr>\n    <tr>\n      <th>2</th>\n      <td>1.0</td>\n      <td>Cumings, Mrs. John Bradley (Florence Briggs Th...</td>\n      <td>38.000000</td>\n      <td>PC 17599</td>\n      <td>71.2833</td>\n      <td>C85</td>\n      <td>Cumings</td>\n      <td>John Bradley</td>\n      <td>Mrs</td>\n      <td>1</td>\n      <td>0</td>\n      <td>1</td>\n      <td>0</td>\n      <td>0</td>\n      <td>0</td>\n      <td>2</td>\n      <td>35.641650</td>\n      <td>0</td>\n      <td>0</td>\n      <td>1.0</td>\n      <td>0.0</td>\n      <td>0.0</td>\n      <td>1.0</td>\n      <td>0.0</td>\n      <td>1.0</td>\n      <td>0.0</td>\n      <td>0.0</td>\n    </tr>\n    <tr>\n      <th>3</th>\n      <td>1.0</td>\n      <td>Heikkinen, Miss. Laina</td>\n      <td>26.000000</td>\n      <td>STON/O2. 3101282</td>\n      <td>7.9250</td>\n      <td>NaN</td>\n      <td>Heikkinen</td>\n      <td>Laina</td>\n      <td>Miss</td>\n      <td>0</td>\n      <td>0</td>\n      <td>0</td>\n      <td>0</td>\n      <td>0</td>\n      <td>0</td>\n      <td>1</td>\n      <td>7.925000</td>\n      <td>0</td>\n      <td>1</td>\n      <td>0.0</td>\n      <td>0.0</td>\n      <td>1.0</td>\n      <td>1.0</td>\n      <td>0.0</td>\n      <td>0.0</td>\n      <td>0.0</td>\n      <td>1.0</td>\n    </tr>\n    <tr>\n      <th>4</th>\n      <td>1.0</td>\n      <td>Futrelle, Mrs. Jacques Heath (Lily May Peel)</td>\n      <td>35.000000</td>\n      <td>113803</td>\n      <td>53.1000</td>\n      <td>C123</td>\n      <td>Futrelle</td>\n      <td>Jacques Heath</td>\n      <td>Mrs</td>\n      <td>1</td>\n      <td>0</td>\n      <td>1</td>\n      <td>0</td>\n      <td>0</td>\n      <td>0</td>\n      <td>2</td>\n      <td>26.550000</td>\n      <td>0</td>\n      <td>0</td>\n      <td>1.0</td>\n      <td>0.0</td>\n      <td>0.0</td>\n      <td>1.0</td>\n      <td>0.0</td>\n      <td>0.0</td>\n      <td>0.0</td>\n      <td>1.0</td>\n    </tr>\n    <tr>\n      <th>5</th>\n      <td>0.0</td>\n      <td>Allen, Mr. William Henry</td>\n      <td>35.000000</td>\n      <td>373450</td>\n      <td>8.0500</td>\n      <td>NaN</td>\n      <td>Allen</td>\n      <td>William Henry</td>\n      <td>Mr</td>\n      <td>0</td>\n      <td>0</td>\n      <td>0</td>\n      <td>0</td>\n      <td>0</td>\n      <td>0</td>\n      <td>1</td>\n      <td>8.050000</td>\n      <td>0</td>\n      <td>1</td>\n      <td>0.0</td>\n      <td>0.0</td>\n      <td>1.0</td>\n      <td>0.0</td>\n      <td>1.0</td>\n      <td>0.0</td>\n      <td>0.0</td>\n      <td>1.0</td>\n    </tr>\n    <tr>\n      <th>...</th>\n      <td>...</td>\n      <td>...</td>\n      <td>...</td>\n      <td>...</td>\n      <td>...</td>\n      <td>...</td>\n      <td>...</td>\n      <td>...</td>\n      <td>...</td>\n      <td>...</td>\n      <td>...</td>\n      <td>...</td>\n      <td>...</td>\n      <td>...</td>\n      <td>...</td>\n      <td>...</td>\n      <td>...</td>\n      <td>...</td>\n      <td>...</td>\n      <td>...</td>\n      <td>...</td>\n      <td>...</td>\n      <td>...</td>\n      <td>...</td>\n      <td>...</td>\n      <td>...</td>\n      <td>...</td>\n    </tr>\n    <tr>\n      <th>1305</th>\n      <td>NaN</td>\n      <td>Spector, Mr. Woolf</td>\n      <td>31.467822</td>\n      <td>A.5. 3236</td>\n      <td>8.0500</td>\n      <td>NaN</td>\n      <td>Spector</td>\n      <td>Woolf</td>\n      <td>Mr</td>\n      <td>0</td>\n      <td>0</td>\n      <td>0</td>\n      <td>0</td>\n      <td>0</td>\n      <td>0</td>\n      <td>1</td>\n      <td>8.050000</td>\n      <td>0</td>\n      <td>1</td>\n      <td>0.0</td>\n      <td>0.0</td>\n      <td>1.0</td>\n      <td>0.0</td>\n      <td>1.0</td>\n      <td>0.0</td>\n      <td>0.0</td>\n      <td>1.0</td>\n    </tr>\n    <tr>\n      <th>1306</th>\n      <td>NaN</td>\n      <td>Oliva y Ocana, Dona. Fermina</td>\n      <td>39.000000</td>\n      <td>PC 17758</td>\n      <td>108.9000</td>\n      <td>C105</td>\n      <td>Oliva y Ocana</td>\n      <td>Fermina</td>\n      <td>Dona</td>\n      <td>0</td>\n      <td>0</td>\n      <td>0</td>\n      <td>0</td>\n      <td>0</td>\n      <td>0</td>\n      <td>3</td>\n      <td>36.300000</td>\n      <td>0</td>\n      <td>1</td>\n      <td>1.0</td>\n      <td>0.0</td>\n      <td>0.0</td>\n      <td>1.0</td>\n      <td>0.0</td>\n      <td>1.0</td>\n      <td>0.0</td>\n      <td>0.0</td>\n    </tr>\n    <tr>\n      <th>1307</th>\n      <td>NaN</td>\n      <td>Saether, Mr. Simon Sivertsen</td>\n      <td>38.500000</td>\n      <td>SOTON/O.Q. 3101262</td>\n      <td>7.2500</td>\n      <td>NaN</td>\n      <td>Saether</td>\n      <td>Simon Sivertsen</td>\n      <td>Mr</td>\n      <td>0</td>\n      <td>0</td>\n      <td>0</td>\n      <td>0</td>\n      <td>0</td>\n      <td>0</td>\n      <td>1</td>\n      <td>7.250000</td>\n      <td>0</td>\n      <td>1</td>\n      <td>0.0</td>\n      <td>0.0</td>\n      <td>1.0</td>\n      <td>0.0</td>\n      <td>1.0</td>\n      <td>0.0</td>\n      <td>0.0</td>\n      <td>1.0</td>\n    </tr>\n    <tr>\n      <th>1308</th>\n      <td>NaN</td>\n      <td>Ware, Mr. Frederick</td>\n      <td>31.467822</td>\n      <td>359309</td>\n      <td>8.0500</td>\n      <td>NaN</td>\n      <td>Ware</td>\n      <td>Frederick</td>\n      <td>Mr</td>\n      <td>0</td>\n      <td>0</td>\n      <td>0</td>\n      <td>0</td>\n      <td>0</td>\n      <td>0</td>\n      <td>1</td>\n      <td>8.050000</td>\n      <td>0</td>\n      <td>1</td>\n      <td>0.0</td>\n      <td>0.0</td>\n      <td>1.0</td>\n      <td>0.0</td>\n      <td>1.0</td>\n      <td>0.0</td>\n      <td>0.0</td>\n      <td>1.0</td>\n    </tr>\n    <tr>\n      <th>1309</th>\n      <td>NaN</td>\n      <td>Peter, Master. Michael J</td>\n      <td>5.482642</td>\n      <td>2668</td>\n      <td>22.3583</td>\n      <td>NaN</td>\n      <td>Peter</td>\n      <td>Michael J</td>\n      <td>Master</td>\n      <td>1</td>\n      <td>1</td>\n      <td>0</td>\n      <td>1</td>\n      <td>1</td>\n      <td>0</td>\n      <td>3</td>\n      <td>7.452767</td>\n      <td>0</td>\n      <td>0</td>\n      <td>0.0</td>\n      <td>0.0</td>\n      <td>1.0</td>\n      <td>0.0</td>\n      <td>1.0</td>\n      <td>1.0</td>\n      <td>0.0</td>\n      <td>0.0</td>\n    </tr>\n  </tbody>\n</table>\n<p>1309 rows × 27 columns</p>\n</div>"
     },
     "execution_count": 37,
     "metadata": {},
     "output_type": "execute_result"
    }
   ]
  },
  {
   "cell_type": "markdown",
   "source": [
    "Total relatives."
   ],
   "metadata": {
    "collapsed": false,
    "pycharm": {
     "name": "#%% md\n"
    }
   }
  },
  {
   "cell_type": "code",
   "execution_count": 38,
   "outputs": [
    {
     "data": {
      "text/plain": "PassengerId\n1       1\n2       1\n3       0\n4       1\n5       0\n       ..\n1305    0\n1306    0\n1307    0\n1308    0\n1309    2\nName: TotalRelatives, Length: 1309, dtype: int64"
     },
     "execution_count": 38,
     "metadata": {},
     "output_type": "execute_result"
    }
   ],
   "source": [
    "filled_df['TotalRelatives'] = filled_df['Parch'] + filled_df['SibSp']\n",
    "filled_df['TotalRelatives']"
   ],
   "metadata": {
    "collapsed": false,
    "pycharm": {
     "name": "#%%\n"
    }
   }
  },
  {
   "cell_type": "code",
   "execution_count": 39,
   "outputs": [
    {
     "data": {
      "text/plain": "PassengerId\n1       0\n2       0\n3       1\n4       0\n5       1\n       ..\n1305    1\n1306    1\n1307    1\n1308    1\n1309    0\nName: ALone, Length: 1309, dtype: int32"
     },
     "execution_count": 39,
     "metadata": {},
     "output_type": "execute_result"
    }
   ],
   "source": [
    "filled_df['ALone'] = np.where(filled_df['Parch'] + filled_df['SibSp'] == 0,\n",
    "                              1, 0)\n",
    "filled_df['ALone']"
   ],
   "metadata": {
    "collapsed": false,
    "pycharm": {
     "name": "#%%\n"
    }
   }
  },
  {
   "cell_type": "markdown",
   "source": [
    "Deck from the cabin"
   ],
   "metadata": {
    "collapsed": false,
    "pycharm": {
     "name": "#%% md\n"
    }
   }
  },
  {
   "cell_type": "code",
   "source": [
    "filled_df['Deck'] = filled_df['Cabin'].str[0]\n",
    "filled_df['Deck'].fillna('Empty', inplace=True)\n",
    "encoder = OneHotEncoder(sparse=False)\n",
    "encoded_sex = encoder.fit_transform(filled_df[['Deck']])\n",
    "for column_index, category in enumerate(encoder.categories_[0]):\n",
    "    print(category, column_index)\n",
    "    filled_df['Deck' + category.capitalize()] = encoded_sex[:, column_index]\n",
    "filled_df.drop('Deck', axis=1, inplace=True)\n",
    "filled_df"
   ],
   "metadata": {
    "collapsed": false,
    "pycharm": {
     "name": "#%%\n"
    }
   },
   "execution_count": 40,
   "outputs": [
    {
     "name": "stdout",
     "output_type": "stream",
     "text": [
      "A 0\n",
      "B 1\n",
      "C 2\n",
      "D 3\n",
      "E 4\n",
      "Empty 5\n",
      "F 6\n",
      "G 7\n",
      "T 8\n"
     ]
    },
    {
     "data": {
      "text/plain": "             Survived                                               Name  \\\nPassengerId                                                                \n1                 0.0                            Braund, Mr. Owen Harris   \n2                 1.0  Cumings, Mrs. John Bradley (Florence Briggs Th...   \n3                 1.0                             Heikkinen, Miss. Laina   \n4                 1.0       Futrelle, Mrs. Jacques Heath (Lily May Peel)   \n5                 0.0                           Allen, Mr. William Henry   \n...               ...                                                ...   \n1305              NaN                                 Spector, Mr. Woolf   \n1306              NaN                       Oliva y Ocana, Dona. Fermina   \n1307              NaN                       Saether, Mr. Simon Sivertsen   \n1308              NaN                                Ware, Mr. Frederick   \n1309              NaN                           Peter, Master. Michael J   \n\n                   Age              Ticket      Fare Cabin      FirstName  \\\nPassengerId                                                                 \n1            22.000000           A/5 21171    7.2500   NaN         Braund   \n2            38.000000            PC 17599   71.2833   C85        Cumings   \n3            26.000000    STON/O2. 3101282    7.9250   NaN      Heikkinen   \n4            35.000000              113803   53.1000  C123       Futrelle   \n5            35.000000              373450    8.0500   NaN          Allen   \n...                ...                 ...       ...   ...            ...   \n1305         31.467822           A.5. 3236    8.0500   NaN        Spector   \n1306         39.000000            PC 17758  108.9000  C105  Oliva y Ocana   \n1307         38.500000  SOTON/O.Q. 3101262    7.2500   NaN        Saether   \n1308         31.467822              359309    8.0500   NaN           Ware   \n1309          5.482642                2668   22.3583   NaN          Peter   \n\n                    LastName   Title  SibSp  Siblings  Spounce  Parch  \\\nPassengerId                                                             \n1                Owen Harris      Mr      1         1        0      0   \n2               John Bradley     Mrs      1         0        1      0   \n3                      Laina    Miss      0         0        0      0   \n4              Jacques Heath     Mrs      1         0        1      0   \n5              William Henry      Mr      0         0        0      0   \n...                      ...     ...    ...       ...      ...    ...   \n1305                   Woolf      Mr      0         0        0      0   \n1306                 Fermina    Dona      0         0        0      0   \n1307         Simon Sivertsen      Mr      0         0        0      0   \n1308               Frederick      Mr      0         0        0      0   \n1309               Michael J  Master      1         1        0      1   \n\n             Parents  Children  PassengersCount  FarePerPassenger  ZeroPrice  \\\nPassengerId                                                                    \n1                  0         0                1          7.250000          0   \n2                  0         0                2         35.641650          0   \n3                  0         0                1          7.925000          0   \n4                  0         0                2         26.550000          0   \n5                  0         0                1          8.050000          0   \n...              ...       ...              ...               ...        ...   \n1305               0         0                1          8.050000          0   \n1306               0         0                3         36.300000          0   \n1307               0         0                1          7.250000          0   \n1308               0         0                1          8.050000          0   \n1309               1         0                3          7.452767          0   \n\n             TravelsAlone  PclassFirst  PclassSecond  PclassThird  SexFemale  \\\nPassengerId                                                                    \n1                       0          0.0           0.0          1.0        0.0   \n2                       0          1.0           0.0          0.0        1.0   \n3                       1          0.0           0.0          1.0        1.0   \n4                       0          1.0           0.0          0.0        1.0   \n5                       1          0.0           0.0          1.0        0.0   \n...                   ...          ...           ...          ...        ...   \n1305                    1          0.0           0.0          1.0        0.0   \n1306                    1          1.0           0.0          0.0        1.0   \n1307                    1          0.0           0.0          1.0        0.0   \n1308                    1          0.0           0.0          1.0        0.0   \n1309                    0          0.0           0.0          1.0        0.0   \n\n             SexMale  EmbarkedC  EmbarkedQ  EmbarkedS  TotalRelatives  ALone  \\\nPassengerId                                                                    \n1                1.0        0.0        0.0        1.0               1      0   \n2                0.0        1.0        0.0        0.0               1      0   \n3                0.0        0.0        0.0        1.0               0      1   \n4                0.0        0.0        0.0        1.0               1      0   \n5                1.0        0.0        0.0        1.0               0      1   \n...              ...        ...        ...        ...             ...    ...   \n1305             1.0        0.0        0.0        1.0               0      1   \n1306             0.0        1.0        0.0        0.0               0      1   \n1307             1.0        0.0        0.0        1.0               0      1   \n1308             1.0        0.0        0.0        1.0               0      1   \n1309             1.0        1.0        0.0        0.0               2      0   \n\n             DeckA  DeckB  DeckC  DeckD  DeckE  DeckEmpty  DeckF  DeckG  DeckT  \nPassengerId                                                                     \n1              0.0    0.0    0.0    0.0    0.0        1.0    0.0    0.0    0.0  \n2              0.0    0.0    1.0    0.0    0.0        0.0    0.0    0.0    0.0  \n3              0.0    0.0    0.0    0.0    0.0        1.0    0.0    0.0    0.0  \n4              0.0    0.0    1.0    0.0    0.0        0.0    0.0    0.0    0.0  \n5              0.0    0.0    0.0    0.0    0.0        1.0    0.0    0.0    0.0  \n...            ...    ...    ...    ...    ...        ...    ...    ...    ...  \n1305           0.0    0.0    0.0    0.0    0.0        1.0    0.0    0.0    0.0  \n1306           0.0    0.0    1.0    0.0    0.0        0.0    0.0    0.0    0.0  \n1307           0.0    0.0    0.0    0.0    0.0        1.0    0.0    0.0    0.0  \n1308           0.0    0.0    0.0    0.0    0.0        1.0    0.0    0.0    0.0  \n1309           0.0    0.0    0.0    0.0    0.0        1.0    0.0    0.0    0.0  \n\n[1309 rows x 38 columns]",
      "text/html": "<div>\n<style scoped>\n    .dataframe tbody tr th:only-of-type {\n        vertical-align: middle;\n    }\n\n    .dataframe tbody tr th {\n        vertical-align: top;\n    }\n\n    .dataframe thead th {\n        text-align: right;\n    }\n</style>\n<table border=\"1\" class=\"dataframe\">\n  <thead>\n    <tr style=\"text-align: right;\">\n      <th></th>\n      <th>Survived</th>\n      <th>Name</th>\n      <th>Age</th>\n      <th>Ticket</th>\n      <th>Fare</th>\n      <th>Cabin</th>\n      <th>FirstName</th>\n      <th>LastName</th>\n      <th>Title</th>\n      <th>SibSp</th>\n      <th>Siblings</th>\n      <th>Spounce</th>\n      <th>Parch</th>\n      <th>Parents</th>\n      <th>Children</th>\n      <th>PassengersCount</th>\n      <th>FarePerPassenger</th>\n      <th>ZeroPrice</th>\n      <th>TravelsAlone</th>\n      <th>PclassFirst</th>\n      <th>PclassSecond</th>\n      <th>PclassThird</th>\n      <th>SexFemale</th>\n      <th>SexMale</th>\n      <th>EmbarkedC</th>\n      <th>EmbarkedQ</th>\n      <th>EmbarkedS</th>\n      <th>TotalRelatives</th>\n      <th>ALone</th>\n      <th>DeckA</th>\n      <th>DeckB</th>\n      <th>DeckC</th>\n      <th>DeckD</th>\n      <th>DeckE</th>\n      <th>DeckEmpty</th>\n      <th>DeckF</th>\n      <th>DeckG</th>\n      <th>DeckT</th>\n    </tr>\n    <tr>\n      <th>PassengerId</th>\n      <th></th>\n      <th></th>\n      <th></th>\n      <th></th>\n      <th></th>\n      <th></th>\n      <th></th>\n      <th></th>\n      <th></th>\n      <th></th>\n      <th></th>\n      <th></th>\n      <th></th>\n      <th></th>\n      <th></th>\n      <th></th>\n      <th></th>\n      <th></th>\n      <th></th>\n      <th></th>\n      <th></th>\n      <th></th>\n      <th></th>\n      <th></th>\n      <th></th>\n      <th></th>\n      <th></th>\n      <th></th>\n      <th></th>\n      <th></th>\n      <th></th>\n      <th></th>\n      <th></th>\n      <th></th>\n      <th></th>\n      <th></th>\n      <th></th>\n      <th></th>\n    </tr>\n  </thead>\n  <tbody>\n    <tr>\n      <th>1</th>\n      <td>0.0</td>\n      <td>Braund, Mr. Owen Harris</td>\n      <td>22.000000</td>\n      <td>A/5 21171</td>\n      <td>7.2500</td>\n      <td>NaN</td>\n      <td>Braund</td>\n      <td>Owen Harris</td>\n      <td>Mr</td>\n      <td>1</td>\n      <td>1</td>\n      <td>0</td>\n      <td>0</td>\n      <td>0</td>\n      <td>0</td>\n      <td>1</td>\n      <td>7.250000</td>\n      <td>0</td>\n      <td>0</td>\n      <td>0.0</td>\n      <td>0.0</td>\n      <td>1.0</td>\n      <td>0.0</td>\n      <td>1.0</td>\n      <td>0.0</td>\n      <td>0.0</td>\n      <td>1.0</td>\n      <td>1</td>\n      <td>0</td>\n      <td>0.0</td>\n      <td>0.0</td>\n      <td>0.0</td>\n      <td>0.0</td>\n      <td>0.0</td>\n      <td>1.0</td>\n      <td>0.0</td>\n      <td>0.0</td>\n      <td>0.0</td>\n    </tr>\n    <tr>\n      <th>2</th>\n      <td>1.0</td>\n      <td>Cumings, Mrs. John Bradley (Florence Briggs Th...</td>\n      <td>38.000000</td>\n      <td>PC 17599</td>\n      <td>71.2833</td>\n      <td>C85</td>\n      <td>Cumings</td>\n      <td>John Bradley</td>\n      <td>Mrs</td>\n      <td>1</td>\n      <td>0</td>\n      <td>1</td>\n      <td>0</td>\n      <td>0</td>\n      <td>0</td>\n      <td>2</td>\n      <td>35.641650</td>\n      <td>0</td>\n      <td>0</td>\n      <td>1.0</td>\n      <td>0.0</td>\n      <td>0.0</td>\n      <td>1.0</td>\n      <td>0.0</td>\n      <td>1.0</td>\n      <td>0.0</td>\n      <td>0.0</td>\n      <td>1</td>\n      <td>0</td>\n      <td>0.0</td>\n      <td>0.0</td>\n      <td>1.0</td>\n      <td>0.0</td>\n      <td>0.0</td>\n      <td>0.0</td>\n      <td>0.0</td>\n      <td>0.0</td>\n      <td>0.0</td>\n    </tr>\n    <tr>\n      <th>3</th>\n      <td>1.0</td>\n      <td>Heikkinen, Miss. Laina</td>\n      <td>26.000000</td>\n      <td>STON/O2. 3101282</td>\n      <td>7.9250</td>\n      <td>NaN</td>\n      <td>Heikkinen</td>\n      <td>Laina</td>\n      <td>Miss</td>\n      <td>0</td>\n      <td>0</td>\n      <td>0</td>\n      <td>0</td>\n      <td>0</td>\n      <td>0</td>\n      <td>1</td>\n      <td>7.925000</td>\n      <td>0</td>\n      <td>1</td>\n      <td>0.0</td>\n      <td>0.0</td>\n      <td>1.0</td>\n      <td>1.0</td>\n      <td>0.0</td>\n      <td>0.0</td>\n      <td>0.0</td>\n      <td>1.0</td>\n      <td>0</td>\n      <td>1</td>\n      <td>0.0</td>\n      <td>0.0</td>\n      <td>0.0</td>\n      <td>0.0</td>\n      <td>0.0</td>\n      <td>1.0</td>\n      <td>0.0</td>\n      <td>0.0</td>\n      <td>0.0</td>\n    </tr>\n    <tr>\n      <th>4</th>\n      <td>1.0</td>\n      <td>Futrelle, Mrs. Jacques Heath (Lily May Peel)</td>\n      <td>35.000000</td>\n      <td>113803</td>\n      <td>53.1000</td>\n      <td>C123</td>\n      <td>Futrelle</td>\n      <td>Jacques Heath</td>\n      <td>Mrs</td>\n      <td>1</td>\n      <td>0</td>\n      <td>1</td>\n      <td>0</td>\n      <td>0</td>\n      <td>0</td>\n      <td>2</td>\n      <td>26.550000</td>\n      <td>0</td>\n      <td>0</td>\n      <td>1.0</td>\n      <td>0.0</td>\n      <td>0.0</td>\n      <td>1.0</td>\n      <td>0.0</td>\n      <td>0.0</td>\n      <td>0.0</td>\n      <td>1.0</td>\n      <td>1</td>\n      <td>0</td>\n      <td>0.0</td>\n      <td>0.0</td>\n      <td>1.0</td>\n      <td>0.0</td>\n      <td>0.0</td>\n      <td>0.0</td>\n      <td>0.0</td>\n      <td>0.0</td>\n      <td>0.0</td>\n    </tr>\n    <tr>\n      <th>5</th>\n      <td>0.0</td>\n      <td>Allen, Mr. William Henry</td>\n      <td>35.000000</td>\n      <td>373450</td>\n      <td>8.0500</td>\n      <td>NaN</td>\n      <td>Allen</td>\n      <td>William Henry</td>\n      <td>Mr</td>\n      <td>0</td>\n      <td>0</td>\n      <td>0</td>\n      <td>0</td>\n      <td>0</td>\n      <td>0</td>\n      <td>1</td>\n      <td>8.050000</td>\n      <td>0</td>\n      <td>1</td>\n      <td>0.0</td>\n      <td>0.0</td>\n      <td>1.0</td>\n      <td>0.0</td>\n      <td>1.0</td>\n      <td>0.0</td>\n      <td>0.0</td>\n      <td>1.0</td>\n      <td>0</td>\n      <td>1</td>\n      <td>0.0</td>\n      <td>0.0</td>\n      <td>0.0</td>\n      <td>0.0</td>\n      <td>0.0</td>\n      <td>1.0</td>\n      <td>0.0</td>\n      <td>0.0</td>\n      <td>0.0</td>\n    </tr>\n    <tr>\n      <th>...</th>\n      <td>...</td>\n      <td>...</td>\n      <td>...</td>\n      <td>...</td>\n      <td>...</td>\n      <td>...</td>\n      <td>...</td>\n      <td>...</td>\n      <td>...</td>\n      <td>...</td>\n      <td>...</td>\n      <td>...</td>\n      <td>...</td>\n      <td>...</td>\n      <td>...</td>\n      <td>...</td>\n      <td>...</td>\n      <td>...</td>\n      <td>...</td>\n      <td>...</td>\n      <td>...</td>\n      <td>...</td>\n      <td>...</td>\n      <td>...</td>\n      <td>...</td>\n      <td>...</td>\n      <td>...</td>\n      <td>...</td>\n      <td>...</td>\n      <td>...</td>\n      <td>...</td>\n      <td>...</td>\n      <td>...</td>\n      <td>...</td>\n      <td>...</td>\n      <td>...</td>\n      <td>...</td>\n      <td>...</td>\n    </tr>\n    <tr>\n      <th>1305</th>\n      <td>NaN</td>\n      <td>Spector, Mr. Woolf</td>\n      <td>31.467822</td>\n      <td>A.5. 3236</td>\n      <td>8.0500</td>\n      <td>NaN</td>\n      <td>Spector</td>\n      <td>Woolf</td>\n      <td>Mr</td>\n      <td>0</td>\n      <td>0</td>\n      <td>0</td>\n      <td>0</td>\n      <td>0</td>\n      <td>0</td>\n      <td>1</td>\n      <td>8.050000</td>\n      <td>0</td>\n      <td>1</td>\n      <td>0.0</td>\n      <td>0.0</td>\n      <td>1.0</td>\n      <td>0.0</td>\n      <td>1.0</td>\n      <td>0.0</td>\n      <td>0.0</td>\n      <td>1.0</td>\n      <td>0</td>\n      <td>1</td>\n      <td>0.0</td>\n      <td>0.0</td>\n      <td>0.0</td>\n      <td>0.0</td>\n      <td>0.0</td>\n      <td>1.0</td>\n      <td>0.0</td>\n      <td>0.0</td>\n      <td>0.0</td>\n    </tr>\n    <tr>\n      <th>1306</th>\n      <td>NaN</td>\n      <td>Oliva y Ocana, Dona. Fermina</td>\n      <td>39.000000</td>\n      <td>PC 17758</td>\n      <td>108.9000</td>\n      <td>C105</td>\n      <td>Oliva y Ocana</td>\n      <td>Fermina</td>\n      <td>Dona</td>\n      <td>0</td>\n      <td>0</td>\n      <td>0</td>\n      <td>0</td>\n      <td>0</td>\n      <td>0</td>\n      <td>3</td>\n      <td>36.300000</td>\n      <td>0</td>\n      <td>1</td>\n      <td>1.0</td>\n      <td>0.0</td>\n      <td>0.0</td>\n      <td>1.0</td>\n      <td>0.0</td>\n      <td>1.0</td>\n      <td>0.0</td>\n      <td>0.0</td>\n      <td>0</td>\n      <td>1</td>\n      <td>0.0</td>\n      <td>0.0</td>\n      <td>1.0</td>\n      <td>0.0</td>\n      <td>0.0</td>\n      <td>0.0</td>\n      <td>0.0</td>\n      <td>0.0</td>\n      <td>0.0</td>\n    </tr>\n    <tr>\n      <th>1307</th>\n      <td>NaN</td>\n      <td>Saether, Mr. Simon Sivertsen</td>\n      <td>38.500000</td>\n      <td>SOTON/O.Q. 3101262</td>\n      <td>7.2500</td>\n      <td>NaN</td>\n      <td>Saether</td>\n      <td>Simon Sivertsen</td>\n      <td>Mr</td>\n      <td>0</td>\n      <td>0</td>\n      <td>0</td>\n      <td>0</td>\n      <td>0</td>\n      <td>0</td>\n      <td>1</td>\n      <td>7.250000</td>\n      <td>0</td>\n      <td>1</td>\n      <td>0.0</td>\n      <td>0.0</td>\n      <td>1.0</td>\n      <td>0.0</td>\n      <td>1.0</td>\n      <td>0.0</td>\n      <td>0.0</td>\n      <td>1.0</td>\n      <td>0</td>\n      <td>1</td>\n      <td>0.0</td>\n      <td>0.0</td>\n      <td>0.0</td>\n      <td>0.0</td>\n      <td>0.0</td>\n      <td>1.0</td>\n      <td>0.0</td>\n      <td>0.0</td>\n      <td>0.0</td>\n    </tr>\n    <tr>\n      <th>1308</th>\n      <td>NaN</td>\n      <td>Ware, Mr. Frederick</td>\n      <td>31.467822</td>\n      <td>359309</td>\n      <td>8.0500</td>\n      <td>NaN</td>\n      <td>Ware</td>\n      <td>Frederick</td>\n      <td>Mr</td>\n      <td>0</td>\n      <td>0</td>\n      <td>0</td>\n      <td>0</td>\n      <td>0</td>\n      <td>0</td>\n      <td>1</td>\n      <td>8.050000</td>\n      <td>0</td>\n      <td>1</td>\n      <td>0.0</td>\n      <td>0.0</td>\n      <td>1.0</td>\n      <td>0.0</td>\n      <td>1.0</td>\n      <td>0.0</td>\n      <td>0.0</td>\n      <td>1.0</td>\n      <td>0</td>\n      <td>1</td>\n      <td>0.0</td>\n      <td>0.0</td>\n      <td>0.0</td>\n      <td>0.0</td>\n      <td>0.0</td>\n      <td>1.0</td>\n      <td>0.0</td>\n      <td>0.0</td>\n      <td>0.0</td>\n    </tr>\n    <tr>\n      <th>1309</th>\n      <td>NaN</td>\n      <td>Peter, Master. Michael J</td>\n      <td>5.482642</td>\n      <td>2668</td>\n      <td>22.3583</td>\n      <td>NaN</td>\n      <td>Peter</td>\n      <td>Michael J</td>\n      <td>Master</td>\n      <td>1</td>\n      <td>1</td>\n      <td>0</td>\n      <td>1</td>\n      <td>1</td>\n      <td>0</td>\n      <td>3</td>\n      <td>7.452767</td>\n      <td>0</td>\n      <td>0</td>\n      <td>0.0</td>\n      <td>0.0</td>\n      <td>1.0</td>\n      <td>0.0</td>\n      <td>1.0</td>\n      <td>1.0</td>\n      <td>0.0</td>\n      <td>0.0</td>\n      <td>2</td>\n      <td>0</td>\n      <td>0.0</td>\n      <td>0.0</td>\n      <td>0.0</td>\n      <td>0.0</td>\n      <td>0.0</td>\n      <td>1.0</td>\n      <td>0.0</td>\n      <td>0.0</td>\n      <td>0.0</td>\n    </tr>\n  </tbody>\n</table>\n<p>1309 rows × 38 columns</p>\n</div>"
     },
     "execution_count": 40,
     "metadata": {},
     "output_type": "execute_result"
    }
   ]
  },
  {
   "cell_type": "markdown",
   "source": [
    "Women with only husband"
   ],
   "metadata": {
    "collapsed": false,
    "pycharm": {
     "name": "#%% md\n"
    }
   }
  },
  {
   "cell_type": "code",
   "execution_count": 41,
   "outputs": [
    {
     "data": {
      "text/plain": "0    1239\n1      70\nName: OnlyHusband, dtype: int64"
     },
     "execution_count": 41,
     "metadata": {},
     "output_type": "execute_result"
    }
   ],
   "source": [
    "filled_df['OnlyHusband'] = np.where((filled_df['SexFemale'] == 1)\n",
    "                                    & (filled_df['Spounce'] == 1)\n",
    "                                    & (filled_df['Parents'] == 0)\n",
    "                                    & (filled_df['Children'] == 0), 1, 0)\n",
    "filled_df['OnlyHusband'].value_counts()"
   ],
   "metadata": {
    "collapsed": false,
    "pycharm": {
     "name": "#%%\n"
    }
   }
  },
  {
   "cell_type": "markdown",
   "source": [
    "Families that have many children."
   ],
   "metadata": {
    "collapsed": false
   }
  },
  {
   "cell_type": "code",
   "execution_count": 42,
   "outputs": [],
   "source": [
    "filled_df['ManyChildren'] = np.where(filled_df['Children'] > 3, 1, 0)"
   ],
   "metadata": {
    "collapsed": false,
    "pycharm": {
     "name": "#%%\n"
    }
   }
  },
  {
   "cell_type": "code",
   "execution_count": 42,
   "outputs": [],
   "source": [],
   "metadata": {
    "collapsed": false,
    "pycharm": {
     "name": "#%%\n"
    }
   }
  },
  {
   "cell_type": "code",
   "source": [
    "from templates.data_transform.feature_encoding import encode_df\n",
    "columns_to_encode = ['Ticket', 'Cabin', 'Title', 'SibSp', 'Siblings', 'Spounce',\n",
    "                    'Parch', 'Parents', 'Children', 'PassengersCount',\n",
    "                    'FarePerPassenger', 'TravelsAlone', 'PclassFirst',\n",
    "                    'PclassSecond', 'PclassThird', 'SexFemale', 'SexMale',\n",
    "                    'EmbarkedC', 'EmbarkedQ', 'EmbarkedS', 'TotalRelatives',\n",
    "                    'ALone', 'OnlyHusband', 'ManyChildren', 'DeckA', 'DeckB',\n",
    "                    'DeckC', 'DeckD', 'DeckE', 'DeckEmpty', 'DeckF', 'DeckG',\n",
    "                    'DeckT']\n",
    "new_df, new_columns = encode_df(filled_df.drop('Survived', axis=1),\n",
    "                               filled_df['Survived'], type='MeanEncoding',\n",
    "                                columns=columns_to_encode)\n",
    "new_column_names = [column + 'MeanEncoded' for column in new_columns]\n",
    "filled_df[new_column_names] =  new_df[new_columns]\n",
    "for column in new_column_names:\n",
    "    filled_df[column].fillna(-1, inplace=True)\n",
    "filled_df"
   ],
   "metadata": {
    "collapsed": false,
    "pycharm": {
     "name": "#%%\n"
    }
   },
   "execution_count": 43,
   "outputs": [
    {
     "data": {
      "text/plain": "             Survived                                               Name  \\\nPassengerId                                                                \n1                 0.0                            Braund, Mr. Owen Harris   \n2                 1.0  Cumings, Mrs. John Bradley (Florence Briggs Th...   \n3                 1.0                             Heikkinen, Miss. Laina   \n4                 1.0       Futrelle, Mrs. Jacques Heath (Lily May Peel)   \n5                 0.0                           Allen, Mr. William Henry   \n...               ...                                                ...   \n1305              NaN                                 Spector, Mr. Woolf   \n1306              NaN                       Oliva y Ocana, Dona. Fermina   \n1307              NaN                       Saether, Mr. Simon Sivertsen   \n1308              NaN                                Ware, Mr. Frederick   \n1309              NaN                           Peter, Master. Michael J   \n\n                   Age              Ticket      Fare Cabin      FirstName  \\\nPassengerId                                                                 \n1            22.000000           A/5 21171    7.2500   NaN         Braund   \n2            38.000000            PC 17599   71.2833   C85        Cumings   \n3            26.000000    STON/O2. 3101282    7.9250   NaN      Heikkinen   \n4            35.000000              113803   53.1000  C123       Futrelle   \n5            35.000000              373450    8.0500   NaN          Allen   \n...                ...                 ...       ...   ...            ...   \n1305         31.467822           A.5. 3236    8.0500   NaN        Spector   \n1306         39.000000            PC 17758  108.9000  C105  Oliva y Ocana   \n1307         38.500000  SOTON/O.Q. 3101262    7.2500   NaN        Saether   \n1308         31.467822              359309    8.0500   NaN           Ware   \n1309          5.482642                2668   22.3583   NaN          Peter   \n\n                    LastName   Title  SibSp  Siblings  Spounce  Parch  \\\nPassengerId                                                             \n1                Owen Harris      Mr      1         1        0      0   \n2               John Bradley     Mrs      1         0        1      0   \n3                      Laina    Miss      0         0        0      0   \n4              Jacques Heath     Mrs      1         0        1      0   \n5              William Henry      Mr      0         0        0      0   \n...                      ...     ...    ...       ...      ...    ...   \n1305                   Woolf      Mr      0         0        0      0   \n1306                 Fermina    Dona      0         0        0      0   \n1307         Simon Sivertsen      Mr      0         0        0      0   \n1308               Frederick      Mr      0         0        0      0   \n1309               Michael J  Master      1         1        0      1   \n\n             Parents  Children  PassengersCount  FarePerPassenger  ZeroPrice  \\\nPassengerId                                                                    \n1                  0         0                1          7.250000          0   \n2                  0         0                2         35.641650          0   \n3                  0         0                1          7.925000          0   \n4                  0         0                2         26.550000          0   \n5                  0         0                1          8.050000          0   \n...              ...       ...              ...               ...        ...   \n1305               0         0                1          8.050000          0   \n1306               0         0                3         36.300000          0   \n1307               0         0                1          7.250000          0   \n1308               0         0                1          8.050000          0   \n1309               1         0                3          7.452767          0   \n\n             TravelsAlone  PclassFirst  PclassSecond  PclassThird  SexFemale  \\\nPassengerId                                                                    \n1                       0          0.0           0.0          1.0        0.0   \n2                       0          1.0           0.0          0.0        1.0   \n3                       1          0.0           0.0          1.0        1.0   \n4                       0          1.0           0.0          0.0        1.0   \n5                       1          0.0           0.0          1.0        0.0   \n...                   ...          ...           ...          ...        ...   \n1305                    1          0.0           0.0          1.0        0.0   \n1306                    1          1.0           0.0          0.0        1.0   \n1307                    1          0.0           0.0          1.0        0.0   \n1308                    1          0.0           0.0          1.0        0.0   \n1309                    0          0.0           0.0          1.0        0.0   \n\n             SexMale  EmbarkedC  EmbarkedQ  EmbarkedS  TotalRelatives  ALone  \\\nPassengerId                                                                    \n1                1.0        0.0        0.0        1.0               1      0   \n2                0.0        1.0        0.0        0.0               1      0   \n3                0.0        0.0        0.0        1.0               0      1   \n4                0.0        0.0        0.0        1.0               1      0   \n5                1.0        0.0        0.0        1.0               0      1   \n...              ...        ...        ...        ...             ...    ...   \n1305             1.0        0.0        0.0        1.0               0      1   \n1306             0.0        1.0        0.0        0.0               0      1   \n1307             1.0        0.0        0.0        1.0               0      1   \n1308             1.0        0.0        0.0        1.0               0      1   \n1309             1.0        1.0        0.0        0.0               2      0   \n\n             DeckA  DeckB  DeckC  DeckD  DeckE  DeckEmpty  DeckF  DeckG  \\\nPassengerId                                                               \n1              0.0    0.0    0.0    0.0    0.0        1.0    0.0    0.0   \n2              0.0    0.0    1.0    0.0    0.0        0.0    0.0    0.0   \n3              0.0    0.0    0.0    0.0    0.0        1.0    0.0    0.0   \n4              0.0    0.0    1.0    0.0    0.0        0.0    0.0    0.0   \n5              0.0    0.0    0.0    0.0    0.0        1.0    0.0    0.0   \n...            ...    ...    ...    ...    ...        ...    ...    ...   \n1305           0.0    0.0    0.0    0.0    0.0        1.0    0.0    0.0   \n1306           0.0    0.0    1.0    0.0    0.0        0.0    0.0    0.0   \n1307           0.0    0.0    0.0    0.0    0.0        1.0    0.0    0.0   \n1308           0.0    0.0    0.0    0.0    0.0        1.0    0.0    0.0   \n1309           0.0    0.0    0.0    0.0    0.0        1.0    0.0    0.0   \n\n             DeckT  OnlyHusband  ManyChildren  TicketMeanEncoded  \\\nPassengerId                                                        \n1              0.0            0             0               -1.0   \n2              0.0            1             0               -1.0   \n3              0.0            0             0               -1.0   \n4              0.0            1             0               -1.0   \n5              0.0            0             0               -1.0   \n...            ...          ...           ...                ...   \n1305           0.0            0             0               -1.0   \n1306           0.0            0             0                0.5   \n1307           0.0            0             0               -1.0   \n1308           0.0            0             0               -1.0   \n1309           0.0            0             0                1.0   \n\n             CabinMeanEncoded  TitleMeanEncoded  SibSpMeanEncoded  \\\nPassengerId                                                         \n1                        -1.0          0.165450          0.545455   \n2                        -1.0          0.791667          0.526946   \n3                        -1.0          0.682759          0.340206   \n4                        -1.0          0.790000          0.545455   \n5                        -1.0          0.158654          0.338809   \n...                       ...               ...               ...   \n1305                     -1.0          0.156673          0.345395   \n1306                     -1.0         -1.000000          0.345395   \n1307                     -1.0          0.156673          0.345395   \n1308                     -1.0          0.156673          0.345395   \n1309                     -1.0          0.575000          0.535885   \n\n             SiblingsMeanEncoded  SpounceMeanEncoded  ParchMeanEncoded  \\\nPassengerId                                                              \n1                       0.611111            0.374793          0.355140   \n2                       0.373942            0.486239          0.344444   \n3                       0.380546            0.351485          0.345656   \n4                       0.383959            0.527273          0.355140   \n5                       0.373514            0.357025          0.347826   \n...                          ...                 ...               ...   \n1305                    0.374659            0.359684          0.343658   \n1306                    0.374659            0.359684          0.343658   \n1307                    0.374659            0.359684          0.343658   \n1308                    0.374659            0.359684          0.343658   \n1309                    0.563218            0.359684          0.550847   \n\n             ParentsMeanEncoded  ChildrenMeanEncoded  \\\nPassengerId                                            \n1                      0.373984             0.390698   \n2                      0.361564             0.377504   \n3                      0.368932             0.372881   \n4                      0.373984             0.390698   \n5                      0.367576             0.373660   \n...                         ...                  ...   \n1305                   0.363165             0.374384   \n1306                   0.363165             0.374384   \n1307                   0.363165             0.374384   \n1308                   0.363165             0.374384   \n1309                   0.571429             0.374384   \n\n             PassengersCountMeanEncoded  FarePerPassengerMeanEncoded  \\\nPassengerId                                                            \n1                              0.284211                     0.187500   \n2                              0.496599                    -1.000000   \n3                              0.253927                     0.411765   \n4                              0.514085                     0.500000   \n5                              0.269231                     0.121951   \n...                                 ...                          ...   \n1305                           0.270270                     0.134615   \n1306                           0.653465                     0.500000   \n1307                           0.270270                     0.157895   \n1308                           0.270270                     0.134615   \n1309                           0.653465                     1.000000   \n\n             TravelsAloneMeanEncoded  PclassFirstMeanEncoded  \\\nPassengerId                                                    \n1                           0.522491                0.317254   \n2                           0.492908                0.611765   \n3                           0.294393                0.295327   \n4                           0.522491                0.649425   \n5                           0.304850                0.308688   \n...                              ...                     ...   \n1305                        0.303538                0.305185   \n1306                        0.303538                0.629630   \n1307                        0.303538                0.305185   \n1308                        0.303538                0.305185   \n1309                        0.505650                0.305185   \n\n             PclassSecondMeanEncoded  PclassThirdMeanEncoded  \\\nPassengerId                                                    \n1                           0.381206                0.261538   \n2                           0.360424                0.547468   \n3                           0.365248                0.230570   \n4                           0.381206                0.563467   \n5                           0.357016                0.237852   \n...                              ...                     ...   \n1305                        0.360679                0.242363   \n1306                        0.360679                0.557500   \n1307                        0.360679                0.242363   \n1308                        0.360679                0.242363   \n1309                        0.360679                0.242363   \n\n             SexFemaleMeanEncoded  SexMaleMeanEncoded  EmbarkedCMeanEncoded  \\\nPassengerId                                                                   \n1                        0.201299            0.201299              0.356522   \n2                        0.744939            0.744939              0.527132   \n3                        0.746094            0.746094              0.339655   \n4                        0.760956            0.760956              0.356522   \n5                        0.189130            0.189130              0.349736   \n...                           ...                 ...                   ...   \n1305                     0.188908            0.188908              0.344398   \n1306                     0.742038            0.742038              0.553571   \n1307                     0.188908            0.188908              0.344398   \n1308                     0.188908            0.188908              0.344398   \n1309                     0.188908            0.188908              0.553571   \n\n             EmbarkedQMeanEncoded  EmbarkedSMeanEncoded  \\\nPassengerId                                               \n1                        0.396024              0.348837   \n2                        0.379630              0.492228   \n3                        0.388633              0.337838   \n4                        0.396024              0.348837   \n5                        0.386154              0.345850   \n...                           ...                   ...   \n1305                     0.383292              0.339009   \n1306                     0.383292              0.502041   \n1307                     0.383292              0.339009   \n1308                     0.383292              0.339009   \n1309                     0.383292              0.502041   \n\n             TotalRelativesMeanEncoded  ALoneMeanEncoded  \\\nPassengerId                                                \n1                             0.565891          0.522491   \n2                             0.539683          0.492908   \n3                             0.294393          0.294393   \n4                             0.565891          0.522491   \n5                             0.304850          0.304850   \n...                                ...               ...   \n1305                          0.303538          0.303538   \n1306                          0.303538          0.303538   \n1307                          0.303538          0.303538   \n1308                          0.303538          0.303538   \n1309                          0.578431          0.505650   \n\n             OnlyHusbandMeanEncoded  ManyChildrenMeanEncoded  \\\nPassengerId                                                    \n1                          0.373887                 0.401418   \n2                          0.810811                 0.386364   \n3                          0.355655                 0.388652   \n4                          0.820513                 0.401418   \n5                          0.358209                 0.389518   \n...                             ...                      ...   \n1305                       0.358244                 0.387060   \n1306                       0.358244                 0.387060   \n1307                       0.358244                 0.387060   \n1308                       0.358244                 0.387060   \n1309                       0.358244                 0.387060   \n\n             DeckAMeanEncoded  DeckBMeanEncoded  DeckCMeanEncoded  \\\nPassengerId                                                         \n1                    0.395448          0.378900          0.383459   \n2                    0.381636          0.365385          0.545455   \n3                    0.384286          0.359584          0.367625   \n4                    0.395448          0.378900          0.604167   \n5                    0.385164          0.369118          0.367868   \n...                       ...               ...               ...   \n1305                 0.382420          0.363744          0.368990   \n1306                 0.382420          0.363744          0.593220   \n1307                 0.382420          0.363744          0.368990   \n1308                 0.382420          0.363744          0.368990   \n1309                 0.382420          0.363744          0.368990   \n\n             DeckDMeanEncoded  DeckEMeanEncoded  DeckEmptyMeanEncoded  \\\nPassengerId                                                             \n1                    0.383721          0.384615              0.310909   \n2                    0.371720          0.367496              0.644172   \n3                    0.371720          0.371925              0.293578   \n4                    0.383721          0.384615              0.693252   \n5                    0.370803          0.374090              0.306715   \n...                       ...               ...                   ...   \n1305                 0.369464          0.370198              0.299854   \n1306                 0.369464          0.370198              0.666667   \n1307                 0.369464          0.370198              0.299854   \n1308                 0.369464          0.370198              0.299854   \n1309                 0.369464          0.370198              0.299854   \n\n             DeckFMeanEncoded  DeckGMeanEncoded  DeckTMeanEncoded  \nPassengerId                                                        \n1                    0.394286          0.397183          0.398317  \n2                    0.379801          0.382228          0.383966  \n3                    0.384068          0.385915          0.386236  \n4                    0.394286          0.397183          0.398317  \n5                    0.382311          0.385915          0.386236  \n...                       ...               ...               ...  \n1305                 0.380410          0.383315          0.384270  \n1306                 0.380410          0.383315          0.384270  \n1307                 0.380410          0.383315          0.384270  \n1308                 0.380410          0.383315          0.384270  \n1309                 0.380410          0.383315          0.384270  \n\n[1309 rows x 73 columns]",
      "text/html": "<div>\n<style scoped>\n    .dataframe tbody tr th:only-of-type {\n        vertical-align: middle;\n    }\n\n    .dataframe tbody tr th {\n        vertical-align: top;\n    }\n\n    .dataframe thead th {\n        text-align: right;\n    }\n</style>\n<table border=\"1\" class=\"dataframe\">\n  <thead>\n    <tr style=\"text-align: right;\">\n      <th></th>\n      <th>Survived</th>\n      <th>Name</th>\n      <th>Age</th>\n      <th>Ticket</th>\n      <th>Fare</th>\n      <th>Cabin</th>\n      <th>FirstName</th>\n      <th>LastName</th>\n      <th>Title</th>\n      <th>SibSp</th>\n      <th>Siblings</th>\n      <th>Spounce</th>\n      <th>Parch</th>\n      <th>Parents</th>\n      <th>Children</th>\n      <th>PassengersCount</th>\n      <th>FarePerPassenger</th>\n      <th>ZeroPrice</th>\n      <th>TravelsAlone</th>\n      <th>PclassFirst</th>\n      <th>PclassSecond</th>\n      <th>PclassThird</th>\n      <th>SexFemale</th>\n      <th>SexMale</th>\n      <th>EmbarkedC</th>\n      <th>EmbarkedQ</th>\n      <th>EmbarkedS</th>\n      <th>TotalRelatives</th>\n      <th>ALone</th>\n      <th>DeckA</th>\n      <th>DeckB</th>\n      <th>DeckC</th>\n      <th>DeckD</th>\n      <th>DeckE</th>\n      <th>DeckEmpty</th>\n      <th>DeckF</th>\n      <th>DeckG</th>\n      <th>DeckT</th>\n      <th>OnlyHusband</th>\n      <th>ManyChildren</th>\n      <th>TicketMeanEncoded</th>\n      <th>CabinMeanEncoded</th>\n      <th>TitleMeanEncoded</th>\n      <th>SibSpMeanEncoded</th>\n      <th>SiblingsMeanEncoded</th>\n      <th>SpounceMeanEncoded</th>\n      <th>ParchMeanEncoded</th>\n      <th>ParentsMeanEncoded</th>\n      <th>ChildrenMeanEncoded</th>\n      <th>PassengersCountMeanEncoded</th>\n      <th>FarePerPassengerMeanEncoded</th>\n      <th>TravelsAloneMeanEncoded</th>\n      <th>PclassFirstMeanEncoded</th>\n      <th>PclassSecondMeanEncoded</th>\n      <th>PclassThirdMeanEncoded</th>\n      <th>SexFemaleMeanEncoded</th>\n      <th>SexMaleMeanEncoded</th>\n      <th>EmbarkedCMeanEncoded</th>\n      <th>EmbarkedQMeanEncoded</th>\n      <th>EmbarkedSMeanEncoded</th>\n      <th>TotalRelativesMeanEncoded</th>\n      <th>ALoneMeanEncoded</th>\n      <th>OnlyHusbandMeanEncoded</th>\n      <th>ManyChildrenMeanEncoded</th>\n      <th>DeckAMeanEncoded</th>\n      <th>DeckBMeanEncoded</th>\n      <th>DeckCMeanEncoded</th>\n      <th>DeckDMeanEncoded</th>\n      <th>DeckEMeanEncoded</th>\n      <th>DeckEmptyMeanEncoded</th>\n      <th>DeckFMeanEncoded</th>\n      <th>DeckGMeanEncoded</th>\n      <th>DeckTMeanEncoded</th>\n    </tr>\n    <tr>\n      <th>PassengerId</th>\n      <th></th>\n      <th></th>\n      <th></th>\n      <th></th>\n      <th></th>\n      <th></th>\n      <th></th>\n      <th></th>\n      <th></th>\n      <th></th>\n      <th></th>\n      <th></th>\n      <th></th>\n      <th></th>\n      <th></th>\n      <th></th>\n      <th></th>\n      <th></th>\n      <th></th>\n      <th></th>\n      <th></th>\n      <th></th>\n      <th></th>\n      <th></th>\n      <th></th>\n      <th></th>\n      <th></th>\n      <th></th>\n      <th></th>\n      <th></th>\n      <th></th>\n      <th></th>\n      <th></th>\n      <th></th>\n      <th></th>\n      <th></th>\n      <th></th>\n      <th></th>\n      <th></th>\n      <th></th>\n      <th></th>\n      <th></th>\n      <th></th>\n      <th></th>\n      <th></th>\n      <th></th>\n      <th></th>\n      <th></th>\n      <th></th>\n      <th></th>\n      <th></th>\n      <th></th>\n      <th></th>\n      <th></th>\n      <th></th>\n      <th></th>\n      <th></th>\n      <th></th>\n      <th></th>\n      <th></th>\n      <th></th>\n      <th></th>\n      <th></th>\n      <th></th>\n      <th></th>\n      <th></th>\n      <th></th>\n      <th></th>\n      <th></th>\n      <th></th>\n      <th></th>\n      <th></th>\n      <th></th>\n    </tr>\n  </thead>\n  <tbody>\n    <tr>\n      <th>1</th>\n      <td>0.0</td>\n      <td>Braund, Mr. Owen Harris</td>\n      <td>22.000000</td>\n      <td>A/5 21171</td>\n      <td>7.2500</td>\n      <td>NaN</td>\n      <td>Braund</td>\n      <td>Owen Harris</td>\n      <td>Mr</td>\n      <td>1</td>\n      <td>1</td>\n      <td>0</td>\n      <td>0</td>\n      <td>0</td>\n      <td>0</td>\n      <td>1</td>\n      <td>7.250000</td>\n      <td>0</td>\n      <td>0</td>\n      <td>0.0</td>\n      <td>0.0</td>\n      <td>1.0</td>\n      <td>0.0</td>\n      <td>1.0</td>\n      <td>0.0</td>\n      <td>0.0</td>\n      <td>1.0</td>\n      <td>1</td>\n      <td>0</td>\n      <td>0.0</td>\n      <td>0.0</td>\n      <td>0.0</td>\n      <td>0.0</td>\n      <td>0.0</td>\n      <td>1.0</td>\n      <td>0.0</td>\n      <td>0.0</td>\n      <td>0.0</td>\n      <td>0</td>\n      <td>0</td>\n      <td>-1.0</td>\n      <td>-1.0</td>\n      <td>0.165450</td>\n      <td>0.545455</td>\n      <td>0.611111</td>\n      <td>0.374793</td>\n      <td>0.355140</td>\n      <td>0.373984</td>\n      <td>0.390698</td>\n      <td>0.284211</td>\n      <td>0.187500</td>\n      <td>0.522491</td>\n      <td>0.317254</td>\n      <td>0.381206</td>\n      <td>0.261538</td>\n      <td>0.201299</td>\n      <td>0.201299</td>\n      <td>0.356522</td>\n      <td>0.396024</td>\n      <td>0.348837</td>\n      <td>0.565891</td>\n      <td>0.522491</td>\n      <td>0.373887</td>\n      <td>0.401418</td>\n      <td>0.395448</td>\n      <td>0.378900</td>\n      <td>0.383459</td>\n      <td>0.383721</td>\n      <td>0.384615</td>\n      <td>0.310909</td>\n      <td>0.394286</td>\n      <td>0.397183</td>\n      <td>0.398317</td>\n    </tr>\n    <tr>\n      <th>2</th>\n      <td>1.0</td>\n      <td>Cumings, Mrs. John Bradley (Florence Briggs Th...</td>\n      <td>38.000000</td>\n      <td>PC 17599</td>\n      <td>71.2833</td>\n      <td>C85</td>\n      <td>Cumings</td>\n      <td>John Bradley</td>\n      <td>Mrs</td>\n      <td>1</td>\n      <td>0</td>\n      <td>1</td>\n      <td>0</td>\n      <td>0</td>\n      <td>0</td>\n      <td>2</td>\n      <td>35.641650</td>\n      <td>0</td>\n      <td>0</td>\n      <td>1.0</td>\n      <td>0.0</td>\n      <td>0.0</td>\n      <td>1.0</td>\n      <td>0.0</td>\n      <td>1.0</td>\n      <td>0.0</td>\n      <td>0.0</td>\n      <td>1</td>\n      <td>0</td>\n      <td>0.0</td>\n      <td>0.0</td>\n      <td>1.0</td>\n      <td>0.0</td>\n      <td>0.0</td>\n      <td>0.0</td>\n      <td>0.0</td>\n      <td>0.0</td>\n      <td>0.0</td>\n      <td>1</td>\n      <td>0</td>\n      <td>-1.0</td>\n      <td>-1.0</td>\n      <td>0.791667</td>\n      <td>0.526946</td>\n      <td>0.373942</td>\n      <td>0.486239</td>\n      <td>0.344444</td>\n      <td>0.361564</td>\n      <td>0.377504</td>\n      <td>0.496599</td>\n      <td>-1.000000</td>\n      <td>0.492908</td>\n      <td>0.611765</td>\n      <td>0.360424</td>\n      <td>0.547468</td>\n      <td>0.744939</td>\n      <td>0.744939</td>\n      <td>0.527132</td>\n      <td>0.379630</td>\n      <td>0.492228</td>\n      <td>0.539683</td>\n      <td>0.492908</td>\n      <td>0.810811</td>\n      <td>0.386364</td>\n      <td>0.381636</td>\n      <td>0.365385</td>\n      <td>0.545455</td>\n      <td>0.371720</td>\n      <td>0.367496</td>\n      <td>0.644172</td>\n      <td>0.379801</td>\n      <td>0.382228</td>\n      <td>0.383966</td>\n    </tr>\n    <tr>\n      <th>3</th>\n      <td>1.0</td>\n      <td>Heikkinen, Miss. Laina</td>\n      <td>26.000000</td>\n      <td>STON/O2. 3101282</td>\n      <td>7.9250</td>\n      <td>NaN</td>\n      <td>Heikkinen</td>\n      <td>Laina</td>\n      <td>Miss</td>\n      <td>0</td>\n      <td>0</td>\n      <td>0</td>\n      <td>0</td>\n      <td>0</td>\n      <td>0</td>\n      <td>1</td>\n      <td>7.925000</td>\n      <td>0</td>\n      <td>1</td>\n      <td>0.0</td>\n      <td>0.0</td>\n      <td>1.0</td>\n      <td>1.0</td>\n      <td>0.0</td>\n      <td>0.0</td>\n      <td>0.0</td>\n      <td>1.0</td>\n      <td>0</td>\n      <td>1</td>\n      <td>0.0</td>\n      <td>0.0</td>\n      <td>0.0</td>\n      <td>0.0</td>\n      <td>0.0</td>\n      <td>1.0</td>\n      <td>0.0</td>\n      <td>0.0</td>\n      <td>0.0</td>\n      <td>0</td>\n      <td>0</td>\n      <td>-1.0</td>\n      <td>-1.0</td>\n      <td>0.682759</td>\n      <td>0.340206</td>\n      <td>0.380546</td>\n      <td>0.351485</td>\n      <td>0.345656</td>\n      <td>0.368932</td>\n      <td>0.372881</td>\n      <td>0.253927</td>\n      <td>0.411765</td>\n      <td>0.294393</td>\n      <td>0.295327</td>\n      <td>0.365248</td>\n      <td>0.230570</td>\n      <td>0.746094</td>\n      <td>0.746094</td>\n      <td>0.339655</td>\n      <td>0.388633</td>\n      <td>0.337838</td>\n      <td>0.294393</td>\n      <td>0.294393</td>\n      <td>0.355655</td>\n      <td>0.388652</td>\n      <td>0.384286</td>\n      <td>0.359584</td>\n      <td>0.367625</td>\n      <td>0.371720</td>\n      <td>0.371925</td>\n      <td>0.293578</td>\n      <td>0.384068</td>\n      <td>0.385915</td>\n      <td>0.386236</td>\n    </tr>\n    <tr>\n      <th>4</th>\n      <td>1.0</td>\n      <td>Futrelle, Mrs. Jacques Heath (Lily May Peel)</td>\n      <td>35.000000</td>\n      <td>113803</td>\n      <td>53.1000</td>\n      <td>C123</td>\n      <td>Futrelle</td>\n      <td>Jacques Heath</td>\n      <td>Mrs</td>\n      <td>1</td>\n      <td>0</td>\n      <td>1</td>\n      <td>0</td>\n      <td>0</td>\n      <td>0</td>\n      <td>2</td>\n      <td>26.550000</td>\n      <td>0</td>\n      <td>0</td>\n      <td>1.0</td>\n      <td>0.0</td>\n      <td>0.0</td>\n      <td>1.0</td>\n      <td>0.0</td>\n      <td>0.0</td>\n      <td>0.0</td>\n      <td>1.0</td>\n      <td>1</td>\n      <td>0</td>\n      <td>0.0</td>\n      <td>0.0</td>\n      <td>1.0</td>\n      <td>0.0</td>\n      <td>0.0</td>\n      <td>0.0</td>\n      <td>0.0</td>\n      <td>0.0</td>\n      <td>0.0</td>\n      <td>1</td>\n      <td>0</td>\n      <td>-1.0</td>\n      <td>-1.0</td>\n      <td>0.790000</td>\n      <td>0.545455</td>\n      <td>0.383959</td>\n      <td>0.527273</td>\n      <td>0.355140</td>\n      <td>0.373984</td>\n      <td>0.390698</td>\n      <td>0.514085</td>\n      <td>0.500000</td>\n      <td>0.522491</td>\n      <td>0.649425</td>\n      <td>0.381206</td>\n      <td>0.563467</td>\n      <td>0.760956</td>\n      <td>0.760956</td>\n      <td>0.356522</td>\n      <td>0.396024</td>\n      <td>0.348837</td>\n      <td>0.565891</td>\n      <td>0.522491</td>\n      <td>0.820513</td>\n      <td>0.401418</td>\n      <td>0.395448</td>\n      <td>0.378900</td>\n      <td>0.604167</td>\n      <td>0.383721</td>\n      <td>0.384615</td>\n      <td>0.693252</td>\n      <td>0.394286</td>\n      <td>0.397183</td>\n      <td>0.398317</td>\n    </tr>\n    <tr>\n      <th>5</th>\n      <td>0.0</td>\n      <td>Allen, Mr. William Henry</td>\n      <td>35.000000</td>\n      <td>373450</td>\n      <td>8.0500</td>\n      <td>NaN</td>\n      <td>Allen</td>\n      <td>William Henry</td>\n      <td>Mr</td>\n      <td>0</td>\n      <td>0</td>\n      <td>0</td>\n      <td>0</td>\n      <td>0</td>\n      <td>0</td>\n      <td>1</td>\n      <td>8.050000</td>\n      <td>0</td>\n      <td>1</td>\n      <td>0.0</td>\n      <td>0.0</td>\n      <td>1.0</td>\n      <td>0.0</td>\n      <td>1.0</td>\n      <td>0.0</td>\n      <td>0.0</td>\n      <td>1.0</td>\n      <td>0</td>\n      <td>1</td>\n      <td>0.0</td>\n      <td>0.0</td>\n      <td>0.0</td>\n      <td>0.0</td>\n      <td>0.0</td>\n      <td>1.0</td>\n      <td>0.0</td>\n      <td>0.0</td>\n      <td>0.0</td>\n      <td>0</td>\n      <td>0</td>\n      <td>-1.0</td>\n      <td>-1.0</td>\n      <td>0.158654</td>\n      <td>0.338809</td>\n      <td>0.373514</td>\n      <td>0.357025</td>\n      <td>0.347826</td>\n      <td>0.367576</td>\n      <td>0.373660</td>\n      <td>0.269231</td>\n      <td>0.121951</td>\n      <td>0.304850</td>\n      <td>0.308688</td>\n      <td>0.357016</td>\n      <td>0.237852</td>\n      <td>0.189130</td>\n      <td>0.189130</td>\n      <td>0.349736</td>\n      <td>0.386154</td>\n      <td>0.345850</td>\n      <td>0.304850</td>\n      <td>0.304850</td>\n      <td>0.358209</td>\n      <td>0.389518</td>\n      <td>0.385164</td>\n      <td>0.369118</td>\n      <td>0.367868</td>\n      <td>0.370803</td>\n      <td>0.374090</td>\n      <td>0.306715</td>\n      <td>0.382311</td>\n      <td>0.385915</td>\n      <td>0.386236</td>\n    </tr>\n    <tr>\n      <th>...</th>\n      <td>...</td>\n      <td>...</td>\n      <td>...</td>\n      <td>...</td>\n      <td>...</td>\n      <td>...</td>\n      <td>...</td>\n      <td>...</td>\n      <td>...</td>\n      <td>...</td>\n      <td>...</td>\n      <td>...</td>\n      <td>...</td>\n      <td>...</td>\n      <td>...</td>\n      <td>...</td>\n      <td>...</td>\n      <td>...</td>\n      <td>...</td>\n      <td>...</td>\n      <td>...</td>\n      <td>...</td>\n      <td>...</td>\n      <td>...</td>\n      <td>...</td>\n      <td>...</td>\n      <td>...</td>\n      <td>...</td>\n      <td>...</td>\n      <td>...</td>\n      <td>...</td>\n      <td>...</td>\n      <td>...</td>\n      <td>...</td>\n      <td>...</td>\n      <td>...</td>\n      <td>...</td>\n      <td>...</td>\n      <td>...</td>\n      <td>...</td>\n      <td>...</td>\n      <td>...</td>\n      <td>...</td>\n      <td>...</td>\n      <td>...</td>\n      <td>...</td>\n      <td>...</td>\n      <td>...</td>\n      <td>...</td>\n      <td>...</td>\n      <td>...</td>\n      <td>...</td>\n      <td>...</td>\n      <td>...</td>\n      <td>...</td>\n      <td>...</td>\n      <td>...</td>\n      <td>...</td>\n      <td>...</td>\n      <td>...</td>\n      <td>...</td>\n      <td>...</td>\n      <td>...</td>\n      <td>...</td>\n      <td>...</td>\n      <td>...</td>\n      <td>...</td>\n      <td>...</td>\n      <td>...</td>\n      <td>...</td>\n      <td>...</td>\n      <td>...</td>\n      <td>...</td>\n    </tr>\n    <tr>\n      <th>1305</th>\n      <td>NaN</td>\n      <td>Spector, Mr. Woolf</td>\n      <td>31.467822</td>\n      <td>A.5. 3236</td>\n      <td>8.0500</td>\n      <td>NaN</td>\n      <td>Spector</td>\n      <td>Woolf</td>\n      <td>Mr</td>\n      <td>0</td>\n      <td>0</td>\n      <td>0</td>\n      <td>0</td>\n      <td>0</td>\n      <td>0</td>\n      <td>1</td>\n      <td>8.050000</td>\n      <td>0</td>\n      <td>1</td>\n      <td>0.0</td>\n      <td>0.0</td>\n      <td>1.0</td>\n      <td>0.0</td>\n      <td>1.0</td>\n      <td>0.0</td>\n      <td>0.0</td>\n      <td>1.0</td>\n      <td>0</td>\n      <td>1</td>\n      <td>0.0</td>\n      <td>0.0</td>\n      <td>0.0</td>\n      <td>0.0</td>\n      <td>0.0</td>\n      <td>1.0</td>\n      <td>0.0</td>\n      <td>0.0</td>\n      <td>0.0</td>\n      <td>0</td>\n      <td>0</td>\n      <td>-1.0</td>\n      <td>-1.0</td>\n      <td>0.156673</td>\n      <td>0.345395</td>\n      <td>0.374659</td>\n      <td>0.359684</td>\n      <td>0.343658</td>\n      <td>0.363165</td>\n      <td>0.374384</td>\n      <td>0.270270</td>\n      <td>0.134615</td>\n      <td>0.303538</td>\n      <td>0.305185</td>\n      <td>0.360679</td>\n      <td>0.242363</td>\n      <td>0.188908</td>\n      <td>0.188908</td>\n      <td>0.344398</td>\n      <td>0.383292</td>\n      <td>0.339009</td>\n      <td>0.303538</td>\n      <td>0.303538</td>\n      <td>0.358244</td>\n      <td>0.387060</td>\n      <td>0.382420</td>\n      <td>0.363744</td>\n      <td>0.368990</td>\n      <td>0.369464</td>\n      <td>0.370198</td>\n      <td>0.299854</td>\n      <td>0.380410</td>\n      <td>0.383315</td>\n      <td>0.384270</td>\n    </tr>\n    <tr>\n      <th>1306</th>\n      <td>NaN</td>\n      <td>Oliva y Ocana, Dona. Fermina</td>\n      <td>39.000000</td>\n      <td>PC 17758</td>\n      <td>108.9000</td>\n      <td>C105</td>\n      <td>Oliva y Ocana</td>\n      <td>Fermina</td>\n      <td>Dona</td>\n      <td>0</td>\n      <td>0</td>\n      <td>0</td>\n      <td>0</td>\n      <td>0</td>\n      <td>0</td>\n      <td>3</td>\n      <td>36.300000</td>\n      <td>0</td>\n      <td>1</td>\n      <td>1.0</td>\n      <td>0.0</td>\n      <td>0.0</td>\n      <td>1.0</td>\n      <td>0.0</td>\n      <td>1.0</td>\n      <td>0.0</td>\n      <td>0.0</td>\n      <td>0</td>\n      <td>1</td>\n      <td>0.0</td>\n      <td>0.0</td>\n      <td>1.0</td>\n      <td>0.0</td>\n      <td>0.0</td>\n      <td>0.0</td>\n      <td>0.0</td>\n      <td>0.0</td>\n      <td>0.0</td>\n      <td>0</td>\n      <td>0</td>\n      <td>0.5</td>\n      <td>-1.0</td>\n      <td>-1.000000</td>\n      <td>0.345395</td>\n      <td>0.374659</td>\n      <td>0.359684</td>\n      <td>0.343658</td>\n      <td>0.363165</td>\n      <td>0.374384</td>\n      <td>0.653465</td>\n      <td>0.500000</td>\n      <td>0.303538</td>\n      <td>0.629630</td>\n      <td>0.360679</td>\n      <td>0.557500</td>\n      <td>0.742038</td>\n      <td>0.742038</td>\n      <td>0.553571</td>\n      <td>0.383292</td>\n      <td>0.502041</td>\n      <td>0.303538</td>\n      <td>0.303538</td>\n      <td>0.358244</td>\n      <td>0.387060</td>\n      <td>0.382420</td>\n      <td>0.363744</td>\n      <td>0.593220</td>\n      <td>0.369464</td>\n      <td>0.370198</td>\n      <td>0.666667</td>\n      <td>0.380410</td>\n      <td>0.383315</td>\n      <td>0.384270</td>\n    </tr>\n    <tr>\n      <th>1307</th>\n      <td>NaN</td>\n      <td>Saether, Mr. Simon Sivertsen</td>\n      <td>38.500000</td>\n      <td>SOTON/O.Q. 3101262</td>\n      <td>7.2500</td>\n      <td>NaN</td>\n      <td>Saether</td>\n      <td>Simon Sivertsen</td>\n      <td>Mr</td>\n      <td>0</td>\n      <td>0</td>\n      <td>0</td>\n      <td>0</td>\n      <td>0</td>\n      <td>0</td>\n      <td>1</td>\n      <td>7.250000</td>\n      <td>0</td>\n      <td>1</td>\n      <td>0.0</td>\n      <td>0.0</td>\n      <td>1.0</td>\n      <td>0.0</td>\n      <td>1.0</td>\n      <td>0.0</td>\n      <td>0.0</td>\n      <td>1.0</td>\n      <td>0</td>\n      <td>1</td>\n      <td>0.0</td>\n      <td>0.0</td>\n      <td>0.0</td>\n      <td>0.0</td>\n      <td>0.0</td>\n      <td>1.0</td>\n      <td>0.0</td>\n      <td>0.0</td>\n      <td>0.0</td>\n      <td>0</td>\n      <td>0</td>\n      <td>-1.0</td>\n      <td>-1.0</td>\n      <td>0.156673</td>\n      <td>0.345395</td>\n      <td>0.374659</td>\n      <td>0.359684</td>\n      <td>0.343658</td>\n      <td>0.363165</td>\n      <td>0.374384</td>\n      <td>0.270270</td>\n      <td>0.157895</td>\n      <td>0.303538</td>\n      <td>0.305185</td>\n      <td>0.360679</td>\n      <td>0.242363</td>\n      <td>0.188908</td>\n      <td>0.188908</td>\n      <td>0.344398</td>\n      <td>0.383292</td>\n      <td>0.339009</td>\n      <td>0.303538</td>\n      <td>0.303538</td>\n      <td>0.358244</td>\n      <td>0.387060</td>\n      <td>0.382420</td>\n      <td>0.363744</td>\n      <td>0.368990</td>\n      <td>0.369464</td>\n      <td>0.370198</td>\n      <td>0.299854</td>\n      <td>0.380410</td>\n      <td>0.383315</td>\n      <td>0.384270</td>\n    </tr>\n    <tr>\n      <th>1308</th>\n      <td>NaN</td>\n      <td>Ware, Mr. Frederick</td>\n      <td>31.467822</td>\n      <td>359309</td>\n      <td>8.0500</td>\n      <td>NaN</td>\n      <td>Ware</td>\n      <td>Frederick</td>\n      <td>Mr</td>\n      <td>0</td>\n      <td>0</td>\n      <td>0</td>\n      <td>0</td>\n      <td>0</td>\n      <td>0</td>\n      <td>1</td>\n      <td>8.050000</td>\n      <td>0</td>\n      <td>1</td>\n      <td>0.0</td>\n      <td>0.0</td>\n      <td>1.0</td>\n      <td>0.0</td>\n      <td>1.0</td>\n      <td>0.0</td>\n      <td>0.0</td>\n      <td>1.0</td>\n      <td>0</td>\n      <td>1</td>\n      <td>0.0</td>\n      <td>0.0</td>\n      <td>0.0</td>\n      <td>0.0</td>\n      <td>0.0</td>\n      <td>1.0</td>\n      <td>0.0</td>\n      <td>0.0</td>\n      <td>0.0</td>\n      <td>0</td>\n      <td>0</td>\n      <td>-1.0</td>\n      <td>-1.0</td>\n      <td>0.156673</td>\n      <td>0.345395</td>\n      <td>0.374659</td>\n      <td>0.359684</td>\n      <td>0.343658</td>\n      <td>0.363165</td>\n      <td>0.374384</td>\n      <td>0.270270</td>\n      <td>0.134615</td>\n      <td>0.303538</td>\n      <td>0.305185</td>\n      <td>0.360679</td>\n      <td>0.242363</td>\n      <td>0.188908</td>\n      <td>0.188908</td>\n      <td>0.344398</td>\n      <td>0.383292</td>\n      <td>0.339009</td>\n      <td>0.303538</td>\n      <td>0.303538</td>\n      <td>0.358244</td>\n      <td>0.387060</td>\n      <td>0.382420</td>\n      <td>0.363744</td>\n      <td>0.368990</td>\n      <td>0.369464</td>\n      <td>0.370198</td>\n      <td>0.299854</td>\n      <td>0.380410</td>\n      <td>0.383315</td>\n      <td>0.384270</td>\n    </tr>\n    <tr>\n      <th>1309</th>\n      <td>NaN</td>\n      <td>Peter, Master. Michael J</td>\n      <td>5.482642</td>\n      <td>2668</td>\n      <td>22.3583</td>\n      <td>NaN</td>\n      <td>Peter</td>\n      <td>Michael J</td>\n      <td>Master</td>\n      <td>1</td>\n      <td>1</td>\n      <td>0</td>\n      <td>1</td>\n      <td>1</td>\n      <td>0</td>\n      <td>3</td>\n      <td>7.452767</td>\n      <td>0</td>\n      <td>0</td>\n      <td>0.0</td>\n      <td>0.0</td>\n      <td>1.0</td>\n      <td>0.0</td>\n      <td>1.0</td>\n      <td>1.0</td>\n      <td>0.0</td>\n      <td>0.0</td>\n      <td>2</td>\n      <td>0</td>\n      <td>0.0</td>\n      <td>0.0</td>\n      <td>0.0</td>\n      <td>0.0</td>\n      <td>0.0</td>\n      <td>1.0</td>\n      <td>0.0</td>\n      <td>0.0</td>\n      <td>0.0</td>\n      <td>0</td>\n      <td>0</td>\n      <td>1.0</td>\n      <td>-1.0</td>\n      <td>0.575000</td>\n      <td>0.535885</td>\n      <td>0.563218</td>\n      <td>0.359684</td>\n      <td>0.550847</td>\n      <td>0.571429</td>\n      <td>0.374384</td>\n      <td>0.653465</td>\n      <td>1.000000</td>\n      <td>0.505650</td>\n      <td>0.305185</td>\n      <td>0.360679</td>\n      <td>0.242363</td>\n      <td>0.188908</td>\n      <td>0.188908</td>\n      <td>0.553571</td>\n      <td>0.383292</td>\n      <td>0.502041</td>\n      <td>0.578431</td>\n      <td>0.505650</td>\n      <td>0.358244</td>\n      <td>0.387060</td>\n      <td>0.382420</td>\n      <td>0.363744</td>\n      <td>0.368990</td>\n      <td>0.369464</td>\n      <td>0.370198</td>\n      <td>0.299854</td>\n      <td>0.380410</td>\n      <td>0.383315</td>\n      <td>0.384270</td>\n    </tr>\n  </tbody>\n</table>\n<p>1309 rows × 73 columns</p>\n</div>"
     },
     "execution_count": 43,
     "metadata": {},
     "output_type": "execute_result"
    }
   ]
  },
  {
   "cell_type": "code",
   "execution_count": 44,
   "outputs": [
    {
     "data": {
      "text/plain": "['Ticket',\n 'Cabin',\n 'Title',\n 'SibSp',\n 'Siblings',\n 'Spounce',\n 'Parch',\n 'Parents',\n 'Children',\n 'PassengersCount',\n 'FarePerPassenger',\n 'TravelsAlone',\n 'PclassFirst',\n 'PclassSecond',\n 'PclassThird',\n 'SexFemale',\n 'SexMale',\n 'EmbarkedC',\n 'EmbarkedQ',\n 'EmbarkedS',\n 'TotalRelatives',\n 'ALone',\n 'OnlyHusband',\n 'ManyChildren',\n 'DeckA',\n 'DeckB',\n 'DeckC',\n 'DeckD',\n 'DeckE',\n 'DeckEmpty',\n 'DeckF',\n 'DeckG',\n 'DeckT']"
     },
     "execution_count": 44,
     "metadata": {},
     "output_type": "execute_result"
    }
   ],
   "source": [
    "new_columns"
   ],
   "metadata": {
    "collapsed": false,
    "pycharm": {
     "name": "#%%\n"
    }
   }
  },
  {
   "cell_type": "markdown",
   "source": [
    "# Save the modified data"
   ],
   "metadata": {
    "collapsed": false
   }
  },
  {
   "cell_type": "code",
   "execution_count": 45,
   "outputs": [],
   "source": [
    "filled_df.to_csv('data/No hands data.csv', index=True, header=True,\n",
    "                 index_label='PassengerId')"
   ],
   "metadata": {
    "collapsed": false,
    "pycharm": {
     "name": "#%%\n"
    }
   }
  },
  {
   "cell_type": "markdown",
   "source": [
    "check Decision tree"
   ],
   "metadata": {
    "collapsed": false
   }
  },
  {
   "cell_type": "code",
   "execution_count": 46,
   "outputs": [],
   "source": [
    "train_df = filled_df[filled_df['Survived'].isna() == False]\n",
    "X = train_df.drop('Survived', axis=1)\n",
    "y = train_df['Survived']"
   ],
   "metadata": {
    "collapsed": false,
    "pycharm": {
     "name": "#%%\n"
    }
   }
  },
  {
   "cell_type": "code",
   "execution_count": 47,
   "outputs": [],
   "source": [
    "test_df = filled_df[filled_df['Survived'].isna() == True]\n",
    "X_test = test_df.drop('Survived', axis=1)\n"
   ],
   "metadata": {
    "collapsed": false,
    "pycharm": {
     "name": "#%%\n"
    }
   }
  },
  {
   "cell_type": "code",
   "execution_count": 48,
   "outputs": [],
   "source": [
    "redundant_columns = ['Name', 'FirstName', 'LastName', 'Ticket', 'Cabin',\n",
    "                     'Title']\n",
    "X = X.drop(redundant_columns, axis=1)\n",
    "X_test = X_test.drop(redundant_columns, axis=1)"
   ],
   "metadata": {
    "collapsed": false,
    "pycharm": {
     "name": "#%%\n"
    }
   }
  },
  {
   "cell_type": "code",
   "execution_count": 49,
   "outputs": [
    {
     "data": {
      "text/plain": "                   Age     Fare  SibSp  Siblings  Spounce  Parch  Parents  \\\nPassengerId                                                                 \n1            22.000000   7.2500      1         1        0      0        0   \n2            38.000000  71.2833      1         0        1      0        0   \n3            26.000000   7.9250      0         0        0      0        0   \n4            35.000000  53.1000      1         0        1      0        0   \n5            35.000000   8.0500      0         0        0      0        0   \n...                ...      ...    ...       ...      ...    ...      ...   \n887          27.000000  13.0000      0         0        0      0        0   \n888          19.000000  30.0000      0         0        0      0        0   \n889          10.520189  23.4500      1         1        0      2        2   \n890          26.000000  30.0000      0         0        0      0        0   \n891          32.000000   7.7500      0         0        0      0        0   \n\n             Children  PassengersCount  FarePerPassenger  ZeroPrice  \\\nPassengerId                                                           \n1                   0                1           7.25000          0   \n2                   0                2          35.64165          0   \n3                   0                1           7.92500          0   \n4                   0                2          26.55000          0   \n5                   0                1           8.05000          0   \n...               ...              ...               ...        ...   \n887                 0                1          13.00000          0   \n888                 0                1          30.00000          0   \n889                 0                4           5.86250          0   \n890                 0                1          30.00000          0   \n891                 0                1           7.75000          0   \n\n             TravelsAlone  PclassFirst  PclassSecond  PclassThird  SexFemale  \\\nPassengerId                                                                    \n1                       0          0.0           0.0          1.0        0.0   \n2                       0          1.0           0.0          0.0        1.0   \n3                       1          0.0           0.0          1.0        1.0   \n4                       0          1.0           0.0          0.0        1.0   \n5                       1          0.0           0.0          1.0        0.0   \n...                   ...          ...           ...          ...        ...   \n887                     1          0.0           1.0          0.0        0.0   \n888                     1          1.0           0.0          0.0        1.0   \n889                     0          0.0           0.0          1.0        1.0   \n890                     1          1.0           0.0          0.0        0.0   \n891                     1          0.0           0.0          1.0        0.0   \n\n             SexMale  EmbarkedC  EmbarkedQ  EmbarkedS  TotalRelatives  ALone  \\\nPassengerId                                                                    \n1                1.0        0.0        0.0        1.0               1      0   \n2                0.0        1.0        0.0        0.0               1      0   \n3                0.0        0.0        0.0        1.0               0      1   \n4                0.0        0.0        0.0        1.0               1      0   \n5                1.0        0.0        0.0        1.0               0      1   \n...              ...        ...        ...        ...             ...    ...   \n887              1.0        0.0        0.0        1.0               0      1   \n888              0.0        0.0        0.0        1.0               0      1   \n889              0.0        0.0        0.0        1.0               3      0   \n890              1.0        1.0        0.0        0.0               0      1   \n891              1.0        0.0        1.0        0.0               0      1   \n\n             DeckA  DeckB  DeckC  DeckD  DeckE  DeckEmpty  DeckF  DeckG  \\\nPassengerId                                                               \n1              0.0    0.0    0.0    0.0    0.0        1.0    0.0    0.0   \n2              0.0    0.0    1.0    0.0    0.0        0.0    0.0    0.0   \n3              0.0    0.0    0.0    0.0    0.0        1.0    0.0    0.0   \n4              0.0    0.0    1.0    0.0    0.0        0.0    0.0    0.0   \n5              0.0    0.0    0.0    0.0    0.0        1.0    0.0    0.0   \n...            ...    ...    ...    ...    ...        ...    ...    ...   \n887            0.0    0.0    0.0    0.0    0.0        1.0    0.0    0.0   \n888            0.0    1.0    0.0    0.0    0.0        0.0    0.0    0.0   \n889            0.0    0.0    0.0    0.0    0.0        1.0    0.0    0.0   \n890            0.0    0.0    1.0    0.0    0.0        0.0    0.0    0.0   \n891            0.0    0.0    0.0    0.0    0.0        1.0    0.0    0.0   \n\n             DeckT  OnlyHusband  ManyChildren  TicketMeanEncoded  \\\nPassengerId                                                        \n1              0.0            0             0               -1.0   \n2              0.0            1             0               -1.0   \n3              0.0            0             0               -1.0   \n4              0.0            1             0               -1.0   \n5              0.0            0             0               -1.0   \n...            ...          ...           ...                ...   \n887            0.0            0             0               -1.0   \n888            0.0            0             0               -1.0   \n889            0.0            0             0                0.0   \n890            0.0            0             0               -1.0   \n891            0.0            0             0               -1.0   \n\n             CabinMeanEncoded  TitleMeanEncoded  SibSpMeanEncoded  \\\nPassengerId                                                         \n1                        -1.0          0.165450          0.545455   \n2                        -1.0          0.791667          0.526946   \n3                        -1.0          0.682759          0.340206   \n4                        -1.0          0.790000          0.545455   \n5                        -1.0          0.158654          0.338809   \n...                       ...               ...               ...   \n887                      -1.0          0.000000          0.340206   \n888                      -1.0          0.703448          0.349794   \n889                      -1.0          0.734694          0.545455   \n890                      -1.0          0.154412          0.340206   \n891                      -1.0          0.155131          0.349794   \n\n             SiblingsMeanEncoded  SpounceMeanEncoded  ParchMeanEncoded  \\\nPassengerId                                                              \n1                       0.611111            0.374793          0.355140   \n2                       0.373942            0.486239          0.344444   \n3                       0.380546            0.351485          0.345656   \n4                       0.383959            0.527273          0.355140   \n5                       0.373514            0.357025          0.347826   \n...                          ...                 ...               ...   \n887                     0.380546            0.351485          0.345656   \n888                     0.373942            0.364842          0.344444   \n889                     0.611111            0.374793          0.492754   \n890                     0.380546            0.351485          0.345656   \n891                     0.373942            0.364842          0.344444   \n\n             ParentsMeanEncoded  ChildrenMeanEncoded  \\\nPassengerId                                            \n1                      0.373984             0.390698   \n2                      0.361564             0.377504   \n3                      0.368932             0.372881   \n4                      0.373984             0.390698   \n5                      0.367576             0.373660   \n...                         ...                  ...   \n887                    0.368932             0.372881   \n888                    0.361564             0.377504   \n889                    0.458333             0.390698   \n890                    0.368932             0.372881   \n891                    0.361564             0.377504   \n\n             PassengersCountMeanEncoded  FarePerPassengerMeanEncoded  \\\nPassengerId                                                            \n1                              0.284211                     0.187500   \n2                              0.496599                    -1.000000   \n3                              0.253927                     0.411765   \n4                              0.514085                     0.500000   \n5                              0.269231                     0.121951   \n...                                 ...                          ...   \n887                            0.253927                     0.416667   \n888                            0.287206                     0.714286   \n889                            0.777778                     0.000000   \n890                            0.253927                     0.800000   \n891                            0.287206                     0.388889   \n\n             TravelsAloneMeanEncoded  PclassFirstMeanEncoded  \\\nPassengerId                                                    \n1                           0.522491                0.317254   \n2                           0.492908                0.611765   \n3                           0.294393                0.295327   \n4                           0.522491                0.649425   \n5                           0.304850                0.308688   \n...                              ...                     ...   \n887                         0.294393                0.295327   \n888                         0.311628                0.611765   \n889                         0.522491                0.317254   \n890                         0.294393                0.657303   \n891                         0.311628                0.311808   \n\n             PclassSecondMeanEncoded  PclassThirdMeanEncoded  \\\nPassengerId                                                    \n1                           0.381206                0.261538   \n2                           0.360424                0.547468   \n3                           0.365248                0.230570   \n4                           0.381206                0.563467   \n5                           0.357016                0.237852   \n...                              ...                     ...   \n887                         0.463087                0.568807   \n888                         0.360424                0.547468   \n889                         0.381206                0.261538   \n890                         0.365248                0.568807   \n891                         0.360424                0.252525   \n\n             SexFemaleMeanEncoded  SexMaleMeanEncoded  EmbarkedCMeanEncoded  \\\nPassengerId                                                                   \n1                        0.201299            0.201299              0.356522   \n2                        0.744939            0.744939              0.527132   \n3                        0.746094            0.746094              0.339655   \n4                        0.760956            0.760956              0.356522   \n5                        0.189130            0.189130              0.349736   \n...                           ...                 ...                   ...   \n887                      0.183807            0.183807              0.339655   \n888                      0.744939            0.744939              0.351630   \n889                      0.760956            0.760956              0.356522   \n890                      0.183807            0.183807              0.586466   \n891                      0.191398            0.191398              0.351630   \n\n             EmbarkedQMeanEncoded  EmbarkedSMeanEncoded  \\\nPassengerId                                               \n1                        0.396024              0.348837   \n2                        0.379630              0.492228   \n3                        0.388633              0.337838   \n4                        0.396024              0.348837   \n5                        0.386154              0.345850   \n...                           ...                   ...   \n887                      0.388633              0.337838   \n888                      0.379630              0.342967   \n889                      0.396024              0.348837   \n890                      0.388633              0.512821   \n891                      0.421875              0.492228   \n\n             TotalRelativesMeanEncoded  ALoneMeanEncoded  \\\nPassengerId                                                \n1                             0.565891          0.522491   \n2                             0.539683          0.492908   \n3                             0.294393          0.294393   \n4                             0.565891          0.522491   \n5                             0.304850          0.304850   \n...                                ...               ...   \n887                           0.294393          0.294393   \n888                           0.311628          0.311628   \n889                           0.769231          0.522491   \n890                           0.294393          0.294393   \n891                           0.311628          0.311628   \n\n             OnlyHusbandMeanEncoded  ManyChildrenMeanEncoded  \\\nPassengerId                                                    \n1                          0.373887                 0.401418   \n2                          0.810811                 0.386364   \n3                          0.355655                 0.388652   \n4                          0.820513                 0.401418   \n5                          0.358209                 0.389518   \n...                             ...                      ...   \n887                        0.355655                 0.388652   \n888                        0.360000                 0.386364   \n889                        0.373887                 0.401418   \n890                        0.355655                 0.388652   \n891                        0.360000                 0.386364   \n\n             DeckAMeanEncoded  DeckBMeanEncoded  DeckCMeanEncoded  \\\nPassengerId                                                         \n1                    0.395448          0.378900          0.383459   \n2                    0.381636          0.365385          0.545455   \n3                    0.384286          0.359584          0.367625   \n4                    0.395448          0.378900          0.604167   \n5                    0.385164          0.369118          0.367868   \n...                       ...               ...               ...   \n887                  0.384286          0.359584          0.367625   \n888                  0.381636          0.722222          0.372754   \n889                  0.395448          0.378900          0.383459   \n890                  0.384286          0.359584          0.615385   \n891                  0.381636          0.365385          0.372754   \n\n             DeckDMeanEncoded  DeckEMeanEncoded  DeckEmptyMeanEncoded  \\\nPassengerId                                                             \n1                    0.383721          0.384615              0.310909   \n2                    0.371720          0.367496              0.644172   \n3                    0.371720          0.371925              0.293578   \n4                    0.383721          0.384615              0.693252   \n5                    0.370803          0.374090              0.306715   \n...                       ...               ...                   ...   \n887                  0.371720          0.371925              0.293578   \n888                  0.371720          0.367496              0.644172   \n889                  0.383721          0.384615              0.310909   \n890                  0.371720          0.371925              0.684524   \n891                  0.371720          0.367496              0.306011   \n\n             DeckFMeanEncoded  DeckGMeanEncoded  DeckTMeanEncoded  \nPassengerId                                                        \n1                    0.394286          0.397183          0.398317  \n2                    0.379801          0.382228          0.383966  \n3                    0.384068          0.385915          0.386236  \n4                    0.394286          0.397183          0.398317  \n5                    0.382311          0.385915          0.386236  \n...                       ...               ...               ...  \n887                  0.384068          0.385915          0.386236  \n888                  0.379801          0.382228          0.383966  \n889                  0.394286          0.397183          0.398317  \n890                  0.384068          0.385915          0.386236  \n891                  0.379801          0.382228          0.383966  \n\n[891 rows x 66 columns]",
      "text/html": "<div>\n<style scoped>\n    .dataframe tbody tr th:only-of-type {\n        vertical-align: middle;\n    }\n\n    .dataframe tbody tr th {\n        vertical-align: top;\n    }\n\n    .dataframe thead th {\n        text-align: right;\n    }\n</style>\n<table border=\"1\" class=\"dataframe\">\n  <thead>\n    <tr style=\"text-align: right;\">\n      <th></th>\n      <th>Age</th>\n      <th>Fare</th>\n      <th>SibSp</th>\n      <th>Siblings</th>\n      <th>Spounce</th>\n      <th>Parch</th>\n      <th>Parents</th>\n      <th>Children</th>\n      <th>PassengersCount</th>\n      <th>FarePerPassenger</th>\n      <th>ZeroPrice</th>\n      <th>TravelsAlone</th>\n      <th>PclassFirst</th>\n      <th>PclassSecond</th>\n      <th>PclassThird</th>\n      <th>SexFemale</th>\n      <th>SexMale</th>\n      <th>EmbarkedC</th>\n      <th>EmbarkedQ</th>\n      <th>EmbarkedS</th>\n      <th>TotalRelatives</th>\n      <th>ALone</th>\n      <th>DeckA</th>\n      <th>DeckB</th>\n      <th>DeckC</th>\n      <th>DeckD</th>\n      <th>DeckE</th>\n      <th>DeckEmpty</th>\n      <th>DeckF</th>\n      <th>DeckG</th>\n      <th>DeckT</th>\n      <th>OnlyHusband</th>\n      <th>ManyChildren</th>\n      <th>TicketMeanEncoded</th>\n      <th>CabinMeanEncoded</th>\n      <th>TitleMeanEncoded</th>\n      <th>SibSpMeanEncoded</th>\n      <th>SiblingsMeanEncoded</th>\n      <th>SpounceMeanEncoded</th>\n      <th>ParchMeanEncoded</th>\n      <th>ParentsMeanEncoded</th>\n      <th>ChildrenMeanEncoded</th>\n      <th>PassengersCountMeanEncoded</th>\n      <th>FarePerPassengerMeanEncoded</th>\n      <th>TravelsAloneMeanEncoded</th>\n      <th>PclassFirstMeanEncoded</th>\n      <th>PclassSecondMeanEncoded</th>\n      <th>PclassThirdMeanEncoded</th>\n      <th>SexFemaleMeanEncoded</th>\n      <th>SexMaleMeanEncoded</th>\n      <th>EmbarkedCMeanEncoded</th>\n      <th>EmbarkedQMeanEncoded</th>\n      <th>EmbarkedSMeanEncoded</th>\n      <th>TotalRelativesMeanEncoded</th>\n      <th>ALoneMeanEncoded</th>\n      <th>OnlyHusbandMeanEncoded</th>\n      <th>ManyChildrenMeanEncoded</th>\n      <th>DeckAMeanEncoded</th>\n      <th>DeckBMeanEncoded</th>\n      <th>DeckCMeanEncoded</th>\n      <th>DeckDMeanEncoded</th>\n      <th>DeckEMeanEncoded</th>\n      <th>DeckEmptyMeanEncoded</th>\n      <th>DeckFMeanEncoded</th>\n      <th>DeckGMeanEncoded</th>\n      <th>DeckTMeanEncoded</th>\n    </tr>\n    <tr>\n      <th>PassengerId</th>\n      <th></th>\n      <th></th>\n      <th></th>\n      <th></th>\n      <th></th>\n      <th></th>\n      <th></th>\n      <th></th>\n      <th></th>\n      <th></th>\n      <th></th>\n      <th></th>\n      <th></th>\n      <th></th>\n      <th></th>\n      <th></th>\n      <th></th>\n      <th></th>\n      <th></th>\n      <th></th>\n      <th></th>\n      <th></th>\n      <th></th>\n      <th></th>\n      <th></th>\n      <th></th>\n      <th></th>\n      <th></th>\n      <th></th>\n      <th></th>\n      <th></th>\n      <th></th>\n      <th></th>\n      <th></th>\n      <th></th>\n      <th></th>\n      <th></th>\n      <th></th>\n      <th></th>\n      <th></th>\n      <th></th>\n      <th></th>\n      <th></th>\n      <th></th>\n      <th></th>\n      <th></th>\n      <th></th>\n      <th></th>\n      <th></th>\n      <th></th>\n      <th></th>\n      <th></th>\n      <th></th>\n      <th></th>\n      <th></th>\n      <th></th>\n      <th></th>\n      <th></th>\n      <th></th>\n      <th></th>\n      <th></th>\n      <th></th>\n      <th></th>\n      <th></th>\n      <th></th>\n      <th></th>\n    </tr>\n  </thead>\n  <tbody>\n    <tr>\n      <th>1</th>\n      <td>22.000000</td>\n      <td>7.2500</td>\n      <td>1</td>\n      <td>1</td>\n      <td>0</td>\n      <td>0</td>\n      <td>0</td>\n      <td>0</td>\n      <td>1</td>\n      <td>7.25000</td>\n      <td>0</td>\n      <td>0</td>\n      <td>0.0</td>\n      <td>0.0</td>\n      <td>1.0</td>\n      <td>0.0</td>\n      <td>1.0</td>\n      <td>0.0</td>\n      <td>0.0</td>\n      <td>1.0</td>\n      <td>1</td>\n      <td>0</td>\n      <td>0.0</td>\n      <td>0.0</td>\n      <td>0.0</td>\n      <td>0.0</td>\n      <td>0.0</td>\n      <td>1.0</td>\n      <td>0.0</td>\n      <td>0.0</td>\n      <td>0.0</td>\n      <td>0</td>\n      <td>0</td>\n      <td>-1.0</td>\n      <td>-1.0</td>\n      <td>0.165450</td>\n      <td>0.545455</td>\n      <td>0.611111</td>\n      <td>0.374793</td>\n      <td>0.355140</td>\n      <td>0.373984</td>\n      <td>0.390698</td>\n      <td>0.284211</td>\n      <td>0.187500</td>\n      <td>0.522491</td>\n      <td>0.317254</td>\n      <td>0.381206</td>\n      <td>0.261538</td>\n      <td>0.201299</td>\n      <td>0.201299</td>\n      <td>0.356522</td>\n      <td>0.396024</td>\n      <td>0.348837</td>\n      <td>0.565891</td>\n      <td>0.522491</td>\n      <td>0.373887</td>\n      <td>0.401418</td>\n      <td>0.395448</td>\n      <td>0.378900</td>\n      <td>0.383459</td>\n      <td>0.383721</td>\n      <td>0.384615</td>\n      <td>0.310909</td>\n      <td>0.394286</td>\n      <td>0.397183</td>\n      <td>0.398317</td>\n    </tr>\n    <tr>\n      <th>2</th>\n      <td>38.000000</td>\n      <td>71.2833</td>\n      <td>1</td>\n      <td>0</td>\n      <td>1</td>\n      <td>0</td>\n      <td>0</td>\n      <td>0</td>\n      <td>2</td>\n      <td>35.64165</td>\n      <td>0</td>\n      <td>0</td>\n      <td>1.0</td>\n      <td>0.0</td>\n      <td>0.0</td>\n      <td>1.0</td>\n      <td>0.0</td>\n      <td>1.0</td>\n      <td>0.0</td>\n      <td>0.0</td>\n      <td>1</td>\n      <td>0</td>\n      <td>0.0</td>\n      <td>0.0</td>\n      <td>1.0</td>\n      <td>0.0</td>\n      <td>0.0</td>\n      <td>0.0</td>\n      <td>0.0</td>\n      <td>0.0</td>\n      <td>0.0</td>\n      <td>1</td>\n      <td>0</td>\n      <td>-1.0</td>\n      <td>-1.0</td>\n      <td>0.791667</td>\n      <td>0.526946</td>\n      <td>0.373942</td>\n      <td>0.486239</td>\n      <td>0.344444</td>\n      <td>0.361564</td>\n      <td>0.377504</td>\n      <td>0.496599</td>\n      <td>-1.000000</td>\n      <td>0.492908</td>\n      <td>0.611765</td>\n      <td>0.360424</td>\n      <td>0.547468</td>\n      <td>0.744939</td>\n      <td>0.744939</td>\n      <td>0.527132</td>\n      <td>0.379630</td>\n      <td>0.492228</td>\n      <td>0.539683</td>\n      <td>0.492908</td>\n      <td>0.810811</td>\n      <td>0.386364</td>\n      <td>0.381636</td>\n      <td>0.365385</td>\n      <td>0.545455</td>\n      <td>0.371720</td>\n      <td>0.367496</td>\n      <td>0.644172</td>\n      <td>0.379801</td>\n      <td>0.382228</td>\n      <td>0.383966</td>\n    </tr>\n    <tr>\n      <th>3</th>\n      <td>26.000000</td>\n      <td>7.9250</td>\n      <td>0</td>\n      <td>0</td>\n      <td>0</td>\n      <td>0</td>\n      <td>0</td>\n      <td>0</td>\n      <td>1</td>\n      <td>7.92500</td>\n      <td>0</td>\n      <td>1</td>\n      <td>0.0</td>\n      <td>0.0</td>\n      <td>1.0</td>\n      <td>1.0</td>\n      <td>0.0</td>\n      <td>0.0</td>\n      <td>0.0</td>\n      <td>1.0</td>\n      <td>0</td>\n      <td>1</td>\n      <td>0.0</td>\n      <td>0.0</td>\n      <td>0.0</td>\n      <td>0.0</td>\n      <td>0.0</td>\n      <td>1.0</td>\n      <td>0.0</td>\n      <td>0.0</td>\n      <td>0.0</td>\n      <td>0</td>\n      <td>0</td>\n      <td>-1.0</td>\n      <td>-1.0</td>\n      <td>0.682759</td>\n      <td>0.340206</td>\n      <td>0.380546</td>\n      <td>0.351485</td>\n      <td>0.345656</td>\n      <td>0.368932</td>\n      <td>0.372881</td>\n      <td>0.253927</td>\n      <td>0.411765</td>\n      <td>0.294393</td>\n      <td>0.295327</td>\n      <td>0.365248</td>\n      <td>0.230570</td>\n      <td>0.746094</td>\n      <td>0.746094</td>\n      <td>0.339655</td>\n      <td>0.388633</td>\n      <td>0.337838</td>\n      <td>0.294393</td>\n      <td>0.294393</td>\n      <td>0.355655</td>\n      <td>0.388652</td>\n      <td>0.384286</td>\n      <td>0.359584</td>\n      <td>0.367625</td>\n      <td>0.371720</td>\n      <td>0.371925</td>\n      <td>0.293578</td>\n      <td>0.384068</td>\n      <td>0.385915</td>\n      <td>0.386236</td>\n    </tr>\n    <tr>\n      <th>4</th>\n      <td>35.000000</td>\n      <td>53.1000</td>\n      <td>1</td>\n      <td>0</td>\n      <td>1</td>\n      <td>0</td>\n      <td>0</td>\n      <td>0</td>\n      <td>2</td>\n      <td>26.55000</td>\n      <td>0</td>\n      <td>0</td>\n      <td>1.0</td>\n      <td>0.0</td>\n      <td>0.0</td>\n      <td>1.0</td>\n      <td>0.0</td>\n      <td>0.0</td>\n      <td>0.0</td>\n      <td>1.0</td>\n      <td>1</td>\n      <td>0</td>\n      <td>0.0</td>\n      <td>0.0</td>\n      <td>1.0</td>\n      <td>0.0</td>\n      <td>0.0</td>\n      <td>0.0</td>\n      <td>0.0</td>\n      <td>0.0</td>\n      <td>0.0</td>\n      <td>1</td>\n      <td>0</td>\n      <td>-1.0</td>\n      <td>-1.0</td>\n      <td>0.790000</td>\n      <td>0.545455</td>\n      <td>0.383959</td>\n      <td>0.527273</td>\n      <td>0.355140</td>\n      <td>0.373984</td>\n      <td>0.390698</td>\n      <td>0.514085</td>\n      <td>0.500000</td>\n      <td>0.522491</td>\n      <td>0.649425</td>\n      <td>0.381206</td>\n      <td>0.563467</td>\n      <td>0.760956</td>\n      <td>0.760956</td>\n      <td>0.356522</td>\n      <td>0.396024</td>\n      <td>0.348837</td>\n      <td>0.565891</td>\n      <td>0.522491</td>\n      <td>0.820513</td>\n      <td>0.401418</td>\n      <td>0.395448</td>\n      <td>0.378900</td>\n      <td>0.604167</td>\n      <td>0.383721</td>\n      <td>0.384615</td>\n      <td>0.693252</td>\n      <td>0.394286</td>\n      <td>0.397183</td>\n      <td>0.398317</td>\n    </tr>\n    <tr>\n      <th>5</th>\n      <td>35.000000</td>\n      <td>8.0500</td>\n      <td>0</td>\n      <td>0</td>\n      <td>0</td>\n      <td>0</td>\n      <td>0</td>\n      <td>0</td>\n      <td>1</td>\n      <td>8.05000</td>\n      <td>0</td>\n      <td>1</td>\n      <td>0.0</td>\n      <td>0.0</td>\n      <td>1.0</td>\n      <td>0.0</td>\n      <td>1.0</td>\n      <td>0.0</td>\n      <td>0.0</td>\n      <td>1.0</td>\n      <td>0</td>\n      <td>1</td>\n      <td>0.0</td>\n      <td>0.0</td>\n      <td>0.0</td>\n      <td>0.0</td>\n      <td>0.0</td>\n      <td>1.0</td>\n      <td>0.0</td>\n      <td>0.0</td>\n      <td>0.0</td>\n      <td>0</td>\n      <td>0</td>\n      <td>-1.0</td>\n      <td>-1.0</td>\n      <td>0.158654</td>\n      <td>0.338809</td>\n      <td>0.373514</td>\n      <td>0.357025</td>\n      <td>0.347826</td>\n      <td>0.367576</td>\n      <td>0.373660</td>\n      <td>0.269231</td>\n      <td>0.121951</td>\n      <td>0.304850</td>\n      <td>0.308688</td>\n      <td>0.357016</td>\n      <td>0.237852</td>\n      <td>0.189130</td>\n      <td>0.189130</td>\n      <td>0.349736</td>\n      <td>0.386154</td>\n      <td>0.345850</td>\n      <td>0.304850</td>\n      <td>0.304850</td>\n      <td>0.358209</td>\n      <td>0.389518</td>\n      <td>0.385164</td>\n      <td>0.369118</td>\n      <td>0.367868</td>\n      <td>0.370803</td>\n      <td>0.374090</td>\n      <td>0.306715</td>\n      <td>0.382311</td>\n      <td>0.385915</td>\n      <td>0.386236</td>\n    </tr>\n    <tr>\n      <th>...</th>\n      <td>...</td>\n      <td>...</td>\n      <td>...</td>\n      <td>...</td>\n      <td>...</td>\n      <td>...</td>\n      <td>...</td>\n      <td>...</td>\n      <td>...</td>\n      <td>...</td>\n      <td>...</td>\n      <td>...</td>\n      <td>...</td>\n      <td>...</td>\n      <td>...</td>\n      <td>...</td>\n      <td>...</td>\n      <td>...</td>\n      <td>...</td>\n      <td>...</td>\n      <td>...</td>\n      <td>...</td>\n      <td>...</td>\n      <td>...</td>\n      <td>...</td>\n      <td>...</td>\n      <td>...</td>\n      <td>...</td>\n      <td>...</td>\n      <td>...</td>\n      <td>...</td>\n      <td>...</td>\n      <td>...</td>\n      <td>...</td>\n      <td>...</td>\n      <td>...</td>\n      <td>...</td>\n      <td>...</td>\n      <td>...</td>\n      <td>...</td>\n      <td>...</td>\n      <td>...</td>\n      <td>...</td>\n      <td>...</td>\n      <td>...</td>\n      <td>...</td>\n      <td>...</td>\n      <td>...</td>\n      <td>...</td>\n      <td>...</td>\n      <td>...</td>\n      <td>...</td>\n      <td>...</td>\n      <td>...</td>\n      <td>...</td>\n      <td>...</td>\n      <td>...</td>\n      <td>...</td>\n      <td>...</td>\n      <td>...</td>\n      <td>...</td>\n      <td>...</td>\n      <td>...</td>\n      <td>...</td>\n      <td>...</td>\n      <td>...</td>\n    </tr>\n    <tr>\n      <th>887</th>\n      <td>27.000000</td>\n      <td>13.0000</td>\n      <td>0</td>\n      <td>0</td>\n      <td>0</td>\n      <td>0</td>\n      <td>0</td>\n      <td>0</td>\n      <td>1</td>\n      <td>13.00000</td>\n      <td>0</td>\n      <td>1</td>\n      <td>0.0</td>\n      <td>1.0</td>\n      <td>0.0</td>\n      <td>0.0</td>\n      <td>1.0</td>\n      <td>0.0</td>\n      <td>0.0</td>\n      <td>1.0</td>\n      <td>0</td>\n      <td>1</td>\n      <td>0.0</td>\n      <td>0.0</td>\n      <td>0.0</td>\n      <td>0.0</td>\n      <td>0.0</td>\n      <td>1.0</td>\n      <td>0.0</td>\n      <td>0.0</td>\n      <td>0.0</td>\n      <td>0</td>\n      <td>0</td>\n      <td>-1.0</td>\n      <td>-1.0</td>\n      <td>0.000000</td>\n      <td>0.340206</td>\n      <td>0.380546</td>\n      <td>0.351485</td>\n      <td>0.345656</td>\n      <td>0.368932</td>\n      <td>0.372881</td>\n      <td>0.253927</td>\n      <td>0.416667</td>\n      <td>0.294393</td>\n      <td>0.295327</td>\n      <td>0.463087</td>\n      <td>0.568807</td>\n      <td>0.183807</td>\n      <td>0.183807</td>\n      <td>0.339655</td>\n      <td>0.388633</td>\n      <td>0.337838</td>\n      <td>0.294393</td>\n      <td>0.294393</td>\n      <td>0.355655</td>\n      <td>0.388652</td>\n      <td>0.384286</td>\n      <td>0.359584</td>\n      <td>0.367625</td>\n      <td>0.371720</td>\n      <td>0.371925</td>\n      <td>0.293578</td>\n      <td>0.384068</td>\n      <td>0.385915</td>\n      <td>0.386236</td>\n    </tr>\n    <tr>\n      <th>888</th>\n      <td>19.000000</td>\n      <td>30.0000</td>\n      <td>0</td>\n      <td>0</td>\n      <td>0</td>\n      <td>0</td>\n      <td>0</td>\n      <td>0</td>\n      <td>1</td>\n      <td>30.00000</td>\n      <td>0</td>\n      <td>1</td>\n      <td>1.0</td>\n      <td>0.0</td>\n      <td>0.0</td>\n      <td>1.0</td>\n      <td>0.0</td>\n      <td>0.0</td>\n      <td>0.0</td>\n      <td>1.0</td>\n      <td>0</td>\n      <td>1</td>\n      <td>0.0</td>\n      <td>1.0</td>\n      <td>0.0</td>\n      <td>0.0</td>\n      <td>0.0</td>\n      <td>0.0</td>\n      <td>0.0</td>\n      <td>0.0</td>\n      <td>0.0</td>\n      <td>0</td>\n      <td>0</td>\n      <td>-1.0</td>\n      <td>-1.0</td>\n      <td>0.703448</td>\n      <td>0.349794</td>\n      <td>0.373942</td>\n      <td>0.364842</td>\n      <td>0.344444</td>\n      <td>0.361564</td>\n      <td>0.377504</td>\n      <td>0.287206</td>\n      <td>0.714286</td>\n      <td>0.311628</td>\n      <td>0.611765</td>\n      <td>0.360424</td>\n      <td>0.547468</td>\n      <td>0.744939</td>\n      <td>0.744939</td>\n      <td>0.351630</td>\n      <td>0.379630</td>\n      <td>0.342967</td>\n      <td>0.311628</td>\n      <td>0.311628</td>\n      <td>0.360000</td>\n      <td>0.386364</td>\n      <td>0.381636</td>\n      <td>0.722222</td>\n      <td>0.372754</td>\n      <td>0.371720</td>\n      <td>0.367496</td>\n      <td>0.644172</td>\n      <td>0.379801</td>\n      <td>0.382228</td>\n      <td>0.383966</td>\n    </tr>\n    <tr>\n      <th>889</th>\n      <td>10.520189</td>\n      <td>23.4500</td>\n      <td>1</td>\n      <td>1</td>\n      <td>0</td>\n      <td>2</td>\n      <td>2</td>\n      <td>0</td>\n      <td>4</td>\n      <td>5.86250</td>\n      <td>0</td>\n      <td>0</td>\n      <td>0.0</td>\n      <td>0.0</td>\n      <td>1.0</td>\n      <td>1.0</td>\n      <td>0.0</td>\n      <td>0.0</td>\n      <td>0.0</td>\n      <td>1.0</td>\n      <td>3</td>\n      <td>0</td>\n      <td>0.0</td>\n      <td>0.0</td>\n      <td>0.0</td>\n      <td>0.0</td>\n      <td>0.0</td>\n      <td>1.0</td>\n      <td>0.0</td>\n      <td>0.0</td>\n      <td>0.0</td>\n      <td>0</td>\n      <td>0</td>\n      <td>0.0</td>\n      <td>-1.0</td>\n      <td>0.734694</td>\n      <td>0.545455</td>\n      <td>0.611111</td>\n      <td>0.374793</td>\n      <td>0.492754</td>\n      <td>0.458333</td>\n      <td>0.390698</td>\n      <td>0.777778</td>\n      <td>0.000000</td>\n      <td>0.522491</td>\n      <td>0.317254</td>\n      <td>0.381206</td>\n      <td>0.261538</td>\n      <td>0.760956</td>\n      <td>0.760956</td>\n      <td>0.356522</td>\n      <td>0.396024</td>\n      <td>0.348837</td>\n      <td>0.769231</td>\n      <td>0.522491</td>\n      <td>0.373887</td>\n      <td>0.401418</td>\n      <td>0.395448</td>\n      <td>0.378900</td>\n      <td>0.383459</td>\n      <td>0.383721</td>\n      <td>0.384615</td>\n      <td>0.310909</td>\n      <td>0.394286</td>\n      <td>0.397183</td>\n      <td>0.398317</td>\n    </tr>\n    <tr>\n      <th>890</th>\n      <td>26.000000</td>\n      <td>30.0000</td>\n      <td>0</td>\n      <td>0</td>\n      <td>0</td>\n      <td>0</td>\n      <td>0</td>\n      <td>0</td>\n      <td>1</td>\n      <td>30.00000</td>\n      <td>0</td>\n      <td>1</td>\n      <td>1.0</td>\n      <td>0.0</td>\n      <td>0.0</td>\n      <td>0.0</td>\n      <td>1.0</td>\n      <td>1.0</td>\n      <td>0.0</td>\n      <td>0.0</td>\n      <td>0</td>\n      <td>1</td>\n      <td>0.0</td>\n      <td>0.0</td>\n      <td>1.0</td>\n      <td>0.0</td>\n      <td>0.0</td>\n      <td>0.0</td>\n      <td>0.0</td>\n      <td>0.0</td>\n      <td>0.0</td>\n      <td>0</td>\n      <td>0</td>\n      <td>-1.0</td>\n      <td>-1.0</td>\n      <td>0.154412</td>\n      <td>0.340206</td>\n      <td>0.380546</td>\n      <td>0.351485</td>\n      <td>0.345656</td>\n      <td>0.368932</td>\n      <td>0.372881</td>\n      <td>0.253927</td>\n      <td>0.800000</td>\n      <td>0.294393</td>\n      <td>0.657303</td>\n      <td>0.365248</td>\n      <td>0.568807</td>\n      <td>0.183807</td>\n      <td>0.183807</td>\n      <td>0.586466</td>\n      <td>0.388633</td>\n      <td>0.512821</td>\n      <td>0.294393</td>\n      <td>0.294393</td>\n      <td>0.355655</td>\n      <td>0.388652</td>\n      <td>0.384286</td>\n      <td>0.359584</td>\n      <td>0.615385</td>\n      <td>0.371720</td>\n      <td>0.371925</td>\n      <td>0.684524</td>\n      <td>0.384068</td>\n      <td>0.385915</td>\n      <td>0.386236</td>\n    </tr>\n    <tr>\n      <th>891</th>\n      <td>32.000000</td>\n      <td>7.7500</td>\n      <td>0</td>\n      <td>0</td>\n      <td>0</td>\n      <td>0</td>\n      <td>0</td>\n      <td>0</td>\n      <td>1</td>\n      <td>7.75000</td>\n      <td>0</td>\n      <td>1</td>\n      <td>0.0</td>\n      <td>0.0</td>\n      <td>1.0</td>\n      <td>0.0</td>\n      <td>1.0</td>\n      <td>0.0</td>\n      <td>1.0</td>\n      <td>0.0</td>\n      <td>0</td>\n      <td>1</td>\n      <td>0.0</td>\n      <td>0.0</td>\n      <td>0.0</td>\n      <td>0.0</td>\n      <td>0.0</td>\n      <td>1.0</td>\n      <td>0.0</td>\n      <td>0.0</td>\n      <td>0.0</td>\n      <td>0</td>\n      <td>0</td>\n      <td>-1.0</td>\n      <td>-1.0</td>\n      <td>0.155131</td>\n      <td>0.349794</td>\n      <td>0.373942</td>\n      <td>0.364842</td>\n      <td>0.344444</td>\n      <td>0.361564</td>\n      <td>0.377504</td>\n      <td>0.287206</td>\n      <td>0.388889</td>\n      <td>0.311628</td>\n      <td>0.311808</td>\n      <td>0.360424</td>\n      <td>0.252525</td>\n      <td>0.191398</td>\n      <td>0.191398</td>\n      <td>0.351630</td>\n      <td>0.421875</td>\n      <td>0.492228</td>\n      <td>0.311628</td>\n      <td>0.311628</td>\n      <td>0.360000</td>\n      <td>0.386364</td>\n      <td>0.381636</td>\n      <td>0.365385</td>\n      <td>0.372754</td>\n      <td>0.371720</td>\n      <td>0.367496</td>\n      <td>0.306011</td>\n      <td>0.379801</td>\n      <td>0.382228</td>\n      <td>0.383966</td>\n    </tr>\n  </tbody>\n</table>\n<p>891 rows × 66 columns</p>\n</div>"
     },
     "execution_count": 49,
     "metadata": {},
     "output_type": "execute_result"
    }
   ],
   "source": [
    "X"
   ],
   "metadata": {
    "collapsed": false,
    "pycharm": {
     "name": "#%%\n"
    }
   }
  },
  {
   "cell_type": "code",
   "execution_count": 50,
   "outputs": [],
   "source": [
    "scaler = MinMaxScaler()\n",
    "scaler.fit(X)\n",
    "X_scaled_knn = \\\n",
    "    pd.DataFrame(scaler.transform(X), columns=X.columns, index=X.index)\n",
    "X_test_scaled_knn = \\\n",
    "    pd.DataFrame(scaler.transform(X_test), columns=X_test.columns,\n",
    "                 index=X_test.index)"
   ],
   "metadata": {
    "collapsed": false,
    "pycharm": {
     "name": "#%%\n"
    }
   }
  },
  {
   "cell_type": "code",
   "execution_count": 51,
   "outputs": [],
   "source": [
    "scaler = StandardScaler()\n",
    "scaler.fit(X)\n",
    "X_scaled = pd.DataFrame(scaler.transform(X), columns=X.columns,\n",
    "                        index=X.index)\n",
    "X_test_scaled = pd.DataFrame(scaler.transform(X_test), columns=X_test.columns,\n",
    "                             index=X_test.index)"
   ],
   "metadata": {
    "collapsed": false,
    "pycharm": {
     "name": "#%%\n"
    }
   }
  },
  {
   "cell_type": "code",
   "execution_count": 52,
   "outputs": [],
   "source": [
    "def generate_submission(model, X, y, X_test):\n",
    "    model.fit(X, y)\n",
    "    preds = model.predict(X_test).astype(int)\n",
    "    submission_df = pd.DataFrame({'PassengerId': X_test.index,\n",
    "                                'Survived': preds})\n",
    "    submission_df.to_csv('data/DecisionTreeSubmission.csv', index=False)\n",
    "    print('Ready')\n",
    "    return preds"
   ],
   "metadata": {
    "collapsed": false,
    "pycharm": {
     "name": "#%%\n"
    }
   }
  },
  {
   "cell_type": "code",
   "execution_count": 53,
   "outputs": [],
   "source": [
    "def search_grid(model, grid, X, y):\n",
    "    grid_search = GridSearchCV(model, param_grid=grid,\n",
    "                               n_jobs=-1, cv=2)\n",
    "    grid_search.fit(X, y)\n",
    "    return grid_search.best_params_, grid_search.best_score_"
   ],
   "metadata": {
    "collapsed": false,
    "pycharm": {
     "name": "#%%\n"
    }
   }
  },
  {
   "cell_type": "code",
   "execution_count": 54,
   "outputs": [
    {
     "data": {
      "text/plain": "                   Age     Fare  SibSp  Siblings  Spounce  Parch  Parents  \\\nPassengerId                                                                 \n1            22.000000   7.2500      1         1        0      0        0   \n2            38.000000  71.2833      1         0        1      0        0   \n3            26.000000   7.9250      0         0        0      0        0   \n4            35.000000  53.1000      1         0        1      0        0   \n5            35.000000   8.0500      0         0        0      0        0   \n...                ...      ...    ...       ...      ...    ...      ...   \n887          27.000000  13.0000      0         0        0      0        0   \n888          19.000000  30.0000      0         0        0      0        0   \n889          10.520189  23.4500      1         1        0      2        2   \n890          26.000000  30.0000      0         0        0      0        0   \n891          32.000000   7.7500      0         0        0      0        0   \n\n             Children  PassengersCount  FarePerPassenger  ZeroPrice  \\\nPassengerId                                                           \n1                   0                1           7.25000          0   \n2                   0                2          35.64165          0   \n3                   0                1           7.92500          0   \n4                   0                2          26.55000          0   \n5                   0                1           8.05000          0   \n...               ...              ...               ...        ...   \n887                 0                1          13.00000          0   \n888                 0                1          30.00000          0   \n889                 0                4           5.86250          0   \n890                 0                1          30.00000          0   \n891                 0                1           7.75000          0   \n\n             TravelsAlone  PclassFirst  PclassSecond  PclassThird  SexFemale  \\\nPassengerId                                                                    \n1                       0          0.0           0.0          1.0        0.0   \n2                       0          1.0           0.0          0.0        1.0   \n3                       1          0.0           0.0          1.0        1.0   \n4                       0          1.0           0.0          0.0        1.0   \n5                       1          0.0           0.0          1.0        0.0   \n...                   ...          ...           ...          ...        ...   \n887                     1          0.0           1.0          0.0        0.0   \n888                     1          1.0           0.0          0.0        1.0   \n889                     0          0.0           0.0          1.0        1.0   \n890                     1          1.0           0.0          0.0        0.0   \n891                     1          0.0           0.0          1.0        0.0   \n\n             SexMale  EmbarkedC  EmbarkedQ  EmbarkedS  TotalRelatives  ALone  \\\nPassengerId                                                                    \n1                1.0        0.0        0.0        1.0               1      0   \n2                0.0        1.0        0.0        0.0               1      0   \n3                0.0        0.0        0.0        1.0               0      1   \n4                0.0        0.0        0.0        1.0               1      0   \n5                1.0        0.0        0.0        1.0               0      1   \n...              ...        ...        ...        ...             ...    ...   \n887              1.0        0.0        0.0        1.0               0      1   \n888              0.0        0.0        0.0        1.0               0      1   \n889              0.0        0.0        0.0        1.0               3      0   \n890              1.0        1.0        0.0        0.0               0      1   \n891              1.0        0.0        1.0        0.0               0      1   \n\n             DeckA  DeckB  DeckC  DeckD  DeckE  DeckEmpty  DeckF  DeckG  \\\nPassengerId                                                               \n1              0.0    0.0    0.0    0.0    0.0        1.0    0.0    0.0   \n2              0.0    0.0    1.0    0.0    0.0        0.0    0.0    0.0   \n3              0.0    0.0    0.0    0.0    0.0        1.0    0.0    0.0   \n4              0.0    0.0    1.0    0.0    0.0        0.0    0.0    0.0   \n5              0.0    0.0    0.0    0.0    0.0        1.0    0.0    0.0   \n...            ...    ...    ...    ...    ...        ...    ...    ...   \n887            0.0    0.0    0.0    0.0    0.0        1.0    0.0    0.0   \n888            0.0    1.0    0.0    0.0    0.0        0.0    0.0    0.0   \n889            0.0    0.0    0.0    0.0    0.0        1.0    0.0    0.0   \n890            0.0    0.0    1.0    0.0    0.0        0.0    0.0    0.0   \n891            0.0    0.0    0.0    0.0    0.0        1.0    0.0    0.0   \n\n             DeckT  OnlyHusband  ManyChildren  TicketMeanEncoded  \\\nPassengerId                                                        \n1              0.0            0             0               -1.0   \n2              0.0            1             0               -1.0   \n3              0.0            0             0               -1.0   \n4              0.0            1             0               -1.0   \n5              0.0            0             0               -1.0   \n...            ...          ...           ...                ...   \n887            0.0            0             0               -1.0   \n888            0.0            0             0               -1.0   \n889            0.0            0             0                0.0   \n890            0.0            0             0               -1.0   \n891            0.0            0             0               -1.0   \n\n             CabinMeanEncoded  TitleMeanEncoded  SibSpMeanEncoded  \\\nPassengerId                                                         \n1                        -1.0          0.165450          0.545455   \n2                        -1.0          0.791667          0.526946   \n3                        -1.0          0.682759          0.340206   \n4                        -1.0          0.790000          0.545455   \n5                        -1.0          0.158654          0.338809   \n...                       ...               ...               ...   \n887                      -1.0          0.000000          0.340206   \n888                      -1.0          0.703448          0.349794   \n889                      -1.0          0.734694          0.545455   \n890                      -1.0          0.154412          0.340206   \n891                      -1.0          0.155131          0.349794   \n\n             SiblingsMeanEncoded  SpounceMeanEncoded  ParchMeanEncoded  \\\nPassengerId                                                              \n1                       0.611111            0.374793          0.355140   \n2                       0.373942            0.486239          0.344444   \n3                       0.380546            0.351485          0.345656   \n4                       0.383959            0.527273          0.355140   \n5                       0.373514            0.357025          0.347826   \n...                          ...                 ...               ...   \n887                     0.380546            0.351485          0.345656   \n888                     0.373942            0.364842          0.344444   \n889                     0.611111            0.374793          0.492754   \n890                     0.380546            0.351485          0.345656   \n891                     0.373942            0.364842          0.344444   \n\n             ParentsMeanEncoded  ChildrenMeanEncoded  \\\nPassengerId                                            \n1                      0.373984             0.390698   \n2                      0.361564             0.377504   \n3                      0.368932             0.372881   \n4                      0.373984             0.390698   \n5                      0.367576             0.373660   \n...                         ...                  ...   \n887                    0.368932             0.372881   \n888                    0.361564             0.377504   \n889                    0.458333             0.390698   \n890                    0.368932             0.372881   \n891                    0.361564             0.377504   \n\n             PassengersCountMeanEncoded  FarePerPassengerMeanEncoded  \\\nPassengerId                                                            \n1                              0.284211                     0.187500   \n2                              0.496599                    -1.000000   \n3                              0.253927                     0.411765   \n4                              0.514085                     0.500000   \n5                              0.269231                     0.121951   \n...                                 ...                          ...   \n887                            0.253927                     0.416667   \n888                            0.287206                     0.714286   \n889                            0.777778                     0.000000   \n890                            0.253927                     0.800000   \n891                            0.287206                     0.388889   \n\n             TravelsAloneMeanEncoded  PclassFirstMeanEncoded  \\\nPassengerId                                                    \n1                           0.522491                0.317254   \n2                           0.492908                0.611765   \n3                           0.294393                0.295327   \n4                           0.522491                0.649425   \n5                           0.304850                0.308688   \n...                              ...                     ...   \n887                         0.294393                0.295327   \n888                         0.311628                0.611765   \n889                         0.522491                0.317254   \n890                         0.294393                0.657303   \n891                         0.311628                0.311808   \n\n             PclassSecondMeanEncoded  PclassThirdMeanEncoded  \\\nPassengerId                                                    \n1                           0.381206                0.261538   \n2                           0.360424                0.547468   \n3                           0.365248                0.230570   \n4                           0.381206                0.563467   \n5                           0.357016                0.237852   \n...                              ...                     ...   \n887                         0.463087                0.568807   \n888                         0.360424                0.547468   \n889                         0.381206                0.261538   \n890                         0.365248                0.568807   \n891                         0.360424                0.252525   \n\n             SexFemaleMeanEncoded  SexMaleMeanEncoded  EmbarkedCMeanEncoded  \\\nPassengerId                                                                   \n1                        0.201299            0.201299              0.356522   \n2                        0.744939            0.744939              0.527132   \n3                        0.746094            0.746094              0.339655   \n4                        0.760956            0.760956              0.356522   \n5                        0.189130            0.189130              0.349736   \n...                           ...                 ...                   ...   \n887                      0.183807            0.183807              0.339655   \n888                      0.744939            0.744939              0.351630   \n889                      0.760956            0.760956              0.356522   \n890                      0.183807            0.183807              0.586466   \n891                      0.191398            0.191398              0.351630   \n\n             EmbarkedQMeanEncoded  EmbarkedSMeanEncoded  \\\nPassengerId                                               \n1                        0.396024              0.348837   \n2                        0.379630              0.492228   \n3                        0.388633              0.337838   \n4                        0.396024              0.348837   \n5                        0.386154              0.345850   \n...                           ...                   ...   \n887                      0.388633              0.337838   \n888                      0.379630              0.342967   \n889                      0.396024              0.348837   \n890                      0.388633              0.512821   \n891                      0.421875              0.492228   \n\n             TotalRelativesMeanEncoded  ALoneMeanEncoded  \\\nPassengerId                                                \n1                             0.565891          0.522491   \n2                             0.539683          0.492908   \n3                             0.294393          0.294393   \n4                             0.565891          0.522491   \n5                             0.304850          0.304850   \n...                                ...               ...   \n887                           0.294393          0.294393   \n888                           0.311628          0.311628   \n889                           0.769231          0.522491   \n890                           0.294393          0.294393   \n891                           0.311628          0.311628   \n\n             OnlyHusbandMeanEncoded  ManyChildrenMeanEncoded  \\\nPassengerId                                                    \n1                          0.373887                 0.401418   \n2                          0.810811                 0.386364   \n3                          0.355655                 0.388652   \n4                          0.820513                 0.401418   \n5                          0.358209                 0.389518   \n...                             ...                      ...   \n887                        0.355655                 0.388652   \n888                        0.360000                 0.386364   \n889                        0.373887                 0.401418   \n890                        0.355655                 0.388652   \n891                        0.360000                 0.386364   \n\n             DeckAMeanEncoded  DeckBMeanEncoded  DeckCMeanEncoded  \\\nPassengerId                                                         \n1                    0.395448          0.378900          0.383459   \n2                    0.381636          0.365385          0.545455   \n3                    0.384286          0.359584          0.367625   \n4                    0.395448          0.378900          0.604167   \n5                    0.385164          0.369118          0.367868   \n...                       ...               ...               ...   \n887                  0.384286          0.359584          0.367625   \n888                  0.381636          0.722222          0.372754   \n889                  0.395448          0.378900          0.383459   \n890                  0.384286          0.359584          0.615385   \n891                  0.381636          0.365385          0.372754   \n\n             DeckDMeanEncoded  DeckEMeanEncoded  DeckEmptyMeanEncoded  \\\nPassengerId                                                             \n1                    0.383721          0.384615              0.310909   \n2                    0.371720          0.367496              0.644172   \n3                    0.371720          0.371925              0.293578   \n4                    0.383721          0.384615              0.693252   \n5                    0.370803          0.374090              0.306715   \n...                       ...               ...                   ...   \n887                  0.371720          0.371925              0.293578   \n888                  0.371720          0.367496              0.644172   \n889                  0.383721          0.384615              0.310909   \n890                  0.371720          0.371925              0.684524   \n891                  0.371720          0.367496              0.306011   \n\n             DeckFMeanEncoded  DeckGMeanEncoded  DeckTMeanEncoded  \nPassengerId                                                        \n1                    0.394286          0.397183          0.398317  \n2                    0.379801          0.382228          0.383966  \n3                    0.384068          0.385915          0.386236  \n4                    0.394286          0.397183          0.398317  \n5                    0.382311          0.385915          0.386236  \n...                       ...               ...               ...  \n887                  0.384068          0.385915          0.386236  \n888                  0.379801          0.382228          0.383966  \n889                  0.394286          0.397183          0.398317  \n890                  0.384068          0.385915          0.386236  \n891                  0.379801          0.382228          0.383966  \n\n[891 rows x 66 columns]",
      "text/html": "<div>\n<style scoped>\n    .dataframe tbody tr th:only-of-type {\n        vertical-align: middle;\n    }\n\n    .dataframe tbody tr th {\n        vertical-align: top;\n    }\n\n    .dataframe thead th {\n        text-align: right;\n    }\n</style>\n<table border=\"1\" class=\"dataframe\">\n  <thead>\n    <tr style=\"text-align: right;\">\n      <th></th>\n      <th>Age</th>\n      <th>Fare</th>\n      <th>SibSp</th>\n      <th>Siblings</th>\n      <th>Spounce</th>\n      <th>Parch</th>\n      <th>Parents</th>\n      <th>Children</th>\n      <th>PassengersCount</th>\n      <th>FarePerPassenger</th>\n      <th>ZeroPrice</th>\n      <th>TravelsAlone</th>\n      <th>PclassFirst</th>\n      <th>PclassSecond</th>\n      <th>PclassThird</th>\n      <th>SexFemale</th>\n      <th>SexMale</th>\n      <th>EmbarkedC</th>\n      <th>EmbarkedQ</th>\n      <th>EmbarkedS</th>\n      <th>TotalRelatives</th>\n      <th>ALone</th>\n      <th>DeckA</th>\n      <th>DeckB</th>\n      <th>DeckC</th>\n      <th>DeckD</th>\n      <th>DeckE</th>\n      <th>DeckEmpty</th>\n      <th>DeckF</th>\n      <th>DeckG</th>\n      <th>DeckT</th>\n      <th>OnlyHusband</th>\n      <th>ManyChildren</th>\n      <th>TicketMeanEncoded</th>\n      <th>CabinMeanEncoded</th>\n      <th>TitleMeanEncoded</th>\n      <th>SibSpMeanEncoded</th>\n      <th>SiblingsMeanEncoded</th>\n      <th>SpounceMeanEncoded</th>\n      <th>ParchMeanEncoded</th>\n      <th>ParentsMeanEncoded</th>\n      <th>ChildrenMeanEncoded</th>\n      <th>PassengersCountMeanEncoded</th>\n      <th>FarePerPassengerMeanEncoded</th>\n      <th>TravelsAloneMeanEncoded</th>\n      <th>PclassFirstMeanEncoded</th>\n      <th>PclassSecondMeanEncoded</th>\n      <th>PclassThirdMeanEncoded</th>\n      <th>SexFemaleMeanEncoded</th>\n      <th>SexMaleMeanEncoded</th>\n      <th>EmbarkedCMeanEncoded</th>\n      <th>EmbarkedQMeanEncoded</th>\n      <th>EmbarkedSMeanEncoded</th>\n      <th>TotalRelativesMeanEncoded</th>\n      <th>ALoneMeanEncoded</th>\n      <th>OnlyHusbandMeanEncoded</th>\n      <th>ManyChildrenMeanEncoded</th>\n      <th>DeckAMeanEncoded</th>\n      <th>DeckBMeanEncoded</th>\n      <th>DeckCMeanEncoded</th>\n      <th>DeckDMeanEncoded</th>\n      <th>DeckEMeanEncoded</th>\n      <th>DeckEmptyMeanEncoded</th>\n      <th>DeckFMeanEncoded</th>\n      <th>DeckGMeanEncoded</th>\n      <th>DeckTMeanEncoded</th>\n    </tr>\n    <tr>\n      <th>PassengerId</th>\n      <th></th>\n      <th></th>\n      <th></th>\n      <th></th>\n      <th></th>\n      <th></th>\n      <th></th>\n      <th></th>\n      <th></th>\n      <th></th>\n      <th></th>\n      <th></th>\n      <th></th>\n      <th></th>\n      <th></th>\n      <th></th>\n      <th></th>\n      <th></th>\n      <th></th>\n      <th></th>\n      <th></th>\n      <th></th>\n      <th></th>\n      <th></th>\n      <th></th>\n      <th></th>\n      <th></th>\n      <th></th>\n      <th></th>\n      <th></th>\n      <th></th>\n      <th></th>\n      <th></th>\n      <th></th>\n      <th></th>\n      <th></th>\n      <th></th>\n      <th></th>\n      <th></th>\n      <th></th>\n      <th></th>\n      <th></th>\n      <th></th>\n      <th></th>\n      <th></th>\n      <th></th>\n      <th></th>\n      <th></th>\n      <th></th>\n      <th></th>\n      <th></th>\n      <th></th>\n      <th></th>\n      <th></th>\n      <th></th>\n      <th></th>\n      <th></th>\n      <th></th>\n      <th></th>\n      <th></th>\n      <th></th>\n      <th></th>\n      <th></th>\n      <th></th>\n      <th></th>\n      <th></th>\n    </tr>\n  </thead>\n  <tbody>\n    <tr>\n      <th>1</th>\n      <td>22.000000</td>\n      <td>7.2500</td>\n      <td>1</td>\n      <td>1</td>\n      <td>0</td>\n      <td>0</td>\n      <td>0</td>\n      <td>0</td>\n      <td>1</td>\n      <td>7.25000</td>\n      <td>0</td>\n      <td>0</td>\n      <td>0.0</td>\n      <td>0.0</td>\n      <td>1.0</td>\n      <td>0.0</td>\n      <td>1.0</td>\n      <td>0.0</td>\n      <td>0.0</td>\n      <td>1.0</td>\n      <td>1</td>\n      <td>0</td>\n      <td>0.0</td>\n      <td>0.0</td>\n      <td>0.0</td>\n      <td>0.0</td>\n      <td>0.0</td>\n      <td>1.0</td>\n      <td>0.0</td>\n      <td>0.0</td>\n      <td>0.0</td>\n      <td>0</td>\n      <td>0</td>\n      <td>-1.0</td>\n      <td>-1.0</td>\n      <td>0.165450</td>\n      <td>0.545455</td>\n      <td>0.611111</td>\n      <td>0.374793</td>\n      <td>0.355140</td>\n      <td>0.373984</td>\n      <td>0.390698</td>\n      <td>0.284211</td>\n      <td>0.187500</td>\n      <td>0.522491</td>\n      <td>0.317254</td>\n      <td>0.381206</td>\n      <td>0.261538</td>\n      <td>0.201299</td>\n      <td>0.201299</td>\n      <td>0.356522</td>\n      <td>0.396024</td>\n      <td>0.348837</td>\n      <td>0.565891</td>\n      <td>0.522491</td>\n      <td>0.373887</td>\n      <td>0.401418</td>\n      <td>0.395448</td>\n      <td>0.378900</td>\n      <td>0.383459</td>\n      <td>0.383721</td>\n      <td>0.384615</td>\n      <td>0.310909</td>\n      <td>0.394286</td>\n      <td>0.397183</td>\n      <td>0.398317</td>\n    </tr>\n    <tr>\n      <th>2</th>\n      <td>38.000000</td>\n      <td>71.2833</td>\n      <td>1</td>\n      <td>0</td>\n      <td>1</td>\n      <td>0</td>\n      <td>0</td>\n      <td>0</td>\n      <td>2</td>\n      <td>35.64165</td>\n      <td>0</td>\n      <td>0</td>\n      <td>1.0</td>\n      <td>0.0</td>\n      <td>0.0</td>\n      <td>1.0</td>\n      <td>0.0</td>\n      <td>1.0</td>\n      <td>0.0</td>\n      <td>0.0</td>\n      <td>1</td>\n      <td>0</td>\n      <td>0.0</td>\n      <td>0.0</td>\n      <td>1.0</td>\n      <td>0.0</td>\n      <td>0.0</td>\n      <td>0.0</td>\n      <td>0.0</td>\n      <td>0.0</td>\n      <td>0.0</td>\n      <td>1</td>\n      <td>0</td>\n      <td>-1.0</td>\n      <td>-1.0</td>\n      <td>0.791667</td>\n      <td>0.526946</td>\n      <td>0.373942</td>\n      <td>0.486239</td>\n      <td>0.344444</td>\n      <td>0.361564</td>\n      <td>0.377504</td>\n      <td>0.496599</td>\n      <td>-1.000000</td>\n      <td>0.492908</td>\n      <td>0.611765</td>\n      <td>0.360424</td>\n      <td>0.547468</td>\n      <td>0.744939</td>\n      <td>0.744939</td>\n      <td>0.527132</td>\n      <td>0.379630</td>\n      <td>0.492228</td>\n      <td>0.539683</td>\n      <td>0.492908</td>\n      <td>0.810811</td>\n      <td>0.386364</td>\n      <td>0.381636</td>\n      <td>0.365385</td>\n      <td>0.545455</td>\n      <td>0.371720</td>\n      <td>0.367496</td>\n      <td>0.644172</td>\n      <td>0.379801</td>\n      <td>0.382228</td>\n      <td>0.383966</td>\n    </tr>\n    <tr>\n      <th>3</th>\n      <td>26.000000</td>\n      <td>7.9250</td>\n      <td>0</td>\n      <td>0</td>\n      <td>0</td>\n      <td>0</td>\n      <td>0</td>\n      <td>0</td>\n      <td>1</td>\n      <td>7.92500</td>\n      <td>0</td>\n      <td>1</td>\n      <td>0.0</td>\n      <td>0.0</td>\n      <td>1.0</td>\n      <td>1.0</td>\n      <td>0.0</td>\n      <td>0.0</td>\n      <td>0.0</td>\n      <td>1.0</td>\n      <td>0</td>\n      <td>1</td>\n      <td>0.0</td>\n      <td>0.0</td>\n      <td>0.0</td>\n      <td>0.0</td>\n      <td>0.0</td>\n      <td>1.0</td>\n      <td>0.0</td>\n      <td>0.0</td>\n      <td>0.0</td>\n      <td>0</td>\n      <td>0</td>\n      <td>-1.0</td>\n      <td>-1.0</td>\n      <td>0.682759</td>\n      <td>0.340206</td>\n      <td>0.380546</td>\n      <td>0.351485</td>\n      <td>0.345656</td>\n      <td>0.368932</td>\n      <td>0.372881</td>\n      <td>0.253927</td>\n      <td>0.411765</td>\n      <td>0.294393</td>\n      <td>0.295327</td>\n      <td>0.365248</td>\n      <td>0.230570</td>\n      <td>0.746094</td>\n      <td>0.746094</td>\n      <td>0.339655</td>\n      <td>0.388633</td>\n      <td>0.337838</td>\n      <td>0.294393</td>\n      <td>0.294393</td>\n      <td>0.355655</td>\n      <td>0.388652</td>\n      <td>0.384286</td>\n      <td>0.359584</td>\n      <td>0.367625</td>\n      <td>0.371720</td>\n      <td>0.371925</td>\n      <td>0.293578</td>\n      <td>0.384068</td>\n      <td>0.385915</td>\n      <td>0.386236</td>\n    </tr>\n    <tr>\n      <th>4</th>\n      <td>35.000000</td>\n      <td>53.1000</td>\n      <td>1</td>\n      <td>0</td>\n      <td>1</td>\n      <td>0</td>\n      <td>0</td>\n      <td>0</td>\n      <td>2</td>\n      <td>26.55000</td>\n      <td>0</td>\n      <td>0</td>\n      <td>1.0</td>\n      <td>0.0</td>\n      <td>0.0</td>\n      <td>1.0</td>\n      <td>0.0</td>\n      <td>0.0</td>\n      <td>0.0</td>\n      <td>1.0</td>\n      <td>1</td>\n      <td>0</td>\n      <td>0.0</td>\n      <td>0.0</td>\n      <td>1.0</td>\n      <td>0.0</td>\n      <td>0.0</td>\n      <td>0.0</td>\n      <td>0.0</td>\n      <td>0.0</td>\n      <td>0.0</td>\n      <td>1</td>\n      <td>0</td>\n      <td>-1.0</td>\n      <td>-1.0</td>\n      <td>0.790000</td>\n      <td>0.545455</td>\n      <td>0.383959</td>\n      <td>0.527273</td>\n      <td>0.355140</td>\n      <td>0.373984</td>\n      <td>0.390698</td>\n      <td>0.514085</td>\n      <td>0.500000</td>\n      <td>0.522491</td>\n      <td>0.649425</td>\n      <td>0.381206</td>\n      <td>0.563467</td>\n      <td>0.760956</td>\n      <td>0.760956</td>\n      <td>0.356522</td>\n      <td>0.396024</td>\n      <td>0.348837</td>\n      <td>0.565891</td>\n      <td>0.522491</td>\n      <td>0.820513</td>\n      <td>0.401418</td>\n      <td>0.395448</td>\n      <td>0.378900</td>\n      <td>0.604167</td>\n      <td>0.383721</td>\n      <td>0.384615</td>\n      <td>0.693252</td>\n      <td>0.394286</td>\n      <td>0.397183</td>\n      <td>0.398317</td>\n    </tr>\n    <tr>\n      <th>5</th>\n      <td>35.000000</td>\n      <td>8.0500</td>\n      <td>0</td>\n      <td>0</td>\n      <td>0</td>\n      <td>0</td>\n      <td>0</td>\n      <td>0</td>\n      <td>1</td>\n      <td>8.05000</td>\n      <td>0</td>\n      <td>1</td>\n      <td>0.0</td>\n      <td>0.0</td>\n      <td>1.0</td>\n      <td>0.0</td>\n      <td>1.0</td>\n      <td>0.0</td>\n      <td>0.0</td>\n      <td>1.0</td>\n      <td>0</td>\n      <td>1</td>\n      <td>0.0</td>\n      <td>0.0</td>\n      <td>0.0</td>\n      <td>0.0</td>\n      <td>0.0</td>\n      <td>1.0</td>\n      <td>0.0</td>\n      <td>0.0</td>\n      <td>0.0</td>\n      <td>0</td>\n      <td>0</td>\n      <td>-1.0</td>\n      <td>-1.0</td>\n      <td>0.158654</td>\n      <td>0.338809</td>\n      <td>0.373514</td>\n      <td>0.357025</td>\n      <td>0.347826</td>\n      <td>0.367576</td>\n      <td>0.373660</td>\n      <td>0.269231</td>\n      <td>0.121951</td>\n      <td>0.304850</td>\n      <td>0.308688</td>\n      <td>0.357016</td>\n      <td>0.237852</td>\n      <td>0.189130</td>\n      <td>0.189130</td>\n      <td>0.349736</td>\n      <td>0.386154</td>\n      <td>0.345850</td>\n      <td>0.304850</td>\n      <td>0.304850</td>\n      <td>0.358209</td>\n      <td>0.389518</td>\n      <td>0.385164</td>\n      <td>0.369118</td>\n      <td>0.367868</td>\n      <td>0.370803</td>\n      <td>0.374090</td>\n      <td>0.306715</td>\n      <td>0.382311</td>\n      <td>0.385915</td>\n      <td>0.386236</td>\n    </tr>\n    <tr>\n      <th>...</th>\n      <td>...</td>\n      <td>...</td>\n      <td>...</td>\n      <td>...</td>\n      <td>...</td>\n      <td>...</td>\n      <td>...</td>\n      <td>...</td>\n      <td>...</td>\n      <td>...</td>\n      <td>...</td>\n      <td>...</td>\n      <td>...</td>\n      <td>...</td>\n      <td>...</td>\n      <td>...</td>\n      <td>...</td>\n      <td>...</td>\n      <td>...</td>\n      <td>...</td>\n      <td>...</td>\n      <td>...</td>\n      <td>...</td>\n      <td>...</td>\n      <td>...</td>\n      <td>...</td>\n      <td>...</td>\n      <td>...</td>\n      <td>...</td>\n      <td>...</td>\n      <td>...</td>\n      <td>...</td>\n      <td>...</td>\n      <td>...</td>\n      <td>...</td>\n      <td>...</td>\n      <td>...</td>\n      <td>...</td>\n      <td>...</td>\n      <td>...</td>\n      <td>...</td>\n      <td>...</td>\n      <td>...</td>\n      <td>...</td>\n      <td>...</td>\n      <td>...</td>\n      <td>...</td>\n      <td>...</td>\n      <td>...</td>\n      <td>...</td>\n      <td>...</td>\n      <td>...</td>\n      <td>...</td>\n      <td>...</td>\n      <td>...</td>\n      <td>...</td>\n      <td>...</td>\n      <td>...</td>\n      <td>...</td>\n      <td>...</td>\n      <td>...</td>\n      <td>...</td>\n      <td>...</td>\n      <td>...</td>\n      <td>...</td>\n      <td>...</td>\n    </tr>\n    <tr>\n      <th>887</th>\n      <td>27.000000</td>\n      <td>13.0000</td>\n      <td>0</td>\n      <td>0</td>\n      <td>0</td>\n      <td>0</td>\n      <td>0</td>\n      <td>0</td>\n      <td>1</td>\n      <td>13.00000</td>\n      <td>0</td>\n      <td>1</td>\n      <td>0.0</td>\n      <td>1.0</td>\n      <td>0.0</td>\n      <td>0.0</td>\n      <td>1.0</td>\n      <td>0.0</td>\n      <td>0.0</td>\n      <td>1.0</td>\n      <td>0</td>\n      <td>1</td>\n      <td>0.0</td>\n      <td>0.0</td>\n      <td>0.0</td>\n      <td>0.0</td>\n      <td>0.0</td>\n      <td>1.0</td>\n      <td>0.0</td>\n      <td>0.0</td>\n      <td>0.0</td>\n      <td>0</td>\n      <td>0</td>\n      <td>-1.0</td>\n      <td>-1.0</td>\n      <td>0.000000</td>\n      <td>0.340206</td>\n      <td>0.380546</td>\n      <td>0.351485</td>\n      <td>0.345656</td>\n      <td>0.368932</td>\n      <td>0.372881</td>\n      <td>0.253927</td>\n      <td>0.416667</td>\n      <td>0.294393</td>\n      <td>0.295327</td>\n      <td>0.463087</td>\n      <td>0.568807</td>\n      <td>0.183807</td>\n      <td>0.183807</td>\n      <td>0.339655</td>\n      <td>0.388633</td>\n      <td>0.337838</td>\n      <td>0.294393</td>\n      <td>0.294393</td>\n      <td>0.355655</td>\n      <td>0.388652</td>\n      <td>0.384286</td>\n      <td>0.359584</td>\n      <td>0.367625</td>\n      <td>0.371720</td>\n      <td>0.371925</td>\n      <td>0.293578</td>\n      <td>0.384068</td>\n      <td>0.385915</td>\n      <td>0.386236</td>\n    </tr>\n    <tr>\n      <th>888</th>\n      <td>19.000000</td>\n      <td>30.0000</td>\n      <td>0</td>\n      <td>0</td>\n      <td>0</td>\n      <td>0</td>\n      <td>0</td>\n      <td>0</td>\n      <td>1</td>\n      <td>30.00000</td>\n      <td>0</td>\n      <td>1</td>\n      <td>1.0</td>\n      <td>0.0</td>\n      <td>0.0</td>\n      <td>1.0</td>\n      <td>0.0</td>\n      <td>0.0</td>\n      <td>0.0</td>\n      <td>1.0</td>\n      <td>0</td>\n      <td>1</td>\n      <td>0.0</td>\n      <td>1.0</td>\n      <td>0.0</td>\n      <td>0.0</td>\n      <td>0.0</td>\n      <td>0.0</td>\n      <td>0.0</td>\n      <td>0.0</td>\n      <td>0.0</td>\n      <td>0</td>\n      <td>0</td>\n      <td>-1.0</td>\n      <td>-1.0</td>\n      <td>0.703448</td>\n      <td>0.349794</td>\n      <td>0.373942</td>\n      <td>0.364842</td>\n      <td>0.344444</td>\n      <td>0.361564</td>\n      <td>0.377504</td>\n      <td>0.287206</td>\n      <td>0.714286</td>\n      <td>0.311628</td>\n      <td>0.611765</td>\n      <td>0.360424</td>\n      <td>0.547468</td>\n      <td>0.744939</td>\n      <td>0.744939</td>\n      <td>0.351630</td>\n      <td>0.379630</td>\n      <td>0.342967</td>\n      <td>0.311628</td>\n      <td>0.311628</td>\n      <td>0.360000</td>\n      <td>0.386364</td>\n      <td>0.381636</td>\n      <td>0.722222</td>\n      <td>0.372754</td>\n      <td>0.371720</td>\n      <td>0.367496</td>\n      <td>0.644172</td>\n      <td>0.379801</td>\n      <td>0.382228</td>\n      <td>0.383966</td>\n    </tr>\n    <tr>\n      <th>889</th>\n      <td>10.520189</td>\n      <td>23.4500</td>\n      <td>1</td>\n      <td>1</td>\n      <td>0</td>\n      <td>2</td>\n      <td>2</td>\n      <td>0</td>\n      <td>4</td>\n      <td>5.86250</td>\n      <td>0</td>\n      <td>0</td>\n      <td>0.0</td>\n      <td>0.0</td>\n      <td>1.0</td>\n      <td>1.0</td>\n      <td>0.0</td>\n      <td>0.0</td>\n      <td>0.0</td>\n      <td>1.0</td>\n      <td>3</td>\n      <td>0</td>\n      <td>0.0</td>\n      <td>0.0</td>\n      <td>0.0</td>\n      <td>0.0</td>\n      <td>0.0</td>\n      <td>1.0</td>\n      <td>0.0</td>\n      <td>0.0</td>\n      <td>0.0</td>\n      <td>0</td>\n      <td>0</td>\n      <td>0.0</td>\n      <td>-1.0</td>\n      <td>0.734694</td>\n      <td>0.545455</td>\n      <td>0.611111</td>\n      <td>0.374793</td>\n      <td>0.492754</td>\n      <td>0.458333</td>\n      <td>0.390698</td>\n      <td>0.777778</td>\n      <td>0.000000</td>\n      <td>0.522491</td>\n      <td>0.317254</td>\n      <td>0.381206</td>\n      <td>0.261538</td>\n      <td>0.760956</td>\n      <td>0.760956</td>\n      <td>0.356522</td>\n      <td>0.396024</td>\n      <td>0.348837</td>\n      <td>0.769231</td>\n      <td>0.522491</td>\n      <td>0.373887</td>\n      <td>0.401418</td>\n      <td>0.395448</td>\n      <td>0.378900</td>\n      <td>0.383459</td>\n      <td>0.383721</td>\n      <td>0.384615</td>\n      <td>0.310909</td>\n      <td>0.394286</td>\n      <td>0.397183</td>\n      <td>0.398317</td>\n    </tr>\n    <tr>\n      <th>890</th>\n      <td>26.000000</td>\n      <td>30.0000</td>\n      <td>0</td>\n      <td>0</td>\n      <td>0</td>\n      <td>0</td>\n      <td>0</td>\n      <td>0</td>\n      <td>1</td>\n      <td>30.00000</td>\n      <td>0</td>\n      <td>1</td>\n      <td>1.0</td>\n      <td>0.0</td>\n      <td>0.0</td>\n      <td>0.0</td>\n      <td>1.0</td>\n      <td>1.0</td>\n      <td>0.0</td>\n      <td>0.0</td>\n      <td>0</td>\n      <td>1</td>\n      <td>0.0</td>\n      <td>0.0</td>\n      <td>1.0</td>\n      <td>0.0</td>\n      <td>0.0</td>\n      <td>0.0</td>\n      <td>0.0</td>\n      <td>0.0</td>\n      <td>0.0</td>\n      <td>0</td>\n      <td>0</td>\n      <td>-1.0</td>\n      <td>-1.0</td>\n      <td>0.154412</td>\n      <td>0.340206</td>\n      <td>0.380546</td>\n      <td>0.351485</td>\n      <td>0.345656</td>\n      <td>0.368932</td>\n      <td>0.372881</td>\n      <td>0.253927</td>\n      <td>0.800000</td>\n      <td>0.294393</td>\n      <td>0.657303</td>\n      <td>0.365248</td>\n      <td>0.568807</td>\n      <td>0.183807</td>\n      <td>0.183807</td>\n      <td>0.586466</td>\n      <td>0.388633</td>\n      <td>0.512821</td>\n      <td>0.294393</td>\n      <td>0.294393</td>\n      <td>0.355655</td>\n      <td>0.388652</td>\n      <td>0.384286</td>\n      <td>0.359584</td>\n      <td>0.615385</td>\n      <td>0.371720</td>\n      <td>0.371925</td>\n      <td>0.684524</td>\n      <td>0.384068</td>\n      <td>0.385915</td>\n      <td>0.386236</td>\n    </tr>\n    <tr>\n      <th>891</th>\n      <td>32.000000</td>\n      <td>7.7500</td>\n      <td>0</td>\n      <td>0</td>\n      <td>0</td>\n      <td>0</td>\n      <td>0</td>\n      <td>0</td>\n      <td>1</td>\n      <td>7.75000</td>\n      <td>0</td>\n      <td>1</td>\n      <td>0.0</td>\n      <td>0.0</td>\n      <td>1.0</td>\n      <td>0.0</td>\n      <td>1.0</td>\n      <td>0.0</td>\n      <td>1.0</td>\n      <td>0.0</td>\n      <td>0</td>\n      <td>1</td>\n      <td>0.0</td>\n      <td>0.0</td>\n      <td>0.0</td>\n      <td>0.0</td>\n      <td>0.0</td>\n      <td>1.0</td>\n      <td>0.0</td>\n      <td>0.0</td>\n      <td>0.0</td>\n      <td>0</td>\n      <td>0</td>\n      <td>-1.0</td>\n      <td>-1.0</td>\n      <td>0.155131</td>\n      <td>0.349794</td>\n      <td>0.373942</td>\n      <td>0.364842</td>\n      <td>0.344444</td>\n      <td>0.361564</td>\n      <td>0.377504</td>\n      <td>0.287206</td>\n      <td>0.388889</td>\n      <td>0.311628</td>\n      <td>0.311808</td>\n      <td>0.360424</td>\n      <td>0.252525</td>\n      <td>0.191398</td>\n      <td>0.191398</td>\n      <td>0.351630</td>\n      <td>0.421875</td>\n      <td>0.492228</td>\n      <td>0.311628</td>\n      <td>0.311628</td>\n      <td>0.360000</td>\n      <td>0.386364</td>\n      <td>0.381636</td>\n      <td>0.365385</td>\n      <td>0.372754</td>\n      <td>0.371720</td>\n      <td>0.367496</td>\n      <td>0.306011</td>\n      <td>0.379801</td>\n      <td>0.382228</td>\n      <td>0.383966</td>\n    </tr>\n  </tbody>\n</table>\n<p>891 rows × 66 columns</p>\n</div>"
     },
     "execution_count": 54,
     "metadata": {},
     "output_type": "execute_result"
    }
   ],
   "source": [
    "X"
   ],
   "metadata": {
    "collapsed": false,
    "pycharm": {
     "name": "#%%\n"
    }
   }
  },
  {
   "cell_type": "code",
   "execution_count": 55,
   "outputs": [
    {
     "name": "stdout",
     "output_type": "stream",
     "text": [
      "{'max_depth': 4, 'max_leaf_nodes': 5, 'min_samples_leaf': 2, 'min_samples_split': 2} 0.8226684133622211\n",
      "Ready\n",
      "Male accuracy: 0.8195488721804511\n",
      "Female accuracy: 0.7171052631578947\n",
      "Overall accuracy: 0.7822966507177034\n"
     ]
    }
   ],
   "source": [
    "dt_grid = {'min_samples_split': [2, 3, 5],\n",
    "        'max_leaf_nodes': [None, 3, 5, 10, 15],\n",
    "        'max_depth': [3, 4, 5, 6, 7, 8, 9, 10],\n",
    "        'min_samples_leaf': [2, 3, 4, 5, 10, 15, 20]\n",
    "        }\n",
    "dt = DecisionTreeClassifier(random_state=0)\n",
    "dt_best_params, dt_best_score = search_grid(dt, dt_grid, X, y)\n",
    "dt.set_params(**dt_best_params)\n",
    "print(dt_best_params, dt_best_score)\n",
    "dt_preds = generate_submission(dt, X, y, X_test)\n",
    "cheat_score(dt_preds)"
   ],
   "metadata": {
    "collapsed": false,
    "pycharm": {
     "name": "#%%\n"
    }
   }
  },
  {
   "cell_type": "code",
   "execution_count": 56,
   "outputs": [
    {
     "name": "stdout",
     "output_type": "stream",
     "text": [
      "{'max_depth': 11, 'max_leaf_nodes': None, 'min_samples_leaf': 3, 'min_samples_split': 2, 'n_estimators': 60} 0.836138963067466\n",
      "Ready\n",
      "Male accuracy: 0.8007518796992481\n",
      "Female accuracy: 0.756578947368421\n",
      "Overall accuracy: 0.784688995215311\n"
     ]
    }
   ],
   "source": [
    "rf_grid = {\n",
    "    'min_samples_split': [2, 3, 5],\n",
    "        'max_leaf_nodes': [None, 3, 5, 10, 15],\n",
    "        'max_depth': [3, 4, 5, 6, 7, 8, 9, 10, 11],\n",
    "        'min_samples_leaf': [2, 3, 4, 5, 10, 15, 20],\n",
    "        'n_estimators': [30, 40, 50, 60, 100],\n",
    "        }\n",
    "rf = RandomForestClassifier(random_state=0)\n",
    "rf_best_params, rf_best_score = search_grid(rf, rf_grid, X, y)\n",
    "rf.set_params(**rf_best_params)\n",
    "print(rf_best_params, rf_best_score)\n",
    "rf_preds = generate_submission(rf, X, y, X_test)\n",
    "cheat_score(rf_preds)"
   ],
   "metadata": {
    "collapsed": false,
    "pycharm": {
     "name": "#%%\n"
    }
   }
  },
  {
   "cell_type": "code",
   "execution_count": 57,
   "outputs": [
    {
     "name": "stdout",
     "output_type": "stream",
     "text": [
      "{'metric': 'euclidean', 'n_neighbors': 7, 'p': 0.5} 0.8114551317579484\n",
      "Ready\n",
      "Male accuracy: 0.7969924812030075\n",
      "Female accuracy: 0.7368421052631579\n",
      "Overall accuracy: 0.7751196172248804\n"
     ]
    }
   ],
   "source": [
    "knn_grid = {'n_neighbors': [i for i in range(1, 30)],\n",
    "        'metric': ['euclidean'],\n",
    "        'p': [0.5, 1, 2, 3, 4, 5]}\n",
    "knn = KNeighborsClassifier(n_jobs=-1)\n",
    "knn_best_params, knn_best_score = search_grid(knn, knn_grid, X_scaled_knn, y)\n",
    "knn.set_params(**knn_best_params)\n",
    "print(knn_best_params, knn_best_score)\n",
    "knn_preds = generate_submission(knn, X_scaled_knn, y, X_test_scaled_knn)\n",
    "cheat_score(knn_preds)"
   ],
   "metadata": {
    "collapsed": false,
    "pycharm": {
     "name": "#%%\n"
    }
   }
  },
  {
   "cell_type": "code",
   "execution_count": 58,
   "outputs": [
    {
     "name": "stderr",
     "output_type": "stream",
     "text": [
      "c:\\python\\ml course\\new_venv\\lib\\site-packages\\sklearn\\linear_model\\_logistic.py:763: ConvergenceWarning: lbfgs failed to converge (status=1):\n",
      "STOP: TOTAL NO. of ITERATIONS REACHED LIMIT.\n",
      "\n",
      "Increase the number of iterations (max_iter) or scale the data as shown in:\n",
      "    https://scikit-learn.org/stable/modules/preprocessing.html\n",
      "Please also refer to the documentation for alternative solver options:\n",
      "    https://scikit-learn.org/stable/modules/linear_model.html#logistic-regression\n",
      "  n_iter_i = _check_optimize_result(\n",
      "c:\\python\\ml course\\new_venv\\lib\\site-packages\\sklearn\\linear_model\\_logistic.py:763: ConvergenceWarning: lbfgs failed to converge (status=1):\n",
      "STOP: TOTAL NO. of ITERATIONS REACHED LIMIT.\n",
      "\n",
      "Increase the number of iterations (max_iter) or scale the data as shown in:\n",
      "    https://scikit-learn.org/stable/modules/preprocessing.html\n",
      "Please also refer to the documentation for alternative solver options:\n",
      "    https://scikit-learn.org/stable/modules/linear_model.html#logistic-regression\n",
      "  n_iter_i = _check_optimize_result(\n",
      "c:\\python\\ml course\\new_venv\\lib\\site-packages\\sklearn\\linear_model\\_logistic.py:763: ConvergenceWarning: lbfgs failed to converge (status=1):\n",
      "STOP: TOTAL NO. of ITERATIONS REACHED LIMIT.\n",
      "\n",
      "Increase the number of iterations (max_iter) or scale the data as shown in:\n",
      "    https://scikit-learn.org/stable/modules/preprocessing.html\n",
      "Please also refer to the documentation for alternative solver options:\n",
      "    https://scikit-learn.org/stable/modules/linear_model.html#logistic-regression\n",
      "  n_iter_i = _check_optimize_result(\n",
      "c:\\python\\ml course\\new_venv\\lib\\site-packages\\sklearn\\linear_model\\_logistic.py:763: ConvergenceWarning: lbfgs failed to converge (status=1):\n",
      "STOP: TOTAL NO. of ITERATIONS REACHED LIMIT.\n",
      "\n",
      "Increase the number of iterations (max_iter) or scale the data as shown in:\n",
      "    https://scikit-learn.org/stable/modules/preprocessing.html\n",
      "Please also refer to the documentation for alternative solver options:\n",
      "    https://scikit-learn.org/stable/modules/linear_model.html#logistic-regression\n",
      "  n_iter_i = _check_optimize_result(\n",
      "c:\\python\\ml course\\new_venv\\lib\\site-packages\\sklearn\\linear_model\\_logistic.py:763: ConvergenceWarning: lbfgs failed to converge (status=1):\n",
      "STOP: TOTAL NO. of ITERATIONS REACHED LIMIT.\n",
      "\n",
      "Increase the number of iterations (max_iter) or scale the data as shown in:\n",
      "    https://scikit-learn.org/stable/modules/preprocessing.html\n",
      "Please also refer to the documentation for alternative solver options:\n",
      "    https://scikit-learn.org/stable/modules/linear_model.html#logistic-regression\n",
      "  n_iter_i = _check_optimize_result(\n",
      "c:\\python\\ml course\\new_venv\\lib\\site-packages\\sklearn\\linear_model\\_logistic.py:763: ConvergenceWarning: lbfgs failed to converge (status=1):\n",
      "STOP: TOTAL NO. of ITERATIONS REACHED LIMIT.\n",
      "\n",
      "Increase the number of iterations (max_iter) or scale the data as shown in:\n",
      "    https://scikit-learn.org/stable/modules/preprocessing.html\n",
      "Please also refer to the documentation for alternative solver options:\n",
      "    https://scikit-learn.org/stable/modules/linear_model.html#logistic-regression\n",
      "  n_iter_i = _check_optimize_result(\n",
      "c:\\python\\ml course\\new_venv\\lib\\site-packages\\sklearn\\linear_model\\_logistic.py:763: ConvergenceWarning: lbfgs failed to converge (status=1):\n",
      "STOP: TOTAL NO. of ITERATIONS REACHED LIMIT.\n",
      "\n",
      "Increase the number of iterations (max_iter) or scale the data as shown in:\n",
      "    https://scikit-learn.org/stable/modules/preprocessing.html\n",
      "Please also refer to the documentation for alternative solver options:\n",
      "    https://scikit-learn.org/stable/modules/linear_model.html#logistic-regression\n",
      "  n_iter_i = _check_optimize_result(\n",
      "c:\\python\\ml course\\new_venv\\lib\\site-packages\\sklearn\\linear_model\\_logistic.py:763: ConvergenceWarning: lbfgs failed to converge (status=1):\n",
      "STOP: TOTAL NO. of ITERATIONS REACHED LIMIT.\n",
      "\n",
      "Increase the number of iterations (max_iter) or scale the data as shown in:\n",
      "    https://scikit-learn.org/stable/modules/preprocessing.html\n",
      "Please also refer to the documentation for alternative solver options:\n",
      "    https://scikit-learn.org/stable/modules/linear_model.html#logistic-regression\n",
      "  n_iter_i = _check_optimize_result(\n",
      "c:\\python\\ml course\\new_venv\\lib\\site-packages\\sklearn\\linear_model\\_logistic.py:763: ConvergenceWarning: lbfgs failed to converge (status=1):\n",
      "STOP: TOTAL NO. of ITERATIONS REACHED LIMIT.\n",
      "\n",
      "Increase the number of iterations (max_iter) or scale the data as shown in:\n",
      "    https://scikit-learn.org/stable/modules/preprocessing.html\n",
      "Please also refer to the documentation for alternative solver options:\n",
      "    https://scikit-learn.org/stable/modules/linear_model.html#logistic-regression\n",
      "  n_iter_i = _check_optimize_result(\n",
      "c:\\python\\ml course\\new_venv\\lib\\site-packages\\sklearn\\linear_model\\_logistic.py:763: ConvergenceWarning: lbfgs failed to converge (status=1):\n",
      "STOP: TOTAL NO. of ITERATIONS REACHED LIMIT.\n",
      "\n",
      "Increase the number of iterations (max_iter) or scale the data as shown in:\n",
      "    https://scikit-learn.org/stable/modules/preprocessing.html\n",
      "Please also refer to the documentation for alternative solver options:\n",
      "    https://scikit-learn.org/stable/modules/linear_model.html#logistic-regression\n",
      "  n_iter_i = _check_optimize_result(\n",
      "c:\\python\\ml course\\new_venv\\lib\\site-packages\\sklearn\\model_selection\\_search.py:918: UserWarning: One or more of the test scores are non-finite: [0.79685343 0.79011689 0.79685343 0.79685343        nan 0.78673855\n",
      "        nan 0.61616113 0.79685343 0.79011689 0.79685343 0.79685343\n",
      "        nan 0.78673855        nan 0.61616113 0.81144254 0.81032902\n",
      " 0.81144254 0.81144254        nan 0.78786718        nan 0.77890109\n",
      " 0.81144254 0.81032902 0.81144254 0.81144254        nan 0.78786718\n",
      "        nan 0.77890109 0.80472112 0.80584471 0.80472112 0.80584471\n",
      "        nan 0.81032146        nan 0.81031894 0.80472112 0.80584471\n",
      " 0.80472112 0.80472112        nan 0.81032146        nan 0.81031894\n",
      " 0.80472112 0.80584723 0.80472112 0.80247644        nan 0.81257369\n",
      "        nan 0.8103265  0.80472112 0.80584723 0.80472112 0.80472112\n",
      "        nan 0.81257369        nan 0.81145009 0.80696831 0.80697083\n",
      " 0.80472112 0.80584471        nan 0.80808435        nan 0.80808435\n",
      " 0.80696831 0.80697083 0.80696831 0.80584471        nan 0.80808435\n",
      "        nan 0.80920542 0.80808938 0.8092155  0.80584471 0.80584471\n",
      "        nan 0.80472112        nan 0.80471608 0.80808938 0.8092155\n",
      " 0.80808938 0.80584471        nan 0.80472112        nan 0.8047186\n",
      " 0.80921298 0.80921298 0.80696579 0.80808938        nan 0.80808938\n",
      "        nan 0.80808938 0.80921298 0.80921298 0.81033657 0.80808938\n",
      "        nan 0.80808938        nan 0.80921046 0.80360256 0.80696831\n",
      " 0.80808938 0.80808938        nan 0.80696579        nan 0.80808938\n",
      " 0.8080919  0.80696831 0.81145765 0.80808938        nan 0.80696579\n",
      "        nan 0.80808938]\n",
      "  warnings.warn(\n",
      "c:\\python\\ml course\\new_venv\\lib\\site-packages\\sklearn\\linear_model\\_logistic.py:1355: UserWarning: 'n_jobs' > 1 does not have any effect when 'solver' is set to 'liblinear'. Got 'n_jobs' = 8.\n",
      "  warnings.warn(\"'n_jobs' > 1 does not have any effect when\"\n",
      "c:\\python\\ml course\\new_venv\\lib\\site-packages\\sklearn\\linear_model\\_logistic.py:1355: UserWarning: 'n_jobs' > 1 does not have any effect when 'solver' is set to 'liblinear'. Got 'n_jobs' = 8.\n",
      "  warnings.warn(\"'n_jobs' > 1 does not have any effect when\"\n"
     ]
    },
    {
     "name": "stdout",
     "output_type": "stream",
     "text": [
      "{'C': 0.5, 'max_iter': 100, 'penalty': 'l1', 'solver': 'liblinear'} 0.8125736887186981\n",
      "Ready\n",
      "Male accuracy: 0.8007518796992481\n",
      "Female accuracy: 0.743421052631579\n",
      "Overall accuracy: 0.7799043062200957\n"
     ]
    }
   ],
   "source": [
    "kbest = RFECV(LogisticRegression(random_state=0), cv=5).fit(X_scaled, y)\n",
    "used_features = kbest.get_support()\n",
    "X_scaled_rfe = X_scaled.loc[:, used_features]\n",
    "X_test_scaled_rfe = X_test_scaled.loc[:, used_features]\n",
    "\n",
    "lr_grid = {\n",
    "        'penalty': ['l2', 'l1'],\n",
    "        'solver': ['lbfgs', 'liblinear', 'sag', 'saga'],\n",
    "        'C': [0.01, 0.1, 0.3, 0.5, 0.7, 1, 10, 100],\n",
    "        'max_iter': [100, 500]\n",
    "            }\n",
    "lr = LogisticRegression(random_state=0, n_jobs=-1)\n",
    "lr_best_params, lr_best_score = search_grid(lr, lr_grid, X_scaled_rfe, y)\n",
    "lr.set_params(**lr_best_params)\n",
    "print(lr_best_params, lr_best_score)\n",
    "lr_preds = generate_submission(lr, X_scaled_rfe, y, X_test_scaled_rfe)\n",
    "cheat_score(lr_preds)"
   ],
   "metadata": {
    "collapsed": false,
    "pycharm": {
     "name": "#%%\n"
    }
   }
  },
  {
   "cell_type": "code",
   "execution_count": 59,
   "outputs": [
    {
     "name": "stdout",
     "output_type": "stream",
     "text": [
      "[00:38:58] WARNING: C:/Users/Administrator/workspace/xgboost-win64_release_1.3.0/src/learner.cc:1061: Starting in XGBoost 1.3.0, the default evaluation metric used with the objective 'binary:logistic' was changed from 'error' to 'logloss'. Explicitly set eval_metric if you'd like to restore the old behavior.\n",
      "{'colsample_bylevel': 0.4, 'colsample_bytree': 0.8, 'learning_rate': 0.2, 'max_depth': 5, 'n_estimators': 10} 0.8439915352446213\n",
      "[00:38:58] WARNING: C:/Users/Administrator/workspace/xgboost-win64_release_1.3.0/src/learner.cc:1061: Starting in XGBoost 1.3.0, the default evaluation metric used with the objective 'binary:logistic' was changed from 'error' to 'logloss'. Explicitly set eval_metric if you'd like to restore the old behavior.\n",
      "Ready\n",
      "Male accuracy: 0.7706766917293233\n",
      "Female accuracy: 0.743421052631579\n",
      "Overall accuracy: 0.7607655502392344\n"
     ]
    },
    {
     "name": "stderr",
     "output_type": "stream",
     "text": [
      "c:\\python\\ml course\\new_venv\\lib\\site-packages\\xgboost\\sklearn.py:888: UserWarning: The use of label encoder in XGBClassifier is deprecated and will be removed in a future release. To remove this warning, do the following: 1) Pass option use_label_encoder=False when constructing XGBClassifier object; and 2) Encode your labels (y) as integers starting with 0, i.e. 0, 1, 2, ..., [num_class - 1].\n",
      "  warnings.warn(label_encoder_deprecation_msg, UserWarning)\n"
     ]
    }
   ],
   "source": [
    "xgb_grid = {\n",
    "    'n_estimators': [10, 20, 30],\n",
    "    'learning_rate': [0.001, 0.1, 0.2, 0.3],\n",
    "    'colsample_bytree': [0.4, 0.6, 0.8, 1],\n",
    "    'colsample_bylevel': [0.4, 0.6, 0.8, 1],\n",
    "    'max_depth': [1, 2, 3, 4, 5]\n",
    "        }\n",
    "xgb_cl = XGBClassifier(random_state=0, n_jobs=-1)\n",
    "xgb_best_params, xgb_best_score = search_grid(xgb_cl, xgb_grid, X, y)\n",
    "xgb_cl.set_params(**xgb_best_params)\n",
    "print(xgb_best_params, xgb_best_score)\n",
    "xgb_preds = generate_submission(xgb_cl, X, y, X_test)\n",
    "cheat_score(xgb_preds)\n"
   ],
   "metadata": {
    "collapsed": false,
    "pycharm": {
     "name": "#%%\n"
    }
   }
  },
  {
   "cell_type": "code",
   "execution_count": 60,
   "outputs": [],
   "source": [
    "import tensorflow as tf\n",
    "from keras.models import Sequential\n",
    "from keras.layers import Dense, Dropout\n",
    "tf.random.set_seed(0)\n",
    "model = Sequential()\n",
    "model.add(Dense(units=20, activation='relu'))\n",
    "model.add(Dropout(rate=0.15))\n",
    "model.add(Dense(units=20, activation='relu'))\n",
    "model.add(Dropout(rate=0.15))\n",
    "model.add(Dense(units=1, activation='tanh'))\n",
    "model.compile(optimizer='adam', loss='squared_hinge',\n",
    "              metrics=['accuracy'])\n",
    "model.fit(X_scaled, y, batch_size=1, epochs=40, verbose=False)\n",
    "ann_preds = model.predict(X_test_scaled)"
   ],
   "metadata": {
    "collapsed": false,
    "pycharm": {
     "name": "#%%\n"
    }
   }
  },
  {
   "cell_type": "code",
   "execution_count": 61,
   "outputs": [
    {
     "name": "stdout",
     "output_type": "stream",
     "text": [
      "Male accuracy: 0.8007518796992481\n",
      "Female accuracy: 0.7368421052631579\n",
      "Overall accuracy: 0.777511961722488\n"
     ]
    }
   ],
   "source": [
    "ann_preds = np.where(ann_preds >= 0.5, 1, 0)\n",
    "cheat_score(ann_preds)\n",
    "ann_preds = ann_preds.reshape(418,)"
   ],
   "metadata": {
    "collapsed": false,
    "pycharm": {
     "name": "#%%\n"
    }
   }
  },
  {
   "cell_type": "code",
   "execution_count": 62,
   "outputs": [
    {
     "data": {
      "text/plain": "             DT  KNN  LogReg  XGB  RF  ANN\nPassengerId                               \n892           0    0       0    0   0    0\n893           0    0       0    1   0    0\n894           0    0       0    0   0    0\n895           0    0       0    0   0    0\n896           1    0       1    1   1    1\n...          ..  ...     ...  ...  ..  ...\n1305          0    0       0    0   0    0\n1306          0    1       1    1   1    1\n1307          0    0       0    0   0    0\n1308          0    0       0    0   0    0\n1309          1    1       1    1   1    1\n\n[418 rows x 6 columns]",
      "text/html": "<div>\n<style scoped>\n    .dataframe tbody tr th:only-of-type {\n        vertical-align: middle;\n    }\n\n    .dataframe tbody tr th {\n        vertical-align: top;\n    }\n\n    .dataframe thead th {\n        text-align: right;\n    }\n</style>\n<table border=\"1\" class=\"dataframe\">\n  <thead>\n    <tr style=\"text-align: right;\">\n      <th></th>\n      <th>DT</th>\n      <th>KNN</th>\n      <th>LogReg</th>\n      <th>XGB</th>\n      <th>RF</th>\n      <th>ANN</th>\n    </tr>\n    <tr>\n      <th>PassengerId</th>\n      <th></th>\n      <th></th>\n      <th></th>\n      <th></th>\n      <th></th>\n      <th></th>\n    </tr>\n  </thead>\n  <tbody>\n    <tr>\n      <th>892</th>\n      <td>0</td>\n      <td>0</td>\n      <td>0</td>\n      <td>0</td>\n      <td>0</td>\n      <td>0</td>\n    </tr>\n    <tr>\n      <th>893</th>\n      <td>0</td>\n      <td>0</td>\n      <td>0</td>\n      <td>1</td>\n      <td>0</td>\n      <td>0</td>\n    </tr>\n    <tr>\n      <th>894</th>\n      <td>0</td>\n      <td>0</td>\n      <td>0</td>\n      <td>0</td>\n      <td>0</td>\n      <td>0</td>\n    </tr>\n    <tr>\n      <th>895</th>\n      <td>0</td>\n      <td>0</td>\n      <td>0</td>\n      <td>0</td>\n      <td>0</td>\n      <td>0</td>\n    </tr>\n    <tr>\n      <th>896</th>\n      <td>1</td>\n      <td>0</td>\n      <td>1</td>\n      <td>1</td>\n      <td>1</td>\n      <td>1</td>\n    </tr>\n    <tr>\n      <th>...</th>\n      <td>...</td>\n      <td>...</td>\n      <td>...</td>\n      <td>...</td>\n      <td>...</td>\n      <td>...</td>\n    </tr>\n    <tr>\n      <th>1305</th>\n      <td>0</td>\n      <td>0</td>\n      <td>0</td>\n      <td>0</td>\n      <td>0</td>\n      <td>0</td>\n    </tr>\n    <tr>\n      <th>1306</th>\n      <td>0</td>\n      <td>1</td>\n      <td>1</td>\n      <td>1</td>\n      <td>1</td>\n      <td>1</td>\n    </tr>\n    <tr>\n      <th>1307</th>\n      <td>0</td>\n      <td>0</td>\n      <td>0</td>\n      <td>0</td>\n      <td>0</td>\n      <td>0</td>\n    </tr>\n    <tr>\n      <th>1308</th>\n      <td>0</td>\n      <td>0</td>\n      <td>0</td>\n      <td>0</td>\n      <td>0</td>\n      <td>0</td>\n    </tr>\n    <tr>\n      <th>1309</th>\n      <td>1</td>\n      <td>1</td>\n      <td>1</td>\n      <td>1</td>\n      <td>1</td>\n      <td>1</td>\n    </tr>\n  </tbody>\n</table>\n<p>418 rows × 6 columns</p>\n</div>"
     },
     "execution_count": 62,
     "metadata": {},
     "output_type": "execute_result"
    }
   ],
   "source": [
    "full_preds = pd.DataFrame({'DT': dt_preds,\n",
    "                          'KNN': knn_preds,\n",
    "                          'LogReg': lr_preds,\n",
    "                          'XGB': xgb_preds,\n",
    "                          'RF': rf_preds,\n",
    "                          'ANN': ann_preds,\n",
    "                           },\n",
    "                         index=X_test.index)\n",
    "full_preds"
   ],
   "metadata": {
    "collapsed": false,
    "pycharm": {
     "name": "#%%\n"
    }
   }
  },
  {
   "cell_type": "code",
   "execution_count": 63,
   "outputs": [
    {
     "name": "stdout",
     "output_type": "stream",
     "text": [
      "Male accuracy: 0.8195488721804511\n",
      "Female accuracy: 0.7171052631578947\n",
      "Overall accuracy: 0.7822966507177034\n"
     ]
    }
   ],
   "source": [
    "cheat_score(full_preds['DT'].round(0))"
   ],
   "metadata": {
    "collapsed": false,
    "pycharm": {
     "name": "#%%\n"
    }
   }
  },
  {
   "cell_type": "code",
   "execution_count": 64,
   "outputs": [
    {
     "name": "stdout",
     "output_type": "stream",
     "text": [
      "Male accuracy: 0.7969924812030075\n",
      "Female accuracy: 0.7368421052631579\n",
      "Overall accuracy: 0.7751196172248804\n"
     ]
    }
   ],
   "source": [
    "cheat_score(full_preds['KNN'].round(0))"
   ],
   "metadata": {
    "collapsed": false,
    "pycharm": {
     "name": "#%%\n"
    }
   }
  },
  {
   "cell_type": "code",
   "execution_count": 65,
   "outputs": [
    {
     "name": "stdout",
     "output_type": "stream",
     "text": [
      "Male accuracy: 0.8007518796992481\n",
      "Female accuracy: 0.743421052631579\n",
      "Overall accuracy: 0.7799043062200957\n"
     ]
    }
   ],
   "source": [
    "cheat_score(full_preds['LogReg'].round(0))"
   ],
   "metadata": {
    "collapsed": false,
    "pycharm": {
     "name": "#%%\n"
    }
   }
  },
  {
   "cell_type": "code",
   "execution_count": 66,
   "outputs": [
    {
     "name": "stdout",
     "output_type": "stream",
     "text": [
      "Male accuracy: 0.7706766917293233\n",
      "Female accuracy: 0.743421052631579\n",
      "Overall accuracy: 0.7607655502392344\n"
     ]
    }
   ],
   "source": [
    "cheat_score(full_preds['XGB'].round(0))"
   ],
   "metadata": {
    "collapsed": false,
    "pycharm": {
     "name": "#%%\n"
    }
   }
  },
  {
   "cell_type": "code",
   "execution_count": 67,
   "outputs": [
    {
     "name": "stdout",
     "output_type": "stream",
     "text": [
      "Male accuracy: 0.8007518796992481\n",
      "Female accuracy: 0.756578947368421\n",
      "Overall accuracy: 0.784688995215311\n"
     ]
    }
   ],
   "source": [
    "cheat_score(full_preds['RF'].round(0))"
   ],
   "metadata": {
    "collapsed": false,
    "pycharm": {
     "name": "#%%\n"
    }
   }
  },
  {
   "cell_type": "code",
   "execution_count": 68,
   "outputs": [
    {
     "name": "stdout",
     "output_type": "stream",
     "text": [
      "Male accuracy: 0.8007518796992481\n",
      "Female accuracy: 0.7368421052631579\n",
      "Overall accuracy: 0.777511961722488\n"
     ]
    }
   ],
   "source": [
    "cheat_score(full_preds['ANN'].round(0))"
   ],
   "metadata": {
    "collapsed": false,
    "pycharm": {
     "name": "#%%\n"
    }
   }
  },
  {
   "cell_type": "code",
   "execution_count": 69,
   "outputs": [
    {
     "name": "stdout",
     "output_type": "stream",
     "text": [
      "Male accuracy: 0.8233082706766918\n",
      "Female accuracy: 0.756578947368421\n",
      "Overall accuracy: 0.7990430622009569\n"
     ]
    }
   ],
   "source": [
    "full_preds['Pred'] = (\n",
    "                    full_preds['DT']\n",
    "                    + full_preds['KNN']\n",
    "                    + full_preds['LogReg']\n",
    "                    # + full_preds['RF']\n",
    "                    + full_preds['XGB']\n",
    "                    # + full_preds['ANN']\n",
    "                    ) / 4\n",
    "\n",
    "full_preds['PredRounded'] = full_preds['Pred'].round(0)\n",
    "full_preds['PredRounded'].value_counts()\n",
    "cheat_score(full_preds['PredRounded'])"
   ],
   "metadata": {
    "collapsed": false,
    "pycharm": {
     "name": "#%%\n"
    }
   }
  },
  {
   "cell_type": "code",
   "execution_count": 70,
   "outputs": [
    {
     "data": {
      "text/plain": "PassengerId\n892     0.0\n893     0.0\n894     0.0\n895     0.0\n896     1.0\n       ... \n1305    0.0\n1306    1.0\n1307    0.0\n1308    0.0\n1309    1.0\nName: PredRounded, Length: 418, dtype: float64"
     },
     "execution_count": 70,
     "metadata": {},
     "output_type": "execute_result"
    }
   ],
   "source": [
    "full_preds['PredRounded']"
   ],
   "metadata": {
    "collapsed": false,
    "pycharm": {
     "name": "#%%\n"
    }
   }
  },
  {
   "cell_type": "code",
   "execution_count": 71,
   "outputs": [],
   "source": [
    "submission_df = pd.DataFrame({'PassengerId': X_test.index,\n",
    "                              'Survived': full_preds['PredRounded'].astype\n",
    "                              (int)})\n",
    "submission_df.to_csv('data/FullSubmission.csv', index=False)"
   ],
   "metadata": {
    "collapsed": false,
    "pycharm": {
     "name": "#%%\n"
    }
   }
  }
 ],
 "metadata": {
  "kernelspec": {
   "display_name": "Python 3",
   "language": "python",
   "name": "python3"
  },
  "language_info": {
   "codemirror_mode": {
    "name": "ipython",
    "version": 2
   },
   "file_extension": ".py",
   "mimetype": "text/x-python",
   "name": "python",
   "nbconvert_exporter": "python",
   "pygments_lexer": "ipython2",
   "version": "2.7.6"
  }
 },
 "nbformat": 4,
 "nbformat_minor": 0
}