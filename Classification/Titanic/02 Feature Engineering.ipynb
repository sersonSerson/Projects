{
 "cells": [
  {
   "cell_type": "markdown",
   "source": [
    "<p align=\"center\">\n",
    "<img style=\"width:80%\" src=\"https://c4.wallpaperflare\n",
    ".com/wallpaper/378/267/803/titanic-ship-cruise-ship-drawing-night-hd-wallpaper-preview.jpg\">\n",
    "</p>\n",
    "\n",
    "[Image source](https://www.wallpaperflare.com/titanic-ship-cruise-ship-drawing-night-hd-digital-artwork-wallpaper-mzpsf/)"
   ],
   "metadata": {
    "collapsed": false
   }
  },
  {
   "cell_type": "markdown",
   "source": [
    "<h1 style=\"text-align: center; color:#01872A; font-size: 80px;\n",
    "background:#daf2e1; border-radius: 20px;\n",
    "\">Titanic.<br> Part 2.</h1>"
   ],
   "metadata": {
    "collapsed": false
   }
  },
  {
   "cell_type": "markdown",
   "source": [
    "## Please use nbviewer to read this notebook to use all it's features:\n",
    "\n",
    "https://nbviewer.org/github/sersonSerson/Projects/blob/master/Classification/Titanic/Titanic.ipynb"
   ],
   "metadata": {
    "collapsed": false
   }
  },
  {
   "cell_type": "markdown",
   "source": [
    "# <span style=\"color:#01872A; display: block; padding:10px; background:#daf2e1;border-radius:20px; text-align: center; font-size: 40px; \"> Contents </span>"
   ],
   "metadata": {
    "collapsed": false
   }
  },
  {
   "cell_type": "markdown",
   "source": [
    "## 4.\t[Feature engineering.](#step4)\n",
    "## 4.1. [Fare.](#Step4.1)\n",
    "## 4.2. [Name.](#Step4.2)\n",
    "## 4.3. [SibSp.](#Step4.3)\n",
    "## 4.4. [Parch.](#Step4.4)\n",
    "## 4.5. [Age.](#Step4.5)\n",
    "## 4.6. [Embarked.](#Step4.6)\n",
    "## 4.7. [Cabin.](#Step4.7)\n",
    "## 4.8. [Feature encoding.](#Step4.8)"
   ],
   "metadata": {
    "collapsed": false
   }
  },
  {
   "cell_type": "code",
   "execution_count": 689,
   "outputs": [],
   "source": [
    "import pandas as pd\n",
    "import numpy as np\n",
    "import matplotlib.pyplot as plt\n",
    "import matplotlib\n",
    "from matplotlib import cm\n",
    "import seaborn as sns\n",
    "from sklearn.preprocessing import OneHotEncoder\n",
    "from sklearn.metrics import accuracy_score\n",
    "from sklearn.model_selection import KFold"
   ],
   "metadata": {
    "collapsed": false,
    "pycharm": {
     "name": "#%%\n"
    }
   }
  },
  {
   "cell_type": "code",
   "execution_count": 690,
   "outputs": [],
   "source": [
    "pd.options.display.max_columns = 80\n",
    "pd.options.display.max_rows = 30\n",
    "pd.options.display.max_colwidth = 60\n",
    "pd.options.mode.chained_assignment = None"
   ],
   "metadata": {
    "collapsed": false,
    "pycharm": {
     "name": "#%%\n"
    }
   }
  },
  {
   "cell_type": "markdown",
   "source": [
    "## Load data"
   ],
   "metadata": {
    "collapsed": false
   }
  },
  {
   "cell_type": "code",
   "execution_count": 693,
   "outputs": [
    {
     "data": {
      "text/plain": "             Survived  Pclass  \\\nPassengerId                     \n1                 0.0       3   \n2                 1.0       1   \n\n                                                            Name     Sex  \\\nPassengerId                                                                \n1                                        Braund, Mr. Owen Harris    male   \n2            Cumings, Mrs. John Bradley (Florence Briggs Thayer)  female   \n\n              Age  SibSp  Parch     Ticket     Fare Cabin Embarked  \nPassengerId                                                         \n1            22.0      1      0  A/5 21171   7.2500   NaN        S  \n2            38.0      1      0   PC 17599  71.2833   C85        C  ",
      "text/html": "<div>\n<style scoped>\n    .dataframe tbody tr th:only-of-type {\n        vertical-align: middle;\n    }\n\n    .dataframe tbody tr th {\n        vertical-align: top;\n    }\n\n    .dataframe thead th {\n        text-align: right;\n    }\n</style>\n<table border=\"1\" class=\"dataframe\">\n  <thead>\n    <tr style=\"text-align: right;\">\n      <th></th>\n      <th>Survived</th>\n      <th>Pclass</th>\n      <th>Name</th>\n      <th>Sex</th>\n      <th>Age</th>\n      <th>SibSp</th>\n      <th>Parch</th>\n      <th>Ticket</th>\n      <th>Fare</th>\n      <th>Cabin</th>\n      <th>Embarked</th>\n    </tr>\n    <tr>\n      <th>PassengerId</th>\n      <th></th>\n      <th></th>\n      <th></th>\n      <th></th>\n      <th></th>\n      <th></th>\n      <th></th>\n      <th></th>\n      <th></th>\n      <th></th>\n      <th></th>\n    </tr>\n  </thead>\n  <tbody>\n    <tr>\n      <th>1</th>\n      <td>0.0</td>\n      <td>3</td>\n      <td>Braund, Mr. Owen Harris</td>\n      <td>male</td>\n      <td>22.0</td>\n      <td>1</td>\n      <td>0</td>\n      <td>A/5 21171</td>\n      <td>7.2500</td>\n      <td>NaN</td>\n      <td>S</td>\n    </tr>\n    <tr>\n      <th>2</th>\n      <td>1.0</td>\n      <td>1</td>\n      <td>Cumings, Mrs. John Bradley (Florence Briggs Thayer)</td>\n      <td>female</td>\n      <td>38.0</td>\n      <td>1</td>\n      <td>0</td>\n      <td>PC 17599</td>\n      <td>71.2833</td>\n      <td>C85</td>\n      <td>C</td>\n    </tr>\n  </tbody>\n</table>\n</div>"
     },
     "execution_count": 693,
     "metadata": {},
     "output_type": "execute_result"
    }
   ],
   "source": [
    "train = pd.read_csv('data/train.csv', index_col='PassengerId')\n",
    "test = pd.read_csv('data/test.csv', index_col='PassengerId')\n",
    "filled_df = pd.concat([train, test])\n",
    "filled_df.head(2)"
   ],
   "metadata": {
    "collapsed": false,
    "pycharm": {
     "name": "#%%\n"
    }
   }
  },
  {
   "cell_type": "markdown",
   "source": [
    "<div id=\"Step4\">\n",
    "</div>\n",
    "\n",
    "# <span style=\"color:#01872A; display: block; padding:10px; background:#daf2e1;border-radius:20px; text-align: center; font-size: 40px; \"> Step 4. Feature engineering.</span>\n"
   ],
   "metadata": {
    "collapsed": false
   }
  },
  {
   "cell_type": "markdown",
   "source": [
    "<div id=\"Step4.1\">\n",
    "</div>\n",
    "\n",
    "# <span style=\"color:#01872A; display: block; padding:10px; background:#daf2e1;border-radius:20px; text-align: center; font-size: 40px; \"> Step 4.1. Fare.</span>\n"
   ],
   "metadata": {
    "collapsed": false
   }
  },
  {
   "cell_type": "markdown",
   "source": [
    "According to:\n",
    "https://autumnmccordckp.weebly.com/tickets-and-accomodations.html\n",
    "Titanic pricing policy was:\n",
    "1. First Class - £870 to £30.\n",
    "2. Second Class- £12.\n",
    "3. Third Class- £3 to £8."
   ],
   "metadata": {
    "collapsed": false
   }
  },
  {
   "cell_type": "markdown",
   "source": [
    "## Check dataset fares"
   ],
   "metadata": {
    "collapsed": false
   }
  },
  {
   "cell_type": "code",
   "execution_count": 694,
   "outputs": [
    {
     "data": {
      "text/plain": "             Fare                     \n             mean       max  min count\nPclass                                \n1       87.508992  512.3292  0.0   323\n2       21.179196   73.5000  0.0   277\n3       13.302889   69.5500  0.0   708",
      "text/html": "<div>\n<style scoped>\n    .dataframe tbody tr th:only-of-type {\n        vertical-align: middle;\n    }\n\n    .dataframe tbody tr th {\n        vertical-align: top;\n    }\n\n    .dataframe thead tr th {\n        text-align: left;\n    }\n\n    .dataframe thead tr:last-of-type th {\n        text-align: right;\n    }\n</style>\n<table border=\"1\" class=\"dataframe\">\n  <thead>\n    <tr>\n      <th></th>\n      <th colspan=\"4\" halign=\"left\">Fare</th>\n    </tr>\n    <tr>\n      <th></th>\n      <th>mean</th>\n      <th>max</th>\n      <th>min</th>\n      <th>count</th>\n    </tr>\n    <tr>\n      <th>Pclass</th>\n      <th></th>\n      <th></th>\n      <th></th>\n      <th></th>\n    </tr>\n  </thead>\n  <tbody>\n    <tr>\n      <th>1</th>\n      <td>87.508992</td>\n      <td>512.3292</td>\n      <td>0.0</td>\n      <td>323</td>\n    </tr>\n    <tr>\n      <th>2</th>\n      <td>21.179196</td>\n      <td>73.5000</td>\n      <td>0.0</td>\n      <td>277</td>\n    </tr>\n    <tr>\n      <th>3</th>\n      <td>13.302889</td>\n      <td>69.5500</td>\n      <td>0.0</td>\n      <td>708</td>\n    </tr>\n  </tbody>\n</table>\n</div>"
     },
     "execution_count": 694,
     "metadata": {},
     "output_type": "execute_result"
    }
   ],
   "source": [
    "filled_df.groupby('Pclass').agg({'Fare': ['mean', 'max', 'min', 'count']})"
   ],
   "metadata": {
    "collapsed": false,
    "pycharm": {
     "name": "#%%\n"
    }
   }
  },
  {
   "cell_type": "markdown",
   "source": [
    "## Ideas:\n",
    "1. There are passengers with zero Fare. Fill fare by mean of the respective\n",
    "Pclass.\n",
    "2. The mean price of all classes is higher than expected, so maybe the\n",
    "price is stated for all passengers with the same ticket number."
   ],
   "metadata": {
    "collapsed": false
   }
  },
  {
   "cell_type": "markdown",
   "source": [
    "## Define number of passenger for each ticket and append it to the DataFrame."
   ],
   "metadata": {
    "collapsed": false
   }
  },
  {
   "cell_type": "code",
   "execution_count": 695,
   "outputs": [
    {
     "data": {
      "text/plain": "Ticket\n110152         3\n110413         3\n110465         2\n110469         1\n110489         1\n              ..\nW./C. 6608     5\nW./C. 6609     1\nW.E.P. 5734    2\nW/C 14208      1\nWE/P 5735      2\nName: Name, Length: 929, dtype: int64"
     },
     "execution_count": 695,
     "metadata": {},
     "output_type": "execute_result"
    }
   ],
   "source": [
    "ticket_passengers = \\\n",
    "    filled_df.groupby('Ticket')['Name'].agg('count')\n",
    "ticket_passengers"
   ],
   "metadata": {
    "collapsed": false,
    "pycharm": {
     "name": "#%%\n"
    }
   }
  },
  {
   "cell_type": "code",
   "execution_count": 696,
   "outputs": [
    {
     "data": {
      "text/plain": "             Survived  Pclass  \\\nPassengerId                     \n1                 0.0       3   \n2                 1.0       1   \n3                 1.0       3   \n\n                                                            Name     Sex  \\\nPassengerId                                                                \n1                                        Braund, Mr. Owen Harris    male   \n2            Cumings, Mrs. John Bradley (Florence Briggs Thayer)  female   \n3                                         Heikkinen, Miss. Laina  female   \n\n              Age  SibSp  Parch            Ticket     Fare Cabin Embarked  \\\nPassengerId                                                                 \n1            22.0      1      0         A/5 21171   7.2500   NaN        S   \n2            38.0      1      0          PC 17599  71.2833   C85        C   \n3            26.0      0      0  STON/O2. 3101282   7.9250   NaN        S   \n\n             PassengersCount  \nPassengerId                   \n1                          1  \n2                          2  \n3                          1  ",
      "text/html": "<div>\n<style scoped>\n    .dataframe tbody tr th:only-of-type {\n        vertical-align: middle;\n    }\n\n    .dataframe tbody tr th {\n        vertical-align: top;\n    }\n\n    .dataframe thead th {\n        text-align: right;\n    }\n</style>\n<table border=\"1\" class=\"dataframe\">\n  <thead>\n    <tr style=\"text-align: right;\">\n      <th></th>\n      <th>Survived</th>\n      <th>Pclass</th>\n      <th>Name</th>\n      <th>Sex</th>\n      <th>Age</th>\n      <th>SibSp</th>\n      <th>Parch</th>\n      <th>Ticket</th>\n      <th>Fare</th>\n      <th>Cabin</th>\n      <th>Embarked</th>\n      <th>PassengersCount</th>\n    </tr>\n    <tr>\n      <th>PassengerId</th>\n      <th></th>\n      <th></th>\n      <th></th>\n      <th></th>\n      <th></th>\n      <th></th>\n      <th></th>\n      <th></th>\n      <th></th>\n      <th></th>\n      <th></th>\n      <th></th>\n    </tr>\n  </thead>\n  <tbody>\n    <tr>\n      <th>1</th>\n      <td>0.0</td>\n      <td>3</td>\n      <td>Braund, Mr. Owen Harris</td>\n      <td>male</td>\n      <td>22.0</td>\n      <td>1</td>\n      <td>0</td>\n      <td>A/5 21171</td>\n      <td>7.2500</td>\n      <td>NaN</td>\n      <td>S</td>\n      <td>1</td>\n    </tr>\n    <tr>\n      <th>2</th>\n      <td>1.0</td>\n      <td>1</td>\n      <td>Cumings, Mrs. John Bradley (Florence Briggs Thayer)</td>\n      <td>female</td>\n      <td>38.0</td>\n      <td>1</td>\n      <td>0</td>\n      <td>PC 17599</td>\n      <td>71.2833</td>\n      <td>C85</td>\n      <td>C</td>\n      <td>2</td>\n    </tr>\n    <tr>\n      <th>3</th>\n      <td>1.0</td>\n      <td>3</td>\n      <td>Heikkinen, Miss. Laina</td>\n      <td>female</td>\n      <td>26.0</td>\n      <td>0</td>\n      <td>0</td>\n      <td>STON/O2. 3101282</td>\n      <td>7.9250</td>\n      <td>NaN</td>\n      <td>S</td>\n      <td>1</td>\n    </tr>\n  </tbody>\n</table>\n</div>"
     },
     "execution_count": 696,
     "metadata": {},
     "output_type": "execute_result"
    }
   ],
   "source": [
    "filled_df['PassengersCount'] = filled_df['Ticket'].map(ticket_passengers)\n",
    "filled_df[:3]"
   ],
   "metadata": {
    "collapsed": false,
    "pycharm": {
     "name": "#%%\n"
    }
   }
  },
  {
   "cell_type": "markdown",
   "source": [
    "Fill missing 'Fare' value"
   ],
   "metadata": {
    "collapsed": false
   }
  },
  {
   "cell_type": "code",
   "execution_count": 697,
   "outputs": [],
   "source": [
    "filled_df['Fare'].fillna(0, inplace=True)"
   ],
   "metadata": {
    "collapsed": false,
    "pycharm": {
     "name": "#%%\n"
    }
   }
  },
  {
   "cell_type": "markdown",
   "source": [
    "## Calculate fare per passenger."
   ],
   "metadata": {
    "collapsed": false
   }
  },
  {
   "cell_type": "code",
   "execution_count": 698,
   "outputs": [
    {
     "data": {
      "text/plain": "             Survived  Pclass  \\\nPassengerId                     \n1                 0.0       3   \n2                 1.0       1   \n3                 1.0       3   \n4                 1.0       1   \n5                 0.0       3   \n\n                                                            Name     Sex  \\\nPassengerId                                                                \n1                                        Braund, Mr. Owen Harris    male   \n2            Cumings, Mrs. John Bradley (Florence Briggs Thayer)  female   \n3                                         Heikkinen, Miss. Laina  female   \n4                   Futrelle, Mrs. Jacques Heath (Lily May Peel)  female   \n5                                       Allen, Mr. William Henry    male   \n\n              Age  SibSp  Parch            Ticket     Fare Cabin Embarked  \\\nPassengerId                                                                 \n1            22.0      1      0         A/5 21171   7.2500   NaN        S   \n2            38.0      1      0          PC 17599  71.2833   C85        C   \n3            26.0      0      0  STON/O2. 3101282   7.9250   NaN        S   \n4            35.0      1      0            113803  53.1000  C123        S   \n5            35.0      0      0            373450   8.0500   NaN        S   \n\n             PassengersCount  FarePerPassenger  \nPassengerId                                     \n1                          1           7.25000  \n2                          2          35.64165  \n3                          1           7.92500  \n4                          2          26.55000  \n5                          1           8.05000  ",
      "text/html": "<div>\n<style scoped>\n    .dataframe tbody tr th:only-of-type {\n        vertical-align: middle;\n    }\n\n    .dataframe tbody tr th {\n        vertical-align: top;\n    }\n\n    .dataframe thead th {\n        text-align: right;\n    }\n</style>\n<table border=\"1\" class=\"dataframe\">\n  <thead>\n    <tr style=\"text-align: right;\">\n      <th></th>\n      <th>Survived</th>\n      <th>Pclass</th>\n      <th>Name</th>\n      <th>Sex</th>\n      <th>Age</th>\n      <th>SibSp</th>\n      <th>Parch</th>\n      <th>Ticket</th>\n      <th>Fare</th>\n      <th>Cabin</th>\n      <th>Embarked</th>\n      <th>PassengersCount</th>\n      <th>FarePerPassenger</th>\n    </tr>\n    <tr>\n      <th>PassengerId</th>\n      <th></th>\n      <th></th>\n      <th></th>\n      <th></th>\n      <th></th>\n      <th></th>\n      <th></th>\n      <th></th>\n      <th></th>\n      <th></th>\n      <th></th>\n      <th></th>\n      <th></th>\n    </tr>\n  </thead>\n  <tbody>\n    <tr>\n      <th>1</th>\n      <td>0.0</td>\n      <td>3</td>\n      <td>Braund, Mr. Owen Harris</td>\n      <td>male</td>\n      <td>22.0</td>\n      <td>1</td>\n      <td>0</td>\n      <td>A/5 21171</td>\n      <td>7.2500</td>\n      <td>NaN</td>\n      <td>S</td>\n      <td>1</td>\n      <td>7.25000</td>\n    </tr>\n    <tr>\n      <th>2</th>\n      <td>1.0</td>\n      <td>1</td>\n      <td>Cumings, Mrs. John Bradley (Florence Briggs Thayer)</td>\n      <td>female</td>\n      <td>38.0</td>\n      <td>1</td>\n      <td>0</td>\n      <td>PC 17599</td>\n      <td>71.2833</td>\n      <td>C85</td>\n      <td>C</td>\n      <td>2</td>\n      <td>35.64165</td>\n    </tr>\n    <tr>\n      <th>3</th>\n      <td>1.0</td>\n      <td>3</td>\n      <td>Heikkinen, Miss. Laina</td>\n      <td>female</td>\n      <td>26.0</td>\n      <td>0</td>\n      <td>0</td>\n      <td>STON/O2. 3101282</td>\n      <td>7.9250</td>\n      <td>NaN</td>\n      <td>S</td>\n      <td>1</td>\n      <td>7.92500</td>\n    </tr>\n    <tr>\n      <th>4</th>\n      <td>1.0</td>\n      <td>1</td>\n      <td>Futrelle, Mrs. Jacques Heath (Lily May Peel)</td>\n      <td>female</td>\n      <td>35.0</td>\n      <td>1</td>\n      <td>0</td>\n      <td>113803</td>\n      <td>53.1000</td>\n      <td>C123</td>\n      <td>S</td>\n      <td>2</td>\n      <td>26.55000</td>\n    </tr>\n    <tr>\n      <th>5</th>\n      <td>0.0</td>\n      <td>3</td>\n      <td>Allen, Mr. William Henry</td>\n      <td>male</td>\n      <td>35.0</td>\n      <td>0</td>\n      <td>0</td>\n      <td>373450</td>\n      <td>8.0500</td>\n      <td>NaN</td>\n      <td>S</td>\n      <td>1</td>\n      <td>8.05000</td>\n    </tr>\n  </tbody>\n</table>\n</div>"
     },
     "execution_count": 698,
     "metadata": {},
     "output_type": "execute_result"
    }
   ],
   "source": [
    "filled_df['FarePerPassenger'] = filled_df['Fare'] / filled_df['PassengersCount']\n",
    "filled_df.head()"
   ],
   "metadata": {
    "collapsed": false,
    "pycharm": {
     "name": "#%%\n"
    }
   }
  },
  {
   "cell_type": "code",
   "execution_count": 699,
   "outputs": [
    {
     "data": {
      "text/plain": "       FarePerPassenger                     \n                   mean       max  min count\nPclass                                      \n1             33.910500  128.0823  0.0   323\n2             11.411010   16.0000  0.0   277\n3              7.318808   19.9667  0.0   709",
      "text/html": "<div>\n<style scoped>\n    .dataframe tbody tr th:only-of-type {\n        vertical-align: middle;\n    }\n\n    .dataframe tbody tr th {\n        vertical-align: top;\n    }\n\n    .dataframe thead tr th {\n        text-align: left;\n    }\n\n    .dataframe thead tr:last-of-type th {\n        text-align: right;\n    }\n</style>\n<table border=\"1\" class=\"dataframe\">\n  <thead>\n    <tr>\n      <th></th>\n      <th colspan=\"4\" halign=\"left\">FarePerPassenger</th>\n    </tr>\n    <tr>\n      <th></th>\n      <th>mean</th>\n      <th>max</th>\n      <th>min</th>\n      <th>count</th>\n    </tr>\n    <tr>\n      <th>Pclass</th>\n      <th></th>\n      <th></th>\n      <th></th>\n      <th></th>\n    </tr>\n  </thead>\n  <tbody>\n    <tr>\n      <th>1</th>\n      <td>33.910500</td>\n      <td>128.0823</td>\n      <td>0.0</td>\n      <td>323</td>\n    </tr>\n    <tr>\n      <th>2</th>\n      <td>11.411010</td>\n      <td>16.0000</td>\n      <td>0.0</td>\n      <td>277</td>\n    </tr>\n    <tr>\n      <th>3</th>\n      <td>7.318808</td>\n      <td>19.9667</td>\n      <td>0.0</td>\n      <td>709</td>\n    </tr>\n  </tbody>\n</table>\n</div>"
     },
     "execution_count": 699,
     "metadata": {},
     "output_type": "execute_result"
    }
   ],
   "source": [
    "filled_df.groupby('Pclass').agg({'FarePerPassenger': ['mean', 'max', 'min',\n",
    "                                                 'count']})"
   ],
   "metadata": {
    "collapsed": false,
    "pycharm": {
     "name": "#%%\n"
    }
   }
  },
  {
   "cell_type": "markdown",
   "source": [
    "## Now the fares are closer to expected values.\n",
    "## Outline passengers with zero ticket price."
   ],
   "metadata": {
    "collapsed": false
   }
  },
  {
   "cell_type": "code",
   "execution_count": 700,
   "outputs": [
    {
     "data": {
      "text/plain": "0    1291\n1      18\nName: ZeroPrice, dtype: int64"
     },
     "execution_count": 700,
     "metadata": {},
     "output_type": "execute_result"
    }
   ],
   "source": [
    "filled_df['ZeroPrice'] = np.where(filled_df['FarePerPassenger'] == 0, 1, 0)\n",
    "filled_df['ZeroPrice'].value_counts()"
   ],
   "metadata": {
    "collapsed": false,
    "pycharm": {
     "name": "#%%\n"
    }
   }
  },
  {
   "cell_type": "markdown",
   "source": [
    "<div id=\"Step4.2\">\n",
    "</div>\n",
    "\n",
    "# <span style=\"color:#01872A; display: block; padding:10px; background:#daf2e1;border-radius:20px; text-align: center; font-size: 40px; \"> Step 4.2. Name.</span>\n"
   ],
   "metadata": {
    "collapsed": false
   }
  },
  {
   "cell_type": "code",
   "execution_count": 701,
   "outputs": [
    {
     "data": {
      "text/plain": "                                                            Name  FirstName  \\\nPassengerId                                                                   \n1                                        Braund, Mr. Owen Harris     Braund   \n2            Cumings, Mrs. John Bradley (Florence Briggs Thayer)    Cumings   \n3                                         Heikkinen, Miss. Laina  Heikkinen   \n4                   Futrelle, Mrs. Jacques Heath (Lily May Peel)   Futrelle   \n5                                       Allen, Mr. William Henry      Allen   \n\n                  LastName Title  \nPassengerId                       \n1              Owen Harris    Mr  \n2             John Bradley   Mrs  \n3                    Laina  Miss  \n4            Jacques Heath   Mrs  \n5            William Henry    Mr  ",
      "text/html": "<div>\n<style scoped>\n    .dataframe tbody tr th:only-of-type {\n        vertical-align: middle;\n    }\n\n    .dataframe tbody tr th {\n        vertical-align: top;\n    }\n\n    .dataframe thead th {\n        text-align: right;\n    }\n</style>\n<table border=\"1\" class=\"dataframe\">\n  <thead>\n    <tr style=\"text-align: right;\">\n      <th></th>\n      <th>Name</th>\n      <th>FirstName</th>\n      <th>LastName</th>\n      <th>Title</th>\n    </tr>\n    <tr>\n      <th>PassengerId</th>\n      <th></th>\n      <th></th>\n      <th></th>\n      <th></th>\n    </tr>\n  </thead>\n  <tbody>\n    <tr>\n      <th>1</th>\n      <td>Braund, Mr. Owen Harris</td>\n      <td>Braund</td>\n      <td>Owen Harris</td>\n      <td>Mr</td>\n    </tr>\n    <tr>\n      <th>2</th>\n      <td>Cumings, Mrs. John Bradley (Florence Briggs Thayer)</td>\n      <td>Cumings</td>\n      <td>John Bradley</td>\n      <td>Mrs</td>\n    </tr>\n    <tr>\n      <th>3</th>\n      <td>Heikkinen, Miss. Laina</td>\n      <td>Heikkinen</td>\n      <td>Laina</td>\n      <td>Miss</td>\n    </tr>\n    <tr>\n      <th>4</th>\n      <td>Futrelle, Mrs. Jacques Heath (Lily May Peel)</td>\n      <td>Futrelle</td>\n      <td>Jacques Heath</td>\n      <td>Mrs</td>\n    </tr>\n    <tr>\n      <th>5</th>\n      <td>Allen, Mr. William Henry</td>\n      <td>Allen</td>\n      <td>William Henry</td>\n      <td>Mr</td>\n    </tr>\n  </tbody>\n</table>\n</div>"
     },
     "execution_count": 701,
     "metadata": {},
     "output_type": "execute_result"
    }
   ],
   "source": [
    "filled_df['FirstName'] = filled_df['Name'].str.extract(r\"([a-zA-Z '\\-]+),\")\n",
    "filled_df['Title'] = filled_df['Name'].str.extract(r' ([a-zA-Z]+)\\.')\n",
    "filled_df['LastName'] = \\\n",
    "    filled_df['Name'].str.extract(r'\\. ([a-zA-Z /\"]*)').iloc[:, 0].str.strip()\n",
    "# filled_df['MaidenName'] = \\\n",
    "#     filled_df['Name'].str.extract(r'\\(([a-zA-Z ]*)\\)')\n",
    "filled_df[['Name', 'FirstName', 'LastName', 'Title',]].head()\n",
    "           # 'MaidenName']]"
   ],
   "metadata": {
    "collapsed": false,
    "pycharm": {
     "name": "#%%\n"
    }
   }
  },
  {
   "cell_type": "markdown",
   "source": [
    "## Spouse\n",
    "There is no feature which clearly shows if there are Spouses on board, but\n",
    "only feature 'SibSp' - Spouse + siblings.\n",
    "The idea is to divide 'SibSp' into a Spouse and siblings.\n",
    "Logic:\n",
    "1. Feature 'SibSp' should be > 0.\n",
    "2. Female title should not be 'Miss' - it is a title of unmarried woman.\n",
    "3. Male title should not be 'Master' - it is a title of a young man (under\n",
    " 14).\n",
    "4. Spouses should have the same ticket number.\n",
    "5. A female Spouse should have the last name equal to male last name.\n"
   ],
   "metadata": {
    "collapsed": false
   }
  },
  {
   "cell_type": "code",
   "execution_count": 702,
   "outputs": [
    {
     "name": "stdout",
     "output_type": "stream",
     "text": [
      "Not found Spouse for: Ahlin, Mrs. Johan (Johanna Persdotter Larsson)\n",
      "Not found Spouse for: Faunthorpe, Mrs. Lizzie (Elizabeth Anne Wilkinson)\n",
      "Not found Spouse for: Skoog, Mrs. William (Anna Bernhardina Karlsson)\n",
      "Not found Spouse for: Strom, Mrs. Wilhelm (Elna Matilda Persson)\n",
      "Not found Spouse for: Abbott, Mrs. Stanton (Rosa Hunt)\n",
      "Not found Spouse for: Richards, Mrs. Sidney (Emily Hocking)\n",
      "Not found Spouse for: Duff Gordon, Lady. (Lucille Christiana Sutherland) (\"Mrs Morgan\")\n",
      "Not found Spouse for: Appleton, Mrs. Edward Dale (Charlotte Lamson)\n",
      "Not found Spouse for: Stephenson, Mrs. Walter Bertram (Martha Eustis)\n",
      "Not found Spouse for: Goodwin, Mrs. Frederick (Augusta Tyler)\n",
      "Not found Spouse for: Hogeboom, Mrs. John C (Anna Andrews)\n",
      "Not found Spouse for: Hocking, Mrs. Elizabeth (Eliza Needs)\n",
      "Not found Spouse for: Wilkes, Mrs. James (Ellen Needs)\n",
      "Not found Spouse for: Hirvonen, Mrs. Alexander (Helga E Lindqvist)\n",
      "Not found Spouse for: Cornell, Mrs. Robert Clifford (Malvina Helen Lamson)\n",
      "Not found Spouse for: Thomas, Mrs. Alexander (Thamine Thelma\")\"\n",
      "Not found Spouse for: Schabert, Mrs. Paul (Emma Mock)\n",
      "Not found Spouse for: Douglas, Mrs. Frederick Charles (Mary Helene Baxter)\n",
      "Not found Spouse for: Crosby, Mrs. Edward Gifford (Catherine Elizabeth Halstead)\n",
      "Not found Spouse for: Nakid, Mrs. Said (Waika Mary\" Mowad)\"\n",
      "Not found Spouse for: Brown, Mrs. John Murray (Caroline Lane Lamson)\n"
     ]
    }
   ],
   "source": [
    "filled_df['Spouse'] = 0\n",
    "females_with_sibsp = filled_df[(filled_df['Sex'] == 'female')\n",
    "                               & (filled_df['SibSp'] > 0)\n",
    "                               &  (filled_df['Title'] != 'Miss')].copy()\n",
    "males_with_sibsp = filled_df[(filled_df['Sex'] == 'male')\n",
    "                                & (filled_df['SibSp'] > 0)].copy()\n",
    "for female_index, potential_wife in females_with_sibsp.iterrows():\n",
    "    potential_husband = \\\n",
    "        males_with_sibsp[\n",
    "            (males_with_sibsp['Ticket'] == potential_wife['Ticket'])\n",
    "            & (males_with_sibsp['LastName'].str.split(' ').str[0] ==\n",
    "               potential_wife['LastName'].split(' ')[0])\n",
    "            & (males_with_sibsp['Title'] != 'Master')]\n",
    "    if len(potential_husband) > 1:\n",
    "        print(f'Not found Spouse for: {potential_wife[\"Name\"]}')\n",
    "    elif len(potential_husband) > 0:\n",
    "        filled_df.loc[potential_husband.index, 'Spouse'] = 1\n",
    "        filled_df.loc[female_index, 'Spouse'] = 1\n",
    "    else:\n",
    "        print(f'Not found Spouse for: {potential_wife[\"Name\"]}')"
   ],
   "metadata": {
    "collapsed": false,
    "pycharm": {
     "name": "#%%\n"
    }
   }
  },
  {
   "cell_type": "markdown",
   "source": [
    "There are some exceptions to the rules introduced above, need to correct them.\n",
    "Possible reasons:\n",
    "1. Misspelled names ('Mrs. Said' and 'Mr. Sahid').\n",
    "2. Use of short versions of names ('Mrs. Frederick' and 'Mr. Charles Frederick')\n",
    "3. Wrong numbers in initial data."
   ],
   "metadata": {
    "collapsed": false
   }
  },
  {
   "cell_type": "code",
   "execution_count": 703,
   "outputs": [],
   "source": [
    "def correct_spouses(filled_df):\n",
    "    exceptions = ['Skoog, Mrs. William (Anna Bernhardina Karlsson)',\n",
    "                  'Skoog, Mr. Wilhelm',\n",
    "                  'Duff Gordon, Lady. (Lucille Christiana Sutherland) (\"Mrs '\n",
    "                  'Morgan\")',\n",
    "                  'Duff Gordon, Sir. Cosmo Edmund (\"Mr Morgan\")',\n",
    "                  'Faunthorpe, Mrs. Lizzie (Elizabeth Anne Wilkinson)',\n",
    "                  'Faunthorpe, Mr. Harry',\n",
    "                  'Nakid, Mr. Sahid',\n",
    "                  'Nakid, Mrs. Said (Waika Mary\" Mowad)\"',\n",
    "                  'Goodwin, Mrs. Frederick (Augusta Tyler)',\n",
    "                  'Goodwin, Mr. Charles Frederick',\n",
    "                  'Ware, Mr. John James',\n",
    "                  'Ware, Mrs. John James (Florence Louise Long)',\n",
    "                  'Crosby, Mrs. Edward Gifford (Catherine Elizabeth Halstead)',\n",
    "                  'Crosby, Capt. Edward Gifford'\n",
    "                  ]\n",
    "    exceptions_mask = filled_df['Name'].isin(exceptions)\n",
    "    filled_df.loc[exceptions_mask, 'Spouse'] = 1\n",
    "    return filled_df\n",
    "filled_df = correct_spouses(filled_df)"
   ],
   "metadata": {
    "collapsed": false,
    "pycharm": {
     "name": "#%%\n"
    }
   }
  },
  {
   "cell_type": "markdown",
   "source": [
    "<div id=\"Step4.3\">\n",
    "</div>\n",
    "\n",
    "# <span style=\"color:#01872A; display: block; padding:10px; background:#daf2e1;border-radius:20px; text-align: center; font-size: 40px; \"> Step 4.2. SibSp.</span>\n"
   ],
   "metadata": {
    "collapsed": false
   }
  },
  {
   "cell_type": "markdown",
   "source": [
    "## Siblings\n",
    "As we already calculated number of 'Spounse', we can calculate number of siblings\n",
    "by reducing 'SibSp' feature by 'Spounse' feature."
   ],
   "metadata": {
    "collapsed": false
   }
  },
  {
   "cell_type": "code",
   "execution_count": 704,
   "outputs": [
    {
     "data": {
      "text/plain": "PassengerId\n1       1\n2       0\n3       0\n4       0\n5       0\n       ..\n1305    0\n1306    0\n1307    0\n1308    0\n1309    1\nName: Siblings, Length: 1309, dtype: int64"
     },
     "execution_count": 704,
     "metadata": {},
     "output_type": "execute_result"
    }
   ],
   "source": [
    "filled_df['Siblings'] = filled_df['SibSp'] - filled_df['Spouse']\n",
    "filled_df['Siblings']"
   ],
   "metadata": {
    "collapsed": false,
    "pycharm": {
     "name": "#%%\n"
    }
   }
  },
  {
   "cell_type": "markdown",
   "source": [
    "## Correct wrong data"
   ],
   "metadata": {
    "collapsed": false
   }
  },
  {
   "cell_type": "code",
   "execution_count": 705,
   "outputs": [],
   "source": [
    "def correct_families(filled_df):\n",
    "    filled_df.loc[filled_df['Name'] == 'Abbott, Mrs. Stanton (Rosa Hunt)',\n",
    "              ['SibSp', 'Siblings', 'Parch', 'Children']] = [0, 0, 2, 2]\n",
    "    filled_df.loc[filled_df['Name'] == 'Abbott, Master. Eugene Joseph',\n",
    "              ['SibSp', 'Siblings', 'Parch']] = [1, 1, 1]\n",
    "    filled_df.loc[filled_df['Name'] == 'Andersson, Miss. Erna Alexandra',\n",
    "              ['SibSp', 'Siblings', 'Parch']] = 0\n",
    "    filled_df.loc[filled_df['Name'] == 'Baxter, Mr. Quigg Edmond',\n",
    "              ['SibSp', 'Siblings']] = 1\n",
    "    filled_df.loc[filled_df['Name'] == 'Ford, Mr. Edward Watson',\n",
    "              ['SibSp', 'Siblings', 'Spouse', 'Parch',\n",
    "               'Parents']] = [3, 3, 0, 1, 1]\n",
    "    filled_df.loc[filled_df['Name'] == 'Ford, Mrs. Edward (Margaret Ann Watson)',\n",
    "              ['Siblings', 'Spouse', 'Parch']] = [1, 0, 4]\n",
    "    filled_df.loc[filled_df['Name'] == 'Ford, Mr. William Neal',\n",
    "              ['SibSp', 'Siblings', 'Parch']] = [3, 3, 1]\n",
    "    filled_df.loc[filled_df['Name'] == 'Ford, Miss. Robina Maggie \"Ruby\"',\n",
    "              ['SibSp', 'Siblings', 'Parch']] = [3, 3, 1]\n",
    "    filled_df.loc[filled_df['Name'] == 'Ford, Miss. Doolina Margaret \"Daisy\"',\n",
    "              ['SibSp', 'Siblings', 'Parch', 'Parents']] = [3, 3, 1, 1]\n",
    "    filled_df.loc[filled_df['Name'] == 'Johnston, Mrs. Andrew G (Elizabeth Lily\" Watson)\"',\n",
    "              ['SibSp', 'Siblings', 'Spouse']] = [2, 1, 1]\n",
    "    filled_df.loc[filled_df['Name'] == 'Lahtinen, Mrs. William (Anna Sylfven)',\n",
    "              ['SibSp', 'Siblings', 'Spouse', 'Parch']] = [2, 1, 1, 0]\n",
    "    filled_df.loc[filled_df['Name'] == 'Lahtinen, Rev. William',\n",
    "              ['Parch']] = [0]\n",
    "    filled_df.loc[filled_df['Name'] == 'Natsch, Mr. Charles H',\n",
    "              ['Parch']] = [0]\n",
    "    filled_df.loc[filled_df['Name'] == 'Silven, Miss. Lyyli Karoliina',\n",
    "              ['SibSp', 'Siblings', 'Parch']] = [1, 1, 0]\n",
    "    filled_df.loc[filled_df['Name'] == 'Ware, Mr. William Jeffery',\n",
    "              ['SibSp', 'Siblings']] = [0, 0]\n",
    "    filled_df.loc[filled_df['Name'] == 'Ware, Mrs. John James (Florence Louise Long)',\n",
    "              ['SibSp', 'Siblings', 'Spouse', 'Parch']] = [1, 0, 1, 0,]\n",
    "    return filled_df\n",
    "\n",
    "filled_df = correct_families(filled_df)"
   ],
   "metadata": {
    "collapsed": false,
    "pycharm": {
     "name": "#%%\n"
    }
   }
  },
  {
   "cell_type": "markdown",
   "source": [
    "<div id=\"Step4.4\">\n",
    "</div>\n",
    "\n",
    "# <span style=\"color:#01872A; display: block; padding:10px; background:#daf2e1;border-radius:20px; text-align: center; font-size: 40px; \"> Step 4.4. Parch.</span>\n"
   ],
   "metadata": {
    "collapsed": false
   }
  },
  {
   "cell_type": "markdown",
   "source": [
    "# Divide Parch into Parents and Children\n",
    "1. Used only for passengers with 'Parch' > 0\n",
    "2. Parents and children should have same ticket number.\n",
    "3. Algorithm of dividing:\n",
    "    * If a group have 'Spouse' feature - they are definitely parents.\n",
    "    Implemented in 'divide_by_spouse' function.\n",
    "    * If the 'Age' of all people in group is filled - parents should be at\n",
    "    least 12 years older than children. Implemented in 'divide_by_age' function.\n",
    "    * If none of the above methods gave result then divide by 'Title' column.\n",
    "    For parents 'Title' is in ['Dr', 'Mr', 'Mrs', 'Capt'], for children in:\n",
    "    ['Miss', 'Mr', 'Master']."
   ],
   "metadata": {
    "collapsed": false
   }
  },
  {
   "cell_type": "code",
   "execution_count": 706,
   "outputs": [],
   "source": [
    "def divide_by_spouse(group):\n",
    "    parents_group, children_group = None, None\n",
    "    if any(group['Spouse'] > 0):\n",
    "        Spouse_grouped = group.groupby(['Spouse'])\n",
    "        for name, Spouse_group in Spouse_grouped:\n",
    "            if all(Spouse_group['Spouse'] == 1):\n",
    "                parents_group = Spouse_group\n",
    "            elif all(Spouse_group['Spouse'] != 1):\n",
    "                children_group = Spouse_group\n",
    "    return parents_group, children_group\n",
    "\n",
    "def divide_by_age(group):\n",
    "    max_age = group['Age'].max()\n",
    "    max_children_age = max_age - 12\n",
    "    children_group = group[group['Age'] <= max_children_age]\n",
    "    parents_group = group[group['Age'] > max_children_age]\n",
    "    return  parents_group, children_group\n",
    "\n",
    "def divide_by_title(group):\n",
    "    parents_group, children_group = None, None\n",
    "    parch_grouped = group.groupby(['Parch'])\n",
    "    for name, parch_group in parch_grouped:\n",
    "        if all(parch_group['Title'].isin(['Dr', 'Mr', 'Mrs', 'Capt'])):\n",
    "            if parents_group is None:\n",
    "                parents_group = parch_group\n",
    "        elif all(parch_group['Title'].isin(['Miss', 'Mr', 'Master'])):\n",
    "            if children_group is None:\n",
    "                children_group = parch_group\n",
    "    return parents_group, children_group\n",
    "\n",
    "def divide_in_parents_and_children(group):\n",
    "\n",
    "    parents_group, children_group = divide_by_spouse(group)\n",
    "\n",
    "    if group['Age'].isna().sum() == 0:\n",
    "        age_filled = True\n",
    "    else:\n",
    "        age_filled = False\n",
    "\n",
    "    if children_group is None or parents_group is None:\n",
    "        if age_filled:\n",
    "            parents_group, children_group = divide_by_age(group)\n",
    "        else:\n",
    "            parents_group, children_group = divide_by_title(group)\n",
    "\n",
    "    return parents_group, children_group\n",
    "\n",
    "filled_parch = filled_df[filled_df['Parch'] > 0]\n",
    "filled_df['Parents'] = 0\n",
    "filled_df['Children'] = 0\n",
    "ticket_grouped = filled_parch.sort_values('Ticket').groupby(['Ticket'])\n",
    "for name, ticket_group in ticket_grouped:\n",
    "    parents_group, children_group = divide_in_parents_and_children(ticket_group)\n",
    "    if children_group is not None and parents_group is not None\\\n",
    "            and len(children_group) > 0 and len(parents_group) > 0:\n",
    "        filled_df.loc[parents_group.index, 'Children'] = parents_group['Parch']\n",
    "        filled_df.loc[children_group.index, 'Parents'] = children_group['Parch']"
   ],
   "metadata": {
    "collapsed": false,
    "pycharm": {
     "name": "#%%\n"
    }
   }
  },
  {
   "cell_type": "markdown",
   "source": [
    "# Merge everyone with incorrectly found parents and children into one group and try to find matches amoung this group."
   ],
   "metadata": {
    "collapsed": false
   }
  },
  {
   "cell_type": "code",
   "execution_count": 707,
   "outputs": [],
   "source": [
    "incorrect_parch = filled_df[(filled_df['Children'] + filled_df['Parents']) !=\n",
    "            filled_df['Parch']]\n",
    "name_grouped = incorrect_parch.sort_values('FirstName').groupby(['FirstName'])\n",
    "for name, name_group in name_grouped:\n",
    "    parents_group, children_group = divide_in_parents_and_children(name_group)\n",
    "    if children_group is not None and parents_group is not None\\\n",
    "            and len(children_group) > 0 and len(parents_group) > 0:\n",
    "        filled_df.loc[parents_group.index, 'Children'] = parents_group['Parch']\n",
    "        filled_df.loc[children_group.index, 'Parents'] = children_group['Parch']"
   ],
   "metadata": {
    "collapsed": false,
    "pycharm": {
     "name": "#%%\n"
    }
   }
  },
  {
   "cell_type": "markdown",
   "source": [
    "# Clear all incorrect samples by hand."
   ],
   "metadata": {
    "collapsed": false
   }
  },
  {
   "cell_type": "code",
   "execution_count": 708,
   "outputs": [],
   "source": [
    "def incorrect_parents_children(filled_df):\n",
    "\n",
    "    filled_df.loc[filled_df['Name'] == 'Chibnall, Mrs. (Edith Martha Bowerman)',\n",
    "              ['Children']] = [1]\n",
    "    filled_df.loc[filled_df['Name'] == 'Bowerman, Miss. Elsie Edith',\n",
    "              ['Parents']] = [1]\n",
    "    filled_df.loc[filled_df['Name'] == 'Klasen, Mr. Klas Albin',\n",
    "              ['Parents']] = [1]\n",
    "    filled_df.loc[filled_df['Name'] == 'Newsom, Miss. Helen Monypeny',\n",
    "              ['Parents']] = [2]\n",
    "    filled_df.loc[filled_df['Name'] == 'Beckwith, Mr. Richard Leonard',\n",
    "              ['Children']] = [1]\n",
    "    filled_df.loc[filled_df['Name'] == 'Beckwith, Mrs. Richard Leonard (Sallie Monypeny)',\n",
    "              ['Children']] = [1]\n",
    "    filled_df.loc[filled_df['Name'] == 'Hocking, Mrs. Elizabeth (Eliza Needs)',\n",
    "              ['Children']] = [3]\n",
    "    filled_df.loc[filled_df['Name'] == 'Hocking, Mr. Richard George',\n",
    "              ['Parents']] = [1]\n",
    "    filled_df.loc[filled_df['Name'] == 'Hays, Mr. Charles Melville',\n",
    "              ['Children']] = [1]\n",
    "    filled_df.loc[filled_df['Name'] == 'Hays, Mrs. Charles Melville (Clara Jennings Gregg)',\n",
    "              ['Children']] = [1]\n",
    "    filled_df.loc[filled_df['Name'] == 'Davidson, Mrs. Thornton (Orian Hays)',\n",
    "              ['Parents']] = [2]\n",
    "    filled_df.loc[filled_df['Name'] == 'Crosby, Mrs. Edward Gifford (Catherine Elizabeth Halstead)',\n",
    "              ['Children']] = [1]\n",
    "    filled_df.loc[filled_df['Name'] == 'Frolicher, Miss. Hedwig Margaritha',\n",
    "              ['Parents']] = [2]\n",
    "    filled_df.loc[filled_df['Name'] == 'Hiltunen, Miss. Marta',\n",
    "              ['Parch']] = [0]\n",
    "    filled_df.loc[filled_df['Name'] == 'Andersson, Miss. Ida Augusta Margareta',\n",
    "              ['Parch']] = [0]\n",
    "    filled_df.loc[filled_df['Name'] == 'Newell, Mr. Arthur Webster',\n",
    "              ['Children']] = [2]\n",
    "    filled_df.loc[filled_df['Name'] == 'Jacobsohn, Mrs. Sidney Samuel (Amy Frances Christy)',\n",
    "              ['Parents']] = [1]\n",
    "    return filled_df\n",
    "\n",
    "filled_df = incorrect_parents_children(filled_df)"
   ],
   "metadata": {
    "collapsed": false,
    "pycharm": {
     "name": "#%%\n"
    }
   }
  },
  {
   "cell_type": "markdown",
   "source": [
    "### Check if there are any mistakes left"
   ],
   "metadata": {
    "collapsed": false
   }
  },
  {
   "cell_type": "code",
   "execution_count": 709,
   "outputs": [
    {
     "data": {
      "text/plain": "0"
     },
     "execution_count": 709,
     "metadata": {},
     "output_type": "execute_result"
    }
   ],
   "source": [
    "incorrect_parch = \\\n",
    "    filled_df[(filled_df['Children'] + filled_df['Parents']) !=\n",
    "              filled_df['Parch']]\n",
    "len(incorrect_parch)"
   ],
   "metadata": {
    "collapsed": false,
    "pycharm": {
     "name": "#%%\n"
    }
   }
  },
  {
   "cell_type": "markdown",
   "source": [
    "Add some new features:\n",
    "1. Women with only husband"
   ],
   "metadata": {
    "collapsed": false
   }
  },
  {
   "cell_type": "code",
   "execution_count": 710,
   "outputs": [],
   "source": [
    "filled_df['OnlyHusband'] = \\\n",
    "    np.where((filled_df['Sex'] == 'female') & (filled_df['Spouse'] == 1)\n",
    "              & (filled_df['Parents'] == 0) & (filled_df['Children'] == 0),1, 0)"
   ],
   "metadata": {
    "collapsed": false,
    "pycharm": {
     "name": "#%%\n"
    }
   }
  },
  {
   "cell_type": "markdown",
   "source": [
    "2. Families that have many children."
   ],
   "metadata": {
    "collapsed": false
   }
  },
  {
   "cell_type": "code",
   "execution_count": 711,
   "outputs": [],
   "source": [
    "filled_df['ManyChildren'] = np.where(filled_df['Children'] > 3, 1, 0)"
   ],
   "metadata": {
    "collapsed": false,
    "pycharm": {
     "name": "#%%\n"
    }
   }
  },
  {
   "cell_type": "markdown",
   "source": [
    "3. Total relatives."
   ],
   "metadata": {
    "collapsed": false
   }
  },
  {
   "cell_type": "code",
   "execution_count": 712,
   "outputs": [
    {
     "data": {
      "text/plain": "PassengerId\n1       1\n2       1\n3       0\n4       1\n5       0\n       ..\n1305    0\n1306    0\n1307    0\n1308    0\n1309    2\nName: TotalRelatives, Length: 1309, dtype: int64"
     },
     "execution_count": 712,
     "metadata": {},
     "output_type": "execute_result"
    }
   ],
   "source": [
    "filled_df['TotalRelatives'] = filled_df['Parch'] + filled_df['SibSp']\n",
    "filled_df['TotalRelatives']"
   ],
   "metadata": {
    "collapsed": false,
    "pycharm": {
     "name": "#%%\n"
    }
   }
  },
  {
   "cell_type": "markdown",
   "source": [
    "4. Alone Traveller."
   ],
   "metadata": {
    "collapsed": false
   }
  },
  {
   "cell_type": "code",
   "execution_count": 713,
   "outputs": [
    {
     "data": {
      "text/plain": "PassengerId\n1       0\n2       0\n3       1\n4       0\n5       1\n       ..\n1305    1\n1306    1\n1307    1\n1308    1\n1309    0\nName: Alone, Length: 1309, dtype: int32"
     },
     "execution_count": 713,
     "metadata": {},
     "output_type": "execute_result"
    }
   ],
   "source": [
    "filled_df['Alone'] = \\\n",
    "    np.where(filled_df['Parch'] + filled_df['SibSp'] == 0, 1, 0)\n",
    "filled_df['Alone']"
   ],
   "metadata": {
    "collapsed": false,
    "pycharm": {
     "name": "#%%\n"
    }
   }
  },
  {
   "cell_type": "markdown",
   "source": [
    "<div id=\"Step4.5\">\n",
    "</div>\n",
    "\n",
    "# <span style=\"color:#01872A; display: block; padding:10px; background:#daf2e1;border-radius:20px; text-align: center; font-size: 40px; \"> Step 4.5. Age.</span>"
   ],
   "metadata": {
    "collapsed": false
   }
  },
  {
   "cell_type": "markdown",
   "source": [
    "### Age seems to be an important feature, it's worth spending time on filling it properly.\n",
    "### Check mean age of each 'Title'"
   ],
   "metadata": {
    "collapsed": false
   }
  },
  {
   "cell_type": "code",
   "execution_count": 714,
   "outputs": [
    {
     "data": {
      "text/plain": "          Age                       \n          min       mean   max count\nTitle                               \nMr      11.00  32.252151  80.0   581\nMiss     0.17  21.774238  63.0   210\nMrs     14.00  36.994118  76.0   170\nMaster   0.33   5.482642  14.5    53\nRev     27.00  41.250000  57.0     8\nDr      23.00  43.571429  54.0     7\nCol     47.00  54.000000  60.0     4\nMlle    24.00  24.000000  24.0     2\nMajor   45.00  48.500000  52.0     2\nMs      28.00  28.000000  28.0     1",
      "text/html": "<div>\n<style scoped>\n    .dataframe tbody tr th:only-of-type {\n        vertical-align: middle;\n    }\n\n    .dataframe tbody tr th {\n        vertical-align: top;\n    }\n\n    .dataframe thead tr th {\n        text-align: left;\n    }\n\n    .dataframe thead tr:last-of-type th {\n        text-align: right;\n    }\n</style>\n<table border=\"1\" class=\"dataframe\">\n  <thead>\n    <tr>\n      <th></th>\n      <th colspan=\"4\" halign=\"left\">Age</th>\n    </tr>\n    <tr>\n      <th></th>\n      <th>min</th>\n      <th>mean</th>\n      <th>max</th>\n      <th>count</th>\n    </tr>\n    <tr>\n      <th>Title</th>\n      <th></th>\n      <th></th>\n      <th></th>\n      <th></th>\n    </tr>\n  </thead>\n  <tbody>\n    <tr>\n      <th>Mr</th>\n      <td>11.00</td>\n      <td>32.252151</td>\n      <td>80.0</td>\n      <td>581</td>\n    </tr>\n    <tr>\n      <th>Miss</th>\n      <td>0.17</td>\n      <td>21.774238</td>\n      <td>63.0</td>\n      <td>210</td>\n    </tr>\n    <tr>\n      <th>Mrs</th>\n      <td>14.00</td>\n      <td>36.994118</td>\n      <td>76.0</td>\n      <td>170</td>\n    </tr>\n    <tr>\n      <th>Master</th>\n      <td>0.33</td>\n      <td>5.482642</td>\n      <td>14.5</td>\n      <td>53</td>\n    </tr>\n    <tr>\n      <th>Rev</th>\n      <td>27.00</td>\n      <td>41.250000</td>\n      <td>57.0</td>\n      <td>8</td>\n    </tr>\n    <tr>\n      <th>Dr</th>\n      <td>23.00</td>\n      <td>43.571429</td>\n      <td>54.0</td>\n      <td>7</td>\n    </tr>\n    <tr>\n      <th>Col</th>\n      <td>47.00</td>\n      <td>54.000000</td>\n      <td>60.0</td>\n      <td>4</td>\n    </tr>\n    <tr>\n      <th>Mlle</th>\n      <td>24.00</td>\n      <td>24.000000</td>\n      <td>24.0</td>\n      <td>2</td>\n    </tr>\n    <tr>\n      <th>Major</th>\n      <td>45.00</td>\n      <td>48.500000</td>\n      <td>52.0</td>\n      <td>2</td>\n    </tr>\n    <tr>\n      <th>Ms</th>\n      <td>28.00</td>\n      <td>28.000000</td>\n      <td>28.0</td>\n      <td>1</td>\n    </tr>\n  </tbody>\n</table>\n</div>"
     },
     "execution_count": 714,
     "metadata": {},
     "output_type": "execute_result"
    }
   ],
   "source": [
    "title_stats = filled_df.groupby('Title')\n",
    "title_stats = title_stats.agg({'Age': ['min', 'mean', 'max', 'count']})\n",
    "title_stats.sort_values(('Age', 'count'), ascending=False)[:10]"
   ],
   "metadata": {
    "collapsed": false,
    "pycharm": {
     "name": "#%%\n"
    }
   }
  },
  {
   "cell_type": "code",
   "execution_count": 715,
   "outputs": [],
   "source": [
    "def fill_age_by_mask(mask, df):\n",
    "    mean = df.loc[mask, 'Age'].mean()\n",
    "    df.loc[mask, 'Age'] = df.loc[mask, 'Age'].fillna(mean)\n",
    "    return df"
   ],
   "metadata": {
    "collapsed": false,
    "pycharm": {
     "name": "#%%\n"
    }
   }
  },
  {
   "cell_type": "markdown",
   "source": [
    "'Master' title seems to be used for a little boy."
   ],
   "metadata": {
    "collapsed": false
   }
  },
  {
   "cell_type": "code",
   "execution_count": 716,
   "outputs": [],
   "source": [
    "master_mask = filled_df['Title'] == 'Master'\n",
    "filled_df = fill_age_by_mask(master_mask, filled_df)"
   ],
   "metadata": {
    "collapsed": false,
    "pycharm": {
     "name": "#%%\n"
    }
   }
  },
  {
   "cell_type": "code",
   "execution_count": 717,
   "outputs": [],
   "source": [
    "filled_df['TravelsAlone'] = \\\n",
    "    np.where((filled_df['Parch'] + filled_df['SibSp']) == 0, 1, 0)"
   ],
   "metadata": {
    "collapsed": false,
    "pycharm": {
     "name": "#%%\n"
    }
   }
  },
  {
   "cell_type": "markdown",
   "source": [
    "Alone travellers are usually young or middle aged men"
   ],
   "metadata": {
    "collapsed": false
   }
  },
  {
   "cell_type": "code",
   "execution_count": 718,
   "outputs": [
    {
     "data": {
      "text/plain": "male      0.755051\nfemale    0.244949\nName: Sex, dtype: float64"
     },
     "execution_count": 718,
     "metadata": {},
     "output_type": "execute_result"
    }
   ],
   "source": [
    "travels_alone_mask = filled_df['TravelsAlone'] == 1\n",
    "filled_df[travels_alone_mask]['Sex'].value_counts(normalize=True)"
   ],
   "metadata": {
    "collapsed": false,
    "pycharm": {
     "name": "#%%\n"
    }
   }
  },
  {
   "cell_type": "code",
   "execution_count": 719,
   "outputs": [
    {
     "name": "stdout",
     "output_type": "stream",
     "text": [
      "Mean age of alone travellers: 31.43926246460276\n"
     ]
    }
   ],
   "source": [
    "print(f'Mean age of alone travellers: '\n",
    "      f'{filled_df[travels_alone_mask][\"Age\"].mean()}')"
   ],
   "metadata": {
    "collapsed": false,
    "pycharm": {
     "name": "#%%\n"
    }
   }
  },
  {
   "cell_type": "code",
   "execution_count": 720,
   "outputs": [],
   "source": [
    "filled_df = fill_age_by_mask(travels_alone_mask, filled_df)"
   ],
   "metadata": {
    "collapsed": false,
    "pycharm": {
     "name": "#%%\n"
    }
   }
  },
  {
   "cell_type": "markdown",
   "source": [
    "Married people (both males and females) are a bit older"
   ],
   "metadata": {
    "collapsed": false
   }
  },
  {
   "cell_type": "code",
   "source": [
    "married_mask = filled_df['Spouse'] == 1\n",
    "print(f'Mean age of married travellers: '\n",
    "      f'{filled_df[married_mask][\"Age\"].mean()}')"
   ],
   "metadata": {
    "collapsed": false,
    "pycharm": {
     "name": "#%%\n"
    }
   },
   "execution_count": 721,
   "outputs": [
    {
     "name": "stdout",
     "output_type": "stream",
     "text": [
      "Mean age of married travellers: 37.154639175257735\n"
     ]
    }
   ]
  },
  {
   "cell_type": "code",
   "execution_count": 722,
   "outputs": [],
   "source": [
    "filled_df = fill_age_by_mask(married_mask, filled_df)"
   ],
   "metadata": {
    "collapsed": false,
    "pycharm": {
     "name": "#%%\n"
    }
   }
  },
  {
   "cell_type": "markdown",
   "source": [
    "People who travel with parents and no spouse are usually young"
   ],
   "metadata": {
    "collapsed": false
   }
  },
  {
   "cell_type": "code",
   "execution_count": 723,
   "outputs": [
    {
     "name": "stdout",
     "output_type": "stream",
     "text": [
      "Mean age of travellers with parents: 10.856080067731012\n"
     ]
    },
    {
     "data": {
      "text/plain": "10.85608    13\n2.00000     12\n1.00000     10\n9.00000     10\n4.00000     10\n            ..\n39.00000     1\n38.00000     1\n0.67000      1\n31.00000     1\n14.50000     1\nName: Age, Length: 43, dtype: int64"
     },
     "execution_count": 723,
     "metadata": {},
     "output_type": "execute_result"
    }
   ],
   "source": [
    "travels_with_parents_mask = (filled_df['Parents'] > 0) & (filled_df['Spouse']\n",
    "                             == 0)\n",
    "print(f'Mean age of travellers with parents: '\n",
    "      f'{filled_df[travels_with_parents_mask][\"Age\"].mean()}')\n",
    "filled_df = fill_age_by_mask(travels_with_parents_mask, filled_df)\n",
    "filled_df.loc[travels_with_parents_mask]['Age'].value_counts(dropna=False)"
   ],
   "metadata": {
    "collapsed": false,
    "pycharm": {
     "name": "#%%\n"
    }
   }
  },
  {
   "cell_type": "markdown",
   "source": [
    "People just without a spouse."
   ],
   "metadata": {
    "collapsed": false
   }
  },
  {
   "cell_type": "code",
   "execution_count": 724,
   "outputs": [
    {
     "name": "stdout",
     "output_type": "stream",
     "text": [
      "Mean age of travellers without a spouse: 28.4412998166156\n"
     ]
    }
   ],
   "source": [
    "not_married_mask = filled_df['Spouse'] == 0\n",
    "print(f'Mean age of travellers without a spouse: '\n",
    "      f'{filled_df[not_married_mask][\"Age\"].mean()}')\n",
    "filled_df = fill_age_by_mask(not_married_mask, filled_df)"
   ],
   "metadata": {
    "collapsed": false,
    "pycharm": {
     "name": "#%%\n"
    }
   }
  },
  {
   "cell_type": "markdown",
   "source": [
    "Check if there are any unfilled values of 'Age' left."
   ],
   "metadata": {
    "collapsed": false
   }
  },
  {
   "cell_type": "code",
   "execution_count": 725,
   "outputs": [
    {
     "data": {
      "text/plain": "Cabin        1014\nSurvived      418\nEmbarked        2\nFirstName       0\ndtype: int64"
     },
     "execution_count": 725,
     "metadata": {},
     "output_type": "execute_result"
    }
   ],
   "source": [
    "filled_df.isna().sum().sort_values(ascending=False)[:4]"
   ],
   "metadata": {
    "collapsed": false,
    "pycharm": {
     "name": "#%%\n"
    }
   }
  },
  {
   "cell_type": "markdown",
   "source": [
    "<div id=\"Step4.6\">\n",
    "</div>\n",
    "\n",
    "# <span style=\"color:#01872A; display: block; padding:10px; background:#daf2e1;border-radius:20px; text-align: center; font-size: 40px; \"> Step 4.6. Embarked.</span>"
   ],
   "metadata": {
    "collapsed": false
   }
  },
  {
   "cell_type": "markdown",
   "source": [
    "## Fill empty 'Embarked' values with most frequent value."
   ],
   "metadata": {
    "collapsed": false
   }
  },
  {
   "cell_type": "code",
   "execution_count": 726,
   "outputs": [],
   "source": [
    "from sklearn.impute import SimpleImputer\n",
    "imputer = SimpleImputer(strategy='most_frequent')\n",
    "filled_df['Embarked'] = imputer.fit_transform(filled_df[['Embarked']])"
   ],
   "metadata": {
    "collapsed": false,
    "pycharm": {
     "name": "#%%\n"
    }
   }
  },
  {
   "cell_type": "code",
   "execution_count": 727,
   "outputs": [
    {
     "data": {
      "text/plain": "Cabin        1014\nSurvived      418\nFirstName       0\ndtype: int64"
     },
     "execution_count": 727,
     "metadata": {},
     "output_type": "execute_result"
    }
   ],
   "source": [
    "filled_df.isna().sum().sort_values(ascending=False)[:3]"
   ],
   "metadata": {
    "collapsed": false,
    "pycharm": {
     "name": "#%%\n"
    }
   }
  },
  {
   "cell_type": "markdown",
   "source": [
    "<div id=\"Step4.7\">\n",
    "</div>\n",
    "\n",
    "# <span style=\"color:#01872A; display: block; padding:10px; background:#daf2e1;border-radius:20px; text-align: center; font-size: 40px; \"> Step 4.7. Cabin.</span>"
   ],
   "metadata": {
    "collapsed": false
   }
  },
  {
   "cell_type": "markdown",
   "source": [
    "Create new feature 'Deck' from the 'Cabin'"
   ],
   "metadata": {
    "collapsed": false
   }
  },
  {
   "cell_type": "code",
   "execution_count": 728,
   "outputs": [
    {
     "name": "stdout",
     "output_type": "stream",
     "text": [
      "A 0\n",
      "B 1\n",
      "C 2\n",
      "D 3\n",
      "E 4\n",
      "Empty 5\n",
      "F 6\n",
      "G 7\n",
      "T 8\n"
     ]
    },
    {
     "data": {
      "text/plain": "             Survived  Pclass  \\\nPassengerId                     \n1                 0.0       3   \n2                 1.0       1   \n3                 1.0       3   \n4                 1.0       1   \n5                 0.0       3   \n\n                                                            Name     Sex  \\\nPassengerId                                                                \n1                                        Braund, Mr. Owen Harris    male   \n2            Cumings, Mrs. John Bradley (Florence Briggs Thayer)  female   \n3                                         Heikkinen, Miss. Laina  female   \n4                   Futrelle, Mrs. Jacques Heath (Lily May Peel)  female   \n5                                       Allen, Mr. William Henry    male   \n\n              Age  SibSp  Parch            Ticket     Fare Cabin Embarked  \\\nPassengerId                                                                 \n1            22.0      1      0         A/5 21171   7.2500   NaN        S   \n2            38.0      1      0          PC 17599  71.2833   C85        C   \n3            26.0      0      0  STON/O2. 3101282   7.9250   NaN        S   \n4            35.0      1      0            113803  53.1000  C123        S   \n5            35.0      0      0            373450   8.0500   NaN        S   \n\n             PassengersCount  FarePerPassenger  ZeroPrice  FirstName Title  \\\nPassengerId                                                                  \n1                          1           7.25000          0     Braund    Mr   \n2                          2          35.64165          0    Cumings   Mrs   \n3                          1           7.92500          0  Heikkinen  Miss   \n4                          2          26.55000          0   Futrelle   Mrs   \n5                          1           8.05000          0      Allen    Mr   \n\n                  LastName  Spouse  Siblings  Children  Parents  OnlyHusband  \\\nPassengerId                                                                    \n1              Owen Harris       0         1         0        0            0   \n2             John Bradley       1         0         0        0            1   \n3                    Laina       0         0         0        0            0   \n4            Jacques Heath       1         0         0        0            1   \n5            William Henry       0         0         0        0            0   \n\n             ManyChildren  TotalRelatives  Alone  TravelsAlone  DeckA  DeckB  \\\nPassengerId                                                                    \n1                       0               1      0             0    0.0    0.0   \n2                       0               1      0             0    0.0    0.0   \n3                       0               0      1             1    0.0    0.0   \n4                       0               1      0             0    0.0    0.0   \n5                       0               0      1             1    0.0    0.0   \n\n             DeckC  DeckD  DeckE  DeckEmpty  DeckF  DeckG  DeckT  \nPassengerId                                                       \n1              0.0    0.0    0.0        1.0    0.0    0.0    0.0  \n2              1.0    0.0    0.0        0.0    0.0    0.0    0.0  \n3              0.0    0.0    0.0        1.0    0.0    0.0    0.0  \n4              1.0    0.0    0.0        0.0    0.0    0.0    0.0  \n5              0.0    0.0    0.0        1.0    0.0    0.0    0.0  ",
      "text/html": "<div>\n<style scoped>\n    .dataframe tbody tr th:only-of-type {\n        vertical-align: middle;\n    }\n\n    .dataframe tbody tr th {\n        vertical-align: top;\n    }\n\n    .dataframe thead th {\n        text-align: right;\n    }\n</style>\n<table border=\"1\" class=\"dataframe\">\n  <thead>\n    <tr style=\"text-align: right;\">\n      <th></th>\n      <th>Survived</th>\n      <th>Pclass</th>\n      <th>Name</th>\n      <th>Sex</th>\n      <th>Age</th>\n      <th>SibSp</th>\n      <th>Parch</th>\n      <th>Ticket</th>\n      <th>Fare</th>\n      <th>Cabin</th>\n      <th>Embarked</th>\n      <th>PassengersCount</th>\n      <th>FarePerPassenger</th>\n      <th>ZeroPrice</th>\n      <th>FirstName</th>\n      <th>Title</th>\n      <th>LastName</th>\n      <th>Spouse</th>\n      <th>Siblings</th>\n      <th>Children</th>\n      <th>Parents</th>\n      <th>OnlyHusband</th>\n      <th>ManyChildren</th>\n      <th>TotalRelatives</th>\n      <th>Alone</th>\n      <th>TravelsAlone</th>\n      <th>DeckA</th>\n      <th>DeckB</th>\n      <th>DeckC</th>\n      <th>DeckD</th>\n      <th>DeckE</th>\n      <th>DeckEmpty</th>\n      <th>DeckF</th>\n      <th>DeckG</th>\n      <th>DeckT</th>\n    </tr>\n    <tr>\n      <th>PassengerId</th>\n      <th></th>\n      <th></th>\n      <th></th>\n      <th></th>\n      <th></th>\n      <th></th>\n      <th></th>\n      <th></th>\n      <th></th>\n      <th></th>\n      <th></th>\n      <th></th>\n      <th></th>\n      <th></th>\n      <th></th>\n      <th></th>\n      <th></th>\n      <th></th>\n      <th></th>\n      <th></th>\n      <th></th>\n      <th></th>\n      <th></th>\n      <th></th>\n      <th></th>\n      <th></th>\n      <th></th>\n      <th></th>\n      <th></th>\n      <th></th>\n      <th></th>\n      <th></th>\n      <th></th>\n      <th></th>\n      <th></th>\n    </tr>\n  </thead>\n  <tbody>\n    <tr>\n      <th>1</th>\n      <td>0.0</td>\n      <td>3</td>\n      <td>Braund, Mr. Owen Harris</td>\n      <td>male</td>\n      <td>22.0</td>\n      <td>1</td>\n      <td>0</td>\n      <td>A/5 21171</td>\n      <td>7.2500</td>\n      <td>NaN</td>\n      <td>S</td>\n      <td>1</td>\n      <td>7.25000</td>\n      <td>0</td>\n      <td>Braund</td>\n      <td>Mr</td>\n      <td>Owen Harris</td>\n      <td>0</td>\n      <td>1</td>\n      <td>0</td>\n      <td>0</td>\n      <td>0</td>\n      <td>0</td>\n      <td>1</td>\n      <td>0</td>\n      <td>0</td>\n      <td>0.0</td>\n      <td>0.0</td>\n      <td>0.0</td>\n      <td>0.0</td>\n      <td>0.0</td>\n      <td>1.0</td>\n      <td>0.0</td>\n      <td>0.0</td>\n      <td>0.0</td>\n    </tr>\n    <tr>\n      <th>2</th>\n      <td>1.0</td>\n      <td>1</td>\n      <td>Cumings, Mrs. John Bradley (Florence Briggs Thayer)</td>\n      <td>female</td>\n      <td>38.0</td>\n      <td>1</td>\n      <td>0</td>\n      <td>PC 17599</td>\n      <td>71.2833</td>\n      <td>C85</td>\n      <td>C</td>\n      <td>2</td>\n      <td>35.64165</td>\n      <td>0</td>\n      <td>Cumings</td>\n      <td>Mrs</td>\n      <td>John Bradley</td>\n      <td>1</td>\n      <td>0</td>\n      <td>0</td>\n      <td>0</td>\n      <td>1</td>\n      <td>0</td>\n      <td>1</td>\n      <td>0</td>\n      <td>0</td>\n      <td>0.0</td>\n      <td>0.0</td>\n      <td>1.0</td>\n      <td>0.0</td>\n      <td>0.0</td>\n      <td>0.0</td>\n      <td>0.0</td>\n      <td>0.0</td>\n      <td>0.0</td>\n    </tr>\n    <tr>\n      <th>3</th>\n      <td>1.0</td>\n      <td>3</td>\n      <td>Heikkinen, Miss. Laina</td>\n      <td>female</td>\n      <td>26.0</td>\n      <td>0</td>\n      <td>0</td>\n      <td>STON/O2. 3101282</td>\n      <td>7.9250</td>\n      <td>NaN</td>\n      <td>S</td>\n      <td>1</td>\n      <td>7.92500</td>\n      <td>0</td>\n      <td>Heikkinen</td>\n      <td>Miss</td>\n      <td>Laina</td>\n      <td>0</td>\n      <td>0</td>\n      <td>0</td>\n      <td>0</td>\n      <td>0</td>\n      <td>0</td>\n      <td>0</td>\n      <td>1</td>\n      <td>1</td>\n      <td>0.0</td>\n      <td>0.0</td>\n      <td>0.0</td>\n      <td>0.0</td>\n      <td>0.0</td>\n      <td>1.0</td>\n      <td>0.0</td>\n      <td>0.0</td>\n      <td>0.0</td>\n    </tr>\n    <tr>\n      <th>4</th>\n      <td>1.0</td>\n      <td>1</td>\n      <td>Futrelle, Mrs. Jacques Heath (Lily May Peel)</td>\n      <td>female</td>\n      <td>35.0</td>\n      <td>1</td>\n      <td>0</td>\n      <td>113803</td>\n      <td>53.1000</td>\n      <td>C123</td>\n      <td>S</td>\n      <td>2</td>\n      <td>26.55000</td>\n      <td>0</td>\n      <td>Futrelle</td>\n      <td>Mrs</td>\n      <td>Jacques Heath</td>\n      <td>1</td>\n      <td>0</td>\n      <td>0</td>\n      <td>0</td>\n      <td>1</td>\n      <td>0</td>\n      <td>1</td>\n      <td>0</td>\n      <td>0</td>\n      <td>0.0</td>\n      <td>0.0</td>\n      <td>1.0</td>\n      <td>0.0</td>\n      <td>0.0</td>\n      <td>0.0</td>\n      <td>0.0</td>\n      <td>0.0</td>\n      <td>0.0</td>\n    </tr>\n    <tr>\n      <th>5</th>\n      <td>0.0</td>\n      <td>3</td>\n      <td>Allen, Mr. William Henry</td>\n      <td>male</td>\n      <td>35.0</td>\n      <td>0</td>\n      <td>0</td>\n      <td>373450</td>\n      <td>8.0500</td>\n      <td>NaN</td>\n      <td>S</td>\n      <td>1</td>\n      <td>8.05000</td>\n      <td>0</td>\n      <td>Allen</td>\n      <td>Mr</td>\n      <td>William Henry</td>\n      <td>0</td>\n      <td>0</td>\n      <td>0</td>\n      <td>0</td>\n      <td>0</td>\n      <td>0</td>\n      <td>0</td>\n      <td>1</td>\n      <td>1</td>\n      <td>0.0</td>\n      <td>0.0</td>\n      <td>0.0</td>\n      <td>0.0</td>\n      <td>0.0</td>\n      <td>1.0</td>\n      <td>0.0</td>\n      <td>0.0</td>\n      <td>0.0</td>\n    </tr>\n  </tbody>\n</table>\n</div>"
     },
     "execution_count": 728,
     "metadata": {},
     "output_type": "execute_result"
    }
   ],
   "source": [
    "filled_df['Deck'] = filled_df['Cabin'].str[0]\n",
    "filled_df['Deck'].fillna('Empty', inplace=True)\n",
    "encoder = OneHotEncoder(sparse=False)\n",
    "encoded_sex = encoder.fit_transform(filled_df[['Deck']])\n",
    "for column_index, category in enumerate(encoder.categories_[0]):\n",
    "    print(category, column_index)\n",
    "    filled_df['Deck' + category.capitalize()] = encoded_sex[:, column_index]\n",
    "filled_df.drop('Deck', axis=1, inplace=True)\n",
    "filled_df.head()"
   ],
   "metadata": {
    "collapsed": false,
    "pycharm": {
     "name": "#%%\n"
    }
   }
  },
  {
   "cell_type": "markdown",
   "source": [
    "<div id=\"Step4.8\">\n",
    "</div>\n",
    "\n",
    "# <span style=\"color:#01872A; display: block; padding:10px; background:#daf2e1;border-radius:20px; text-align: center; font-size: 40px; \"> Step 4.8. Feature encoding.</span>"
   ],
   "metadata": {
    "collapsed": false
   }
  },
  {
   "cell_type": "markdown",
   "source": [
    "## One-hot encoding for categorical features"
   ],
   "metadata": {
    "collapsed": false,
    "pycharm": {
     "name": "#%% md\n"
    }
   }
  },
  {
   "cell_type": "code",
   "execution_count": 729,
   "outputs": [
    {
     "name": "stdout",
     "output_type": "stream",
     "text": [
      "1 0\n",
      "2 1\n",
      "3 2\n"
     ]
    },
    {
     "data": {
      "text/plain": "             Survived                                                 Name  \\\nPassengerId                                                                  \n1                 0.0                              Braund, Mr. Owen Harris   \n2                 1.0  Cumings, Mrs. John Bradley (Florence Briggs Thayer)   \n3                 1.0                               Heikkinen, Miss. Laina   \n4                 1.0         Futrelle, Mrs. Jacques Heath (Lily May Peel)   \n5                 0.0                             Allen, Mr. William Henry   \n\n                Sex   Age  SibSp  Parch            Ticket     Fare Cabin  \\\nPassengerId                                                                \n1              male  22.0      1      0         A/5 21171   7.2500   NaN   \n2            female  38.0      1      0          PC 17599  71.2833   C85   \n3            female  26.0      0      0  STON/O2. 3101282   7.9250   NaN   \n4            female  35.0      1      0            113803  53.1000  C123   \n5              male  35.0      0      0            373450   8.0500   NaN   \n\n            Embarked  PassengersCount  FarePerPassenger  ZeroPrice  FirstName  \\\nPassengerId                                                                     \n1                  S                1           7.25000          0     Braund   \n2                  C                2          35.64165          0    Cumings   \n3                  S                1           7.92500          0  Heikkinen   \n4                  S                2          26.55000          0   Futrelle   \n5                  S                1           8.05000          0      Allen   \n\n            Title       LastName  Spouse  Siblings  Children  Parents  \\\nPassengerId                                                             \n1              Mr    Owen Harris       0         1         0        0   \n2             Mrs   John Bradley       1         0         0        0   \n3            Miss          Laina       0         0         0        0   \n4             Mrs  Jacques Heath       1         0         0        0   \n5              Mr  William Henry       0         0         0        0   \n\n             OnlyHusband  ManyChildren  TotalRelatives  Alone  TravelsAlone  \\\nPassengerId                                                                   \n1                      0             0               1      0             0   \n2                      1             0               1      0             0   \n3                      0             0               0      1             1   \n4                      1             0               1      0             0   \n5                      0             0               0      1             1   \n\n             DeckA  DeckB  DeckC  DeckD  DeckE  DeckEmpty  DeckF  DeckG  \\\nPassengerId                                                               \n1              0.0    0.0    0.0    0.0    0.0        1.0    0.0    0.0   \n2              0.0    0.0    1.0    0.0    0.0        0.0    0.0    0.0   \n3              0.0    0.0    0.0    0.0    0.0        1.0    0.0    0.0   \n4              0.0    0.0    1.0    0.0    0.0        0.0    0.0    0.0   \n5              0.0    0.0    0.0    0.0    0.0        1.0    0.0    0.0   \n\n             DeckT  PclassFirst  PclassSecond  PclassThird  \nPassengerId                                                 \n1              0.0          0.0           0.0          1.0  \n2              0.0          1.0           0.0          0.0  \n3              0.0          0.0           0.0          1.0  \n4              0.0          1.0           0.0          0.0  \n5              0.0          0.0           0.0          1.0  ",
      "text/html": "<div>\n<style scoped>\n    .dataframe tbody tr th:only-of-type {\n        vertical-align: middle;\n    }\n\n    .dataframe tbody tr th {\n        vertical-align: top;\n    }\n\n    .dataframe thead th {\n        text-align: right;\n    }\n</style>\n<table border=\"1\" class=\"dataframe\">\n  <thead>\n    <tr style=\"text-align: right;\">\n      <th></th>\n      <th>Survived</th>\n      <th>Name</th>\n      <th>Sex</th>\n      <th>Age</th>\n      <th>SibSp</th>\n      <th>Parch</th>\n      <th>Ticket</th>\n      <th>Fare</th>\n      <th>Cabin</th>\n      <th>Embarked</th>\n      <th>PassengersCount</th>\n      <th>FarePerPassenger</th>\n      <th>ZeroPrice</th>\n      <th>FirstName</th>\n      <th>Title</th>\n      <th>LastName</th>\n      <th>Spouse</th>\n      <th>Siblings</th>\n      <th>Children</th>\n      <th>Parents</th>\n      <th>OnlyHusband</th>\n      <th>ManyChildren</th>\n      <th>TotalRelatives</th>\n      <th>Alone</th>\n      <th>TravelsAlone</th>\n      <th>DeckA</th>\n      <th>DeckB</th>\n      <th>DeckC</th>\n      <th>DeckD</th>\n      <th>DeckE</th>\n      <th>DeckEmpty</th>\n      <th>DeckF</th>\n      <th>DeckG</th>\n      <th>DeckT</th>\n      <th>PclassFirst</th>\n      <th>PclassSecond</th>\n      <th>PclassThird</th>\n    </tr>\n    <tr>\n      <th>PassengerId</th>\n      <th></th>\n      <th></th>\n      <th></th>\n      <th></th>\n      <th></th>\n      <th></th>\n      <th></th>\n      <th></th>\n      <th></th>\n      <th></th>\n      <th></th>\n      <th></th>\n      <th></th>\n      <th></th>\n      <th></th>\n      <th></th>\n      <th></th>\n      <th></th>\n      <th></th>\n      <th></th>\n      <th></th>\n      <th></th>\n      <th></th>\n      <th></th>\n      <th></th>\n      <th></th>\n      <th></th>\n      <th></th>\n      <th></th>\n      <th></th>\n      <th></th>\n      <th></th>\n      <th></th>\n      <th></th>\n      <th></th>\n      <th></th>\n      <th></th>\n    </tr>\n  </thead>\n  <tbody>\n    <tr>\n      <th>1</th>\n      <td>0.0</td>\n      <td>Braund, Mr. Owen Harris</td>\n      <td>male</td>\n      <td>22.0</td>\n      <td>1</td>\n      <td>0</td>\n      <td>A/5 21171</td>\n      <td>7.2500</td>\n      <td>NaN</td>\n      <td>S</td>\n      <td>1</td>\n      <td>7.25000</td>\n      <td>0</td>\n      <td>Braund</td>\n      <td>Mr</td>\n      <td>Owen Harris</td>\n      <td>0</td>\n      <td>1</td>\n      <td>0</td>\n      <td>0</td>\n      <td>0</td>\n      <td>0</td>\n      <td>1</td>\n      <td>0</td>\n      <td>0</td>\n      <td>0.0</td>\n      <td>0.0</td>\n      <td>0.0</td>\n      <td>0.0</td>\n      <td>0.0</td>\n      <td>1.0</td>\n      <td>0.0</td>\n      <td>0.0</td>\n      <td>0.0</td>\n      <td>0.0</td>\n      <td>0.0</td>\n      <td>1.0</td>\n    </tr>\n    <tr>\n      <th>2</th>\n      <td>1.0</td>\n      <td>Cumings, Mrs. John Bradley (Florence Briggs Thayer)</td>\n      <td>female</td>\n      <td>38.0</td>\n      <td>1</td>\n      <td>0</td>\n      <td>PC 17599</td>\n      <td>71.2833</td>\n      <td>C85</td>\n      <td>C</td>\n      <td>2</td>\n      <td>35.64165</td>\n      <td>0</td>\n      <td>Cumings</td>\n      <td>Mrs</td>\n      <td>John Bradley</td>\n      <td>1</td>\n      <td>0</td>\n      <td>0</td>\n      <td>0</td>\n      <td>1</td>\n      <td>0</td>\n      <td>1</td>\n      <td>0</td>\n      <td>0</td>\n      <td>0.0</td>\n      <td>0.0</td>\n      <td>1.0</td>\n      <td>0.0</td>\n      <td>0.0</td>\n      <td>0.0</td>\n      <td>0.0</td>\n      <td>0.0</td>\n      <td>0.0</td>\n      <td>1.0</td>\n      <td>0.0</td>\n      <td>0.0</td>\n    </tr>\n    <tr>\n      <th>3</th>\n      <td>1.0</td>\n      <td>Heikkinen, Miss. Laina</td>\n      <td>female</td>\n      <td>26.0</td>\n      <td>0</td>\n      <td>0</td>\n      <td>STON/O2. 3101282</td>\n      <td>7.9250</td>\n      <td>NaN</td>\n      <td>S</td>\n      <td>1</td>\n      <td>7.92500</td>\n      <td>0</td>\n      <td>Heikkinen</td>\n      <td>Miss</td>\n      <td>Laina</td>\n      <td>0</td>\n      <td>0</td>\n      <td>0</td>\n      <td>0</td>\n      <td>0</td>\n      <td>0</td>\n      <td>0</td>\n      <td>1</td>\n      <td>1</td>\n      <td>0.0</td>\n      <td>0.0</td>\n      <td>0.0</td>\n      <td>0.0</td>\n      <td>0.0</td>\n      <td>1.0</td>\n      <td>0.0</td>\n      <td>0.0</td>\n      <td>0.0</td>\n      <td>0.0</td>\n      <td>0.0</td>\n      <td>1.0</td>\n    </tr>\n    <tr>\n      <th>4</th>\n      <td>1.0</td>\n      <td>Futrelle, Mrs. Jacques Heath (Lily May Peel)</td>\n      <td>female</td>\n      <td>35.0</td>\n      <td>1</td>\n      <td>0</td>\n      <td>113803</td>\n      <td>53.1000</td>\n      <td>C123</td>\n      <td>S</td>\n      <td>2</td>\n      <td>26.55000</td>\n      <td>0</td>\n      <td>Futrelle</td>\n      <td>Mrs</td>\n      <td>Jacques Heath</td>\n      <td>1</td>\n      <td>0</td>\n      <td>0</td>\n      <td>0</td>\n      <td>1</td>\n      <td>0</td>\n      <td>1</td>\n      <td>0</td>\n      <td>0</td>\n      <td>0.0</td>\n      <td>0.0</td>\n      <td>1.0</td>\n      <td>0.0</td>\n      <td>0.0</td>\n      <td>0.0</td>\n      <td>0.0</td>\n      <td>0.0</td>\n      <td>0.0</td>\n      <td>1.0</td>\n      <td>0.0</td>\n      <td>0.0</td>\n    </tr>\n    <tr>\n      <th>5</th>\n      <td>0.0</td>\n      <td>Allen, Mr. William Henry</td>\n      <td>male</td>\n      <td>35.0</td>\n      <td>0</td>\n      <td>0</td>\n      <td>373450</td>\n      <td>8.0500</td>\n      <td>NaN</td>\n      <td>S</td>\n      <td>1</td>\n      <td>8.05000</td>\n      <td>0</td>\n      <td>Allen</td>\n      <td>Mr</td>\n      <td>William Henry</td>\n      <td>0</td>\n      <td>0</td>\n      <td>0</td>\n      <td>0</td>\n      <td>0</td>\n      <td>0</td>\n      <td>0</td>\n      <td>1</td>\n      <td>1</td>\n      <td>0.0</td>\n      <td>0.0</td>\n      <td>0.0</td>\n      <td>0.0</td>\n      <td>0.0</td>\n      <td>1.0</td>\n      <td>0.0</td>\n      <td>0.0</td>\n      <td>0.0</td>\n      <td>0.0</td>\n      <td>0.0</td>\n      <td>1.0</td>\n    </tr>\n  </tbody>\n</table>\n</div>"
     },
     "execution_count": 729,
     "metadata": {},
     "output_type": "execute_result"
    }
   ],
   "source": [
    "encoder = OneHotEncoder(sparse=False)\n",
    "encoded_pclass = encoder.fit_transform(filled_df[['Pclass']])\n",
    "for column_index, category in enumerate(encoder.categories_[0]):\n",
    "    print(category, column_index)\n",
    "    if category == 1:\n",
    "        category = 'First'\n",
    "    elif category == 2:\n",
    "        category = 'Second'\n",
    "    elif category == 3:\n",
    "        category = 'Third'\n",
    "    filled_df['Pclass' + category.capitalize()] = encoded_pclass[:, column_index]\n",
    "filled_df.drop('Pclass', axis=1, inplace=True)\n",
    "filled_df.head()"
   ],
   "metadata": {
    "collapsed": false,
    "pycharm": {
     "name": "#%%\n"
    }
   }
  },
  {
   "cell_type": "code",
   "execution_count": 730,
   "outputs": [
    {
     "name": "stdout",
     "output_type": "stream",
     "text": [
      "female 0\n",
      "male 1\n"
     ]
    },
    {
     "data": {
      "text/plain": "             Survived                                                 Name  \\\nPassengerId                                                                  \n1                 0.0                              Braund, Mr. Owen Harris   \n2                 1.0  Cumings, Mrs. John Bradley (Florence Briggs Thayer)   \n3                 1.0                               Heikkinen, Miss. Laina   \n4                 1.0         Futrelle, Mrs. Jacques Heath (Lily May Peel)   \n5                 0.0                             Allen, Mr. William Henry   \n\n              Age  SibSp  Parch            Ticket     Fare Cabin Embarked  \\\nPassengerId                                                                 \n1            22.0      1      0         A/5 21171   7.2500   NaN        S   \n2            38.0      1      0          PC 17599  71.2833   C85        C   \n3            26.0      0      0  STON/O2. 3101282   7.9250   NaN        S   \n4            35.0      1      0            113803  53.1000  C123        S   \n5            35.0      0      0            373450   8.0500   NaN        S   \n\n             PassengersCount  FarePerPassenger  ZeroPrice  FirstName Title  \\\nPassengerId                                                                  \n1                          1           7.25000          0     Braund    Mr   \n2                          2          35.64165          0    Cumings   Mrs   \n3                          1           7.92500          0  Heikkinen  Miss   \n4                          2          26.55000          0   Futrelle   Mrs   \n5                          1           8.05000          0      Allen    Mr   \n\n                  LastName  Spouse  Siblings  Children  Parents  OnlyHusband  \\\nPassengerId                                                                    \n1              Owen Harris       0         1         0        0            0   \n2             John Bradley       1         0         0        0            1   \n3                    Laina       0         0         0        0            0   \n4            Jacques Heath       1         0         0        0            1   \n5            William Henry       0         0         0        0            0   \n\n             ManyChildren  TotalRelatives  Alone  TravelsAlone  DeckA  DeckB  \\\nPassengerId                                                                    \n1                       0               1      0             0    0.0    0.0   \n2                       0               1      0             0    0.0    0.0   \n3                       0               0      1             1    0.0    0.0   \n4                       0               1      0             0    0.0    0.0   \n5                       0               0      1             1    0.0    0.0   \n\n             DeckC  DeckD  DeckE  DeckEmpty  DeckF  DeckG  DeckT  PclassFirst  \\\nPassengerId                                                                     \n1              0.0    0.0    0.0        1.0    0.0    0.0    0.0          0.0   \n2              1.0    0.0    0.0        0.0    0.0    0.0    0.0          1.0   \n3              0.0    0.0    0.0        1.0    0.0    0.0    0.0          0.0   \n4              1.0    0.0    0.0        0.0    0.0    0.0    0.0          1.0   \n5              0.0    0.0    0.0        1.0    0.0    0.0    0.0          0.0   \n\n             PclassSecond  PclassThird  SexFemale  SexMale  \nPassengerId                                                 \n1                     0.0          1.0        0.0      1.0  \n2                     0.0          0.0        1.0      0.0  \n3                     0.0          1.0        1.0      0.0  \n4                     0.0          0.0        1.0      0.0  \n5                     0.0          1.0        0.0      1.0  ",
      "text/html": "<div>\n<style scoped>\n    .dataframe tbody tr th:only-of-type {\n        vertical-align: middle;\n    }\n\n    .dataframe tbody tr th {\n        vertical-align: top;\n    }\n\n    .dataframe thead th {\n        text-align: right;\n    }\n</style>\n<table border=\"1\" class=\"dataframe\">\n  <thead>\n    <tr style=\"text-align: right;\">\n      <th></th>\n      <th>Survived</th>\n      <th>Name</th>\n      <th>Age</th>\n      <th>SibSp</th>\n      <th>Parch</th>\n      <th>Ticket</th>\n      <th>Fare</th>\n      <th>Cabin</th>\n      <th>Embarked</th>\n      <th>PassengersCount</th>\n      <th>FarePerPassenger</th>\n      <th>ZeroPrice</th>\n      <th>FirstName</th>\n      <th>Title</th>\n      <th>LastName</th>\n      <th>Spouse</th>\n      <th>Siblings</th>\n      <th>Children</th>\n      <th>Parents</th>\n      <th>OnlyHusband</th>\n      <th>ManyChildren</th>\n      <th>TotalRelatives</th>\n      <th>Alone</th>\n      <th>TravelsAlone</th>\n      <th>DeckA</th>\n      <th>DeckB</th>\n      <th>DeckC</th>\n      <th>DeckD</th>\n      <th>DeckE</th>\n      <th>DeckEmpty</th>\n      <th>DeckF</th>\n      <th>DeckG</th>\n      <th>DeckT</th>\n      <th>PclassFirst</th>\n      <th>PclassSecond</th>\n      <th>PclassThird</th>\n      <th>SexFemale</th>\n      <th>SexMale</th>\n    </tr>\n    <tr>\n      <th>PassengerId</th>\n      <th></th>\n      <th></th>\n      <th></th>\n      <th></th>\n      <th></th>\n      <th></th>\n      <th></th>\n      <th></th>\n      <th></th>\n      <th></th>\n      <th></th>\n      <th></th>\n      <th></th>\n      <th></th>\n      <th></th>\n      <th></th>\n      <th></th>\n      <th></th>\n      <th></th>\n      <th></th>\n      <th></th>\n      <th></th>\n      <th></th>\n      <th></th>\n      <th></th>\n      <th></th>\n      <th></th>\n      <th></th>\n      <th></th>\n      <th></th>\n      <th></th>\n      <th></th>\n      <th></th>\n      <th></th>\n      <th></th>\n      <th></th>\n      <th></th>\n      <th></th>\n    </tr>\n  </thead>\n  <tbody>\n    <tr>\n      <th>1</th>\n      <td>0.0</td>\n      <td>Braund, Mr. Owen Harris</td>\n      <td>22.0</td>\n      <td>1</td>\n      <td>0</td>\n      <td>A/5 21171</td>\n      <td>7.2500</td>\n      <td>NaN</td>\n      <td>S</td>\n      <td>1</td>\n      <td>7.25000</td>\n      <td>0</td>\n      <td>Braund</td>\n      <td>Mr</td>\n      <td>Owen Harris</td>\n      <td>0</td>\n      <td>1</td>\n      <td>0</td>\n      <td>0</td>\n      <td>0</td>\n      <td>0</td>\n      <td>1</td>\n      <td>0</td>\n      <td>0</td>\n      <td>0.0</td>\n      <td>0.0</td>\n      <td>0.0</td>\n      <td>0.0</td>\n      <td>0.0</td>\n      <td>1.0</td>\n      <td>0.0</td>\n      <td>0.0</td>\n      <td>0.0</td>\n      <td>0.0</td>\n      <td>0.0</td>\n      <td>1.0</td>\n      <td>0.0</td>\n      <td>1.0</td>\n    </tr>\n    <tr>\n      <th>2</th>\n      <td>1.0</td>\n      <td>Cumings, Mrs. John Bradley (Florence Briggs Thayer)</td>\n      <td>38.0</td>\n      <td>1</td>\n      <td>0</td>\n      <td>PC 17599</td>\n      <td>71.2833</td>\n      <td>C85</td>\n      <td>C</td>\n      <td>2</td>\n      <td>35.64165</td>\n      <td>0</td>\n      <td>Cumings</td>\n      <td>Mrs</td>\n      <td>John Bradley</td>\n      <td>1</td>\n      <td>0</td>\n      <td>0</td>\n      <td>0</td>\n      <td>1</td>\n      <td>0</td>\n      <td>1</td>\n      <td>0</td>\n      <td>0</td>\n      <td>0.0</td>\n      <td>0.0</td>\n      <td>1.0</td>\n      <td>0.0</td>\n      <td>0.0</td>\n      <td>0.0</td>\n      <td>0.0</td>\n      <td>0.0</td>\n      <td>0.0</td>\n      <td>1.0</td>\n      <td>0.0</td>\n      <td>0.0</td>\n      <td>1.0</td>\n      <td>0.0</td>\n    </tr>\n    <tr>\n      <th>3</th>\n      <td>1.0</td>\n      <td>Heikkinen, Miss. Laina</td>\n      <td>26.0</td>\n      <td>0</td>\n      <td>0</td>\n      <td>STON/O2. 3101282</td>\n      <td>7.9250</td>\n      <td>NaN</td>\n      <td>S</td>\n      <td>1</td>\n      <td>7.92500</td>\n      <td>0</td>\n      <td>Heikkinen</td>\n      <td>Miss</td>\n      <td>Laina</td>\n      <td>0</td>\n      <td>0</td>\n      <td>0</td>\n      <td>0</td>\n      <td>0</td>\n      <td>0</td>\n      <td>0</td>\n      <td>1</td>\n      <td>1</td>\n      <td>0.0</td>\n      <td>0.0</td>\n      <td>0.0</td>\n      <td>0.0</td>\n      <td>0.0</td>\n      <td>1.0</td>\n      <td>0.0</td>\n      <td>0.0</td>\n      <td>0.0</td>\n      <td>0.0</td>\n      <td>0.0</td>\n      <td>1.0</td>\n      <td>1.0</td>\n      <td>0.0</td>\n    </tr>\n    <tr>\n      <th>4</th>\n      <td>1.0</td>\n      <td>Futrelle, Mrs. Jacques Heath (Lily May Peel)</td>\n      <td>35.0</td>\n      <td>1</td>\n      <td>0</td>\n      <td>113803</td>\n      <td>53.1000</td>\n      <td>C123</td>\n      <td>S</td>\n      <td>2</td>\n      <td>26.55000</td>\n      <td>0</td>\n      <td>Futrelle</td>\n      <td>Mrs</td>\n      <td>Jacques Heath</td>\n      <td>1</td>\n      <td>0</td>\n      <td>0</td>\n      <td>0</td>\n      <td>1</td>\n      <td>0</td>\n      <td>1</td>\n      <td>0</td>\n      <td>0</td>\n      <td>0.0</td>\n      <td>0.0</td>\n      <td>1.0</td>\n      <td>0.0</td>\n      <td>0.0</td>\n      <td>0.0</td>\n      <td>0.0</td>\n      <td>0.0</td>\n      <td>0.0</td>\n      <td>1.0</td>\n      <td>0.0</td>\n      <td>0.0</td>\n      <td>1.0</td>\n      <td>0.0</td>\n    </tr>\n    <tr>\n      <th>5</th>\n      <td>0.0</td>\n      <td>Allen, Mr. William Henry</td>\n      <td>35.0</td>\n      <td>0</td>\n      <td>0</td>\n      <td>373450</td>\n      <td>8.0500</td>\n      <td>NaN</td>\n      <td>S</td>\n      <td>1</td>\n      <td>8.05000</td>\n      <td>0</td>\n      <td>Allen</td>\n      <td>Mr</td>\n      <td>William Henry</td>\n      <td>0</td>\n      <td>0</td>\n      <td>0</td>\n      <td>0</td>\n      <td>0</td>\n      <td>0</td>\n      <td>0</td>\n      <td>1</td>\n      <td>1</td>\n      <td>0.0</td>\n      <td>0.0</td>\n      <td>0.0</td>\n      <td>0.0</td>\n      <td>0.0</td>\n      <td>1.0</td>\n      <td>0.0</td>\n      <td>0.0</td>\n      <td>0.0</td>\n      <td>0.0</td>\n      <td>0.0</td>\n      <td>1.0</td>\n      <td>0.0</td>\n      <td>1.0</td>\n    </tr>\n  </tbody>\n</table>\n</div>"
     },
     "execution_count": 730,
     "metadata": {},
     "output_type": "execute_result"
    }
   ],
   "source": [
    "encoder = OneHotEncoder(sparse=False)\n",
    "encoded_sex = encoder.fit_transform(filled_df[['Sex']])\n",
    "for column_index, category in enumerate(encoder.categories_[0]):\n",
    "    print(category, column_index)\n",
    "    filled_df['Sex' + category.capitalize()] = encoded_sex[:, column_index]\n",
    "filled_df.drop('Sex', axis=1, inplace=True)\n",
    "filled_df.head()"
   ],
   "metadata": {
    "collapsed": false,
    "pycharm": {
     "name": "#%%\n"
    }
   }
  },
  {
   "cell_type": "code",
   "execution_count": 731,
   "outputs": [
    {
     "name": "stdout",
     "output_type": "stream",
     "text": [
      "C 0\n",
      "Q 1\n",
      "S 2\n"
     ]
    },
    {
     "data": {
      "text/plain": "             Survived                                                 Name  \\\nPassengerId                                                                  \n1                 0.0                              Braund, Mr. Owen Harris   \n2                 1.0  Cumings, Mrs. John Bradley (Florence Briggs Thayer)   \n3                 1.0                               Heikkinen, Miss. Laina   \n4                 1.0         Futrelle, Mrs. Jacques Heath (Lily May Peel)   \n5                 0.0                             Allen, Mr. William Henry   \n\n              Age  SibSp  Parch            Ticket     Fare Cabin  \\\nPassengerId                                                        \n1            22.0      1      0         A/5 21171   7.2500   NaN   \n2            38.0      1      0          PC 17599  71.2833   C85   \n3            26.0      0      0  STON/O2. 3101282   7.9250   NaN   \n4            35.0      1      0            113803  53.1000  C123   \n5            35.0      0      0            373450   8.0500   NaN   \n\n             PassengersCount  FarePerPassenger  ZeroPrice  FirstName Title  \\\nPassengerId                                                                  \n1                          1           7.25000          0     Braund    Mr   \n2                          2          35.64165          0    Cumings   Mrs   \n3                          1           7.92500          0  Heikkinen  Miss   \n4                          2          26.55000          0   Futrelle   Mrs   \n5                          1           8.05000          0      Allen    Mr   \n\n                  LastName  Spouse  Siblings  Children  Parents  OnlyHusband  \\\nPassengerId                                                                    \n1              Owen Harris       0         1         0        0            0   \n2             John Bradley       1         0         0        0            1   \n3                    Laina       0         0         0        0            0   \n4            Jacques Heath       1         0         0        0            1   \n5            William Henry       0         0         0        0            0   \n\n             ManyChildren  TotalRelatives  Alone  TravelsAlone  DeckA  DeckB  \\\nPassengerId                                                                    \n1                       0               1      0             0    0.0    0.0   \n2                       0               1      0             0    0.0    0.0   \n3                       0               0      1             1    0.0    0.0   \n4                       0               1      0             0    0.0    0.0   \n5                       0               0      1             1    0.0    0.0   \n\n             DeckC  DeckD  DeckE  DeckEmpty  DeckF  DeckG  DeckT  PclassFirst  \\\nPassengerId                                                                     \n1              0.0    0.0    0.0        1.0    0.0    0.0    0.0          0.0   \n2              1.0    0.0    0.0        0.0    0.0    0.0    0.0          1.0   \n3              0.0    0.0    0.0        1.0    0.0    0.0    0.0          0.0   \n4              1.0    0.0    0.0        0.0    0.0    0.0    0.0          1.0   \n5              0.0    0.0    0.0        1.0    0.0    0.0    0.0          0.0   \n\n             PclassSecond  PclassThird  SexFemale  SexMale  EmbarkedC  \\\nPassengerId                                                             \n1                     0.0          1.0        0.0      1.0        0.0   \n2                     0.0          0.0        1.0      0.0        1.0   \n3                     0.0          1.0        1.0      0.0        0.0   \n4                     0.0          0.0        1.0      0.0        0.0   \n5                     0.0          1.0        0.0      1.0        0.0   \n\n             EmbarkedQ  EmbarkedS  \nPassengerId                        \n1                  0.0        1.0  \n2                  0.0        0.0  \n3                  0.0        1.0  \n4                  0.0        1.0  \n5                  0.0        1.0  ",
      "text/html": "<div>\n<style scoped>\n    .dataframe tbody tr th:only-of-type {\n        vertical-align: middle;\n    }\n\n    .dataframe tbody tr th {\n        vertical-align: top;\n    }\n\n    .dataframe thead th {\n        text-align: right;\n    }\n</style>\n<table border=\"1\" class=\"dataframe\">\n  <thead>\n    <tr style=\"text-align: right;\">\n      <th></th>\n      <th>Survived</th>\n      <th>Name</th>\n      <th>Age</th>\n      <th>SibSp</th>\n      <th>Parch</th>\n      <th>Ticket</th>\n      <th>Fare</th>\n      <th>Cabin</th>\n      <th>PassengersCount</th>\n      <th>FarePerPassenger</th>\n      <th>ZeroPrice</th>\n      <th>FirstName</th>\n      <th>Title</th>\n      <th>LastName</th>\n      <th>Spouse</th>\n      <th>Siblings</th>\n      <th>Children</th>\n      <th>Parents</th>\n      <th>OnlyHusband</th>\n      <th>ManyChildren</th>\n      <th>TotalRelatives</th>\n      <th>Alone</th>\n      <th>TravelsAlone</th>\n      <th>DeckA</th>\n      <th>DeckB</th>\n      <th>DeckC</th>\n      <th>DeckD</th>\n      <th>DeckE</th>\n      <th>DeckEmpty</th>\n      <th>DeckF</th>\n      <th>DeckG</th>\n      <th>DeckT</th>\n      <th>PclassFirst</th>\n      <th>PclassSecond</th>\n      <th>PclassThird</th>\n      <th>SexFemale</th>\n      <th>SexMale</th>\n      <th>EmbarkedC</th>\n      <th>EmbarkedQ</th>\n      <th>EmbarkedS</th>\n    </tr>\n    <tr>\n      <th>PassengerId</th>\n      <th></th>\n      <th></th>\n      <th></th>\n      <th></th>\n      <th></th>\n      <th></th>\n      <th></th>\n      <th></th>\n      <th></th>\n      <th></th>\n      <th></th>\n      <th></th>\n      <th></th>\n      <th></th>\n      <th></th>\n      <th></th>\n      <th></th>\n      <th></th>\n      <th></th>\n      <th></th>\n      <th></th>\n      <th></th>\n      <th></th>\n      <th></th>\n      <th></th>\n      <th></th>\n      <th></th>\n      <th></th>\n      <th></th>\n      <th></th>\n      <th></th>\n      <th></th>\n      <th></th>\n      <th></th>\n      <th></th>\n      <th></th>\n      <th></th>\n      <th></th>\n      <th></th>\n      <th></th>\n    </tr>\n  </thead>\n  <tbody>\n    <tr>\n      <th>1</th>\n      <td>0.0</td>\n      <td>Braund, Mr. Owen Harris</td>\n      <td>22.0</td>\n      <td>1</td>\n      <td>0</td>\n      <td>A/5 21171</td>\n      <td>7.2500</td>\n      <td>NaN</td>\n      <td>1</td>\n      <td>7.25000</td>\n      <td>0</td>\n      <td>Braund</td>\n      <td>Mr</td>\n      <td>Owen Harris</td>\n      <td>0</td>\n      <td>1</td>\n      <td>0</td>\n      <td>0</td>\n      <td>0</td>\n      <td>0</td>\n      <td>1</td>\n      <td>0</td>\n      <td>0</td>\n      <td>0.0</td>\n      <td>0.0</td>\n      <td>0.0</td>\n      <td>0.0</td>\n      <td>0.0</td>\n      <td>1.0</td>\n      <td>0.0</td>\n      <td>0.0</td>\n      <td>0.0</td>\n      <td>0.0</td>\n      <td>0.0</td>\n      <td>1.0</td>\n      <td>0.0</td>\n      <td>1.0</td>\n      <td>0.0</td>\n      <td>0.0</td>\n      <td>1.0</td>\n    </tr>\n    <tr>\n      <th>2</th>\n      <td>1.0</td>\n      <td>Cumings, Mrs. John Bradley (Florence Briggs Thayer)</td>\n      <td>38.0</td>\n      <td>1</td>\n      <td>0</td>\n      <td>PC 17599</td>\n      <td>71.2833</td>\n      <td>C85</td>\n      <td>2</td>\n      <td>35.64165</td>\n      <td>0</td>\n      <td>Cumings</td>\n      <td>Mrs</td>\n      <td>John Bradley</td>\n      <td>1</td>\n      <td>0</td>\n      <td>0</td>\n      <td>0</td>\n      <td>1</td>\n      <td>0</td>\n      <td>1</td>\n      <td>0</td>\n      <td>0</td>\n      <td>0.0</td>\n      <td>0.0</td>\n      <td>1.0</td>\n      <td>0.0</td>\n      <td>0.0</td>\n      <td>0.0</td>\n      <td>0.0</td>\n      <td>0.0</td>\n      <td>0.0</td>\n      <td>1.0</td>\n      <td>0.0</td>\n      <td>0.0</td>\n      <td>1.0</td>\n      <td>0.0</td>\n      <td>1.0</td>\n      <td>0.0</td>\n      <td>0.0</td>\n    </tr>\n    <tr>\n      <th>3</th>\n      <td>1.0</td>\n      <td>Heikkinen, Miss. Laina</td>\n      <td>26.0</td>\n      <td>0</td>\n      <td>0</td>\n      <td>STON/O2. 3101282</td>\n      <td>7.9250</td>\n      <td>NaN</td>\n      <td>1</td>\n      <td>7.92500</td>\n      <td>0</td>\n      <td>Heikkinen</td>\n      <td>Miss</td>\n      <td>Laina</td>\n      <td>0</td>\n      <td>0</td>\n      <td>0</td>\n      <td>0</td>\n      <td>0</td>\n      <td>0</td>\n      <td>0</td>\n      <td>1</td>\n      <td>1</td>\n      <td>0.0</td>\n      <td>0.0</td>\n      <td>0.0</td>\n      <td>0.0</td>\n      <td>0.0</td>\n      <td>1.0</td>\n      <td>0.0</td>\n      <td>0.0</td>\n      <td>0.0</td>\n      <td>0.0</td>\n      <td>0.0</td>\n      <td>1.0</td>\n      <td>1.0</td>\n      <td>0.0</td>\n      <td>0.0</td>\n      <td>0.0</td>\n      <td>1.0</td>\n    </tr>\n    <tr>\n      <th>4</th>\n      <td>1.0</td>\n      <td>Futrelle, Mrs. Jacques Heath (Lily May Peel)</td>\n      <td>35.0</td>\n      <td>1</td>\n      <td>0</td>\n      <td>113803</td>\n      <td>53.1000</td>\n      <td>C123</td>\n      <td>2</td>\n      <td>26.55000</td>\n      <td>0</td>\n      <td>Futrelle</td>\n      <td>Mrs</td>\n      <td>Jacques Heath</td>\n      <td>1</td>\n      <td>0</td>\n      <td>0</td>\n      <td>0</td>\n      <td>1</td>\n      <td>0</td>\n      <td>1</td>\n      <td>0</td>\n      <td>0</td>\n      <td>0.0</td>\n      <td>0.0</td>\n      <td>1.0</td>\n      <td>0.0</td>\n      <td>0.0</td>\n      <td>0.0</td>\n      <td>0.0</td>\n      <td>0.0</td>\n      <td>0.0</td>\n      <td>1.0</td>\n      <td>0.0</td>\n      <td>0.0</td>\n      <td>1.0</td>\n      <td>0.0</td>\n      <td>0.0</td>\n      <td>0.0</td>\n      <td>1.0</td>\n    </tr>\n    <tr>\n      <th>5</th>\n      <td>0.0</td>\n      <td>Allen, Mr. William Henry</td>\n      <td>35.0</td>\n      <td>0</td>\n      <td>0</td>\n      <td>373450</td>\n      <td>8.0500</td>\n      <td>NaN</td>\n      <td>1</td>\n      <td>8.05000</td>\n      <td>0</td>\n      <td>Allen</td>\n      <td>Mr</td>\n      <td>William Henry</td>\n      <td>0</td>\n      <td>0</td>\n      <td>0</td>\n      <td>0</td>\n      <td>0</td>\n      <td>0</td>\n      <td>0</td>\n      <td>1</td>\n      <td>1</td>\n      <td>0.0</td>\n      <td>0.0</td>\n      <td>0.0</td>\n      <td>0.0</td>\n      <td>0.0</td>\n      <td>1.0</td>\n      <td>0.0</td>\n      <td>0.0</td>\n      <td>0.0</td>\n      <td>0.0</td>\n      <td>0.0</td>\n      <td>1.0</td>\n      <td>0.0</td>\n      <td>1.0</td>\n      <td>0.0</td>\n      <td>0.0</td>\n      <td>1.0</td>\n    </tr>\n  </tbody>\n</table>\n</div>"
     },
     "execution_count": 731,
     "metadata": {},
     "output_type": "execute_result"
    }
   ],
   "source": [
    "encoder = OneHotEncoder(sparse=False)\n",
    "encoded_embarked = encoder.fit_transform(filled_df[['Embarked']])\n",
    "for column_index, category in enumerate(encoder.categories_[0]):\n",
    "    print(category, column_index)\n",
    "    filled_df['Embarked' + category] = encoded_embarked[:, column_index]\n",
    "filled_df.drop('Embarked', axis=1, inplace=True)\n",
    "filled_df.head()"
   ],
   "metadata": {
    "collapsed": false,
    "pycharm": {
     "name": "#%%\n"
    }
   }
  },
  {
   "cell_type": "markdown",
   "source": [
    "## Structure dataframe"
   ],
   "metadata": {
    "collapsed": false,
    "pycharm": {
     "name": "#%% md\n"
    }
   }
  },
  {
   "cell_type": "code",
   "execution_count": 732,
   "outputs": [],
   "source": [
    "filled_df = filled_df[['Survived', 'Name', 'Age', 'Ticket', 'Fare', 'Cabin',\n",
    "                       'FirstName', 'LastName', 'Title', 'SibSp', 'Siblings',\n",
    "                       'Spouse', 'Parch', 'Parents', 'Children',\n",
    "                       'PassengersCount', 'FarePerPassenger', 'ZeroPrice',\n",
    "                       'TravelsAlone', 'PclassFirst', 'PclassSecond',\n",
    "                       'PclassThird', 'SexFemale', 'SexMale', 'EmbarkedC',\n",
    "                       'EmbarkedQ', 'EmbarkedS', 'TotalRelatives', 'Alone',\n",
    "                       'DeckA', 'DeckB', 'DeckC', 'DeckD', 'DeckE',\n",
    "                       'DeckEmpty', 'DeckF', 'DeckG', 'DeckT', 'OnlyHusband',\n",
    "                       'ManyChildren']]"
   ],
   "metadata": {
    "collapsed": false,
    "pycharm": {
     "name": "#%%\n"
    }
   }
  },
  {
   "cell_type": "markdown",
   "source": [
    "## Mean encoding\n",
    "1. Create new columns.\n",
    "2. Fill them with mean of the dependent variable.\n",
    "In our case - probability to survive given the input like 'Age' or 'Sex'."
   ],
   "metadata": {
    "collapsed": false
   }
  },
  {
   "cell_type": "code",
   "execution_count": 733,
   "outputs": [
    {
     "data": {
      "text/plain": "             Survived                                                 Name  \\\nPassengerId                                                                  \n1                 0.0                              Braund, Mr. Owen Harris   \n2                 1.0  Cumings, Mrs. John Bradley (Florence Briggs Thayer)   \n3                 1.0                               Heikkinen, Miss. Laina   \n4                 1.0         Futrelle, Mrs. Jacques Heath (Lily May Peel)   \n5                 0.0                             Allen, Mr. William Henry   \n\n              Age            Ticket     Fare Cabin  FirstName       LastName  \\\nPassengerId                                                                    \n1            22.0         A/5 21171   7.2500   NaN     Braund    Owen Harris   \n2            38.0          PC 17599  71.2833   C85    Cumings   John Bradley   \n3            26.0  STON/O2. 3101282   7.9250   NaN  Heikkinen          Laina   \n4            35.0            113803  53.1000  C123   Futrelle  Jacques Heath   \n5            35.0            373450   8.0500   NaN      Allen  William Henry   \n\n            Title  SibSp  Siblings  Spouse  Parch  Parents  Children  \\\nPassengerId                                                            \n1              Mr      1         1       0      0        0         0   \n2             Mrs      1         0       1      0        0         0   \n3            Miss      0         0       0      0        0         0   \n4             Mrs      1         0       1      0        0         0   \n5              Mr      0         0       0      0        0         0   \n\n             PassengersCount  FarePerPassenger  ZeroPrice  TravelsAlone  \\\nPassengerId                                                               \n1                          1           7.25000          0             0   \n2                          2          35.64165          0             0   \n3                          1           7.92500          0             1   \n4                          2          26.55000          0             0   \n5                          1           8.05000          0             1   \n\n             PclassFirst  PclassSecond  PclassThird  SexFemale  SexMale  \\\nPassengerId                                                               \n1                    0.0           0.0          1.0        0.0      1.0   \n2                    1.0           0.0          0.0        1.0      0.0   \n3                    0.0           0.0          1.0        1.0      0.0   \n4                    1.0           0.0          0.0        1.0      0.0   \n5                    0.0           0.0          1.0        0.0      1.0   \n\n             EmbarkedC  EmbarkedQ  EmbarkedS  TotalRelatives  Alone  DeckA  \\\nPassengerId                                                                  \n1                  0.0        0.0        1.0               1      0    0.0   \n2                  1.0        0.0        0.0               1      0    0.0   \n3                  0.0        0.0        1.0               0      1    0.0   \n4                  0.0        0.0        1.0               1      0    0.0   \n5                  0.0        0.0        1.0               0      1    0.0   \n\n             DeckB  DeckC  DeckD  DeckE  DeckEmpty  DeckF  DeckG  DeckT  \\\nPassengerId                                                               \n1              0.0    0.0    0.0    0.0        1.0    0.0    0.0    0.0   \n2              0.0    1.0    0.0    0.0        0.0    0.0    0.0    0.0   \n3              0.0    0.0    0.0    0.0        1.0    0.0    0.0    0.0   \n4              0.0    1.0    0.0    0.0        0.0    0.0    0.0    0.0   \n5              0.0    0.0    0.0    0.0        1.0    0.0    0.0    0.0   \n\n             OnlyHusband  ManyChildren  TicketMeanEncoded  CabinMeanEncoded  \\\nPassengerId                                                                   \n1                      0             0               -1.0              -1.0   \n2                      1             0               -1.0              -1.0   \n3                      0             0               -1.0              -1.0   \n4                      1             0               -1.0              -1.0   \n5                      0             0               -1.0              -1.0   \n\n             TitleMeanEncoded  SibSpMeanEncoded  SiblingsMeanEncoded  \\\nPassengerId                                                            \n1                    0.165450          0.545977             0.588235   \n2                    0.791667          0.529762             0.376884   \n3                    0.682759          0.340206             0.384095   \n4                    0.790000          0.545977             0.389831   \n5                    0.158654          0.340862             0.377104   \n\n             SpouseMeanEncoded  ParchMeanEncoded  ParentsMeanEncoded  \\\nPassengerId                                                            \n1                     0.372287          0.355019            0.371522   \n2                     0.491379          0.346225            0.360065   \n3                     0.348333          0.345588            0.366013   \n4                     0.535088          0.355019            0.371522   \n5                     0.355593          0.348921            0.367742   \n\n             ChildrenMeanEncoded  PassengersCountMeanEncoded  \\\nPassengerId                                                    \n1                       0.387500                    0.284211   \n2                       0.374224                    0.496599   \n3                       0.370543                    0.253927   \n4                       0.387500                    0.514085   \n5                       0.371341                    0.269231   \n\n             FarePerPassengerMeanEncoded  TravelsAloneMeanEncoded  \\\nPassengerId                                                         \n1                               0.187500                 0.522648   \n2                              -1.000000                 0.492857   \n3                               0.411765                 0.293706   \n4                               0.500000                 0.522648   \n5                               0.121951                 0.305747   \n\n             PclassFirstMeanEncoded  PclassSecondMeanEncoded  \\\nPassengerId                                                    \n1                          0.317254                 0.381206   \n2                          0.611765                 0.360424   \n3                          0.295327                 0.365248   \n4                          0.649425                 0.381206   \n5                          0.308688                 0.357016   \n\n             PclassThirdMeanEncoded  SexFemaleMeanEncoded  SexMaleMeanEncoded  \\\nPassengerId                                                                     \n1                          0.261538              0.201299            0.201299   \n2                          0.547468              0.744939            0.744939   \n3                          0.230570              0.746094            0.746094   \n4                          0.563467              0.760956            0.760956   \n5                          0.237852              0.189130            0.189130   \n\n             EmbarkedCMeanEncoded  EmbarkedQMeanEncoded  EmbarkedSMeanEncoded  \\\nPassengerId                                                                     \n1                        0.356522              0.396024              0.348837   \n2                        0.527132              0.379630              0.492228   \n3                        0.339655              0.388633              0.337838   \n4                        0.356522              0.396024              0.348837   \n5                        0.349736              0.386154              0.345850   \n\n             TotalRelativesMeanEncoded  AloneMeanEncoded  \\\nPassengerId                                                \n1                             0.574803          0.522648   \n2                             0.552000          0.492857   \n3                             0.293706          0.293706   \n4                             0.574803          0.522648   \n5                             0.305747          0.305747   \n\n             OnlyHusbandMeanEncoded  ManyChildrenMeanEncoded  \\\nPassengerId                                                    \n1                          0.374815                 0.401989   \n2                          0.805556                 0.386913   \n3                          0.355655                 0.389205   \n4                          0.815789                 0.401989   \n5                          0.360119                 0.389518   \n\n             DeckAMeanEncoded  DeckBMeanEncoded  DeckCMeanEncoded  \\\nPassengerId                                                         \n1                    0.395448          0.378900          0.383459   \n2                    0.381636          0.365385          0.545455   \n3                    0.384286          0.359584          0.367625   \n4                    0.395448          0.378900          0.604167   \n5                    0.385164          0.369118          0.367868   \n\n             DeckDMeanEncoded  DeckEMeanEncoded  DeckEmptyMeanEncoded  \\\nPassengerId                                                             \n1                    0.383721          0.384615              0.310909   \n2                    0.371720          0.367496              0.644172   \n3                    0.371720          0.371925              0.293578   \n4                    0.383721          0.384615              0.693252   \n5                    0.370803          0.374090              0.306715   \n\n             DeckFMeanEncoded  DeckGMeanEncoded  DeckTMeanEncoded  \nPassengerId                                                        \n1                    0.394286          0.397183          0.398317  \n2                    0.379801          0.382228          0.383966  \n3                    0.384068          0.385915          0.386236  \n4                    0.394286          0.397183          0.398317  \n5                    0.382311          0.385915          0.386236  ",
      "text/html": "<div>\n<style scoped>\n    .dataframe tbody tr th:only-of-type {\n        vertical-align: middle;\n    }\n\n    .dataframe tbody tr th {\n        vertical-align: top;\n    }\n\n    .dataframe thead th {\n        text-align: right;\n    }\n</style>\n<table border=\"1\" class=\"dataframe\">\n  <thead>\n    <tr style=\"text-align: right;\">\n      <th></th>\n      <th>Survived</th>\n      <th>Name</th>\n      <th>Age</th>\n      <th>Ticket</th>\n      <th>Fare</th>\n      <th>Cabin</th>\n      <th>FirstName</th>\n      <th>LastName</th>\n      <th>Title</th>\n      <th>SibSp</th>\n      <th>Siblings</th>\n      <th>Spouse</th>\n      <th>Parch</th>\n      <th>Parents</th>\n      <th>Children</th>\n      <th>PassengersCount</th>\n      <th>FarePerPassenger</th>\n      <th>ZeroPrice</th>\n      <th>TravelsAlone</th>\n      <th>PclassFirst</th>\n      <th>PclassSecond</th>\n      <th>PclassThird</th>\n      <th>SexFemale</th>\n      <th>SexMale</th>\n      <th>EmbarkedC</th>\n      <th>EmbarkedQ</th>\n      <th>EmbarkedS</th>\n      <th>TotalRelatives</th>\n      <th>Alone</th>\n      <th>DeckA</th>\n      <th>DeckB</th>\n      <th>DeckC</th>\n      <th>DeckD</th>\n      <th>DeckE</th>\n      <th>DeckEmpty</th>\n      <th>DeckF</th>\n      <th>DeckG</th>\n      <th>DeckT</th>\n      <th>OnlyHusband</th>\n      <th>ManyChildren</th>\n      <th>TicketMeanEncoded</th>\n      <th>CabinMeanEncoded</th>\n      <th>TitleMeanEncoded</th>\n      <th>SibSpMeanEncoded</th>\n      <th>SiblingsMeanEncoded</th>\n      <th>SpouseMeanEncoded</th>\n      <th>ParchMeanEncoded</th>\n      <th>ParentsMeanEncoded</th>\n      <th>ChildrenMeanEncoded</th>\n      <th>PassengersCountMeanEncoded</th>\n      <th>FarePerPassengerMeanEncoded</th>\n      <th>TravelsAloneMeanEncoded</th>\n      <th>PclassFirstMeanEncoded</th>\n      <th>PclassSecondMeanEncoded</th>\n      <th>PclassThirdMeanEncoded</th>\n      <th>SexFemaleMeanEncoded</th>\n      <th>SexMaleMeanEncoded</th>\n      <th>EmbarkedCMeanEncoded</th>\n      <th>EmbarkedQMeanEncoded</th>\n      <th>EmbarkedSMeanEncoded</th>\n      <th>TotalRelativesMeanEncoded</th>\n      <th>AloneMeanEncoded</th>\n      <th>OnlyHusbandMeanEncoded</th>\n      <th>ManyChildrenMeanEncoded</th>\n      <th>DeckAMeanEncoded</th>\n      <th>DeckBMeanEncoded</th>\n      <th>DeckCMeanEncoded</th>\n      <th>DeckDMeanEncoded</th>\n      <th>DeckEMeanEncoded</th>\n      <th>DeckEmptyMeanEncoded</th>\n      <th>DeckFMeanEncoded</th>\n      <th>DeckGMeanEncoded</th>\n      <th>DeckTMeanEncoded</th>\n    </tr>\n    <tr>\n      <th>PassengerId</th>\n      <th></th>\n      <th></th>\n      <th></th>\n      <th></th>\n      <th></th>\n      <th></th>\n      <th></th>\n      <th></th>\n      <th></th>\n      <th></th>\n      <th></th>\n      <th></th>\n      <th></th>\n      <th></th>\n      <th></th>\n      <th></th>\n      <th></th>\n      <th></th>\n      <th></th>\n      <th></th>\n      <th></th>\n      <th></th>\n      <th></th>\n      <th></th>\n      <th></th>\n      <th></th>\n      <th></th>\n      <th></th>\n      <th></th>\n      <th></th>\n      <th></th>\n      <th></th>\n      <th></th>\n      <th></th>\n      <th></th>\n      <th></th>\n      <th></th>\n      <th></th>\n      <th></th>\n      <th></th>\n      <th></th>\n      <th></th>\n      <th></th>\n      <th></th>\n      <th></th>\n      <th></th>\n      <th></th>\n      <th></th>\n      <th></th>\n      <th></th>\n      <th></th>\n      <th></th>\n      <th></th>\n      <th></th>\n      <th></th>\n      <th></th>\n      <th></th>\n      <th></th>\n      <th></th>\n      <th></th>\n      <th></th>\n      <th></th>\n      <th></th>\n      <th></th>\n      <th></th>\n      <th></th>\n      <th></th>\n      <th></th>\n      <th></th>\n      <th></th>\n      <th></th>\n      <th></th>\n      <th></th>\n    </tr>\n  </thead>\n  <tbody>\n    <tr>\n      <th>1</th>\n      <td>0.0</td>\n      <td>Braund, Mr. Owen Harris</td>\n      <td>22.0</td>\n      <td>A/5 21171</td>\n      <td>7.2500</td>\n      <td>NaN</td>\n      <td>Braund</td>\n      <td>Owen Harris</td>\n      <td>Mr</td>\n      <td>1</td>\n      <td>1</td>\n      <td>0</td>\n      <td>0</td>\n      <td>0</td>\n      <td>0</td>\n      <td>1</td>\n      <td>7.25000</td>\n      <td>0</td>\n      <td>0</td>\n      <td>0.0</td>\n      <td>0.0</td>\n      <td>1.0</td>\n      <td>0.0</td>\n      <td>1.0</td>\n      <td>0.0</td>\n      <td>0.0</td>\n      <td>1.0</td>\n      <td>1</td>\n      <td>0</td>\n      <td>0.0</td>\n      <td>0.0</td>\n      <td>0.0</td>\n      <td>0.0</td>\n      <td>0.0</td>\n      <td>1.0</td>\n      <td>0.0</td>\n      <td>0.0</td>\n      <td>0.0</td>\n      <td>0</td>\n      <td>0</td>\n      <td>-1.0</td>\n      <td>-1.0</td>\n      <td>0.165450</td>\n      <td>0.545977</td>\n      <td>0.588235</td>\n      <td>0.372287</td>\n      <td>0.355019</td>\n      <td>0.371522</td>\n      <td>0.387500</td>\n      <td>0.284211</td>\n      <td>0.187500</td>\n      <td>0.522648</td>\n      <td>0.317254</td>\n      <td>0.381206</td>\n      <td>0.261538</td>\n      <td>0.201299</td>\n      <td>0.201299</td>\n      <td>0.356522</td>\n      <td>0.396024</td>\n      <td>0.348837</td>\n      <td>0.574803</td>\n      <td>0.522648</td>\n      <td>0.374815</td>\n      <td>0.401989</td>\n      <td>0.395448</td>\n      <td>0.378900</td>\n      <td>0.383459</td>\n      <td>0.383721</td>\n      <td>0.384615</td>\n      <td>0.310909</td>\n      <td>0.394286</td>\n      <td>0.397183</td>\n      <td>0.398317</td>\n    </tr>\n    <tr>\n      <th>2</th>\n      <td>1.0</td>\n      <td>Cumings, Mrs. John Bradley (Florence Briggs Thayer)</td>\n      <td>38.0</td>\n      <td>PC 17599</td>\n      <td>71.2833</td>\n      <td>C85</td>\n      <td>Cumings</td>\n      <td>John Bradley</td>\n      <td>Mrs</td>\n      <td>1</td>\n      <td>0</td>\n      <td>1</td>\n      <td>0</td>\n      <td>0</td>\n      <td>0</td>\n      <td>2</td>\n      <td>35.64165</td>\n      <td>0</td>\n      <td>0</td>\n      <td>1.0</td>\n      <td>0.0</td>\n      <td>0.0</td>\n      <td>1.0</td>\n      <td>0.0</td>\n      <td>1.0</td>\n      <td>0.0</td>\n      <td>0.0</td>\n      <td>1</td>\n      <td>0</td>\n      <td>0.0</td>\n      <td>0.0</td>\n      <td>1.0</td>\n      <td>0.0</td>\n      <td>0.0</td>\n      <td>0.0</td>\n      <td>0.0</td>\n      <td>0.0</td>\n      <td>0.0</td>\n      <td>1</td>\n      <td>0</td>\n      <td>-1.0</td>\n      <td>-1.0</td>\n      <td>0.791667</td>\n      <td>0.529762</td>\n      <td>0.376884</td>\n      <td>0.491379</td>\n      <td>0.346225</td>\n      <td>0.360065</td>\n      <td>0.374224</td>\n      <td>0.496599</td>\n      <td>-1.000000</td>\n      <td>0.492857</td>\n      <td>0.611765</td>\n      <td>0.360424</td>\n      <td>0.547468</td>\n      <td>0.744939</td>\n      <td>0.744939</td>\n      <td>0.527132</td>\n      <td>0.379630</td>\n      <td>0.492228</td>\n      <td>0.552000</td>\n      <td>0.492857</td>\n      <td>0.805556</td>\n      <td>0.386913</td>\n      <td>0.381636</td>\n      <td>0.365385</td>\n      <td>0.545455</td>\n      <td>0.371720</td>\n      <td>0.367496</td>\n      <td>0.644172</td>\n      <td>0.379801</td>\n      <td>0.382228</td>\n      <td>0.383966</td>\n    </tr>\n    <tr>\n      <th>3</th>\n      <td>1.0</td>\n      <td>Heikkinen, Miss. Laina</td>\n      <td>26.0</td>\n      <td>STON/O2. 3101282</td>\n      <td>7.9250</td>\n      <td>NaN</td>\n      <td>Heikkinen</td>\n      <td>Laina</td>\n      <td>Miss</td>\n      <td>0</td>\n      <td>0</td>\n      <td>0</td>\n      <td>0</td>\n      <td>0</td>\n      <td>0</td>\n      <td>1</td>\n      <td>7.92500</td>\n      <td>0</td>\n      <td>1</td>\n      <td>0.0</td>\n      <td>0.0</td>\n      <td>1.0</td>\n      <td>1.0</td>\n      <td>0.0</td>\n      <td>0.0</td>\n      <td>0.0</td>\n      <td>1.0</td>\n      <td>0</td>\n      <td>1</td>\n      <td>0.0</td>\n      <td>0.0</td>\n      <td>0.0</td>\n      <td>0.0</td>\n      <td>0.0</td>\n      <td>1.0</td>\n      <td>0.0</td>\n      <td>0.0</td>\n      <td>0.0</td>\n      <td>0</td>\n      <td>0</td>\n      <td>-1.0</td>\n      <td>-1.0</td>\n      <td>0.682759</td>\n      <td>0.340206</td>\n      <td>0.384095</td>\n      <td>0.348333</td>\n      <td>0.345588</td>\n      <td>0.366013</td>\n      <td>0.370543</td>\n      <td>0.253927</td>\n      <td>0.411765</td>\n      <td>0.293706</td>\n      <td>0.295327</td>\n      <td>0.365248</td>\n      <td>0.230570</td>\n      <td>0.746094</td>\n      <td>0.746094</td>\n      <td>0.339655</td>\n      <td>0.388633</td>\n      <td>0.337838</td>\n      <td>0.293706</td>\n      <td>0.293706</td>\n      <td>0.355655</td>\n      <td>0.389205</td>\n      <td>0.384286</td>\n      <td>0.359584</td>\n      <td>0.367625</td>\n      <td>0.371720</td>\n      <td>0.371925</td>\n      <td>0.293578</td>\n      <td>0.384068</td>\n      <td>0.385915</td>\n      <td>0.386236</td>\n    </tr>\n    <tr>\n      <th>4</th>\n      <td>1.0</td>\n      <td>Futrelle, Mrs. Jacques Heath (Lily May Peel)</td>\n      <td>35.0</td>\n      <td>113803</td>\n      <td>53.1000</td>\n      <td>C123</td>\n      <td>Futrelle</td>\n      <td>Jacques Heath</td>\n      <td>Mrs</td>\n      <td>1</td>\n      <td>0</td>\n      <td>1</td>\n      <td>0</td>\n      <td>0</td>\n      <td>0</td>\n      <td>2</td>\n      <td>26.55000</td>\n      <td>0</td>\n      <td>0</td>\n      <td>1.0</td>\n      <td>0.0</td>\n      <td>0.0</td>\n      <td>1.0</td>\n      <td>0.0</td>\n      <td>0.0</td>\n      <td>0.0</td>\n      <td>1.0</td>\n      <td>1</td>\n      <td>0</td>\n      <td>0.0</td>\n      <td>0.0</td>\n      <td>1.0</td>\n      <td>0.0</td>\n      <td>0.0</td>\n      <td>0.0</td>\n      <td>0.0</td>\n      <td>0.0</td>\n      <td>0.0</td>\n      <td>1</td>\n      <td>0</td>\n      <td>-1.0</td>\n      <td>-1.0</td>\n      <td>0.790000</td>\n      <td>0.545977</td>\n      <td>0.389831</td>\n      <td>0.535088</td>\n      <td>0.355019</td>\n      <td>0.371522</td>\n      <td>0.387500</td>\n      <td>0.514085</td>\n      <td>0.500000</td>\n      <td>0.522648</td>\n      <td>0.649425</td>\n      <td>0.381206</td>\n      <td>0.563467</td>\n      <td>0.760956</td>\n      <td>0.760956</td>\n      <td>0.356522</td>\n      <td>0.396024</td>\n      <td>0.348837</td>\n      <td>0.574803</td>\n      <td>0.522648</td>\n      <td>0.815789</td>\n      <td>0.401989</td>\n      <td>0.395448</td>\n      <td>0.378900</td>\n      <td>0.604167</td>\n      <td>0.383721</td>\n      <td>0.384615</td>\n      <td>0.693252</td>\n      <td>0.394286</td>\n      <td>0.397183</td>\n      <td>0.398317</td>\n    </tr>\n    <tr>\n      <th>5</th>\n      <td>0.0</td>\n      <td>Allen, Mr. William Henry</td>\n      <td>35.0</td>\n      <td>373450</td>\n      <td>8.0500</td>\n      <td>NaN</td>\n      <td>Allen</td>\n      <td>William Henry</td>\n      <td>Mr</td>\n      <td>0</td>\n      <td>0</td>\n      <td>0</td>\n      <td>0</td>\n      <td>0</td>\n      <td>0</td>\n      <td>1</td>\n      <td>8.05000</td>\n      <td>0</td>\n      <td>1</td>\n      <td>0.0</td>\n      <td>0.0</td>\n      <td>1.0</td>\n      <td>0.0</td>\n      <td>1.0</td>\n      <td>0.0</td>\n      <td>0.0</td>\n      <td>1.0</td>\n      <td>0</td>\n      <td>1</td>\n      <td>0.0</td>\n      <td>0.0</td>\n      <td>0.0</td>\n      <td>0.0</td>\n      <td>0.0</td>\n      <td>1.0</td>\n      <td>0.0</td>\n      <td>0.0</td>\n      <td>0.0</td>\n      <td>0</td>\n      <td>0</td>\n      <td>-1.0</td>\n      <td>-1.0</td>\n      <td>0.158654</td>\n      <td>0.340862</td>\n      <td>0.377104</td>\n      <td>0.355593</td>\n      <td>0.348921</td>\n      <td>0.367742</td>\n      <td>0.371341</td>\n      <td>0.269231</td>\n      <td>0.121951</td>\n      <td>0.305747</td>\n      <td>0.308688</td>\n      <td>0.357016</td>\n      <td>0.237852</td>\n      <td>0.189130</td>\n      <td>0.189130</td>\n      <td>0.349736</td>\n      <td>0.386154</td>\n      <td>0.345850</td>\n      <td>0.305747</td>\n      <td>0.305747</td>\n      <td>0.360119</td>\n      <td>0.389518</td>\n      <td>0.385164</td>\n      <td>0.369118</td>\n      <td>0.367868</td>\n      <td>0.370803</td>\n      <td>0.374090</td>\n      <td>0.306715</td>\n      <td>0.382311</td>\n      <td>0.385915</td>\n      <td>0.386236</td>\n    </tr>\n  </tbody>\n</table>\n</div>"
     },
     "execution_count": 733,
     "metadata": {},
     "output_type": "execute_result"
    }
   ],
   "source": [
    "def generate_column_name(col, function_name, dependent_variable):\n",
    "\n",
    "    if not isinstance(col, list):\n",
    "        col = [col]\n",
    "    name = ''.join([str(elem) for elem in col]) \\\n",
    "           + function_name + dependent_variable\n",
    "\n",
    "    return name\n",
    "\n",
    "\n",
    "def generate_dependent_features_new(X, y, columns, dependent_variable='DV',\n",
    "                                    functions=None, function_names=None,\n",
    "                                    replace=False, fill_empty_with_mean=False):\n",
    "    \"\"\"\n",
    "    Function generates features based on the groups in Columns parameter and\n",
    "    functions in the functions parameter.\n",
    "    :param unencoded_df:\n",
    "    :param columns:\n",
    "    :param dependent_variable:\n",
    "    :param functions:\n",
    "    :param function_names:\n",
    "    :return:\n",
    "    \"\"\"\n",
    "\n",
    "    if dependent_variable is None:\n",
    "        dependent_variable = y.name\n",
    "\n",
    "    if functions is None or function_names is None:\n",
    "        functions = (np.mean, np.min, np.max)\n",
    "        function_names = ['Mean', 'Min', 'Max']\n",
    "\n",
    "    full_df = pd.concat([X, y], axis=1)\n",
    "    X, y, X_pred, full_train = create_X_and_y(full_df, dependent_variable)\n",
    "\n",
    "    # Fill the training set categorical features with function of dependent\n",
    "    # variable\n",
    "    filled_train, new_numerical_columns = \\\n",
    "        fill_train_dataset(full_train, columns,\n",
    "                           dependent_variable=dependent_variable,\n",
    "                           functions=functions, function_names=function_names,\n",
    "                           replace=replace, fill_empty_with_mean=fill_empty_with_mean)\n",
    "\n",
    "    # Fill the values for the test (competition) set\n",
    "    X_tr = fill_test_dataset(filled_train, full_df, columns,\n",
    "                             dependent_variable=dependent_variable,\n",
    "                             functions=functions, function_names=function_names,\n",
    "                             replace=replace, fill_empty_with_mean=fill_empty_with_mean)\n",
    "\n",
    "    if replace:\n",
    "        X_tr.drop(columns, axis=1, inplace=True)\n",
    "        columns = {colname + function_names[0] + dependent_variable:\n",
    "                       colname for colname in columns}\n",
    "        X_tr.rename(columns=columns,\n",
    "                    inplace=True)\n",
    "        return X_tr\n",
    "    else:\n",
    "        return X_tr, new_numerical_columns\n",
    "\n",
    "\n",
    "def fill_train_dataset(full_train, columns, dependent_variable='DV',\n",
    "                       functions=None, function_names=None, replace=False,\n",
    "                       fill_empty_with_mean=False):\n",
    "    # Generate 5 splits not to fill the values with the dependent variable of\n",
    "    # the test set.\n",
    "    skf = KFold(5, shuffle=True, random_state=0)\n",
    "    skf.get_n_splits()\n",
    "    full_train_new = full_train.copy()\n",
    "    # Algorithm of work:\n",
    "    # 1. Cycle through each split to avoid using the very example when filling means\n",
    "    # 2. Cycle through each grouping column (column list)\n",
    "    # 3. Cycle through each function\n",
    "    index_name = full_train.index.name\n",
    "    new_numerical_columns = []\n",
    "    for tr_ind, val_ind in skf.split(full_train, full_train[dependent_variable]):\n",
    "        X_tr, X_val = full_train.iloc[tr_ind], full_train.iloc[val_ind]\n",
    "        for col in columns:\n",
    "            for function, function_name in zip(functions, function_names):\n",
    "                name = generate_column_name(col, function_name,\n",
    "                                            dependent_variable)\n",
    "                # Generate columns for the new features\n",
    "                if name not in full_train_new.columns:\n",
    "                    full_train_new[name] = 0\n",
    "                    new_numerical_columns.append(name)\n",
    "\n",
    "                x_tr_means = \\\n",
    "                    X_tr.groupby(col)[dependent_variable].agg(\n",
    "                        function).rename(name)\n",
    "                # After merging the index of a DataFrame is reset, so:\n",
    "                # 1. Create separate indexes column with reset_index()\n",
    "                # 2. Merge with the means (don't use map() as there can be\n",
    "                #    multiple grouping columns\n",
    "                # 3. Set index back to the columns with set_index()\n",
    "\n",
    "                full_train_new.iloc[\n",
    "                    val_ind, full_train_new.columns.get_loc(name)] = \\\n",
    "                    X_val.reset_index().merge(x_tr_means, on=col,\n",
    "                                              how='left').set_index(index_name)[name]\n",
    "\n",
    "    if fill_empty_with_mean:\n",
    "        # Fill the values for the rows that have no other rows to take mean from\n",
    "        prior = full_train_new[dependent_variable].mean()\n",
    "        full_train_new.fillna(prior, inplace=True)\n",
    "\n",
    "    return full_train_new, new_numerical_columns\n",
    "\n",
    "\n",
    "def fill_test_dataset(full_train, full_df, columns, dependent_variable='DV',\n",
    "                      functions=None, function_names=None, replace=False,\n",
    "                      fill_empty_with_mean=False):\n",
    "    prior = full_train[dependent_variable].mean()\n",
    "    index_name = full_train.index.name\n",
    "    for col in columns:\n",
    "        for function, function_name in zip(functions, function_names):\n",
    "            name = generate_column_name(col, function_name,\n",
    "                                        dependent_variable)\n",
    "            full_df.loc[:, name] = full_train[name]\n",
    "            full_tr_means = full_train.groupby(col)[\n",
    "                dependent_variable].agg(\n",
    "                np.mean).rename(name)\n",
    "            test_rows = full_df[dependent_variable].isna() == True\n",
    "            full_df.loc[test_rows, name] = \\\n",
    "                full_df.loc[test_rows].drop(name, axis=1).\\\n",
    "                reset_index().merge(full_tr_means, on=col, how='left'). \\\n",
    "                set_index(index_name)[name]\n",
    "\n",
    "            if fill_empty_with_mean:\n",
    "                # Fill the values for the rows that have no other rows\n",
    "                # to take mean from\n",
    "                full_df.loc[:, name].fillna(prior, inplace=True)\n",
    "\n",
    "    full_df.drop(dependent_variable, inplace=True, axis=1)\n",
    "\n",
    "    return full_df\n",
    "\n",
    "def create_X_and_y(df, dependent_variable, return_x=False):\n",
    "\n",
    "    # Create train and test datasets\n",
    "    processed_train = df.loc[df[dependent_variable].notna()]\n",
    "    processed_test = df.loc[df[dependent_variable].isna()]\n",
    "\n",
    "    # Split train data into X and y\n",
    "    X = processed_train.drop([dependent_variable], axis=1)\n",
    "    y = processed_train[dependent_variable]\n",
    "    X_train = processed_train\n",
    "    X_pred = processed_test.drop([dependent_variable], axis=1)\n",
    "\n",
    "    if len(X_pred) == 0:\n",
    "        X_pred = None\n",
    "    if return_x:\n",
    "        return X\n",
    "    else:\n",
    "        return X, y, X_pred, X_train\n",
    "\n",
    "columns_to_encode = ['Ticket', 'Cabin', 'Title', 'SibSp', 'Siblings', 'Spouse',\n",
    "                    'Parch', 'Parents', 'Children', 'PassengersCount',\n",
    "                    'FarePerPassenger', 'TravelsAlone', 'PclassFirst',\n",
    "                    'PclassSecond', 'PclassThird', 'SexFemale', 'SexMale',\n",
    "                    'EmbarkedC', 'EmbarkedQ', 'EmbarkedS', 'TotalRelatives',\n",
    "                    'Alone', 'OnlyHusband', 'ManyChildren', 'DeckA', 'DeckB',\n",
    "                    'DeckC', 'DeckD', 'DeckE', 'DeckEmpty', 'DeckF', 'DeckG',\n",
    "                    'DeckT']\n",
    "\n",
    "new_columns = columns_to_encode\n",
    "new_df = generate_dependent_features_new(filled_df.drop('Survived', axis=1),\n",
    "                                         filled_df['Survived'],\n",
    "                                         columns=columns_to_encode,\n",
    "                                         functions=[np.mean],\n",
    "                                         dependent_variable=None,\n",
    "                                         function_names=['Mean'], replace=True)\n",
    "new_column_names = [column + 'MeanEncoded' for column in columns_to_encode]\n",
    "filled_df[new_column_names] =  new_df[columns_to_encode]\n",
    "for column in new_column_names:\n",
    "    filled_df[column].fillna(-1, inplace=True)\n",
    "filled_df.head()"
   ],
   "metadata": {
    "collapsed": false,
    "pycharm": {
     "name": "#%%\n"
    }
   }
  },
  {
   "cell_type": "markdown",
   "source": [
    "# Save the modified data"
   ],
   "metadata": {
    "collapsed": false
   }
  },
  {
   "cell_type": "code",
   "execution_count": 734,
   "outputs": [
    {
     "data": {
      "text/plain": "(1309, 73)"
     },
     "execution_count": 734,
     "metadata": {},
     "output_type": "execute_result"
    }
   ],
   "source": [
    "filled_df.to_csv('data/Preprocessed data.csv', index=True, header=True,\n",
    "                 index_label='PassengerId')\n",
    "filled_df.shape"
   ],
   "metadata": {
    "collapsed": false,
    "pycharm": {
     "name": "#%%\n"
    }
   }
  },
  {
   "cell_type": "markdown",
   "source": [
    "## Part 1. EDA:\n",
    "\n",
    "https://nbviewer.org/github/sersonSerson/Projects/blob/master/Classification/Titanic/Titanic.ipynb"
   ],
   "metadata": {
    "collapsed": false
   }
  },
  {
   "cell_type": "markdown",
   "source": [
    "## Part 3. Model selection:\n",
    "\n",
    "https://nbviewer.org/github/sersonSerson/Projects/blob/master/Classification/Titanic/Titanic.ipynb\n"
   ],
   "metadata": {
    "collapsed": false
   }
  }
 ],
 "metadata": {
  "kernelspec": {
   "display_name": "Python 3",
   "language": "python",
   "name": "python3"
  },
  "language_info": {
   "codemirror_mode": {
    "name": "ipython",
    "version": 2
   },
   "file_extension": ".py",
   "mimetype": "text/x-python",
   "name": "python",
   "nbconvert_exporter": "python",
   "pygments_lexer": "ipython2",
   "version": "2.7.6"
  }
 },
 "nbformat": 4,
 "nbformat_minor": 0
}